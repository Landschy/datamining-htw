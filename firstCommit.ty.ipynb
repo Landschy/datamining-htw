{
 "metadata": {
  "language_info": {
   "codemirror_mode": {
    "name": "ipython",
    "version": 3
   },
   "file_extension": ".py",
   "mimetype": "text/x-python",
   "name": "python",
   "nbconvert_exporter": "python",
   "pygments_lexer": "ipython3",
   "version": "3.9.0"
  },
  "orig_nbformat": 2,
  "kernelspec": {
   "name": "python390jvsc74a57bd0fe1a3cca23331e52749a774d91968eaaad2efe497e0e96a28018253b9a20794c",
   "display_name": "Python 3.9.0 64-bit"
  },
  "metadata": {
   "interpreter": {
    "hash": "fe1a3cca23331e52749a774d91968eaaad2efe497e0e96a28018253b9a20794c"
   }
  }
 },
 "nbformat": 4,
 "nbformat_minor": 2,
 "cells": [
  {
   "source": [
    "#THIS IS A TEST#"
   ],
   "cell_type": "markdown",
   "metadata": {}
  }
 ]
}
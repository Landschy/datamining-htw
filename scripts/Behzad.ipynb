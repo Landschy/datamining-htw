{
 "cells": [
  {
   "cell_type": "markdown",
   "metadata": {},
   "source": [
    "## Packages"
   ]
  },
  {
   "cell_type": "markdown",
   "metadata": {},
   "source": [
    "### Install"
   ]
  },
  {
   "cell_type": "code",
   "execution_count": 176,
   "metadata": {},
   "outputs": [
    {
     "name": "stdout",
     "output_type": "stream",
     "text": [
      "Requirement already satisfied: numpy in c:\\users\\behzad\\anaconda3\\envs\\bp1\\lib\\site-packages (1.19.2)Note: you may need to restart the kernel to use updated packages.\n",
      "\n"
     ]
    }
   ],
   "source": [
    "pip install numpy"
   ]
  },
  {
   "cell_type": "code",
   "execution_count": 177,
   "metadata": {},
   "outputs": [
    {
     "name": "stdout",
     "output_type": "stream",
     "text": [
      "Requirement already satisfied: pandas in c:\\users\\behzad\\anaconda3\\envs\\bp1\\lib\\site-packages (1.2.3)Note: you may need to restart the kernel to use updated packages.\n",
      "\n",
      "Requirement already satisfied: python-dateutil>=2.7.3 in c:\\users\\behzad\\anaconda3\\envs\\bp1\\lib\\site-packages (from pandas) (2.8.1)\n",
      "Requirement already satisfied: numpy>=1.16.5 in c:\\users\\behzad\\anaconda3\\envs\\bp1\\lib\\site-packages (from pandas) (1.19.2)\n",
      "Requirement already satisfied: pytz>=2017.3 in c:\\users\\behzad\\anaconda3\\envs\\bp1\\lib\\site-packages (from pandas) (2021.1)\n",
      "Requirement already satisfied: six>=1.5 in c:\\users\\behzad\\anaconda3\\envs\\bp1\\lib\\site-packages (from python-dateutil>=2.7.3->pandas) (1.15.0)\n"
     ]
    }
   ],
   "source": [
    "pip install pandas"
   ]
  },
  {
   "cell_type": "code",
   "execution_count": 178,
   "metadata": {},
   "outputs": [
    {
     "name": "stdout",
     "output_type": "stream",
     "text": [
      "Requirement already satisfied: pyreadstat in c:\\users\\behzad\\anaconda3\\envs\\bp1\\lib\\site-packages (1.1.0)\n",
      "Requirement already satisfied: pandas>0.24.0 in c:\\users\\behzad\\anaconda3\\envs\\bp1\\lib\\site-packages (from pyreadstat) (1.2.3)\n",
      "Requirement already satisfied: python-dateutil>=2.7.3 in c:\\users\\behzad\\anaconda3\\envs\\bp1\\lib\\site-packages (from pandas>0.24.0->pyreadstat) (2.8.1)\n",
      "Requirement already satisfied: numpy>=1.16.5 in c:\\users\\behzad\\anaconda3\\envs\\bp1\\lib\\site-packages (from pandas>0.24.0->pyreadstat) (1.19.2)\n",
      "Requirement already satisfied: pytz>=2017.3 in c:\\users\\behzad\\anaconda3\\envs\\bp1\\lib\\site-packages (from pandas>0.24.0->pyreadstat) (2021.1)\n",
      "Requirement already satisfied: six>=1.5 in c:\\users\\behzad\\anaconda3\\envs\\bp1\\lib\\site-packages (from python-dateutil>=2.7.3->pandas>0.24.0->pyreadstat) (1.15.0)\n",
      "Note: you may need to restart the kernel to use updated packages.\n"
     ]
    }
   ],
   "source": [
    "pip install pyreadstat"
   ]
  },
  {
   "cell_type": "code",
   "execution_count": 179,
   "metadata": {},
   "outputs": [
    {
     "name": "stdout",
     "output_type": "stream",
     "text": [
      "Requirement already satisfied: scipy in c:\\users\\behzad\\anaconda3\\envs\\bp1\\lib\\site-packages (1.6.2)\n",
      "Requirement already satisfied: numpy<1.23.0,>=1.16.5 in c:\\users\\behzad\\anaconda3\\envs\\bp1\\lib\\site-packages (from scipy) (1.19.2)\n",
      "Note: you may need to restart the kernel to use updated packages.\n"
     ]
    }
   ],
   "source": [
    "pip install scipy"
   ]
  },
  {
   "cell_type": "code",
   "execution_count": 180,
   "metadata": {},
   "outputs": [
    {
     "name": "stdout",
     "output_type": "stream",
     "text": [
      "Requirement already satisfied: seaborn in c:\\users\\behzad\\anaconda3\\envs\\bp1\\lib\\site-packages (0.11.1)\n",
      "Requirement already satisfied: pandas>=0.23 in c:\\users\\behzad\\anaconda3\\envs\\bp1\\lib\\site-packages (from seaborn) (1.2.3)\n",
      "Requirement already satisfied: numpy>=1.15 in c:\\users\\behzad\\anaconda3\\envs\\bp1\\lib\\site-packages (from seaborn) (1.19.2)\n",
      "Requirement already satisfied: scipy>=1.0 in c:\\users\\behzad\\anaconda3\\envs\\bp1\\lib\\site-packages (from seaborn) (1.6.2)\n",
      "Requirement already satisfied: matplotlib>=2.2 in c:\\users\\behzad\\anaconda3\\envs\\bp1\\lib\\site-packages (from seaborn) (3.3.4)\n",
      "Requirement already satisfied: pillow>=6.2.0 in c:\\users\\behzad\\anaconda3\\envs\\bp1\\lib\\site-packages (from matplotlib>=2.2->seaborn) (8.2.0)\n",
      "Requirement already satisfied: python-dateutil>=2.1 in c:\\users\\behzad\\anaconda3\\envs\\bp1\\lib\\site-packages (from matplotlib>=2.2->seaborn) (2.8.1)\n",
      "Requirement already satisfied: pyparsing!=2.0.4,!=2.1.2,!=2.1.6,>=2.0.3 in c:\\users\\behzad\\anaconda3\\envs\\bp1\\lib\\site-packages (from matplotlib>=2.2->seaborn) (2.4.7)\n",
      "Requirement already satisfied: cycler>=0.10 in c:\\users\\behzad\\anaconda3\\envs\\bp1\\lib\\site-packages (from matplotlib>=2.2->seaborn) (0.10.0)\n",
      "Requirement already satisfied: kiwisolver>=1.0.1 in c:\\users\\behzad\\anaconda3\\envs\\bp1\\lib\\site-packages (from matplotlib>=2.2->seaborn) (1.3.1)\n",
      "Requirement already satisfied: six in c:\\users\\behzad\\anaconda3\\envs\\bp1\\lib\\site-packages (from cycler>=0.10->matplotlib>=2.2->seaborn) (1.15.0)\n",
      "Requirement already satisfied: pytz>=2017.3 in c:\\users\\behzad\\anaconda3\\envs\\bp1\\lib\\site-packages (from pandas>=0.23->seaborn) (2021.1)\n",
      "Note: you may need to restart the kernel to use updated packages.\n"
     ]
    }
   ],
   "source": [
    "pip install seaborn"
   ]
  },
  {
   "cell_type": "code",
   "execution_count": 181,
   "metadata": {},
   "outputs": [
    {
     "name": "stdout",
     "output_type": "stream",
     "text": [
      "Requirement already satisfied: plotly in c:\\users\\behzad\\anaconda3\\envs\\bp1\\lib\\site-packages (4.14.3)\n",
      "Requirement already satisfied: six in c:\\users\\behzad\\anaconda3\\envs\\bp1\\lib\\site-packages (from plotly) (1.15.0)\n",
      "Requirement already satisfied: retrying>=1.3.3 in c:\\users\\behzad\\anaconda3\\envs\\bp1\\lib\\site-packages (from plotly) (1.3.3)\n",
      "Note: you may need to restart the kernel to use updated packages.\n"
     ]
    }
   ],
   "source": [
    "pip install plotly"
   ]
  },
  {
   "cell_type": "code",
   "execution_count": 182,
   "metadata": {},
   "outputs": [
    {
     "name": "stdout",
     "output_type": "stream",
     "text": [
      "Requirement already satisfied: scikit-learn in c:\\users\\behzad\\anaconda3\\envs\\bp1\\lib\\site-packages (0.24.2)\n",
      "Requirement already satisfied: numpy>=1.13.3 in c:\\users\\behzad\\anaconda3\\envs\\bp1\\lib\\site-packages (from scikit-learn) (1.19.2)\n",
      "Requirement already satisfied: scipy>=0.19.1 in c:\\users\\behzad\\anaconda3\\envs\\bp1\\lib\\site-packages (from scikit-learn) (1.6.2)\n",
      "Requirement already satisfied: threadpoolctl>=2.0.0 in c:\\users\\behzad\\anaconda3\\envs\\bp1\\lib\\site-packages (from scikit-learn) (2.1.0)\n",
      "Requirement already satisfied: joblib>=0.11 in c:\\users\\behzad\\anaconda3\\envs\\bp1\\lib\\site-packages (from scikit-learn) (1.0.1)\n",
      "Note: you may need to restart the kernel to use updated packages.\n"
     ]
    }
   ],
   "source": [
    "pip install -U scikit-learn"
   ]
  },
  {
   "cell_type": "code",
   "execution_count": 183,
   "metadata": {},
   "outputs": [
    {
     "name": "stdout",
     "output_type": "stream",
     "text": [
      "Requirement already satisfied: boruta in c:\\users\\behzad\\anaconda3\\envs\\bp1\\lib\\site-packages (0.3)\n",
      "Requirement already satisfied: numpy>=1.10.4 in c:\\users\\behzad\\anaconda3\\envs\\bp1\\lib\\site-packages (from boruta) (1.19.2)\n",
      "Requirement already satisfied: scikit-learn>=0.17.1 in c:\\users\\behzad\\anaconda3\\envs\\bp1\\lib\\site-packages (from boruta) (0.24.2)\n",
      "Requirement already satisfied: scipy>=0.17.0 in c:\\users\\behzad\\anaconda3\\envs\\bp1\\lib\\site-packages (from boruta) (1.6.2)\n",
      "Requirement already satisfied: joblib>=0.11 in c:\\users\\behzad\\anaconda3\\envs\\bp1\\lib\\site-packages (from scikit-learn>=0.17.1->boruta) (1.0.1)\n",
      "Requirement already satisfied: threadpoolctl>=2.0.0 in c:\\users\\behzad\\anaconda3\\envs\\bp1\\lib\\site-packages (from scikit-learn>=0.17.1->boruta) (2.1.0)\n",
      "Note: you may need to restart the kernel to use updated packages.\n"
     ]
    }
   ],
   "source": [
    "pip install boruta"
   ]
  },
  {
   "cell_type": "code",
   "execution_count": 184,
   "metadata": {},
   "outputs": [
    {
     "name": "stdout",
     "output_type": "stream",
     "text": [
      "Requirement already satisfied: imbalanced-learn in c:\\users\\behzad\\anaconda3\\envs\\bp1\\lib\\site-packages (0.8.0)\n",
      "Requirement already satisfied: scipy>=0.19.1 in c:\\users\\behzad\\anaconda3\\envs\\bp1\\lib\\site-packages (from imbalanced-learn) (1.6.2)\n",
      "Requirement already satisfied: scikit-learn>=0.24 in c:\\users\\behzad\\anaconda3\\envs\\bp1\\lib\\site-packages (from imbalanced-learn) (0.24.2)\n",
      "Requirement already satisfied: joblib>=0.11 in c:\\users\\behzad\\anaconda3\\envs\\bp1\\lib\\site-packages (from imbalanced-learn) (1.0.1)\n",
      "Requirement already satisfied: numpy>=1.13.3 in c:\\users\\behzad\\anaconda3\\envs\\bp1\\lib\\site-packages (from imbalanced-learn) (1.19.2)\n",
      "Requirement already satisfied: threadpoolctl>=2.0.0 in c:\\users\\behzad\\anaconda3\\envs\\bp1\\lib\\site-packages (from scikit-learn>=0.24->imbalanced-learn) (2.1.0)\n",
      "Note: you may need to restart the kernel to use updated packages.\n"
     ]
    }
   ],
   "source": [
    "pip install -U imbalanced-learn"
   ]
  },
  {
   "cell_type": "code",
   "execution_count": 185,
   "metadata": {},
   "outputs": [
    {
     "name": "stdout",
     "output_type": "stream",
     "text": [
      "Requirement already satisfied: statsmodels in c:\\users\\behzad\\anaconda3\\envs\\bp1\\lib\\site-packages (0.12.2)\n",
      "Requirement already satisfied: scipy>=1.1 in c:\\users\\behzad\\anaconda3\\envs\\bp1\\lib\\site-packages (from statsmodels) (1.6.2)\n",
      "Requirement already satisfied: patsy>=0.5 in c:\\users\\behzad\\anaconda3\\envs\\bp1\\lib\\site-packages (from statsmodels) (0.5.1)\n",
      "Requirement already satisfied: pandas>=0.21 in c:\\users\\behzad\\anaconda3\\envs\\bp1\\lib\\site-packages (from statsmodels) (1.2.3)\n",
      "Requirement already satisfied: numpy>=1.15 in c:\\users\\behzad\\anaconda3\\envs\\bp1\\lib\\site-packages (from statsmodels) (1.19.2)\n",
      "Requirement already satisfied: pytz>=2017.3 in c:\\users\\behzad\\anaconda3\\envs\\bp1\\lib\\site-packages (from pandas>=0.21->statsmodels) (2021.1)\n",
      "Requirement already satisfied: python-dateutil>=2.7.3 in c:\\users\\behzad\\anaconda3\\envs\\bp1\\lib\\site-packages (from pandas>=0.21->statsmodels) (2.8.1)\n",
      "Requirement already satisfied: six in c:\\users\\behzad\\anaconda3\\envs\\bp1\\lib\\site-packages (from patsy>=0.5->statsmodels) (1.15.0)\n",
      "Note: you may need to restart the kernel to use updated packages.\n"
     ]
    }
   ],
   "source": [
    "pip install -U statsmodels"
   ]
  },
  {
   "cell_type": "code",
   "execution_count": 186,
   "metadata": {},
   "outputs": [
    {
     "name": "stdout",
     "output_type": "stream",
     "text": [
      "Requirement already satisfied: Jinja2 in c:\\users\\behzad\\anaconda3\\envs\\bp1\\lib\\site-packages (2.11.3)Note: you may need to restart the kernel to use updated packages.\n",
      "Requirement already satisfied: MarkupSafe>=0.23 in c:\\users\\behzad\\anaconda3\\envs\\bp1\\lib\\site-packages (from Jinja2) (1.1.1)\n",
      "\n"
     ]
    }
   ],
   "source": [
    "pip install Jinja2"
   ]
  },
  {
   "cell_type": "code",
   "execution_count": 187,
   "metadata": {},
   "outputs": [
    {
     "name": "stdout",
     "output_type": "stream",
     "text": [
      "Requirement already satisfied: xgboost in c:\\users\\behzad\\anaconda3\\envs\\bp1\\lib\\site-packages (1.4.2)\n",
      "Requirement already satisfied: numpy in c:\\users\\behzad\\anaconda3\\envs\\bp1\\lib\\site-packages (from xgboost) (1.19.2)\n",
      "Requirement already satisfied: scipy in c:\\users\\behzad\\anaconda3\\envs\\bp1\\lib\\site-packages (from xgboost) (1.6.2)\n",
      "Note: you may need to restart the kernel to use updated packages.\n"
     ]
    }
   ],
   "source": [
    "pip install xgboost"
   ]
  },
  {
   "cell_type": "code",
   "execution_count": 188,
   "metadata": {},
   "outputs": [
    {
     "name": "stdout",
     "output_type": "stream",
     "text": [
      "Requirement already satisfied: requests in c:\\users\\behzad\\anaconda3\\envs\\bp1\\lib\\site-packages (2.25.1)\n",
      "Requirement already satisfied: idna<3,>=2.5 in c:\\users\\behzad\\anaconda3\\envs\\bp1\\lib\\site-packages (from requests) (2.10)\n",
      "Requirement already satisfied: chardet<5,>=3.0.2 in c:\\users\\behzad\\anaconda3\\envs\\bp1\\lib\\site-packages (from requests) (4.0.0)\n",
      "Requirement already satisfied: urllib3<1.27,>=1.21.1 in c:\\users\\behzad\\anaconda3\\envs\\bp1\\lib\\site-packages (from requests) (1.26.6)\n",
      "Requirement already satisfied: certifi>=2017.4.17 in c:\\users\\behzad\\anaconda3\\envs\\bp1\\lib\\site-packages (from requests) (2020.12.5)\n",
      "Note: you may need to restart the kernel to use updated packages.\n"
     ]
    }
   ],
   "source": [
    "pip install requests"
   ]
  },
  {
   "cell_type": "markdown",
   "metadata": {},
   "source": [
    "### Import"
   ]
  },
  {
   "cell_type": "code",
   "execution_count": 189,
   "metadata": {},
   "outputs": [],
   "source": [
    "import numpy as np # for scientific computing\r\n",
    "import pandas as pd # a fundamental and powerful package for data analysis and manipulation\r\n",
    "import seaborn as sns # seaborn is a Python data visualization library based on matplotlib. It provides a high-level interface for drawing attractive and informative statistical graphics\r\n",
    "import pyreadstat # for reading .sav file\r\n",
    "from sklearn.model_selection import KFold, ShuffleSplit, StratifiedKFold, StratifiedShuffleSplit, LeaveOneOut, train_test_split # for separating train and test data, scaling, model building, ...\r\n",
    "from scipy import stats # it contains a large number of statistics, probability distributions functions\r\n",
    "import matplotlib.pyplot as plt # matplotlib is a library to plot graphs in Python\r\n",
    "from matplotlib.pyplot import figure # Plot graph\r\n",
    "from sklearn.impute import KNNImputer # Imputation for completing missing values using k-Nearest Neighbors\r\n",
    "from sklearn.experimental import enable_iterative_imputer # Enables IterativeImputer. The API and results of this estimator might change without any deprecation cycle\r\n",
    "from sklearn.impute import IterativeImputer # Multivariate imputer that estimates each feature from all the others. A strategy for imputing missing values by modeling each feature with missing values as a function of other features in a round-robin fashion\r\n",
    "from sklearn.ensemble import RandomForestClassifier # A random forest is a meta estimator that fits a number of decision tree classifiers on various sub-samples of the dataset and uses averaging to improve the predictive accuracy and control over-fitting\r\n",
    "from xgboost import XGBClassifier # A boosting algorithm based on gradient boosted decision trees algorithm\r\n",
    "from boruta import BorutaPy # Boruta is an all relevant feature selection method, while most other are minimal optimal; this means it tries to find all features carrying information usable for prediction, rather than finding a possibly compact subset of features on which some classifier has a minimal error\r\n",
    "from imblearn.over_sampling import SMOTE, ADASYN, RandomOverSampler# Implementation of SMOTE - Synthetic Minority Over-sampling Technique , ADASYN, ROSE\r\n",
    "from imblearn.combine import SMOTEENN # Combine over- and under-sampling using SMOTE and Edited Nearest Neighbours\r\n",
    "from collections import Counter # A Counter is a container that keeps track of how many times equivalent values are added\r\n",
    "from sklearn.metrics import plot_confusion_matrix # plot confusion matrix\r\n",
    "from sklearn.metrics import accuracy_score # Accuracy classification score\r\n",
    "from sklearn.model_selection import cross_val_score # Evaluate a score by cross-validation\r\n",
    "from sklearn.metrics import classification_report # Build a text report showing the main classification metrics\r\n",
    "from sklearn import preprocessing # provides the StandardScaler utility class, which is a quick and easy way to perform operations\r\n",
    "from sklearn.preprocessing import StandardScaler # To normalize the data for KNNImputer\r\n",
    "from sklearn.manifold import TSNE # To visualize high dimensional data\r\n",
    "from sklearn.decomposition import PCA # PCA Analysis\r\n",
    "from sklearn.pipeline import Pipeline # Pipeline to connect scalers and classifiers\r\n",
    "from sklearn.metrics import roc_curve, roc_auc_score #Evaluate ROC curve\r\n",
    "import requests # Requests will allow you to send HTTP/1.1 requests using Python\r\n",
    "from sklearn.model_selection import RandomizedSearchCV # Randomized search on hyper parameters"
   ]
  },
  {
   "cell_type": "markdown",
   "metadata": {},
   "source": [
    "## 1. Read Data"
   ]
  },
  {
   "cell_type": "code",
   "execution_count": 190,
   "metadata": {},
   "outputs": [
    {
     "data": {
      "text/plain": [
       "(1567, 592)"
      ]
     },
     "execution_count": 190,
     "metadata": {},
     "output_type": "execute_result"
    }
   ],
   "source": [
    "# Download the SAV file, reading data as a data frame, setting ID as the index and getting the number of rows and columns\r\n",
    "url = 'https://www.dropbox.com/s/g0ih98fpsmpn7cm/secom_mod.SAV?dl=1'\r\n",
    "r = requests.get(url, allow_redirects=True)\r\n",
    "open('secom_mod.SAV', 'wb').write(r.content)\r\n",
    "df = pd.DataFrame(pd.read_spss(\"secom_mod.SAV\"))\r\n",
    "df = df.set_index('ID')\r\n",
    "df.shape"
   ]
  },
  {
   "cell_type": "markdown",
   "metadata": {},
   "source": [
    "## 2. Explore data"
   ]
  },
  {
   "cell_type": "markdown",
   "metadata": {},
   "source": [
    "### 2.1. Shape and type"
   ]
  },
  {
   "cell_type": "code",
   "execution_count": 191,
   "metadata": {},
   "outputs": [
    {
     "name": "stdout",
     "output_type": "stream",
     "text": [
      "Shape:  (1567, 592)\n"
     ]
    }
   ],
   "source": [
    "# shape of the data set\n",
    "print('Shape: ',df.shape)  "
   ]
  },
  {
   "cell_type": "code",
   "execution_count": 192,
   "metadata": {},
   "outputs": [
    {
     "name": "stdout",
     "output_type": "stream",
     "text": [
      "<class 'pandas.core.frame.DataFrame'>\n",
      "Float64Index: 1567 entries, 1.0 to 1567.0\n",
      "Columns: 592 entries, class to feature590\n",
      "dtypes: float64(591), object(1)\n",
      "memory usage: 7.1+ MB\n",
      "None \n",
      "\n",
      "class         float64\n",
      "timestamp      object\n",
      "feature001    float64\n",
      "feature002    float64\n",
      "feature003    float64\n",
      "               ...   \n",
      "feature586    float64\n",
      "feature587    float64\n",
      "feature588    float64\n",
      "feature589    float64\n",
      "feature590    float64\n",
      "Length: 592, dtype: object\n"
     ]
    }
   ],
   "source": [
    "# checking data types of the features\n",
    "print(df.info(),\"\\n\")\n",
    "print(df.dtypes)"
   ]
  },
  {
   "cell_type": "code",
   "execution_count": 193,
   "metadata": {},
   "outputs": [
    {
     "data": {
      "text/plain": [
       "False"
      ]
     },
     "execution_count": 193,
     "metadata": {},
     "output_type": "execute_result"
    }
   ],
   "source": [
    "# Check for duplicated rows\n",
    "df.duplicated().any()"
   ]
  },
  {
   "cell_type": "code",
   "execution_count": 194,
   "metadata": {},
   "outputs": [
    {
     "data": {
      "text/html": [
       "<div>\n",
       "<style scoped>\n",
       "    .dataframe tbody tr th:only-of-type {\n",
       "        vertical-align: middle;\n",
       "    }\n",
       "\n",
       "    .dataframe tbody tr th {\n",
       "        vertical-align: top;\n",
       "    }\n",
       "\n",
       "    .dataframe thead th {\n",
       "        text-align: right;\n",
       "    }\n",
       "</style>\n",
       "<table border=\"1\" class=\"dataframe\">\n",
       "  <thead>\n",
       "    <tr style=\"text-align: right;\">\n",
       "      <th></th>\n",
       "      <th>class</th>\n",
       "      <th>timestamp</th>\n",
       "      <th>feature001</th>\n",
       "      <th>feature002</th>\n",
       "      <th>feature003</th>\n",
       "      <th>feature004</th>\n",
       "      <th>feature005</th>\n",
       "      <th>feature006</th>\n",
       "      <th>feature007</th>\n",
       "      <th>feature008</th>\n",
       "      <th>...</th>\n",
       "      <th>feature581</th>\n",
       "      <th>feature582</th>\n",
       "      <th>feature583</th>\n",
       "      <th>feature584</th>\n",
       "      <th>feature585</th>\n",
       "      <th>feature586</th>\n",
       "      <th>feature587</th>\n",
       "      <th>feature588</th>\n",
       "      <th>feature589</th>\n",
       "      <th>feature590</th>\n",
       "    </tr>\n",
       "    <tr>\n",
       "      <th>ID</th>\n",
       "      <th></th>\n",
       "      <th></th>\n",
       "      <th></th>\n",
       "      <th></th>\n",
       "      <th></th>\n",
       "      <th></th>\n",
       "      <th></th>\n",
       "      <th></th>\n",
       "      <th></th>\n",
       "      <th></th>\n",
       "      <th></th>\n",
       "      <th></th>\n",
       "      <th></th>\n",
       "      <th></th>\n",
       "      <th></th>\n",
       "      <th></th>\n",
       "      <th></th>\n",
       "      <th></th>\n",
       "      <th></th>\n",
       "      <th></th>\n",
       "      <th></th>\n",
       "    </tr>\n",
       "  </thead>\n",
       "  <tbody>\n",
       "  </tbody>\n",
       "</table>\n",
       "<p>0 rows × 592 columns</p>\n",
       "</div>"
      ],
      "text/plain": [
       "Empty DataFrame\n",
       "Columns: [class, timestamp, feature001, feature002, feature003, feature004, feature005, feature006, feature007, feature008, feature009, feature010, feature011, feature012, feature013, feature014, feature015, feature016, feature017, feature018, feature019, feature020, feature021, feature022, feature023, feature024, feature025, feature026, feature027, feature028, feature029, feature030, feature031, feature032, feature033, feature034, feature035, feature036, feature037, feature038, feature039, feature040, feature041, feature042, feature043, feature044, feature045, feature046, feature047, feature048, feature049, feature050, feature051, feature052, feature053, feature054, feature055, feature056, feature057, feature058, feature059, feature060, feature061, feature062, feature063, feature064, feature065, feature066, feature067, feature068, feature069, feature070, feature071, feature072, feature073, feature074, feature075, feature076, feature077, feature078, feature079, feature080, feature081, feature082, feature083, feature084, feature085, feature086, feature087, feature088, feature089, feature090, feature091, feature092, feature093, feature094, feature095, feature096, feature097, feature098, ...]\n",
       "Index: []\n",
       "\n",
       "[0 rows x 592 columns]"
      ]
     },
     "execution_count": 194,
     "metadata": {},
     "output_type": "execute_result"
    }
   ],
   "source": [
    "#Check for duplicated columns\r\n",
    "listofName = list(df.columns)\r\n",
    "testID = df[[c for c in df if c not in listofName]]\r\n",
    "#its runnig for the whole DF\r\n",
    "testRows = df[df.duplicated()]\r\n",
    "testRows.head()"
   ]
  },
  {
   "cell_type": "markdown",
   "metadata": {},
   "source": [
    "### 2.3. Pass / Fail ratio"
   ]
  },
  {
   "cell_type": "code",
   "execution_count": 195,
   "metadata": {},
   "outputs": [
    {
     "data": {
      "text/plain": [
       "0.0    1472\n",
       "1.0      95\n",
       "Name: class, dtype: int64"
      ]
     },
     "execution_count": 195,
     "metadata": {},
     "output_type": "execute_result"
    }
   ],
   "source": [
    "# number of pass and fail values\n",
    "df['class'].value_counts()"
   ]
  },
  {
   "cell_type": "code",
   "execution_count": 196,
   "metadata": {},
   "outputs": [],
   "source": [
    "# pie chart of the target variable\n",
    "def ClassDistributionGraph(df, title):\n",
    "    %matplotlib inline\n",
    "    plt.rcParams.update({'figure.figsize':(5,5), 'figure.dpi':100})\n",
    "    \n",
    "    labels = ['Pass', 'Fail']\n",
    "    distribution = df.value_counts()\n",
    "    colors = ['lightblue', 'yellowgreen']\n",
    "\n",
    "    # Plot\n",
    "    plt.pie(distribution, labels=labels, colors=colors, autopct= lambda p: '{:.2f}%({:.0f})'.format(p,(p/100)*distribution.sum()), shadow=True, startangle=140,)\n",
    "    plt.title(title, fontsize=15)\n",
    "    plt.axis('equal')\n",
    "    plt.show()"
   ]
  },
  {
   "cell_type": "code",
   "execution_count": 197,
   "metadata": {},
   "outputs": [
    {
     "data": {
      "image/png": "[encoded data removed]",
      "text/plain": [
       "<Figure size 500x500 with 1 Axes>"
      ]
     },
     "metadata": {},
     "output_type": "display_data"
    }
   ],
   "source": [
    "ClassDistributionGraph(df['class'], 'Class Distribution of SECOM dataset')"
   ]
  },
  {
   "cell_type": "markdown",
   "metadata": {},
   "source": [
    "### 2.4. Histogram of features"
   ]
  },
  {
   "cell_type": "code",
   "execution_count": 198,
   "metadata": {
    "scrolled": false
   },
   "outputs": [
    {
     "name": "stdout",
     "output_type": "stream",
     "text": [
      "23 9 8 3\n"
     ]
    },
    {
     "data": {
      "image/png": "[encoded data removed]",
      "text/plain": [
       "<Figure size 1440x5120 with 9 Axes>"
      ]
     },
     "metadata": {},
     "output_type": "display_data"
    }
   ],
   "source": [
    "# histogram of some of the features\n",
    "def plotPerColumnDistribution(df, nGraphShown, nGraphPerRow):\n",
    "    %matplotlib inline\n",
    "    plt.rcParams.update({'figure.figsize':(8,8), 'figure.dpi':100})\n",
    " \n",
    "    \n",
    "    nunique = df.nunique()\n",
    "    df = df[[col for col in df if nunique[col] > 1 and nunique[col] < 50]] # For displaying purposes, pick columns that have between 1 and 50 unique values\n",
    "    nRow, nCol = df.shape\n",
    "    columnNames = list(df)\n",
    "    nGraphRow = int((nCol + nGraphPerRow - 1) / nGraphPerRow)\n",
    "    %matplotlib inline\n",
    "    plt.figure(num = None, figsize = (6 * nGraphPerRow, 8 * nGraphRow), dpi = 80, facecolor = 'w', edgecolor = 'k')\n",
    "   \n",
    "    print(nCol, nGraphShown, nGraphRow, nGraphPerRow)\n",
    "    for i in range(min(nCol, nGraphShown)):\n",
    "        plt.subplot(nGraphRow, nGraphPerRow, i + 1)\n",
    "        columnDf = df.iloc[:, i]\n",
    "        if (not np.issubdtype(type(columnDf.iloc[0]), np.number)):\n",
    "            valueCounts = columnDf.value_counts()\n",
    "            valueCounts.plot.bar()\n",
    "        else:\n",
    "            columnDf.hist()\n",
    "        plt.ylabel('counts')\n",
    "        plt.xticks(rotation = 90)\n",
    "        plt.title(f'{columnNames[i]} (column {i})')\n",
    "    plt.tight_layout(pad = 1.0, w_pad = 1.0, h_pad = 1.0)\n",
    "    plt.show()\n",
    "\n",
    "plotPerColumnDistribution(df, 9, 3)"
   ]
  },
  {
   "cell_type": "markdown",
   "metadata": {},
   "source": [
    "### 2.5. Correlation"
   ]
  },
  {
   "cell_type": "code",
   "execution_count": 199,
   "metadata": {},
   "outputs": [],
   "source": [
    "# Correlation Histogram\n",
    "\n",
    "def correlation(df):\n",
    "    cor_matrix = pd.DataFrame(df.corr())\n",
    "\n",
    "    # Remove reuntant values by selecting only the upper correlation triangle\n",
    "    upper_tri = pd.DataFrame(cor_matrix.where(np.triu(np.ones(cor_matrix.shape),k=1).astype(bool)))\n",
    "\n",
    "    # Convert the upper correlation triangle to a Series\n",
    "    corlist = pd.Series(upper_tri.values.ravel('F'))\n",
    "\n",
    "    # Correlation Histogram\n",
    "    %matplotlib inline\n",
    "    plt.rcParams.update({'figure.figsize':(8,8), 'figure.dpi':100})\n",
    "\n",
    "    # Plot Histogram on x\n",
    "    plt.hist(corlist, bins =50)\n",
    "    plt.gca().set(title='Frequency Histogram of Correlation', ylabel='Frequency', xlabel='Correlation coefficient');"
   ]
  },
  {
   "cell_type": "code",
   "execution_count": 200,
   "metadata": {},
   "outputs": [
    {
     "data": {
      "image/png": "[encoded data removed]",
      "text/plain": [
       "<Figure size 800x800 with 1 Axes>"
      ]
     },
     "metadata": {
      "needs_background": "light"
     },
     "output_type": "display_data"
    }
   ],
   "source": [
    "correlation(df)"
   ]
  },
  {
   "cell_type": "markdown",
   "metadata": {},
   "source": [
    "### 2.6. Missing values"
   ]
  },
  {
   "cell_type": "code",
   "execution_count": 201,
   "metadata": {},
   "outputs": [
    {
     "data": {
      "text/plain": [
       "41951"
      ]
     },
     "execution_count": 201,
     "metadata": {},
     "output_type": "execute_result"
    }
   ],
   "source": [
    "# Total number of Nan values in the dataframe\n",
    "df.isna().sum().sum()"
   ]
  },
  {
   "cell_type": "code",
   "execution_count": 202,
   "metadata": {},
   "outputs": [
    {
     "name": "stdout",
     "output_type": "stream",
     "text": [
      "number of columns with missing values =  538\n",
      "number of rows with missing values =  1567\n"
     ]
    }
   ],
   "source": [
    "#number of cols with Nan values\n",
    "nan_cols = [i for i in df.columns if df[i].isnull().any()]\n",
    "print('number of columns with missing values = ', len(nan_cols))\n",
    "\n",
    "#number of rows with Nan values\n",
    "nan_rows = df.apply(lambda x: sum(x.isnull().values), axis = 1) # For rows\n",
    "print('number of rows with missing values = ', len(nan_rows))"
   ]
  },
  {
   "cell_type": "markdown",
   "metadata": {},
   "source": [
    "## 3. Preprocessing"
   ]
  },
  {
   "cell_type": "code",
   "execution_count": 203,
   "metadata": {},
   "outputs": [
    {
     "data": {
      "text/html": [
       "<div>\n",
       "<style scoped>\n",
       "    .dataframe tbody tr th:only-of-type {\n",
       "        vertical-align: middle;\n",
       "    }\n",
       "\n",
       "    .dataframe tbody tr th {\n",
       "        vertical-align: top;\n",
       "    }\n",
       "\n",
       "    .dataframe thead th {\n",
       "        text-align: right;\n",
       "    }\n",
       "</style>\n",
       "<table border=\"1\" class=\"dataframe\">\n",
       "  <thead>\n",
       "    <tr style=\"text-align: right;\">\n",
       "      <th></th>\n",
       "      <th>class</th>\n",
       "      <th>timestamp</th>\n",
       "      <th>feature001</th>\n",
       "      <th>feature002</th>\n",
       "      <th>feature003</th>\n",
       "      <th>feature004</th>\n",
       "      <th>feature005</th>\n",
       "      <th>feature006</th>\n",
       "      <th>feature007</th>\n",
       "      <th>feature008</th>\n",
       "      <th>...</th>\n",
       "      <th>feature581</th>\n",
       "      <th>feature582</th>\n",
       "      <th>feature583</th>\n",
       "      <th>feature584</th>\n",
       "      <th>feature585</th>\n",
       "      <th>feature586</th>\n",
       "      <th>feature587</th>\n",
       "      <th>feature588</th>\n",
       "      <th>feature589</th>\n",
       "      <th>feature590</th>\n",
       "    </tr>\n",
       "    <tr>\n",
       "      <th>ID</th>\n",
       "      <th></th>\n",
       "      <th></th>\n",
       "      <th></th>\n",
       "      <th></th>\n",
       "      <th></th>\n",
       "      <th></th>\n",
       "      <th></th>\n",
       "      <th></th>\n",
       "      <th></th>\n",
       "      <th></th>\n",
       "      <th></th>\n",
       "      <th></th>\n",
       "      <th></th>\n",
       "      <th></th>\n",
       "      <th></th>\n",
       "      <th></th>\n",
       "      <th></th>\n",
       "      <th></th>\n",
       "      <th></th>\n",
       "      <th></th>\n",
       "      <th></th>\n",
       "    </tr>\n",
       "  </thead>\n",
       "  <tbody>\n",
       "    <tr>\n",
       "      <th>1563.0</th>\n",
       "      <td>PASS</td>\n",
       "      <td>16/10/2008 15:13:00</td>\n",
       "      <td>2899.41</td>\n",
       "      <td>2464.36</td>\n",
       "      <td>2179.7333</td>\n",
       "      <td>3085.3781</td>\n",
       "      <td>1.4843</td>\n",
       "      <td>100.0</td>\n",
       "      <td>82.2467</td>\n",
       "      <td>0.1248</td>\n",
       "      <td>...</td>\n",
       "      <td>0.0047</td>\n",
       "      <td>203.1720</td>\n",
       "      <td>0.4988</td>\n",
       "      <td>0.0143</td>\n",
       "      <td>0.0039</td>\n",
       "      <td>2.8669</td>\n",
       "      <td>0.0068</td>\n",
       "      <td>0.0138</td>\n",
       "      <td>0.0047</td>\n",
       "      <td>203.1720</td>\n",
       "    </tr>\n",
       "    <tr>\n",
       "      <th>1564.0</th>\n",
       "      <td>PASS</td>\n",
       "      <td>16/10/2008 20:49:00</td>\n",
       "      <td>3052.31</td>\n",
       "      <td>2522.55</td>\n",
       "      <td>2198.5667</td>\n",
       "      <td>1124.6595</td>\n",
       "      <td>0.8763</td>\n",
       "      <td>100.0</td>\n",
       "      <td>98.4689</td>\n",
       "      <td>0.1205</td>\n",
       "      <td>...</td>\n",
       "      <td>NaN</td>\n",
       "      <td>NaN</td>\n",
       "      <td>0.4975</td>\n",
       "      <td>0.0131</td>\n",
       "      <td>0.0036</td>\n",
       "      <td>2.6238</td>\n",
       "      <td>0.0068</td>\n",
       "      <td>0.0138</td>\n",
       "      <td>0.0047</td>\n",
       "      <td>203.1720</td>\n",
       "    </tr>\n",
       "    <tr>\n",
       "      <th>1565.0</th>\n",
       "      <td>PASS</td>\n",
       "      <td>17/10/2008 05:26:00</td>\n",
       "      <td>2978.81</td>\n",
       "      <td>2379.78</td>\n",
       "      <td>2206.3000</td>\n",
       "      <td>1110.4967</td>\n",
       "      <td>0.8236</td>\n",
       "      <td>100.0</td>\n",
       "      <td>99.4122</td>\n",
       "      <td>0.1208</td>\n",
       "      <td>...</td>\n",
       "      <td>0.0025</td>\n",
       "      <td>43.5231</td>\n",
       "      <td>0.4987</td>\n",
       "      <td>0.0153</td>\n",
       "      <td>0.0041</td>\n",
       "      <td>3.0590</td>\n",
       "      <td>0.0197</td>\n",
       "      <td>0.0086</td>\n",
       "      <td>0.0025</td>\n",
       "      <td>43.5231</td>\n",
       "    </tr>\n",
       "    <tr>\n",
       "      <th>1566.0</th>\n",
       "      <td>PASS</td>\n",
       "      <td>17/10/2008 06:01:00</td>\n",
       "      <td>2894.92</td>\n",
       "      <td>2532.01</td>\n",
       "      <td>2177.0333</td>\n",
       "      <td>1183.7287</td>\n",
       "      <td>1.5726</td>\n",
       "      <td>100.0</td>\n",
       "      <td>98.7978</td>\n",
       "      <td>0.1213</td>\n",
       "      <td>...</td>\n",
       "      <td>0.0075</td>\n",
       "      <td>93.4941</td>\n",
       "      <td>0.5004</td>\n",
       "      <td>0.0178</td>\n",
       "      <td>0.0038</td>\n",
       "      <td>3.5662</td>\n",
       "      <td>0.0262</td>\n",
       "      <td>0.0245</td>\n",
       "      <td>0.0075</td>\n",
       "      <td>93.4941</td>\n",
       "    </tr>\n",
       "    <tr>\n",
       "      <th>1567.0</th>\n",
       "      <td>PASS</td>\n",
       "      <td>17/10/2008 06:07:00</td>\n",
       "      <td>2944.92</td>\n",
       "      <td>2450.76</td>\n",
       "      <td>2195.4444</td>\n",
       "      <td>2914.1792</td>\n",
       "      <td>1.5978</td>\n",
       "      <td>100.0</td>\n",
       "      <td>85.1011</td>\n",
       "      <td>0.1235</td>\n",
       "      <td>...</td>\n",
       "      <td>0.0045</td>\n",
       "      <td>137.7844</td>\n",
       "      <td>0.4987</td>\n",
       "      <td>0.0181</td>\n",
       "      <td>0.0040</td>\n",
       "      <td>3.6275</td>\n",
       "      <td>0.0117</td>\n",
       "      <td>0.0162</td>\n",
       "      <td>0.0045</td>\n",
       "      <td>137.7844</td>\n",
       "    </tr>\n",
       "  </tbody>\n",
       "</table>\n",
       "<p>5 rows × 592 columns</p>\n",
       "</div>"
      ],
      "text/plain": [
       "       class            timestamp  feature001  feature002  feature003  \\\n",
       "ID                                                                      \n",
       "1563.0  PASS  16/10/2008 15:13:00     2899.41     2464.36   2179.7333   \n",
       "1564.0  PASS  16/10/2008 20:49:00     3052.31     2522.55   2198.5667   \n",
       "1565.0  PASS  17/10/2008 05:26:00     2978.81     2379.78   2206.3000   \n",
       "1566.0  PASS  17/10/2008 06:01:00     2894.92     2532.01   2177.0333   \n",
       "1567.0  PASS  17/10/2008 06:07:00     2944.92     2450.76   2195.4444   \n",
       "\n",
       "        feature004  feature005  feature006  feature007  feature008  ...  \\\n",
       "ID                                                                  ...   \n",
       "1563.0   3085.3781      1.4843       100.0     82.2467      0.1248  ...   \n",
       "1564.0   1124.6595      0.8763       100.0     98.4689      0.1205  ...   \n",
       "1565.0   1110.4967      0.8236       100.0     99.4122      0.1208  ...   \n",
       "1566.0   1183.7287      1.5726       100.0     98.7978      0.1213  ...   \n",
       "1567.0   2914.1792      1.5978       100.0     85.1011      0.1235  ...   \n",
       "\n",
       "        feature581  feature582  feature583  feature584  feature585  \\\n",
       "ID                                                                   \n",
       "1563.0      0.0047    203.1720      0.4988      0.0143      0.0039   \n",
       "1564.0         NaN         NaN      0.4975      0.0131      0.0036   \n",
       "1565.0      0.0025     43.5231      0.4987      0.0153      0.0041   \n",
       "1566.0      0.0075     93.4941      0.5004      0.0178      0.0038   \n",
       "1567.0      0.0045    137.7844      0.4987      0.0181      0.0040   \n",
       "\n",
       "        feature586  feature587  feature588  feature589  feature590  \n",
       "ID                                                                  \n",
       "1563.0      2.8669      0.0068      0.0138      0.0047    203.1720  \n",
       "1564.0      2.6238      0.0068      0.0138      0.0047    203.1720  \n",
       "1565.0      3.0590      0.0197      0.0086      0.0025     43.5231  \n",
       "1566.0      3.5662      0.0262      0.0245      0.0075     93.4941  \n",
       "1567.0      3.6275      0.0117      0.0162      0.0045    137.7844  \n",
       "\n",
       "[5 rows x 592 columns]"
      ]
     },
     "execution_count": 203,
     "metadata": {},
     "output_type": "execute_result"
    }
   ],
   "source": [
    "# Give text labels to the training examples\n",
    "df['class'] = df['class'].replace({0: \"PASS\", 1: \"FAIL\"})\n",
    "df.tail()"
   ]
  },
  {
   "cell_type": "markdown",
   "metadata": {},
   "source": [
    "## 4. Data Preparation"
   ]
  },
  {
   "cell_type": "markdown",
   "metadata": {},
   "source": [
    "### 4.1 Splitting Traninig and Test Data"
   ]
  },
  {
   "cell_type": "code",
   "execution_count": 204,
   "metadata": {},
   "outputs": [],
   "source": [
    "# Split df into X and y\n",
    "y = df['class']\n",
    "X = df.drop('class', axis=1)"
   ]
  },
  {
   "cell_type": "code",
   "execution_count": 205,
   "metadata": {},
   "outputs": [],
   "source": [
    "# Train-test split\r\n",
    "X_train, X_test , y_train, y_test = train_test_split(X, y, train_size = 0.8, shuffle=True, random_state=40, stratify=y)"
   ]
  },
  {
   "cell_type": "code",
   "execution_count": 206,
   "metadata": {},
   "outputs": [
    {
     "data": {
      "image/png": "[encoded data removed]",
      "text/plain": [
       "<Figure size 500x500 with 1 Axes>"
      ]
     },
     "metadata": {},
     "output_type": "display_data"
    }
   ],
   "source": [
    "# pie chart for the train set\n",
    "ClassDistributionGraph(y_train, 'Class Distribution of train set')"
   ]
  },
  {
   "cell_type": "code",
   "execution_count": 207,
   "metadata": {},
   "outputs": [
    {
     "data": {
      "image/png": "[encoded data removed]",
      "text/plain": [
       "<Figure size 500x500 with 1 Axes>"
      ]
     },
     "metadata": {},
     "output_type": "display_data"
    }
   ],
   "source": [
    "# pie chart for the test set\n",
    "ClassDistributionGraph(y_test, 'Class Distribution of test set')"
   ]
  },
  {
   "cell_type": "markdown",
   "metadata": {},
   "source": [
    "### 4.2 Rough feature reduction"
   ]
  },
  {
   "cell_type": "markdown",
   "metadata": {},
   "source": [
    "#### 4.2.1 Removal of timestamp"
   ]
  },
  {
   "cell_type": "code",
   "execution_count": 208,
   "metadata": {},
   "outputs": [],
   "source": [
    "# removing timestamp\n",
    "X_train= X_train.drop(columns='timestamp')"
   ]
  },
  {
   "cell_type": "markdown",
   "metadata": {},
   "source": [
    "#### 4.2.2 Removal of constants"
   ]
  },
  {
   "cell_type": "code",
   "execution_count": 209,
   "metadata": {
    "scrolled": false
   },
   "outputs": [
    {
     "name": "stdout",
     "output_type": "stream",
     "text": [
      "116\n",
      "['feature006', 'feature014', 'feature043', 'feature050', 'feature053', 'feature070', 'feature098', 'feature142', 'feature150', 'feature179', 'feature180', 'feature187', 'feature190', 'feature191', 'feature192', 'feature193', 'feature194', 'feature195', 'feature227', 'feature230', 'feature231', 'feature232', 'feature233', 'feature234', 'feature235', 'feature236', 'feature237', 'feature238', 'feature241', 'feature242', 'feature243', 'feature244', 'feature257', 'feature258', 'feature259', 'feature260', 'feature261', 'feature262', 'feature263', 'feature264', 'feature265', 'feature266', 'feature267', 'feature277', 'feature285', 'feature314', 'feature315', 'feature316', 'feature323', 'feature326', 'feature327', 'feature328', 'feature329', 'feature330', 'feature331', 'feature365', 'feature370', 'feature371', 'feature372', 'feature373', 'feature374', 'feature375', 'feature376', 'feature379', 'feature380', 'feature381', 'feature382', 'feature395', 'feature396', 'feature397', 'feature398', 'feature399', 'feature400', 'feature401', 'feature402', 'feature403', 'feature404', 'feature405', 'feature415', 'feature423', 'feature450', 'feature451', 'feature452', 'feature459', 'feature462', 'feature463', 'feature464', 'feature465', 'feature466', 'feature467', 'feature482', 'feature499', 'feature502', 'feature503', 'feature504', 'feature505', 'feature506', 'feature507', 'feature508', 'feature509', 'feature510', 'feature513', 'feature514', 'feature515', 'feature516', 'feature529', 'feature530', 'feature531', 'feature532', 'feature533', 'feature534', 'feature535', 'feature536', 'feature537', 'feature538', 'feature539']\n"
     ]
    },
    {
     "data": {
      "text/html": [
       "<div>\n",
       "<style scoped>\n",
       "    .dataframe tbody tr th:only-of-type {\n",
       "        vertical-align: middle;\n",
       "    }\n",
       "\n",
       "    .dataframe tbody tr th {\n",
       "        vertical-align: top;\n",
       "    }\n",
       "\n",
       "    .dataframe thead th {\n",
       "        text-align: right;\n",
       "    }\n",
       "</style>\n",
       "<table border=\"1\" class=\"dataframe\">\n",
       "  <thead>\n",
       "    <tr style=\"text-align: right;\">\n",
       "      <th></th>\n",
       "      <th>feature001</th>\n",
       "      <th>feature002</th>\n",
       "      <th>feature003</th>\n",
       "      <th>feature004</th>\n",
       "      <th>feature005</th>\n",
       "      <th>feature007</th>\n",
       "      <th>feature008</th>\n",
       "      <th>feature009</th>\n",
       "      <th>feature010</th>\n",
       "      <th>feature011</th>\n",
       "      <th>...</th>\n",
       "      <th>feature581</th>\n",
       "      <th>feature582</th>\n",
       "      <th>feature583</th>\n",
       "      <th>feature584</th>\n",
       "      <th>feature585</th>\n",
       "      <th>feature586</th>\n",
       "      <th>feature587</th>\n",
       "      <th>feature588</th>\n",
       "      <th>feature589</th>\n",
       "      <th>feature590</th>\n",
       "    </tr>\n",
       "    <tr>\n",
       "      <th>ID</th>\n",
       "      <th></th>\n",
       "      <th></th>\n",
       "      <th></th>\n",
       "      <th></th>\n",
       "      <th></th>\n",
       "      <th></th>\n",
       "      <th></th>\n",
       "      <th></th>\n",
       "      <th></th>\n",
       "      <th></th>\n",
       "      <th></th>\n",
       "      <th></th>\n",
       "      <th></th>\n",
       "      <th></th>\n",
       "      <th></th>\n",
       "      <th></th>\n",
       "      <th></th>\n",
       "      <th></th>\n",
       "      <th></th>\n",
       "      <th></th>\n",
       "      <th></th>\n",
       "    </tr>\n",
       "  </thead>\n",
       "  <tbody>\n",
       "    <tr>\n",
       "      <th>567.0</th>\n",
       "      <td>3023.07</td>\n",
       "      <td>2484.55</td>\n",
       "      <td>2242.8555</td>\n",
       "      <td>1430.7270</td>\n",
       "      <td>0.8832</td>\n",
       "      <td>106.2100</td>\n",
       "      <td>0.1216</td>\n",
       "      <td>1.5613</td>\n",
       "      <td>-0.0028</td>\n",
       "      <td>0.0008</td>\n",
       "      <td>...</td>\n",
       "      <td>NaN</td>\n",
       "      <td>NaN</td>\n",
       "      <td>0.4979</td>\n",
       "      <td>0.0165</td>\n",
       "      <td>0.0041</td>\n",
       "      <td>3.3098</td>\n",
       "      <td>0.0184</td>\n",
       "      <td>0.0127</td>\n",
       "      <td>0.0037</td>\n",
       "      <td>68.7057</td>\n",
       "    </tr>\n",
       "    <tr>\n",
       "      <th>1261.0</th>\n",
       "      <td>2953.63</td>\n",
       "      <td>2384.04</td>\n",
       "      <td>2191.2111</td>\n",
       "      <td>1437.5003</td>\n",
       "      <td>2.2073</td>\n",
       "      <td>97.6444</td>\n",
       "      <td>0.1235</td>\n",
       "      <td>1.3584</td>\n",
       "      <td>-0.0024</td>\n",
       "      <td>-0.0048</td>\n",
       "      <td>...</td>\n",
       "      <td>NaN</td>\n",
       "      <td>NaN</td>\n",
       "      <td>0.4968</td>\n",
       "      <td>0.0188</td>\n",
       "      <td>0.0041</td>\n",
       "      <td>3.7853</td>\n",
       "      <td>0.0137</td>\n",
       "      <td>0.0326</td>\n",
       "      <td>0.0108</td>\n",
       "      <td>237.4625</td>\n",
       "    </tr>\n",
       "    <tr>\n",
       "      <th>1041.0</th>\n",
       "      <td>3021.61</td>\n",
       "      <td>2440.29</td>\n",
       "      <td>2227.2222</td>\n",
       "      <td>2043.5876</td>\n",
       "      <td>1.1892</td>\n",
       "      <td>95.5267</td>\n",
       "      <td>0.1253</td>\n",
       "      <td>1.5335</td>\n",
       "      <td>-0.0083</td>\n",
       "      <td>-0.0095</td>\n",
       "      <td>...</td>\n",
       "      <td>NaN</td>\n",
       "      <td>NaN</td>\n",
       "      <td>0.5091</td>\n",
       "      <td>0.0123</td>\n",
       "      <td>0.0031</td>\n",
       "      <td>2.4116</td>\n",
       "      <td>0.0437</td>\n",
       "      <td>0.0200</td>\n",
       "      <td>0.0074</td>\n",
       "      <td>45.7019</td>\n",
       "    </tr>\n",
       "    <tr>\n",
       "      <th>1181.0</th>\n",
       "      <td>3093.46</td>\n",
       "      <td>2479.17</td>\n",
       "      <td>2221.3667</td>\n",
       "      <td>2490.6947</td>\n",
       "      <td>1.2667</td>\n",
       "      <td>88.6578</td>\n",
       "      <td>0.1220</td>\n",
       "      <td>1.3537</td>\n",
       "      <td>0.0134</td>\n",
       "      <td>-0.0039</td>\n",
       "      <td>...</td>\n",
       "      <td>NaN</td>\n",
       "      <td>NaN</td>\n",
       "      <td>0.5006</td>\n",
       "      <td>0.0148</td>\n",
       "      <td>0.0036</td>\n",
       "      <td>2.9659</td>\n",
       "      <td>0.0190</td>\n",
       "      <td>0.0150</td>\n",
       "      <td>0.0045</td>\n",
       "      <td>78.6525</td>\n",
       "    </tr>\n",
       "    <tr>\n",
       "      <th>611.0</th>\n",
       "      <td>3010.40</td>\n",
       "      <td>NaN</td>\n",
       "      <td>2172.4000</td>\n",
       "      <td>1148.4101</td>\n",
       "      <td>1.2614</td>\n",
       "      <td>102.4522</td>\n",
       "      <td>0.1227</td>\n",
       "      <td>1.3843</td>\n",
       "      <td>-0.0010</td>\n",
       "      <td>-0.0004</td>\n",
       "      <td>...</td>\n",
       "      <td>NaN</td>\n",
       "      <td>NaN</td>\n",
       "      <td>0.5015</td>\n",
       "      <td>0.0137</td>\n",
       "      <td>0.0034</td>\n",
       "      <td>2.7339</td>\n",
       "      <td>0.0252</td>\n",
       "      <td>0.0157</td>\n",
       "      <td>0.0046</td>\n",
       "      <td>62.3881</td>\n",
       "    </tr>\n",
       "    <tr>\n",
       "      <th>...</th>\n",
       "      <td>...</td>\n",
       "      <td>...</td>\n",
       "      <td>...</td>\n",
       "      <td>...</td>\n",
       "      <td>...</td>\n",
       "      <td>...</td>\n",
       "      <td>...</td>\n",
       "      <td>...</td>\n",
       "      <td>...</td>\n",
       "      <td>...</td>\n",
       "      <td>...</td>\n",
       "      <td>...</td>\n",
       "      <td>...</td>\n",
       "      <td>...</td>\n",
       "      <td>...</td>\n",
       "      <td>...</td>\n",
       "      <td>...</td>\n",
       "      <td>...</td>\n",
       "      <td>...</td>\n",
       "      <td>...</td>\n",
       "      <td>...</td>\n",
       "    </tr>\n",
       "    <tr>\n",
       "      <th>806.0</th>\n",
       "      <td>2952.31</td>\n",
       "      <td>2453.53</td>\n",
       "      <td>2188.7222</td>\n",
       "      <td>1325.5230</td>\n",
       "      <td>1.1721</td>\n",
       "      <td>105.1700</td>\n",
       "      <td>0.1250</td>\n",
       "      <td>1.4480</td>\n",
       "      <td>-0.0233</td>\n",
       "      <td>0.0087</td>\n",
       "      <td>...</td>\n",
       "      <td>NaN</td>\n",
       "      <td>NaN</td>\n",
       "      <td>0.4949</td>\n",
       "      <td>0.0155</td>\n",
       "      <td>0.0034</td>\n",
       "      <td>3.1238</td>\n",
       "      <td>0.0253</td>\n",
       "      <td>0.0058</td>\n",
       "      <td>0.0018</td>\n",
       "      <td>22.7661</td>\n",
       "    </tr>\n",
       "    <tr>\n",
       "      <th>1101.0</th>\n",
       "      <td>2880.58</td>\n",
       "      <td>2489.76</td>\n",
       "      <td>2256.6000</td>\n",
       "      <td>2365.4787</td>\n",
       "      <td>1.1384</td>\n",
       "      <td>85.4278</td>\n",
       "      <td>0.1205</td>\n",
       "      <td>1.6114</td>\n",
       "      <td>0.0484</td>\n",
       "      <td>0.0043</td>\n",
       "      <td>...</td>\n",
       "      <td>0.0076</td>\n",
       "      <td>50.7949</td>\n",
       "      <td>0.5032</td>\n",
       "      <td>0.0117</td>\n",
       "      <td>0.0029</td>\n",
       "      <td>2.3282</td>\n",
       "      <td>0.0398</td>\n",
       "      <td>0.0202</td>\n",
       "      <td>0.0076</td>\n",
       "      <td>50.7949</td>\n",
       "    </tr>\n",
       "    <tr>\n",
       "      <th>1469.0</th>\n",
       "      <td>2968.78</td>\n",
       "      <td>2451.53</td>\n",
       "      <td>2207.1000</td>\n",
       "      <td>1298.4309</td>\n",
       "      <td>1.0251</td>\n",
       "      <td>96.9478</td>\n",
       "      <td>0.1203</td>\n",
       "      <td>1.3985</td>\n",
       "      <td>-0.0105</td>\n",
       "      <td>-0.0140</td>\n",
       "      <td>...</td>\n",
       "      <td>0.0084</td>\n",
       "      <td>185.3578</td>\n",
       "      <td>0.4972</td>\n",
       "      <td>0.0133</td>\n",
       "      <td>0.0036</td>\n",
       "      <td>2.6718</td>\n",
       "      <td>0.0167</td>\n",
       "      <td>0.0310</td>\n",
       "      <td>0.0084</td>\n",
       "      <td>185.3578</td>\n",
       "    </tr>\n",
       "    <tr>\n",
       "      <th>234.0</th>\n",
       "      <td>2958.39</td>\n",
       "      <td>2478.99</td>\n",
       "      <td>2231.9556</td>\n",
       "      <td>1185.0959</td>\n",
       "      <td>1.0208</td>\n",
       "      <td>102.5344</td>\n",
       "      <td>0.1192</td>\n",
       "      <td>1.4881</td>\n",
       "      <td>-0.0054</td>\n",
       "      <td>-0.0037</td>\n",
       "      <td>...</td>\n",
       "      <td>NaN</td>\n",
       "      <td>NaN</td>\n",
       "      <td>0.5024</td>\n",
       "      <td>0.0151</td>\n",
       "      <td>0.0038</td>\n",
       "      <td>3.0084</td>\n",
       "      <td>-0.0034</td>\n",
       "      <td>0.0093</td>\n",
       "      <td>0.0030</td>\n",
       "      <td>272.3477</td>\n",
       "    </tr>\n",
       "    <tr>\n",
       "      <th>645.0</th>\n",
       "      <td>3072.21</td>\n",
       "      <td>2610.62</td>\n",
       "      <td>2214.9333</td>\n",
       "      <td>1663.7024</td>\n",
       "      <td>1.0203</td>\n",
       "      <td>100.4456</td>\n",
       "      <td>0.1247</td>\n",
       "      <td>1.4403</td>\n",
       "      <td>-0.0169</td>\n",
       "      <td>0.0213</td>\n",
       "      <td>...</td>\n",
       "      <td>0.0034</td>\n",
       "      <td>50.0650</td>\n",
       "      <td>0.5044</td>\n",
       "      <td>0.0139</td>\n",
       "      <td>0.0037</td>\n",
       "      <td>2.7602</td>\n",
       "      <td>0.0211</td>\n",
       "      <td>0.0106</td>\n",
       "      <td>0.0034</td>\n",
       "      <td>50.0650</td>\n",
       "    </tr>\n",
       "  </tbody>\n",
       "</table>\n",
       "<p>1253 rows × 474 columns</p>\n",
       "</div>"
      ],
      "text/plain": [
       "        feature001  feature002  feature003  feature004  feature005  \\\n",
       "ID                                                                   \n",
       "567.0      3023.07     2484.55   2242.8555   1430.7270      0.8832   \n",
       "1261.0     2953.63     2384.04   2191.2111   1437.5003      2.2073   \n",
       "1041.0     3021.61     2440.29   2227.2222   2043.5876      1.1892   \n",
       "1181.0     3093.46     2479.17   2221.3667   2490.6947      1.2667   \n",
       "611.0      3010.40         NaN   2172.4000   1148.4101      1.2614   \n",
       "...            ...         ...         ...         ...         ...   \n",
       "806.0      2952.31     2453.53   2188.7222   1325.5230      1.1721   \n",
       "1101.0     2880.58     2489.76   2256.6000   2365.4787      1.1384   \n",
       "1469.0     2968.78     2451.53   2207.1000   1298.4309      1.0251   \n",
       "234.0      2958.39     2478.99   2231.9556   1185.0959      1.0208   \n",
       "645.0      3072.21     2610.62   2214.9333   1663.7024      1.0203   \n",
       "\n",
       "        feature007  feature008  feature009  feature010  feature011  ...  \\\n",
       "ID                                                                  ...   \n",
       "567.0     106.2100      0.1216      1.5613     -0.0028      0.0008  ...   \n",
       "1261.0     97.6444      0.1235      1.3584     -0.0024     -0.0048  ...   \n",
       "1041.0     95.5267      0.1253      1.5335     -0.0083     -0.0095  ...   \n",
       "1181.0     88.6578      0.1220      1.3537      0.0134     -0.0039  ...   \n",
       "611.0     102.4522      0.1227      1.3843     -0.0010     -0.0004  ...   \n",
       "...            ...         ...         ...         ...         ...  ...   \n",
       "806.0     105.1700      0.1250      1.4480     -0.0233      0.0087  ...   \n",
       "1101.0     85.4278      0.1205      1.6114      0.0484      0.0043  ...   \n",
       "1469.0     96.9478      0.1203      1.3985     -0.0105     -0.0140  ...   \n",
       "234.0     102.5344      0.1192      1.4881     -0.0054     -0.0037  ...   \n",
       "645.0     100.4456      0.1247      1.4403     -0.0169      0.0213  ...   \n",
       "\n",
       "        feature581  feature582  feature583  feature584  feature585  \\\n",
       "ID                                                                   \n",
       "567.0          NaN         NaN      0.4979      0.0165      0.0041   \n",
       "1261.0         NaN         NaN      0.4968      0.0188      0.0041   \n",
       "1041.0         NaN         NaN      0.5091      0.0123      0.0031   \n",
       "1181.0         NaN         NaN      0.5006      0.0148      0.0036   \n",
       "611.0          NaN         NaN      0.5015      0.0137      0.0034   \n",
       "...            ...         ...         ...         ...         ...   \n",
       "806.0          NaN         NaN      0.4949      0.0155      0.0034   \n",
       "1101.0      0.0076     50.7949      0.5032      0.0117      0.0029   \n",
       "1469.0      0.0084    185.3578      0.4972      0.0133      0.0036   \n",
       "234.0          NaN         NaN      0.5024      0.0151      0.0038   \n",
       "645.0       0.0034     50.0650      0.5044      0.0139      0.0037   \n",
       "\n",
       "        feature586  feature587  feature588  feature589  feature590  \n",
       "ID                                                                  \n",
       "567.0       3.3098      0.0184      0.0127      0.0037     68.7057  \n",
       "1261.0      3.7853      0.0137      0.0326      0.0108    237.4625  \n",
       "1041.0      2.4116      0.0437      0.0200      0.0074     45.7019  \n",
       "1181.0      2.9659      0.0190      0.0150      0.0045     78.6525  \n",
       "611.0       2.7339      0.0252      0.0157      0.0046     62.3881  \n",
       "...            ...         ...         ...         ...         ...  \n",
       "806.0       3.1238      0.0253      0.0058      0.0018     22.7661  \n",
       "1101.0      2.3282      0.0398      0.0202      0.0076     50.7949  \n",
       "1469.0      2.6718      0.0167      0.0310      0.0084    185.3578  \n",
       "234.0       3.0084     -0.0034      0.0093      0.0030    272.3477  \n",
       "645.0       2.7602      0.0211      0.0106      0.0034     50.0650  \n",
       "\n",
       "[1253 rows x 474 columns]"
      ]
     },
     "execution_count": 209,
     "metadata": {},
     "output_type": "execute_result"
    }
   ],
   "source": [
    "#columns that have the same value excluding nan\n",
    "print(len(X_train.columns[X_train.nunique() == 1]))\n",
    "\n",
    "#column names with same value in it\n",
    "X_train.columns[X_train.nunique() == 1]\n",
    "print(list(X_train.columns[X_train.nunique() == 1]))\n",
    "\n",
    "#remove these columns since it adds no value\n",
    "single_value_columns = list(X_train.columns[X_train.nunique() == 1])\n",
    "X_train=X_train.drop(columns=single_value_columns)\n",
    "X_train"
   ]
  },
  {
   "cell_type": "markdown",
   "metadata": {},
   "source": [
    "#### 4.2.3 Checking for columns more than a percentage of nan values"
   ]
  },
  {
   "cell_type": "code",
   "execution_count": 210,
   "metadata": {},
   "outputs": [
    {
     "name": "stdout",
     "output_type": "stream",
     "text": [
      "               0\n",
      "feature360     0\n",
      "feature223     0\n",
      "feature224     0\n",
      "feature249     0\n",
      "feature250     0\n",
      "...          ...\n",
      "feature359  1078\n",
      "feature294  1140\n",
      "feature158  1140\n",
      "feature159  1140\n",
      "feature293  1140\n",
      "\n",
      "[474 rows x 1 columns]\n"
     ]
    }
   ],
   "source": [
    "# count the number of missing values for each column\n",
    "num_missing = pd.DataFrame((X_train.isna()).sum())\n",
    "print(num_missing.sort_values(0))"
   ]
  },
  {
   "cell_type": "code",
   "execution_count": 211,
   "metadata": {},
   "outputs": [
    {
     "data": {
      "image/png": "[encoded data removed]",
      "text/plain": [
       "<Figure size 640x640 with 1 Axes>"
      ]
     },
     "metadata": {
      "needs_background": "light"
     },
     "output_type": "display_data"
    }
   ],
   "source": [
    "# Missing Value histogram\n",
    "nan_perc = pd.DataFrame(round((X_train.isnull().sum() * 100/ len(X_train)),2))\n",
    "nan_perc = nan_perc.reset_index()\n",
    "nan_perc = nan_perc.rename({'index': 'feature', 0: 'percentage'}, axis=1)\n",
    "\n",
    "%matplotlib inline\n",
    "plt.rcParams.update({'figure.figsize':(8,8), 'figure.dpi':80})\n",
    "n,bins,patch = plt.hist(nan_perc['percentage'],bins=10, alpha=0.8, label='Value', edgecolor='black', linewidth=1)\n",
    "plt.gca().set(title='Percentage of Missing Value Histogram', ylabel='No. of features', xlabel='Percentage of Nan values')\n",
    "plt.show()"
   ]
  },
  {
   "cell_type": "code",
   "execution_count": 212,
   "metadata": {},
   "outputs": [
    {
     "name": "stdout",
     "output_type": "stream",
     "text": [
      "0\n",
      "Index([], dtype='object')\n"
     ]
    }
   ],
   "source": [
    "# Defining a threshold to remove the values above it\r\n",
    "threshold= 1\r\n",
    "pct_null = X_train.isnull().sum() / len(X_train)\r\n",
    "missing_value_cols = pct_null[pct_null >= threshold].index\r\n",
    "\r\n",
    "# number of features containing more than the threshold of missing values\r\n",
    "print(len(missing_value_cols))\r\n",
    "print(missing_value_cols)\r\n",
    "\r\n",
    "X_train = X_train.drop(missing_value_cols, axis=1)"
   ]
  },
  {
   "cell_type": "markdown",
   "metadata": {},
   "source": [
    "#### 4.2.4 Less volatile"
   ]
  },
  {
   "cell_type": "code",
   "execution_count": 213,
   "metadata": {},
   "outputs": [],
   "source": [
    "# Exploring remaining features\r\n",
    "summary = X_train.iloc[:,:].describe(include='all')"
   ]
  },
  {
   "cell_type": "code",
   "execution_count": 214,
   "metadata": {},
   "outputs": [
    {
     "data": {
      "image/png": "[encoded data removed]",
      "text/plain": [
       "<Figure size 800x800 with 1 Axes>"
      ]
     },
     "metadata": {
      "needs_background": "light"
     },
     "output_type": "display_data"
    }
   ],
   "source": [
    "# Checking std of remaining features\n",
    "\n",
    "def StandardDeviation(df):\n",
    "    import matplotlib.pyplot as plt\n",
    "\n",
    "    %matplotlib inline\n",
    "    plt.rcParams.update({'figure.figsize':(8,8), 'figure.dpi':100})\n",
    "\n",
    "    plt.hist(df.std(), bins = 50)\n",
    "    plt.gca().set(title='Standard deviation Histogram', ylabel='No. of features', xlabel='Standard deviation');\n",
    "    plt.show()\n",
    "    \n",
    "StandardDeviation(X_train)"
   ]
  },
  {
   "cell_type": "code",
   "execution_count": 215,
   "metadata": {},
   "outputs": [
    {
     "data": {
      "image/png": "[encoded data removed]",
      "text/plain": [
       "<Figure size 800x800 with 1 Axes>"
      ]
     },
     "metadata": {
      "needs_background": "light"
     },
     "output_type": "display_data"
    }
   ],
   "source": [
    "# Checking coeff std of remaining features\n",
    "def CoefficientOfVariation(df):\n",
    "    %matplotlib inline\n",
    "    plt.rcParams.update({'figure.figsize':(8,8), 'figure.dpi':100})\n",
    "\n",
    "    plt.hist(df.std()/df.mean(), bins = 50)\n",
    "    plt.gca().set(title='Coefficient of variation Histogram', ylabel='No. of features', xlabel='Coefficient of variation');\n",
    "    plt.show()\n",
    "\n",
    "CoefficientOfVariation(X_train)"
   ]
  },
  {
   "cell_type": "code",
   "execution_count": 216,
   "metadata": {},
   "outputs": [
    {
     "data": {
      "text/plain": [
       "<AxesSubplot:>"
      ]
     },
     "execution_count": 216,
     "metadata": {},
     "output_type": "execute_result"
    },
    {
     "data": {
      "image/png": "[encoded data removed]",
      "text/plain": [
       "<Figure size 800x800 with 1 Axes>"
      ]
     },
     "metadata": {
      "needs_background": "light"
     },
     "output_type": "display_data"
    }
   ],
   "source": [
    "# histogram of the coefficient standard deviation of a percentage of features with the least coeffstd\n",
    "feature_coeffstd = pd.DataFrame(summary.loc['std',:]/abs(summary.loc['mean',:])).sort_values(by=[0])\n",
    "percentage_features = int(len(feature_coeffstd)*90/100)\n",
    "feature_coeffstd.iloc[0:percentage_features,0].hist(bins=30)"
   ]
  },
  {
   "cell_type": "code",
   "execution_count": 217,
   "metadata": {},
   "outputs": [
    {
     "name": "stdout",
     "output_type": "stream",
     "text": [
      "Number of least Volatiles 0\n",
      "Index([], dtype='object')\n"
     ]
    }
   ],
   "source": [
    "# a percentage of features with the least coeffstd to remove\r\n",
    "percentageToAnalyze = 0\r\n",
    "\r\n",
    "percentage_features_rm = int(len(feature_coeffstd)*percentageToAnalyze/100)\r\n",
    "feature_index = feature_coeffstd.index\r\n",
    "features_least_volatile = feature_index[0:percentage_features_rm]\r\n",
    "print(\"Number of least Volatiles\", len(features_least_volatile))\r\n",
    "print(features_least_volatile)"
   ]
  },
  {
   "cell_type": "code",
   "execution_count": 218,
   "metadata": {},
   "outputs": [],
   "source": [
    "# dropping a percentage of features with the least coeffstd\n",
    "X_train.drop(features_least_volatile, axis = 1, inplace = True)"
   ]
  },
  {
   "cell_type": "code",
   "execution_count": 219,
   "metadata": {},
   "outputs": [
    {
     "data": {
      "text/html": [
       "<div>\n",
       "<style scoped>\n",
       "    .dataframe tbody tr th:only-of-type {\n",
       "        vertical-align: middle;\n",
       "    }\n",
       "\n",
       "    .dataframe tbody tr th {\n",
       "        vertical-align: top;\n",
       "    }\n",
       "\n",
       "    .dataframe thead th {\n",
       "        text-align: right;\n",
       "    }\n",
       "</style>\n",
       "<table border=\"1\" class=\"dataframe\">\n",
       "  <thead>\n",
       "    <tr style=\"text-align: right;\">\n",
       "      <th></th>\n",
       "      <th>feature001</th>\n",
       "      <th>feature002</th>\n",
       "      <th>feature003</th>\n",
       "      <th>feature004</th>\n",
       "      <th>feature005</th>\n",
       "      <th>feature007</th>\n",
       "      <th>feature008</th>\n",
       "      <th>feature009</th>\n",
       "      <th>feature010</th>\n",
       "      <th>feature011</th>\n",
       "      <th>...</th>\n",
       "      <th>feature581</th>\n",
       "      <th>feature582</th>\n",
       "      <th>feature583</th>\n",
       "      <th>feature584</th>\n",
       "      <th>feature585</th>\n",
       "      <th>feature586</th>\n",
       "      <th>feature587</th>\n",
       "      <th>feature588</th>\n",
       "      <th>feature589</th>\n",
       "      <th>feature590</th>\n",
       "    </tr>\n",
       "    <tr>\n",
       "      <th>ID</th>\n",
       "      <th></th>\n",
       "      <th></th>\n",
       "      <th></th>\n",
       "      <th></th>\n",
       "      <th></th>\n",
       "      <th></th>\n",
       "      <th></th>\n",
       "      <th></th>\n",
       "      <th></th>\n",
       "      <th></th>\n",
       "      <th></th>\n",
       "      <th></th>\n",
       "      <th></th>\n",
       "      <th></th>\n",
       "      <th></th>\n",
       "      <th></th>\n",
       "      <th></th>\n",
       "      <th></th>\n",
       "      <th></th>\n",
       "      <th></th>\n",
       "      <th></th>\n",
       "    </tr>\n",
       "  </thead>\n",
       "  <tbody>\n",
       "    <tr>\n",
       "      <th>567.0</th>\n",
       "      <td>3023.07</td>\n",
       "      <td>2484.55</td>\n",
       "      <td>2242.8555</td>\n",
       "      <td>1430.7270</td>\n",
       "      <td>0.8832</td>\n",
       "      <td>106.2100</td>\n",
       "      <td>0.1216</td>\n",
       "      <td>1.5613</td>\n",
       "      <td>-0.0028</td>\n",
       "      <td>0.0008</td>\n",
       "      <td>...</td>\n",
       "      <td>NaN</td>\n",
       "      <td>NaN</td>\n",
       "      <td>0.4979</td>\n",
       "      <td>0.0165</td>\n",
       "      <td>0.0041</td>\n",
       "      <td>3.3098</td>\n",
       "      <td>0.0184</td>\n",
       "      <td>0.0127</td>\n",
       "      <td>0.0037</td>\n",
       "      <td>68.7057</td>\n",
       "    </tr>\n",
       "    <tr>\n",
       "      <th>1261.0</th>\n",
       "      <td>2953.63</td>\n",
       "      <td>2384.04</td>\n",
       "      <td>2191.2111</td>\n",
       "      <td>1437.5003</td>\n",
       "      <td>2.2073</td>\n",
       "      <td>97.6444</td>\n",
       "      <td>0.1235</td>\n",
       "      <td>1.3584</td>\n",
       "      <td>-0.0024</td>\n",
       "      <td>-0.0048</td>\n",
       "      <td>...</td>\n",
       "      <td>NaN</td>\n",
       "      <td>NaN</td>\n",
       "      <td>0.4968</td>\n",
       "      <td>0.0188</td>\n",
       "      <td>0.0041</td>\n",
       "      <td>3.7853</td>\n",
       "      <td>0.0137</td>\n",
       "      <td>0.0326</td>\n",
       "      <td>0.0108</td>\n",
       "      <td>237.4625</td>\n",
       "    </tr>\n",
       "    <tr>\n",
       "      <th>1041.0</th>\n",
       "      <td>3021.61</td>\n",
       "      <td>2440.29</td>\n",
       "      <td>2227.2222</td>\n",
       "      <td>2043.5876</td>\n",
       "      <td>1.1892</td>\n",
       "      <td>95.5267</td>\n",
       "      <td>0.1253</td>\n",
       "      <td>1.5335</td>\n",
       "      <td>-0.0083</td>\n",
       "      <td>-0.0095</td>\n",
       "      <td>...</td>\n",
       "      <td>NaN</td>\n",
       "      <td>NaN</td>\n",
       "      <td>0.5091</td>\n",
       "      <td>0.0123</td>\n",
       "      <td>0.0031</td>\n",
       "      <td>2.4116</td>\n",
       "      <td>0.0437</td>\n",
       "      <td>0.0200</td>\n",
       "      <td>0.0074</td>\n",
       "      <td>45.7019</td>\n",
       "    </tr>\n",
       "    <tr>\n",
       "      <th>1181.0</th>\n",
       "      <td>3093.46</td>\n",
       "      <td>2479.17</td>\n",
       "      <td>2221.3667</td>\n",
       "      <td>2490.6947</td>\n",
       "      <td>1.2667</td>\n",
       "      <td>88.6578</td>\n",
       "      <td>0.1220</td>\n",
       "      <td>1.3537</td>\n",
       "      <td>0.0134</td>\n",
       "      <td>-0.0039</td>\n",
       "      <td>...</td>\n",
       "      <td>NaN</td>\n",
       "      <td>NaN</td>\n",
       "      <td>0.5006</td>\n",
       "      <td>0.0148</td>\n",
       "      <td>0.0036</td>\n",
       "      <td>2.9659</td>\n",
       "      <td>0.0190</td>\n",
       "      <td>0.0150</td>\n",
       "      <td>0.0045</td>\n",
       "      <td>78.6525</td>\n",
       "    </tr>\n",
       "    <tr>\n",
       "      <th>611.0</th>\n",
       "      <td>3010.40</td>\n",
       "      <td>NaN</td>\n",
       "      <td>2172.4000</td>\n",
       "      <td>1148.4101</td>\n",
       "      <td>1.2614</td>\n",
       "      <td>102.4522</td>\n",
       "      <td>0.1227</td>\n",
       "      <td>1.3843</td>\n",
       "      <td>-0.0010</td>\n",
       "      <td>-0.0004</td>\n",
       "      <td>...</td>\n",
       "      <td>NaN</td>\n",
       "      <td>NaN</td>\n",
       "      <td>0.5015</td>\n",
       "      <td>0.0137</td>\n",
       "      <td>0.0034</td>\n",
       "      <td>2.7339</td>\n",
       "      <td>0.0252</td>\n",
       "      <td>0.0157</td>\n",
       "      <td>0.0046</td>\n",
       "      <td>62.3881</td>\n",
       "    </tr>\n",
       "    <tr>\n",
       "      <th>...</th>\n",
       "      <td>...</td>\n",
       "      <td>...</td>\n",
       "      <td>...</td>\n",
       "      <td>...</td>\n",
       "      <td>...</td>\n",
       "      <td>...</td>\n",
       "      <td>...</td>\n",
       "      <td>...</td>\n",
       "      <td>...</td>\n",
       "      <td>...</td>\n",
       "      <td>...</td>\n",
       "      <td>...</td>\n",
       "      <td>...</td>\n",
       "      <td>...</td>\n",
       "      <td>...</td>\n",
       "      <td>...</td>\n",
       "      <td>...</td>\n",
       "      <td>...</td>\n",
       "      <td>...</td>\n",
       "      <td>...</td>\n",
       "      <td>...</td>\n",
       "    </tr>\n",
       "    <tr>\n",
       "      <th>806.0</th>\n",
       "      <td>2952.31</td>\n",
       "      <td>2453.53</td>\n",
       "      <td>2188.7222</td>\n",
       "      <td>1325.5230</td>\n",
       "      <td>1.1721</td>\n",
       "      <td>105.1700</td>\n",
       "      <td>0.1250</td>\n",
       "      <td>1.4480</td>\n",
       "      <td>-0.0233</td>\n",
       "      <td>0.0087</td>\n",
       "      <td>...</td>\n",
       "      <td>NaN</td>\n",
       "      <td>NaN</td>\n",
       "      <td>0.4949</td>\n",
       "      <td>0.0155</td>\n",
       "      <td>0.0034</td>\n",
       "      <td>3.1238</td>\n",
       "      <td>0.0253</td>\n",
       "      <td>0.0058</td>\n",
       "      <td>0.0018</td>\n",
       "      <td>22.7661</td>\n",
       "    </tr>\n",
       "    <tr>\n",
       "      <th>1101.0</th>\n",
       "      <td>2880.58</td>\n",
       "      <td>2489.76</td>\n",
       "      <td>2256.6000</td>\n",
       "      <td>2365.4787</td>\n",
       "      <td>1.1384</td>\n",
       "      <td>85.4278</td>\n",
       "      <td>0.1205</td>\n",
       "      <td>1.6114</td>\n",
       "      <td>0.0484</td>\n",
       "      <td>0.0043</td>\n",
       "      <td>...</td>\n",
       "      <td>0.0076</td>\n",
       "      <td>50.7949</td>\n",
       "      <td>0.5032</td>\n",
       "      <td>0.0117</td>\n",
       "      <td>0.0029</td>\n",
       "      <td>2.3282</td>\n",
       "      <td>0.0398</td>\n",
       "      <td>0.0202</td>\n",
       "      <td>0.0076</td>\n",
       "      <td>50.7949</td>\n",
       "    </tr>\n",
       "    <tr>\n",
       "      <th>1469.0</th>\n",
       "      <td>2968.78</td>\n",
       "      <td>2451.53</td>\n",
       "      <td>2207.1000</td>\n",
       "      <td>1298.4309</td>\n",
       "      <td>1.0251</td>\n",
       "      <td>96.9478</td>\n",
       "      <td>0.1203</td>\n",
       "      <td>1.3985</td>\n",
       "      <td>-0.0105</td>\n",
       "      <td>-0.0140</td>\n",
       "      <td>...</td>\n",
       "      <td>0.0084</td>\n",
       "      <td>185.3578</td>\n",
       "      <td>0.4972</td>\n",
       "      <td>0.0133</td>\n",
       "      <td>0.0036</td>\n",
       "      <td>2.6718</td>\n",
       "      <td>0.0167</td>\n",
       "      <td>0.0310</td>\n",
       "      <td>0.0084</td>\n",
       "      <td>185.3578</td>\n",
       "    </tr>\n",
       "    <tr>\n",
       "      <th>234.0</th>\n",
       "      <td>2958.39</td>\n",
       "      <td>2478.99</td>\n",
       "      <td>2231.9556</td>\n",
       "      <td>1185.0959</td>\n",
       "      <td>1.0208</td>\n",
       "      <td>102.5344</td>\n",
       "      <td>0.1192</td>\n",
       "      <td>1.4881</td>\n",
       "      <td>-0.0054</td>\n",
       "      <td>-0.0037</td>\n",
       "      <td>...</td>\n",
       "      <td>NaN</td>\n",
       "      <td>NaN</td>\n",
       "      <td>0.5024</td>\n",
       "      <td>0.0151</td>\n",
       "      <td>0.0038</td>\n",
       "      <td>3.0084</td>\n",
       "      <td>-0.0034</td>\n",
       "      <td>0.0093</td>\n",
       "      <td>0.0030</td>\n",
       "      <td>272.3477</td>\n",
       "    </tr>\n",
       "    <tr>\n",
       "      <th>645.0</th>\n",
       "      <td>3072.21</td>\n",
       "      <td>2610.62</td>\n",
       "      <td>2214.9333</td>\n",
       "      <td>1663.7024</td>\n",
       "      <td>1.0203</td>\n",
       "      <td>100.4456</td>\n",
       "      <td>0.1247</td>\n",
       "      <td>1.4403</td>\n",
       "      <td>-0.0169</td>\n",
       "      <td>0.0213</td>\n",
       "      <td>...</td>\n",
       "      <td>0.0034</td>\n",
       "      <td>50.0650</td>\n",
       "      <td>0.5044</td>\n",
       "      <td>0.0139</td>\n",
       "      <td>0.0037</td>\n",
       "      <td>2.7602</td>\n",
       "      <td>0.0211</td>\n",
       "      <td>0.0106</td>\n",
       "      <td>0.0034</td>\n",
       "      <td>50.0650</td>\n",
       "    </tr>\n",
       "  </tbody>\n",
       "</table>\n",
       "<p>1253 rows × 474 columns</p>\n",
       "</div>"
      ],
      "text/plain": [
       "        feature001  feature002  feature003  feature004  feature005  \\\n",
       "ID                                                                   \n",
       "567.0      3023.07     2484.55   2242.8555   1430.7270      0.8832   \n",
       "1261.0     2953.63     2384.04   2191.2111   1437.5003      2.2073   \n",
       "1041.0     3021.61     2440.29   2227.2222   2043.5876      1.1892   \n",
       "1181.0     3093.46     2479.17   2221.3667   2490.6947      1.2667   \n",
       "611.0      3010.40         NaN   2172.4000   1148.4101      1.2614   \n",
       "...            ...         ...         ...         ...         ...   \n",
       "806.0      2952.31     2453.53   2188.7222   1325.5230      1.1721   \n",
       "1101.0     2880.58     2489.76   2256.6000   2365.4787      1.1384   \n",
       "1469.0     2968.78     2451.53   2207.1000   1298.4309      1.0251   \n",
       "234.0      2958.39     2478.99   2231.9556   1185.0959      1.0208   \n",
       "645.0      3072.21     2610.62   2214.9333   1663.7024      1.0203   \n",
       "\n",
       "        feature007  feature008  feature009  feature010  feature011  ...  \\\n",
       "ID                                                                  ...   \n",
       "567.0     106.2100      0.1216      1.5613     -0.0028      0.0008  ...   \n",
       "1261.0     97.6444      0.1235      1.3584     -0.0024     -0.0048  ...   \n",
       "1041.0     95.5267      0.1253      1.5335     -0.0083     -0.0095  ...   \n",
       "1181.0     88.6578      0.1220      1.3537      0.0134     -0.0039  ...   \n",
       "611.0     102.4522      0.1227      1.3843     -0.0010     -0.0004  ...   \n",
       "...            ...         ...         ...         ...         ...  ...   \n",
       "806.0     105.1700      0.1250      1.4480     -0.0233      0.0087  ...   \n",
       "1101.0     85.4278      0.1205      1.6114      0.0484      0.0043  ...   \n",
       "1469.0     96.9478      0.1203      1.3985     -0.0105     -0.0140  ...   \n",
       "234.0     102.5344      0.1192      1.4881     -0.0054     -0.0037  ...   \n",
       "645.0     100.4456      0.1247      1.4403     -0.0169      0.0213  ...   \n",
       "\n",
       "        feature581  feature582  feature583  feature584  feature585  \\\n",
       "ID                                                                   \n",
       "567.0          NaN         NaN      0.4979      0.0165      0.0041   \n",
       "1261.0         NaN         NaN      0.4968      0.0188      0.0041   \n",
       "1041.0         NaN         NaN      0.5091      0.0123      0.0031   \n",
       "1181.0         NaN         NaN      0.5006      0.0148      0.0036   \n",
       "611.0          NaN         NaN      0.5015      0.0137      0.0034   \n",
       "...            ...         ...         ...         ...         ...   \n",
       "806.0          NaN         NaN      0.4949      0.0155      0.0034   \n",
       "1101.0      0.0076     50.7949      0.5032      0.0117      0.0029   \n",
       "1469.0      0.0084    185.3578      0.4972      0.0133      0.0036   \n",
       "234.0          NaN         NaN      0.5024      0.0151      0.0038   \n",
       "645.0       0.0034     50.0650      0.5044      0.0139      0.0037   \n",
       "\n",
       "        feature586  feature587  feature588  feature589  feature590  \n",
       "ID                                                                  \n",
       "567.0       3.3098      0.0184      0.0127      0.0037     68.7057  \n",
       "1261.0      3.7853      0.0137      0.0326      0.0108    237.4625  \n",
       "1041.0      2.4116      0.0437      0.0200      0.0074     45.7019  \n",
       "1181.0      2.9659      0.0190      0.0150      0.0045     78.6525  \n",
       "611.0       2.7339      0.0252      0.0157      0.0046     62.3881  \n",
       "...            ...         ...         ...         ...         ...  \n",
       "806.0       3.1238      0.0253      0.0058      0.0018     22.7661  \n",
       "1101.0      2.3282      0.0398      0.0202      0.0076     50.7949  \n",
       "1469.0      2.6718      0.0167      0.0310      0.0084    185.3578  \n",
       "234.0       3.0084     -0.0034      0.0093      0.0030    272.3477  \n",
       "645.0       2.7602      0.0211      0.0106      0.0034     50.0650  \n",
       "\n",
       "[1253 rows x 474 columns]"
      ]
     },
     "execution_count": 219,
     "metadata": {},
     "output_type": "execute_result"
    }
   ],
   "source": [
    "X_train"
   ]
  },
  {
   "cell_type": "markdown",
   "metadata": {},
   "source": [
    "### 4.3 Outlier Identification"
   ]
  },
  {
   "cell_type": "code",
   "execution_count": 220,
   "metadata": {},
   "outputs": [],
   "source": [
    "# Funtion for Outlier treatment\n",
    "def Outlier(X, outlier_treatment) :\n",
    "    \n",
    "    if outlier_treatment == 'NaN' :\n",
    "        # calculating the z score of the values\n",
    "        z_train= pd.DataFrame(stats.zscore(X,nan_policy='omit'))\n",
    "        z_train\n",
    "\n",
    "        # calculating the number of outliers\n",
    "        print('Number of Outliers : ',sum(z_train.apply(lambda x: sum(x.apply(lambda x: 1 if abs(x)>3 else 0)))))\n",
    "\n",
    "        #Outlier treatment : replacing outliers with NA to impute all NA values\n",
    "        is_outlier = abs(z_train)>3\n",
    "        is_outlier.columns = X.columns\n",
    "        is_outlier.index = X.index\n",
    "        return(X.mask(is_outlier, np.nan))\n",
    "    \n",
    "    elif outlier_treatment == '3s':\n",
    "        boundary = 3\n",
    "        scaler = preprocessing.StandardScaler()\n",
    "        X = pd.DataFrame(scaler.fit_transform(X), columns= X.columns)\n",
    "        X = X.apply(lambda x : [y if y < boundary or np.isnan(y) else boundary for y in x])\n",
    "        X = X.apply(lambda x : [y if y > -1*boundary or np.isnan(y) else -1*boundary for y in x])\n",
    "        \n",
    "        # for inverse transformation\n",
    "        X_inverse = pd.DataFrame(scaler.inverse_transform(X))\n",
    "        X_inverse.columns = X.columns\n",
    "        return(X_inverse)\n",
    "\n",
    "\n"
   ]
  },
  {
   "cell_type": "code",
   "execution_count": 221,
   "metadata": {},
   "outputs": [
    {
     "name": "stdout",
     "output_type": "stream",
     "text": [
      "Number of Outliers :  4993\n"
     ]
    }
   ],
   "source": [
    "# Outlier treatment with NA values\n",
    "X_train = Outlier(X_train, 'NaN')"
   ]
  },
  {
   "cell_type": "code",
   "execution_count": 222,
   "metadata": {},
   "outputs": [],
   "source": [
    "# Outlier treatment with 3s values\r\n",
    "#X_train = Outlier(X_train, '3s')"
   ]
  },
  {
   "cell_type": "markdown",
   "metadata": {},
   "source": [
    "### 4.4 Missing value Imputation"
   ]
  },
  {
   "cell_type": "markdown",
   "metadata": {},
   "source": [
    "#### 4.4.1 Define function for imputation"
   ]
  },
  {
   "cell_type": "code",
   "execution_count": 223,
   "metadata": {},
   "outputs": [],
   "source": [
    "# function for imputing missing values\r\n",
    "def MissingValueImputation(X, Imputer) :\r\n",
    "    \r\n",
    "    if Imputer == 'KNN' :\r\n",
    "        \r\n",
    "        #Scaling\r\n",
    "        scaler = preprocessing.StandardScaler()\r\n",
    "        X = pd.DataFrame(scaler.fit_transform(X), columns = X.columns)\r\n",
    "        \r\n",
    "        #define imputer\r\n",
    "        KNN_imputer = KNNImputer(n_neighbors=10, weights = 'uniform')\r\n",
    "\r\n",
    "        #fit on the dataset\r\n",
    "        X = KNN_imputer.fit_transform(X)\r\n",
    "        \r\n",
    "        #Inverse tranform of scaling\r\n",
    "        X_inverse = pd.DataFrame(scaler.inverse_transform(X))\r\n",
    "        return(X_inverse)\r\n",
    "        \r\n",
    "    elif Imputer == 'MICE' :\r\n",
    "        \r\n",
    "        #define imputer\r\n",
    "        MICE_imputer = IterativeImputer(max_iter=2, sample_posterior=False, random_state=40)\r\n",
    "        \r\n",
    "        #fit dataset\r\n",
    "        return(MICE_imputer.fit_transform(X))"
   ]
  },
  {
   "cell_type": "markdown",
   "metadata": {},
   "source": [
    "#### 4.4.2 KNN"
   ]
  },
  {
   "cell_type": "code",
   "execution_count": 224,
   "metadata": {},
   "outputs": [],
   "source": [
    "# impute using knn\n",
    "X_train_KNN = X_train.copy(deep=True)\n",
    "X_train_KNN.iloc[:,:] = pd.DataFrame(MissingValueImputation(X_train,'KNN'))"
   ]
  },
  {
   "cell_type": "code",
   "execution_count": 225,
   "metadata": {},
   "outputs": [
    {
     "data": {
      "text/plain": [
       "0"
      ]
     },
     "execution_count": 225,
     "metadata": {},
     "output_type": "execute_result"
    }
   ],
   "source": [
    "X_train_KNN.isna().sum().sum()"
   ]
  },
  {
   "cell_type": "markdown",
   "metadata": {},
   "source": [
    "#### 4.4.3 MICE"
   ]
  },
  {
   "cell_type": "code",
   "execution_count": 226,
   "metadata": {},
   "outputs": [
    {
     "name": "stderr",
     "output_type": "stream",
     "text": [
      "C:\\Users\\Behzad\\anaconda3\\envs\\BP1\\lib\\site-packages\\sklearn\\impute\\_iterative.py:685: ConvergenceWarning: [IterativeImputer] Early stopping criterion not reached.\n",
      "  warnings.warn(\"[IterativeImputer] Early stopping criterion not\"\n"
     ]
    }
   ],
   "source": [
    "# impute using mice\r\n",
    "X_train_MICE = X_train.copy(deep=True)\r\n",
    "X_train_MICE.iloc[:,:] = pd.DataFrame(MissingValueImputation(X_train,'MICE'))"
   ]
  },
  {
   "cell_type": "code",
   "execution_count": 227,
   "metadata": {},
   "outputs": [],
   "source": [
    "X_train_MICE.to_csv('X_train_MICE.CSV')\r\n",
    "#X_train_MICE = pd.DataFrame(pd.read_csv(\"X_train_MICE.CSV\"))\r\n",
    "#X_train_MICE = X_train_MICE.set_index('ID')"
   ]
  },
  {
   "cell_type": "code",
   "execution_count": 228,
   "metadata": {},
   "outputs": [
    {
     "data": {
      "text/plain": [
       "0"
      ]
     },
     "execution_count": 228,
     "metadata": {},
     "output_type": "execute_result"
    }
   ],
   "source": [
    "X_train_MICE.isna().sum().sum()"
   ]
  },
  {
   "cell_type": "markdown",
   "metadata": {},
   "source": [
    "#### 4.4.4 Evaluation of imputation"
   ]
  },
  {
   "cell_type": "code",
   "execution_count": 229,
   "metadata": {},
   "outputs": [
    {
     "data": {
      "text/plain": [
       "Text(0.5, 0, 'feature570')"
      ]
     },
     "execution_count": 229,
     "metadata": {},
     "output_type": "execute_result"
    },
    {
     "data": {
      "image/png": "[encoded data removed]",
      "text/plain": [
       "<Figure size 800x800 with 1 Axes>"
      ]
     },
     "metadata": {
      "needs_background": "light"
     },
     "output_type": "display_data"
    }
   ],
   "source": [
    "# Visualization of a variable with most missing values and less than 40% of missing values\r\n",
    "\r\n",
    "X_train['feature570'].plot(kind='kde',c='red',linewidth=3)\r\n",
    "X_train_KNN['feature570'].plot(kind='kde')\r\n",
    "X_train_MICE['feature570'].plot(kind='kde')\r\n",
    "labels = ['Baseline', 'KNN','MICE']\r\n",
    "plt.legend(labels)\r\n",
    "plt.xlabel('feature570')"
   ]
  },
  {
   "cell_type": "code",
   "execution_count": 230,
   "metadata": {},
   "outputs": [
    {
     "name": "stdout",
     "output_type": "stream",
     "text": [
      "86\n"
     ]
    },
    {
     "data": {
      "text/plain": [
       "<matplotlib.legend.Legend at 0x1a42f3cc040>"
      ]
     },
     "execution_count": 230,
     "metadata": {},
     "output_type": "execute_result"
    },
    {
     "data": {
      "image/png": "[encoded data removed]",
      "text/plain": [
       "<Figure size 800x800 with 1 Axes>"
      ]
     },
     "metadata": {
      "needs_background": "light"
     },
     "output_type": "display_data"
    }
   ],
   "source": [
    "# plot the std of the features with more than 3% of missing values before and after imputation with knn and mice\n",
    "feature_missing_sum = pd.DataFrame((X_train.isna()).sum())\n",
    "percentage_missing_filter = 3/100\n",
    "feature_filter = feature_missing_sum[feature_missing_sum[0]>=(len(X_train.loc[:,])*percentage_missing_filter)].index\n",
    "\n",
    "print(len(feature_filter))\n",
    "\n",
    "summary_with_na = X_train[feature_filter].describe(include='all')\n",
    "feature_std_with_na = pd.DataFrame(summary_with_na.loc['std',:])\n",
    "feature_std_sort_with_na = feature_std_with_na.sort_values(by=['std'])\n",
    "\n",
    "summary_knn = X_train_KNN[feature_filter].describe(include='all')\n",
    "feature_std_knn = pd.DataFrame(summary_knn.loc['std',:])\n",
    "feature_std_sort_knn = feature_std_knn.sort_values(by=['std'])\n",
    "\n",
    "summary_mice = X_train_MICE[feature_filter].describe(include='all')\n",
    "feature_std_mice = pd.DataFrame(summary_mice.loc['std',:])\n",
    "feature_std_sort_mice = feature_std_mice.sort_values(by=['std'])\n",
    "\n",
    "feature_std_sort_with_na.iloc[:,0].plot(kind='kde',c='red',linewidth=3)\n",
    "feature_std_sort_knn.iloc[:,0].plot(kind='kde')\n",
    "feature_std_sort_mice.iloc[:,0].plot(kind='kde')\n",
    "labels = ['With Na', 'KNN','MICE']\n",
    "plt.legend(labels)"
   ]
  },
  {
   "cell_type": "markdown",
   "metadata": {},
   "source": [
    "### 4.5 Feature Selection"
   ]
  },
  {
   "cell_type": "markdown",
   "metadata": {},
   "source": [
    "#### 4.5.1 Boruta"
   ]
  },
  {
   "cell_type": "code",
   "execution_count": 231,
   "metadata": {},
   "outputs": [],
   "source": [
    "#Boruta function\r\n",
    "\r\n",
    "def BorutaFeatureSelection (X, y) :\r\n",
    "    feature_names = np.array(X.columns)\r\n",
    "\r\n",
    "    # define random forest classifier\r\n",
    "    model = RandomForestClassifier(n_jobs=-1, class_weight='balanced', max_depth=5)\r\n",
    "    model.fit(X, y)\r\n",
    "    \r\n",
    "    # define Boruta feature selection method\r\n",
    "    feature_selector = BorutaPy(model, n_estimators='auto', verbose=2, random_state=40, max_iter=10)\r\n",
    "\r\n",
    "    # find all relevant features\r\n",
    "    feature_selector.fit(X.to_numpy(),y)\r\n",
    "\r\n",
    "    # check selected features\r\n",
    "    feature_selector.support_\r\n",
    "\r\n",
    "    # check ranking of features\r\n",
    "    feature_selector.ranking_\r\n",
    "\r\n",
    "    # zip feature names, ranks, and decisions \r\n",
    "    feature_ranks = list(zip(feature_names, \r\n",
    "                             feature_selector.ranking_, \r\n",
    "                             feature_selector.support_))\r\n",
    "\r\n",
    "    # print the results\r\n",
    "    for feat in feature_ranks:\r\n",
    "        print('Feature: {:<30} Rank: {},  Keep: {}'.format(feat[0], feat[1], feat[2]))\r\n",
    "        \r\n",
    "    final_features = list()\r\n",
    "    indexes = np.where(feature_selector.support_ == True)\r\n",
    "    for x in np.nditer(indexes):\r\n",
    "        final_features.append(feature_names[x])\r\n",
    "    print(final_features)\r\n",
    "    \r\n",
    "    \r\n",
    "    # call transform() on X to filter it down to selected features\r\n",
    "    return pd.DataFrame(X.filter(final_features)) , final_features\r\n"
   ]
  },
  {
   "cell_type": "code",
   "execution_count": 232,
   "metadata": {
    "scrolled": true,
    "tags": []
   },
   "outputs": [
    {
     "name": "stdout",
     "output_type": "stream",
     "text": [
      "Iteration: \t1 / 10\n",
      "Confirmed: \t0\n",
      "Tentative: \t474\n",
      "Rejected: \t0\n",
      "Iteration: \t2 / 10\n",
      "Confirmed: \t0\n",
      "Tentative: \t474\n",
      "Rejected: \t0\n",
      "Iteration: \t3 / 10\n",
      "Confirmed: \t0\n",
      "Tentative: \t474\n",
      "Rejected: \t0\n",
      "Iteration: \t4 / 10\n",
      "Confirmed: \t0\n",
      "Tentative: \t474\n",
      "Rejected: \t0\n",
      "Iteration: \t5 / 10\n",
      "Confirmed: \t0\n",
      "Tentative: \t474\n",
      "Rejected: \t0\n",
      "Iteration: \t6 / 10\n",
      "Confirmed: \t0\n",
      "Tentative: \t474\n",
      "Rejected: \t0\n",
      "Iteration: \t7 / 10\n",
      "Confirmed: \t0\n",
      "Tentative: \t474\n",
      "Rejected: \t0\n",
      "Iteration: \t8 / 10\n",
      "Confirmed: \t0\n",
      "Tentative: \t40\n",
      "Rejected: \t434\n",
      "Iteration: \t9 / 10\n",
      "Confirmed: \t6\n",
      "Tentative: \t34\n",
      "Rejected: \t434\n",
      "\n",
      "\n",
      "BorutaPy finished running.\n",
      "\n",
      "Iteration: \t10 / 10\n",
      "Confirmed: \t6\n",
      "Tentative: \t16\n",
      "Rejected: \t434\n",
      "Feature: feature001                     Rank: 17,  Keep: False\n",
      "Feature: feature002                     Rank: 364,  Keep: False\n",
      "Feature: feature003                     Rank: 308,  Keep: False\n",
      "Feature: feature004                     Rank: 401,  Keep: False\n",
      "Feature: feature005                     Rank: 200,  Keep: False\n",
      "Feature: feature007                     Rank: 103,  Keep: False\n",
      "Feature: feature008                     Rank: 231,  Keep: False\n",
      "Feature: feature009                     Rank: 104,  Keep: False\n",
      "Feature: feature010                     Rank: 387,  Keep: False\n",
      "Feature: feature011                     Rank: 420,  Keep: False\n",
      "Feature: feature012                     Rank: 102,  Keep: False\n",
      "Feature: feature013                     Rank: 164,  Keep: False\n",
      "Feature: feature015                     Rank: 32,  Keep: False\n",
      "Feature: feature016                     Rank: 124,  Keep: False\n",
      "Feature: feature017                     Rank: 61,  Keep: False\n",
      "Feature: feature018                     Rank: 259,  Keep: False\n",
      "Feature: feature019                     Rank: 187,  Keep: False\n",
      "Feature: feature020                     Rank: 65,  Keep: False\n",
      "Feature: feature021                     Rank: 161,  Keep: False\n",
      "Feature: feature022                     Rank: 159,  Keep: False\n",
      "Feature: feature023                     Rank: 408,  Keep: False\n",
      "Feature: feature024                     Rank: 293,  Keep: False\n",
      "Feature: feature025                     Rank: 410,  Keep: False\n",
      "Feature: feature026                     Rank: 215,  Keep: False\n",
      "Feature: feature027                     Rank: 146,  Keep: False\n",
      "Feature: feature028                     Rank: 386,  Keep: False\n",
      "Feature: feature029                     Rank: 2,  Keep: False\n",
      "Feature: feature030                     Rank: 258,  Keep: False\n",
      "Feature: feature031                     Rank: 245,  Keep: False\n",
      "Feature: feature032                     Rank: 112,  Keep: False\n",
      "Feature: feature033                     Rank: 204,  Keep: False\n",
      "Feature: feature034                     Rank: 3,  Keep: False\n",
      "Feature: feature035                     Rank: 82,  Keep: False\n",
      "Feature: feature036                     Rank: 34,  Keep: False\n",
      "Feature: feature037                     Rank: 67,  Keep: False\n",
      "Feature: feature038                     Rank: 13,  Keep: False\n",
      "Feature: feature039                     Rank: 330,  Keep: False\n",
      "Feature: feature040                     Rank: 157,  Keep: False\n",
      "Feature: feature041                     Rank: 5,  Keep: False\n",
      "Feature: feature042                     Rank: 26,  Keep: False\n",
      "Feature: feature044                     Rank: 191,  Keep: False\n",
      "Feature: feature045                     Rank: 229,  Keep: False\n",
      "Feature: feature046                     Rank: 193,  Keep: False\n",
      "Feature: feature047                     Rank: 253,  Keep: False\n",
      "Feature: feature048                     Rank: 416,  Keep: False\n",
      "Feature: feature049                     Rank: 131,  Keep: False\n",
      "Feature: feature051                     Rank: 291,  Keep: False\n",
      "Feature: feature052                     Rank: 224,  Keep: False\n",
      "Feature: feature054                     Rank: 349,  Keep: False\n",
      "Feature: feature055                     Rank: 344,  Keep: False\n",
      "Feature: feature056                     Rank: 38,  Keep: False\n",
      "Feature: feature057                     Rank: 38,  Keep: False\n",
      "Feature: feature058                     Rank: 430,  Keep: False\n",
      "Feature: feature059                     Rank: 143,  Keep: False\n",
      "Feature: feature060                     Rank: 1,  Keep: True\n",
      "Feature: feature061                     Rank: 382,  Keep: False\n",
      "Feature: feature062                     Rank: 127,  Keep: False\n",
      "Feature: feature063                     Rank: 128,  Keep: False\n",
      "Feature: feature064                     Rank: 164,  Keep: False\n",
      "Feature: feature065                     Rank: 2,  Keep: False\n",
      "Feature: feature066                     Rank: 2,  Keep: False\n",
      "Feature: feature067                     Rank: 393,  Keep: False\n",
      "Feature: feature068                     Rank: 117,  Keep: False\n",
      "Feature: feature069                     Rank: 313,  Keep: False\n",
      "Feature: feature071                     Rank: 294,  Keep: False\n",
      "Feature: feature072                     Rank: 221,  Keep: False\n",
      "Feature: feature073                     Rank: 290,  Keep: False\n",
      "Feature: feature074                     Rank: 306,  Keep: False\n",
      "Feature: feature075                     Rank: 451,  Keep: False\n",
      "Feature: feature076                     Rank: 256,  Keep: False\n",
      "Feature: feature077                     Rank: 19,  Keep: False\n",
      "Feature: feature078                     Rank: 164,  Keep: False\n",
      "Feature: feature079                     Rank: 89,  Keep: False\n",
      "Feature: feature080                     Rank: 33,  Keep: False\n",
      "Feature: feature081                     Rank: 198,  Keep: False\n",
      "Feature: feature082                     Rank: 250,  Keep: False\n",
      "Feature: feature083                     Rank: 247,  Keep: False\n",
      "Feature: feature084                     Rank: 261,  Keep: False\n",
      "Feature: feature085                     Rank: 349,  Keep: False\n",
      "Feature: feature086                     Rank: 133,  Keep: False\n",
      "Feature: feature087                     Rank: 244,  Keep: False\n",
      "Feature: feature088                     Rank: 393,  Keep: False\n",
      "Feature: feature089                     Rank: 319,  Keep: False\n",
      "Feature: feature090                     Rank: 98,  Keep: False\n",
      "Feature: feature091                     Rank: 32,  Keep: False\n",
      "Feature: feature092                     Rank: 13,  Keep: False\n",
      "Feature: feature093                     Rank: 162,  Keep: False\n",
      "Feature: feature094                     Rank: 39,  Keep: False\n",
      "Feature: feature095                     Rank: 412,  Keep: False\n",
      "Feature: feature096                     Rank: 443,  Keep: False\n",
      "Feature: feature097                     Rank: 83,  Keep: False\n",
      "Feature: feature099                     Rank: 215,  Keep: False\n",
      "Feature: feature100                     Rank: 369,  Keep: False\n",
      "Feature: feature101                     Rank: 36,  Keep: False\n",
      "Feature: feature102                     Rank: 436,  Keep: False\n",
      "Feature: feature103                     Rank: 28,  Keep: False\n",
      "Feature: feature104                     Rank: 1,  Keep: True\n",
      "Feature: feature105                     Rank: 361,  Keep: False\n",
      "Feature: feature106                     Rank: 324,  Keep: False\n",
      "Feature: feature107                     Rank: 62,  Keep: False\n",
      "Feature: feature108                     Rank: 268,  Keep: False\n",
      "Feature: feature109                     Rank: 399,  Keep: False\n",
      "Feature: feature110                     Rank: 5,  Keep: False\n",
      "Feature: feature111                     Rank: 212,  Keep: False\n",
      "Feature: feature112                     Rank: 77,  Keep: False\n",
      "Feature: feature113                     Rank: 2,  Keep: False\n",
      "Feature: feature114                     Rank: 281,  Keep: False\n",
      "Feature: feature115                     Rank: 444,  Keep: False\n",
      "Feature: feature116                     Rank: 42,  Keep: False\n",
      "Feature: feature117                     Rank: 296,  Keep: False\n",
      "Feature: feature118                     Rank: 327,  Keep: False\n",
      "Feature: feature119                     Rank: 151,  Keep: False\n",
      "Feature: feature120                     Rank: 179,  Keep: False\n",
      "Feature: feature121                     Rank: 253,  Keep: False\n",
      "Feature: feature122                     Rank: 8,  Keep: False\n",
      "Feature: feature123                     Rank: 15,  Keep: False\n",
      "Feature: feature124                     Rank: 89,  Keep: False\n",
      "Feature: feature125                     Rank: 5,  Keep: False\n",
      "Feature: feature126                     Rank: 2,  Keep: False\n",
      "Feature: feature127                     Rank: 2,  Keep: False\n",
      "Feature: feature128                     Rank: 69,  Keep: False\n",
      "Feature: feature129                     Rank: 51,  Keep: False\n",
      "Feature: feature130                     Rank: 21,  Keep: False\n",
      "Feature: feature131                     Rank: 2,  Keep: False\n",
      "Feature: feature132                     Rank: 138,  Keep: False\n",
      "Feature: feature133                     Rank: 125,  Keep: False\n",
      "Feature: feature134                     Rank: 118,  Keep: False\n",
      "Feature: feature135                     Rank: 157,  Keep: False\n",
      "Feature: feature136                     Rank: 106,  Keep: False\n",
      "Feature: feature137                     Rank: 352,  Keep: False\n",
      "Feature: feature138                     Rank: 75,  Keep: False\n",
      "Feature: feature139                     Rank: 381,  Keep: False\n",
      "Feature: feature140                     Rank: 289,  Keep: False\n",
      "Feature: feature141                     Rank: 316,  Keep: False\n",
      "Feature: feature143                     Rank: 435,  Keep: False\n",
      "Feature: feature144                     Rank: 425,  Keep: False\n",
      "Feature: feature145                     Rank: 194,  Keep: False\n",
      "Feature: feature146                     Rank: 360,  Keep: False\n",
      "Feature: feature147                     Rank: 345,  Keep: False\n",
      "Feature: feature148                     Rank: 48,  Keep: False\n",
      "Feature: feature149                     Rank: 171,  Keep: False\n",
      "Feature: feature151                     Rank: 267,  Keep: False\n",
      "Feature: feature152                     Rank: 428,  Keep: False\n",
      "Feature: feature153                     Rank: 8,  Keep: False\n",
      "Feature: feature154                     Rank: 53,  Keep: False\n",
      "Feature: feature155                     Rank: 251,  Keep: False\n",
      "Feature: feature156                     Rank: 138,  Keep: False\n",
      "Feature: feature157                     Rank: 105,  Keep: False\n",
      "Feature: feature158                     Rank: 225,  Keep: False\n",
      "Feature: feature159                     Rank: 302,  Keep: False\n",
      "Feature: feature160                     Rank: 110,  Keep: False\n",
      "Feature: feature161                     Rank: 2,  Keep: False\n",
      "Feature: feature162                     Rank: 310,  Keep: False\n",
      "Feature: feature163                     Rank: 378,  Keep: False\n",
      "Feature: feature164                     Rank: 41,  Keep: False\n",
      "Feature: feature165                     Rank: 115,  Keep: False\n",
      "Feature: feature166                     Rank: 192,  Keep: False\n",
      "Feature: feature167                     Rank: 417,  Keep: False\n",
      "Feature: feature168                     Rank: 424,  Keep: False\n",
      "Feature: feature169                     Rank: 323,  Keep: False\n",
      "Feature: feature170                     Rank: 400,  Keep: False\n",
      "Feature: feature171                     Rank: 190,  Keep: False\n",
      "Feature: feature172                     Rank: 270,  Keep: False\n",
      "Feature: feature173                     Rank: 93,  Keep: False\n",
      "Feature: feature174                     Rank: 139,  Keep: False\n",
      "Feature: feature175                     Rank: 116,  Keep: False\n",
      "Feature: feature176                     Rank: 96,  Keep: False\n",
      "Feature: feature177                     Rank: 74,  Keep: False\n",
      "Feature: feature178                     Rank: 238,  Keep: False\n",
      "Feature: feature181                     Rank: 81,  Keep: False\n",
      "Feature: feature182                     Rank: 159,  Keep: False\n",
      "Feature: feature183                     Rank: 9,  Keep: False\n",
      "Feature: feature184                     Rank: 186,  Keep: False\n",
      "Feature: feature185                     Rank: 217,  Keep: False\n",
      "Feature: feature186                     Rank: 422,  Keep: False\n",
      "Feature: feature188                     Rank: 332,  Keep: False\n",
      "Feature: feature189                     Rank: 57,  Keep: False\n",
      "Feature: feature196                     Rank: 142,  Keep: False\n",
      "Feature: feature197                     Rank: 355,  Keep: False\n",
      "Feature: feature198                     Rank: 189,  Keep: False\n",
      "Feature: feature199                     Rank: 347,  Keep: False\n",
      "Feature: feature200                     Rank: 304,  Keep: False\n",
      "Feature: feature201                     Rank: 29,  Keep: False\n",
      "Feature: feature202                     Rank: 390,  Keep: False\n",
      "Feature: feature203                     Rank: 181,  Keep: False\n",
      "Feature: feature204                     Rank: 363,  Keep: False\n",
      "Feature: feature205                     Rank: 363,  Keep: False\n",
      "Feature: feature206                     Rank: 13,  Keep: False\n",
      "Feature: feature207                     Rank: 451,  Keep: False\n",
      "Feature: feature208                     Rank: 121,  Keep: False\n",
      "Feature: feature209                     Rank: 432,  Keep: False\n",
      "Feature: feature210                     Rank: 451,  Keep: False\n",
      "Feature: feature211                     Rank: 27,  Keep: False\n",
      "Feature: feature212                     Rank: 141,  Keep: False\n",
      "Feature: feature213                     Rank: 236,  Keep: False\n",
      "Feature: feature214                     Rank: 48,  Keep: False\n",
      "Feature: feature215                     Rank: 406,  Keep: False\n",
      "Feature: feature216                     Rank: 279,  Keep: False\n",
      "Feature: feature217                     Rank: 182,  Keep: False\n",
      "Feature: feature218                     Rank: 144,  Keep: False\n",
      "Feature: feature219                     Rank: 176,  Keep: False\n",
      "Feature: feature220                     Rank: 154,  Keep: False\n",
      "Feature: feature221                     Rank: 2,  Keep: False\n",
      "Feature: feature222                     Rank: 407,  Keep: False\n",
      "Feature: feature223                     Rank: 223,  Keep: False\n",
      "Feature: feature224                     Rank: 233,  Keep: False\n",
      "Feature: feature225                     Rank: 244,  Keep: False\n",
      "Feature: feature226                     Rank: 250,  Keep: False\n",
      "Feature: feature228                     Rank: 266,  Keep: False\n",
      "Feature: feature229                     Rank: 333,  Keep: False\n",
      "Feature: feature239                     Rank: 423,  Keep: False\n",
      "Feature: feature240                     Rank: 391,  Keep: False\n",
      "Feature: feature245                     Rank: 2,  Keep: False\n",
      "Feature: feature246                     Rank: 57,  Keep: False\n",
      "Feature: feature247                     Rank: 1,  Keep: True\n",
      "Feature: feature248                     Rank: 2,  Keep: False\n",
      "Feature: feature249                     Rank: 296,  Keep: False\n",
      "Feature: feature250                     Rank: 447,  Keep: False\n",
      "Feature: feature251                     Rank: 399,  Keep: False\n",
      "Feature: feature252                     Rank: 261,  Keep: False\n",
      "Feature: feature253                     Rank: 338,  Keep: False\n",
      "Feature: feature254                     Rank: 355,  Keep: False\n",
      "Feature: feature255                     Rank: 314,  Keep: False\n",
      "Feature: feature256                     Rank: 395,  Keep: False\n",
      "Feature: feature268                     Rank: 285,  Keep: False\n",
      "Feature: feature269                     Rank: 287,  Keep: False\n",
      "Feature: feature270                     Rank: 278,  Keep: False\n",
      "Feature: feature271                     Rank: 59,  Keep: False\n",
      "Feature: feature272                     Rank: 334,  Keep: False\n",
      "Feature: feature273                     Rank: 123,  Keep: False\n",
      "Feature: feature274                     Rank: 285,  Keep: False\n",
      "Feature: feature275                     Rank: 201,  Keep: False\n",
      "Feature: feature276                     Rank: 405,  Keep: False\n",
      "Feature: feature278                     Rank: 418,  Keep: False\n",
      "Feature: feature279                     Rank: 439,  Keep: False\n",
      "Feature: feature280                     Rank: 226,  Keep: False\n",
      "Feature: feature281                     Rank: 434,  Keep: False\n",
      "Feature: feature282                     Rank: 222,  Keep: False\n",
      "Feature: feature283                     Rank: 78,  Keep: False\n",
      "Feature: feature284                     Rank: 175,  Keep: False\n",
      "Feature: feature286                     Rank: 210,  Keep: False\n",
      "Feature: feature287                     Rank: 275,  Keep: False\n",
      "Feature: feature288                     Rank: 3,  Keep: False\n",
      "Feature: feature289                     Rank: 71,  Keep: False\n",
      "Feature: feature290                     Rank: 209,  Keep: False\n",
      "Feature: feature291                     Rank: 11,  Keep: False\n",
      "Feature: feature292                     Rank: 73,  Keep: False\n",
      "Feature: feature293                     Rank: 184,  Keep: False\n",
      "Feature: feature294                     Rank: 219,  Keep: False\n",
      "Feature: feature295                     Rank: 120,  Keep: False\n",
      "Feature: feature296                     Rank: 2,  Keep: False\n",
      "Feature: feature297                     Rank: 357,  Keep: False\n",
      "Feature: feature298                     Rank: 351,  Keep: False\n",
      "Feature: feature299                     Rank: 36,  Keep: False\n",
      "Feature: feature300                     Rank: 97,  Keep: False\n",
      "Feature: feature301                     Rank: 299,  Keep: False\n",
      "Feature: feature302                     Rank: 331,  Keep: False\n",
      "Feature: feature303                     Rank: 299,  Keep: False\n",
      "Feature: feature304                     Rank: 376,  Keep: False\n",
      "Feature: feature305                     Rank: 388,  Keep: False\n",
      "Feature: feature306                     Rank: 367,  Keep: False\n",
      "Feature: feature307                     Rank: 229,  Keep: False\n",
      "Feature: feature308                     Rank: 248,  Keep: False\n",
      "Feature: feature309                     Rank: 200,  Keep: False\n",
      "Feature: feature310                     Rank: 184,  Keep: False\n",
      "Feature: feature311                     Rank: 168,  Keep: False\n",
      "Feature: feature312                     Rank: 79,  Keep: False\n",
      "Feature: feature313                     Rank: 275,  Keep: False\n",
      "Feature: feature317                     Rank: 25,  Keep: False\n",
      "Feature: feature318                     Rank: 154,  Keep: False\n",
      "Feature: feature319                     Rank: 81,  Keep: False\n",
      "Feature: feature320                     Rank: 84,  Keep: False\n",
      "Feature: feature321                     Rank: 375,  Keep: False\n",
      "Feature: feature322                     Rank: 337,  Keep: False\n",
      "Feature: feature324                     Rank: 168,  Keep: False\n",
      "Feature: feature325                     Rank: 101,  Keep: False\n",
      "Feature: feature332                     Rank: 51,  Keep: False\n",
      "Feature: feature333                     Rank: 390,  Keep: False\n",
      "Feature: feature334                     Rank: 135,  Keep: False\n",
      "Feature: feature335                     Rank: 277,  Keep: False\n",
      "Feature: feature336                     Rank: 383,  Keep: False\n",
      "Feature: feature337                     Rank: 147,  Keep: False\n",
      "Feature: feature338                     Rank: 373,  Keep: False\n",
      "Feature: feature339                     Rank: 302,  Keep: False\n",
      "Feature: feature340                     Rank: 281,  Keep: False\n",
      "Feature: feature341                     Rank: 349,  Keep: False\n",
      "Feature: feature342                     Rank: 22,  Keep: False\n",
      "Feature: feature343                     Rank: 451,  Keep: False\n",
      "Feature: feature344                     Rank: 109,  Keep: False\n",
      "Feature: feature345                     Rank: 371,  Keep: False\n",
      "Feature: feature346                     Rank: 154,  Keep: False\n",
      "Feature: feature347                     Rank: 174,  Keep: False\n",
      "Feature: feature348                     Rank: 451,  Keep: False\n",
      "Feature: feature349                     Rank: 20,  Keep: False\n",
      "Feature: feature350                     Rank: 195,  Keep: False\n",
      "Feature: feature351                     Rank: 255,  Keep: False\n",
      "Feature: feature352                     Rank: 68,  Keep: False\n",
      "Feature: feature353                     Rank: 197,  Keep: False\n",
      "Feature: feature354                     Rank: 263,  Keep: False\n",
      "Feature: feature355                     Rank: 87,  Keep: False\n",
      "Feature: feature356                     Rank: 129,  Keep: False\n",
      "Feature: feature357                     Rank: 212,  Keep: False\n",
      "Feature: feature358                     Rank: 337,  Keep: False\n",
      "Feature: feature359                     Rank: 2,  Keep: False\n",
      "Feature: feature360                     Rank: 368,  Keep: False\n",
      "Feature: feature361                     Rank: 358,  Keep: False\n",
      "Feature: feature362                     Rank: 240,  Keep: False\n",
      "Feature: feature363                     Rank: 319,  Keep: False\n",
      "Feature: feature364                     Rank: 339,  Keep: False\n",
      "Feature: feature366                     Rank: 247,  Keep: False\n",
      "Feature: feature367                     Rank: 410,  Keep: False\n",
      "Feature: feature368                     Rank: 420,  Keep: False\n",
      "Feature: feature369                     Rank: 397,  Keep: False\n",
      "Feature: feature377                     Rank: 426,  Keep: False\n",
      "Feature: feature378                     Rank: 63,  Keep: False\n",
      "Feature: feature383                     Rank: 321,  Keep: False\n",
      "Feature: feature384                     Rank: 24,  Keep: False\n",
      "Feature: feature385                     Rank: 150,  Keep: False\n",
      "Feature: feature386                     Rank: 71,  Keep: False\n",
      "Feature: feature387                     Rank: 258,  Keep: False\n",
      "Feature: feature388                     Rank: 446,  Keep: False\n",
      "Feature: feature389                     Rank: 335,  Keep: False\n",
      "Feature: feature390                     Rank: 442,  Keep: False\n",
      "Feature: feature391                     Rank: 126,  Keep: False\n",
      "Feature: feature392                     Rank: 107,  Keep: False\n",
      "Feature: feature393                     Rank: 440,  Keep: False\n",
      "Feature: feature394                     Rank: 342,  Keep: False\n",
      "Feature: feature406                     Rank: 178,  Keep: False\n",
      "Feature: feature407                     Rank: 272,  Keep: False\n",
      "Feature: feature408                     Rank: 263,  Keep: False\n",
      "Feature: feature409                     Rank: 49,  Keep: False\n",
      "Feature: feature410                     Rank: 395,  Keep: False\n",
      "Feature: feature411                     Rank: 114,  Keep: False\n",
      "Feature: feature412                     Rank: 266,  Keep: False\n",
      "Feature: feature413                     Rank: 227,  Keep: False\n",
      "Feature: feature414                     Rank: 403,  Keep: False\n",
      "Feature: feature416                     Rank: 421,  Keep: False\n",
      "Feature: feature417                     Rank: 237,  Keep: False\n",
      "Feature: feature418                     Rank: 94,  Keep: False\n",
      "Feature: feature419                     Rank: 404,  Keep: False\n",
      "Feature: feature420                     Rank: 441,  Keep: False\n",
      "Feature: feature421                     Rank: 54,  Keep: False\n",
      "Feature: feature422                     Rank: 159,  Keep: False\n",
      "Feature: feature424                     Rank: 132,  Keep: False\n",
      "Feature: feature425                     Rank: 367,  Keep: False\n",
      "Feature: feature426                     Rank: 10,  Keep: False\n",
      "Feature: feature427                     Rank: 65,  Keep: False\n",
      "Feature: feature428                     Rank: 287,  Keep: False\n",
      "Feature: feature429                     Rank: 96,  Keep: False\n",
      "Feature: feature430                     Rank: 86,  Keep: False\n",
      "Feature: feature431                     Rank: 100,  Keep: False\n",
      "Feature: feature432                     Rank: 2,  Keep: False\n",
      "Feature: feature433                     Rank: 402,  Keep: False\n",
      "Feature: feature434                     Rank: 360,  Keep: False\n",
      "Feature: feature435                     Rank: 271,  Keep: False\n",
      "Feature: feature436                     Rank: 111,  Keep: False\n",
      "Feature: feature437                     Rank: 122,  Keep: False\n",
      "Feature: feature438                     Rank: 347,  Keep: False\n",
      "Feature: feature439                     Rank: 302,  Keep: False\n",
      "Feature: feature440                     Rank: 329,  Keep: False\n",
      "Feature: feature441                     Rank: 427,  Keep: False\n",
      "Feature: feature442                     Rank: 188,  Keep: False\n",
      "Feature: feature443                     Rank: 276,  Keep: False\n",
      "Feature: feature444                     Rank: 55,  Keep: False\n",
      "Feature: feature445                     Rank: 212,  Keep: False\n",
      "Feature: feature446                     Rank: 92,  Keep: False\n",
      "Feature: feature447                     Rank: 91,  Keep: False\n",
      "Feature: feature448                     Rank: 57,  Keep: False\n",
      "Feature: feature449                     Rank: 378,  Keep: False\n",
      "Feature: feature453                     Rank: 46,  Keep: False\n",
      "Feature: feature454                     Rank: 180,  Keep: False\n",
      "Feature: feature455                     Rank: 44,  Keep: False\n",
      "Feature: feature456                     Rank: 185,  Keep: False\n",
      "Feature: feature457                     Rank: 208,  Keep: False\n",
      "Feature: feature458                     Rank: 438,  Keep: False\n",
      "Feature: feature460                     Rank: 232,  Keep: False\n",
      "Feature: feature461                     Rank: 1,  Keep: True\n",
      "Feature: feature468                     Rank: 99,  Keep: False\n",
      "Feature: feature469                     Rank: 40,  Keep: False\n",
      "Feature: feature470                     Rank: 235,  Keep: False\n",
      "Feature: feature471                     Rank: 380,  Keep: False\n",
      "Feature: feature472                     Rank: 415,  Keep: False\n",
      "Feature: feature473                     Rank: 414,  Keep: False\n",
      "Feature: feature474                     Rank: 146,  Keep: False\n",
      "Feature: feature475                     Rank: 372,  Keep: False\n",
      "Feature: feature476                     Rank: 308,  Keep: False\n",
      "Feature: feature477                     Rank: 322,  Keep: False\n",
      "Feature: feature478                     Rank: 17,  Keep: False\n",
      "Feature: feature479                     Rank: 451,  Keep: False\n",
      "Feature: feature480                     Rank: 207,  Keep: False\n",
      "Feature: feature481                     Rank: 437,  Keep: False\n",
      "Feature: feature483                     Rank: 431,  Keep: False\n",
      "Feature: feature484                     Rank: 356,  Keep: False\n",
      "Feature: feature485                     Rank: 316,  Keep: False\n",
      "Feature: feature486                     Rank: 154,  Keep: False\n",
      "Feature: feature487                     Rank: 317,  Keep: False\n",
      "Feature: feature488                     Rank: 203,  Keep: False\n",
      "Feature: feature489                     Rank: 120,  Keep: False\n",
      "Feature: feature490                     Rank: 108,  Keep: False\n",
      "Feature: feature491                     Rank: 270,  Keep: False\n",
      "Feature: feature492                     Rank: 273,  Keep: False\n",
      "Feature: feature493                     Rank: 326,  Keep: False\n",
      "Feature: feature494                     Rank: 411,  Keep: False\n",
      "Feature: feature495                     Rank: 172,  Keep: False\n",
      "Feature: feature496                     Rank: 283,  Keep: False\n",
      "Feature: feature497                     Rank: 242,  Keep: False\n",
      "Feature: feature498                     Rank: 319,  Keep: False\n",
      "Feature: feature500                     Rank: 430,  Keep: False\n",
      "Feature: feature501                     Rank: 173,  Keep: False\n",
      "Feature: feature511                     Rank: 2,  Keep: False\n",
      "Feature: feature512                     Rank: 288,  Keep: False\n",
      "Feature: feature517                     Rank: 86,  Keep: False\n",
      "Feature: feature518                     Rank: 1,  Keep: True\n",
      "Feature: feature519                     Rank: 1,  Keep: True\n",
      "Feature: feature520                     Rank: 2,  Keep: False\n",
      "Feature: feature521                     Rank: 325,  Keep: False\n",
      "Feature: feature522                     Rank: 445,  Keep: False\n",
      "Feature: feature523                     Rank: 384,  Keep: False\n",
      "Feature: feature524                     Rank: 235,  Keep: False\n",
      "Feature: feature525                     Rank: 374,  Keep: False\n",
      "Feature: feature526                     Rank: 311,  Keep: False\n",
      "Feature: feature527                     Rank: 297,  Keep: False\n",
      "Feature: feature528                     Rank: 379,  Keep: False\n",
      "Feature: feature540                     Rank: 353,  Keep: False\n",
      "Feature: feature541                     Rank: 396,  Keep: False\n",
      "Feature: feature542                     Rank: 135,  Keep: False\n",
      "Feature: feature543                     Rank: 170,  Keep: False\n",
      "Feature: feature544                     Rank: 66,  Keep: False\n",
      "Feature: feature545                     Rank: 433,  Keep: False\n",
      "Feature: feature546                     Rank: 60,  Keep: False\n",
      "Feature: feature547                     Rank: 282,  Keep: False\n",
      "Feature: feature548                     Rank: 141,  Keep: False\n",
      "Feature: feature549                     Rank: 205,  Keep: False\n",
      "Feature: feature550                     Rank: 343,  Keep: False\n",
      "Feature: feature551                     Rank: 310,  Keep: False\n",
      "Feature: feature552                     Rank: 76,  Keep: False\n",
      "Feature: feature553                     Rank: 241,  Keep: False\n",
      "Feature: feature554                     Rank: 239,  Keep: False\n",
      "Feature: feature555                     Rank: 131,  Keep: False\n",
      "Feature: feature556                     Rank: 370,  Keep: False\n",
      "Feature: feature557                     Rank: 148,  Keep: False\n",
      "Feature: feature558                     Rank: 136,  Keep: False\n",
      "Feature: feature559                     Rank: 203,  Keep: False\n",
      "Feature: feature560                     Rank: 168,  Keep: False\n",
      "Feature: feature561                     Rank: 255,  Keep: False\n",
      "Feature: feature562                     Rank: 216,  Keep: False\n",
      "Feature: feature563                     Rank: 30,  Keep: False\n",
      "Feature: feature564                     Rank: 73,  Keep: False\n",
      "Feature: feature565                     Rank: 340,  Keep: False\n",
      "Feature: feature566                     Rank: 300,  Keep: False\n",
      "Feature: feature567                     Rank: 385,  Keep: False\n",
      "Feature: feature568                     Rank: 178,  Keep: False\n",
      "Feature: feature569                     Rank: 365,  Keep: False\n",
      "Feature: feature570                     Rank: 43,  Keep: False\n",
      "Feature: feature571                     Rank: 312,  Keep: False\n",
      "Feature: feature572                     Rank: 149,  Keep: False\n",
      "Feature: feature573                     Rank: 219,  Keep: False\n",
      "Feature: feature574                     Rank: 52,  Keep: False\n",
      "Feature: feature575                     Rank: 230,  Keep: False\n",
      "Feature: feature576                     Rank: 91,  Keep: False\n",
      "Feature: feature577                     Rank: 329,  Keep: False\n",
      "Feature: feature578                     Rank: 292,  Keep: False\n",
      "Feature: feature579                     Rank: 264,  Keep: False\n",
      "Feature: feature580                     Rank: 23,  Keep: False\n",
      "Feature: feature581                     Rank: 341,  Keep: False\n",
      "Feature: feature582                     Rank: 414,  Keep: False\n",
      "Feature: feature583                     Rank: 45,  Keep: False\n",
      "Feature: feature584                     Rank: 168,  Keep: False\n",
      "Feature: feature585                     Rank: 221,  Keep: False\n",
      "Feature: feature586                     Rank: 196,  Keep: False\n",
      "Feature: feature587                     Rank: 206,  Keep: False\n",
      "Feature: feature588                     Rank: 17,  Keep: False\n",
      "Feature: feature589                     Rank: 114,  Keep: False\n",
      "Feature: feature590                     Rank: 306,  Keep: False\n",
      "['feature060', 'feature104', 'feature247', 'feature461', 'feature518', 'feature519']\n"
     ]
    }
   ],
   "source": [
    "# apply Boruta and store selected features in the variable\r\n",
    "X_train_MICE_B , final_features_MICE = BorutaFeatureSelection(X_train_MICE,y_train)"
   ]
  },
  {
   "cell_type": "code",
   "execution_count": 233,
   "metadata": {},
   "outputs": [
    {
     "name": "stdout",
     "output_type": "stream",
     "text": [
      "Iteration: \t1 / 10\n",
      "Confirmed: \t0\n",
      "Tentative: \t474\n",
      "Rejected: \t0\n",
      "Iteration: \t2 / 10\n",
      "Confirmed: \t0\n",
      "Tentative: \t474\n",
      "Rejected: \t0\n",
      "Iteration: \t3 / 10\n",
      "Confirmed: \t0\n",
      "Tentative: \t474\n",
      "Rejected: \t0\n",
      "Iteration: \t4 / 10\n",
      "Confirmed: \t0\n",
      "Tentative: \t474\n",
      "Rejected: \t0\n",
      "Iteration: \t5 / 10\n",
      "Confirmed: \t0\n",
      "Tentative: \t474\n",
      "Rejected: \t0\n",
      "Iteration: \t6 / 10\n",
      "Confirmed: \t0\n",
      "Tentative: \t474\n",
      "Rejected: \t0\n",
      "Iteration: \t7 / 10\n",
      "Confirmed: \t0\n",
      "Tentative: \t474\n",
      "Rejected: \t0\n",
      "Iteration: \t8 / 10\n",
      "Confirmed: \t0\n",
      "Tentative: \t37\n",
      "Rejected: \t437\n",
      "Iteration: \t9 / 10\n",
      "Confirmed: \t0\n",
      "Tentative: \t37\n",
      "Rejected: \t437\n",
      "\n",
      "\n",
      "BorutaPy finished running.\n",
      "\n",
      "Iteration: \t10 / 10\n",
      "Confirmed: \t0\n",
      "Tentative: \t9\n",
      "Rejected: \t437\n",
      "Feature: feature001                     Rank: 20,  Keep: False\n",
      "Feature: feature002                     Rank: 404,  Keep: False\n",
      "Feature: feature003                     Rank: 347,  Keep: False\n",
      "Feature: feature004                     Rank: 276,  Keep: False\n",
      "Feature: feature005                     Rank: 267,  Keep: False\n",
      "Feature: feature007                     Rank: 69,  Keep: False\n",
      "Feature: feature008                     Rank: 218,  Keep: False\n",
      "Feature: feature009                     Rank: 112,  Keep: False\n",
      "Feature: feature010                     Rank: 245,  Keep: False\n",
      "Feature: feature011                     Rank: 349,  Keep: False\n",
      "Feature: feature012                     Rank: 144,  Keep: False\n",
      "Feature: feature013                     Rank: 116,  Keep: False\n",
      "Feature: feature015                     Rank: 40,  Keep: False\n",
      "Feature: feature016                     Rank: 138,  Keep: False\n",
      "Feature: feature017                     Rank: 65,  Keep: False\n",
      "Feature: feature018                     Rank: 321,  Keep: False\n",
      "Feature: feature019                     Rank: 233,  Keep: False\n",
      "Feature: feature020                     Rank: 60,  Keep: False\n",
      "Feature: feature021                     Rank: 104,  Keep: False\n",
      "Feature: feature022                     Rank: 188,  Keep: False\n",
      "Feature: feature023                     Rank: 381,  Keep: False\n",
      "Feature: feature024                     Rank: 161,  Keep: False\n",
      "Feature: feature025                     Rank: 407,  Keep: False\n",
      "Feature: feature026                     Rank: 184,  Keep: False\n",
      "Feature: feature027                     Rank: 182,  Keep: False\n",
      "Feature: feature028                     Rank: 278,  Keep: False\n",
      "Feature: feature029                     Rank: 3,  Keep: False\n",
      "Feature: feature030                     Rank: 223,  Keep: False\n",
      "Feature: feature031                     Rank: 293,  Keep: False\n",
      "Feature: feature032                     Rank: 118,  Keep: False\n",
      "Feature: feature033                     Rank: 165,  Keep: False\n",
      "Feature: feature034                     Rank: 5,  Keep: False\n",
      "Feature: feature035                     Rank: 56,  Keep: False\n",
      "Feature: feature036                     Rank: 24,  Keep: False\n",
      "Feature: feature037                     Rank: 72,  Keep: False\n",
      "Feature: feature038                     Rank: 34,  Keep: False\n",
      "Feature: feature039                     Rank: 382,  Keep: False\n",
      "Feature: feature040                     Rank: 236,  Keep: False\n",
      "Feature: feature041                     Rank: 10,  Keep: False\n",
      "Feature: feature042                     Rank: 43,  Keep: False\n",
      "Feature: feature044                     Rank: 321,  Keep: False\n",
      "Feature: feature045                     Rank: 216,  Keep: False\n",
      "Feature: feature046                     Rank: 149,  Keep: False\n",
      "Feature: feature047                     Rank: 367,  Keep: False\n",
      "Feature: feature048                     Rank: 420,  Keep: False\n",
      "Feature: feature049                     Rank: 88,  Keep: False\n",
      "Feature: feature051                     Rank: 425,  Keep: False\n",
      "Feature: feature052                     Rank: 243,  Keep: False\n",
      "Feature: feature054                     Rank: 439,  Keep: False\n",
      "Feature: feature055                     Rank: 324,  Keep: False\n",
      "Feature: feature056                     Rank: 66,  Keep: False\n",
      "Feature: feature057                     Rank: 39,  Keep: False\n",
      "Feature: feature058                     Rank: 388,  Keep: False\n",
      "Feature: feature059                     Rank: 170,  Keep: False\n",
      "Feature: feature060                     Rank: 2,  Keep: False\n",
      "Feature: feature061                     Rank: 436,  Keep: False\n",
      "Feature: feature062                     Rank: 147,  Keep: False\n",
      "Feature: feature063                     Rank: 135,  Keep: False\n",
      "Feature: feature064                     Rank: 121,  Keep: False\n",
      "Feature: feature065                     Rank: 17,  Keep: False\n",
      "Feature: feature066                     Rank: 2,  Keep: False\n",
      "Feature: feature067                     Rank: 359,  Keep: False\n",
      "Feature: feature068                     Rank: 174,  Keep: False\n",
      "Feature: feature069                     Rank: 260,  Keep: False\n",
      "Feature: feature071                     Rank: 269,  Keep: False\n",
      "Feature: feature072                     Rank: 193,  Keep: False\n",
      "Feature: feature073                     Rank: 313,  Keep: False\n",
      "Feature: feature074                     Rank: 297,  Keep: False\n",
      "Feature: feature075                     Rank: 463,  Keep: False\n",
      "Feature: feature076                     Rank: 305,  Keep: False\n",
      "Feature: feature077                     Rank: 27,  Keep: False\n",
      "Feature: feature078                     Rank: 311,  Keep: False\n",
      "Feature: feature079                     Rank: 108,  Keep: False\n",
      "Feature: feature080                     Rank: 36,  Keep: False\n",
      "Feature: feature081                     Rank: 227,  Keep: False\n",
      "Feature: feature082                     Rank: 295,  Keep: False\n",
      "Feature: feature083                     Rank: 272,  Keep: False\n",
      "Feature: feature084                     Rank: 317,  Keep: False\n",
      "Feature: feature085                     Rank: 342,  Keep: False\n",
      "Feature: feature086                     Rank: 289,  Keep: False\n",
      "Feature: feature087                     Rank: 307,  Keep: False\n",
      "Feature: feature088                     Rank: 374,  Keep: False\n",
      "Feature: feature089                     Rank: 353,  Keep: False\n",
      "Feature: feature090                     Rank: 119,  Keep: False\n",
      "Feature: feature091                     Rank: 54,  Keep: False\n",
      "Feature: feature092                     Rank: 25,  Keep: False\n",
      "Feature: feature093                     Rank: 143,  Keep: False\n",
      "Feature: feature094                     Rank: 48,  Keep: False\n",
      "Feature: feature095                     Rank: 456,  Keep: False\n",
      "Feature: feature096                     Rank: 455,  Keep: False\n",
      "Feature: feature097                     Rank: 110,  Keep: False\n",
      "Feature: feature099                     Rank: 239,  Keep: False\n",
      "Feature: feature100                     Rank: 401,  Keep: False\n",
      "Feature: feature101                     Rank: 107,  Keep: False\n",
      "Feature: feature102                     Rank: 423,  Keep: False\n",
      "Feature: feature103                     Rank: 18,  Keep: False\n",
      "Feature: feature104                     Rank: 2,  Keep: False\n",
      "Feature: feature105                     Rank: 413,  Keep: False\n",
      "Feature: feature106                     Rank: 160,  Keep: False\n",
      "Feature: feature107                     Rank: 30,  Keep: False\n",
      "Feature: feature108                     Rank: 215,  Keep: False\n",
      "Feature: feature109                     Rank: 396,  Keep: False\n",
      "Feature: feature110                     Rank: 247,  Keep: False\n",
      "Feature: feature111                     Rank: 342,  Keep: False\n",
      "Feature: feature112                     Rank: 90,  Keep: False\n",
      "Feature: feature113                     Rank: 5,  Keep: False\n",
      "Feature: feature114                     Rank: 284,  Keep: False\n",
      "Feature: feature115                     Rank: 458,  Keep: False\n",
      "Feature: feature116                     Rank: 31,  Keep: False\n",
      "Feature: feature117                     Rank: 392,  Keep: False\n",
      "Feature: feature118                     Rank: 302,  Keep: False\n",
      "Feature: feature119                     Rank: 133,  Keep: False\n",
      "Feature: feature120                     Rank: 227,  Keep: False\n",
      "Feature: feature121                     Rank: 252,  Keep: False\n",
      "Feature: feature122                     Rank: 11,  Keep: False\n",
      "Feature: feature123                     Rank: 14,  Keep: False\n",
      "Feature: feature124                     Rank: 65,  Keep: False\n",
      "Feature: feature125                     Rank: 5,  Keep: False\n",
      "Feature: feature126                     Rank: 2,  Keep: False\n",
      "Feature: feature127                     Rank: 3,  Keep: False\n",
      "Feature: feature128                     Rank: 41,  Keep: False\n",
      "Feature: feature129                     Rank: 57,  Keep: False\n",
      "Feature: feature130                     Rank: 23,  Keep: False\n",
      "Feature: feature131                     Rank: 2,  Keep: False\n",
      "Feature: feature132                     Rank: 140,  Keep: False\n",
      "Feature: feature133                     Rank: 113,  Keep: False\n",
      "Feature: feature134                     Rank: 56,  Keep: False\n",
      "Feature: feature135                     Rank: 223,  Keep: False\n",
      "Feature: feature136                     Rank: 174,  Keep: False\n",
      "Feature: feature137                     Rank: 315,  Keep: False\n",
      "Feature: feature138                     Rank: 82,  Keep: False\n",
      "Feature: feature139                     Rank: 442,  Keep: False\n",
      "Feature: feature140                     Rank: 196,  Keep: False\n",
      "Feature: feature141                     Rank: 356,  Keep: False\n",
      "Feature: feature143                     Rank: 408,  Keep: False\n",
      "Feature: feature144                     Rank: 445,  Keep: False\n",
      "Feature: feature145                     Rank: 270,  Keep: False\n",
      "Feature: feature146                     Rank: 402,  Keep: False\n",
      "Feature: feature147                     Rank: 321,  Keep: False\n",
      "Feature: feature148                     Rank: 45,  Keep: False\n",
      "Feature: feature149                     Rank: 170,  Keep: False\n",
      "Feature: feature151                     Rank: 337,  Keep: False\n",
      "Feature: feature152                     Rank: 403,  Keep: False\n",
      "Feature: feature153                     Rank: 8,  Keep: False\n",
      "Feature: feature154                     Rank: 62,  Keep: False\n",
      "Feature: feature155                     Rank: 360,  Keep: False\n",
      "Feature: feature156                     Rank: 99,  Keep: False\n",
      "Feature: feature157                     Rank: 151,  Keep: False\n",
      "Feature: feature158                     Rank: 426,  Keep: False\n",
      "Feature: feature159                     Rank: 361,  Keep: False\n",
      "Feature: feature160                     Rank: 168,  Keep: False\n",
      "Feature: feature161                     Rank: 2,  Keep: False\n",
      "Feature: feature162                     Rank: 212,  Keep: False\n",
      "Feature: feature163                     Rank: 339,  Keep: False\n",
      "Feature: feature164                     Rank: 127,  Keep: False\n",
      "Feature: feature165                     Rank: 163,  Keep: False\n",
      "Feature: feature166                     Rank: 125,  Keep: False\n",
      "Feature: feature167                     Rank: 437,  Keep: False\n",
      "Feature: feature168                     Rank: 450,  Keep: False\n",
      "Feature: feature169                     Rank: 293,  Keep: False\n",
      "Feature: feature170                     Rank: 433,  Keep: False\n",
      "Feature: feature171                     Rank: 192,  Keep: False\n",
      "Feature: feature172                     Rank: 307,  Keep: False\n",
      "Feature: feature173                     Rank: 83,  Keep: False\n",
      "Feature: feature174                     Rank: 152,  Keep: False\n",
      "Feature: feature175                     Rank: 75,  Keep: False\n",
      "Feature: feature176                     Rank: 78,  Keep: False\n",
      "Feature: feature177                     Rank: 52,  Keep: False\n",
      "Feature: feature178                     Rank: 305,  Keep: False\n",
      "Feature: feature181                     Rank: 84,  Keep: False\n",
      "Feature: feature182                     Rank: 165,  Keep: False\n",
      "Feature: feature183                     Rank: 12,  Keep: False\n",
      "Feature: feature184                     Rank: 208,  Keep: False\n",
      "Feature: feature185                     Rank: 253,  Keep: False\n",
      "Feature: feature186                     Rank: 415,  Keep: False\n",
      "Feature: feature188                     Rank: 296,  Keep: False\n",
      "Feature: feature189                     Rank: 62,  Keep: False\n",
      "Feature: feature196                     Rank: 80,  Keep: False\n",
      "Feature: feature197                     Rank: 366,  Keep: False\n",
      "Feature: feature198                     Rank: 131,  Keep: False\n",
      "Feature: feature199                     Rank: 334,  Keep: False\n",
      "Feature: feature200                     Rank: 411,  Keep: False\n",
      "Feature: feature201                     Rank: 51,  Keep: False\n",
      "Feature: feature202                     Rank: 428,  Keep: False\n",
      "Feature: feature203                     Rank: 206,  Keep: False\n",
      "Feature: feature204                     Rank: 319,  Keep: False\n",
      "Feature: feature205                     Rank: 342,  Keep: False\n",
      "Feature: feature206                     Rank: 20,  Keep: False\n",
      "Feature: feature207                     Rank: 463,  Keep: False\n",
      "Feature: feature208                     Rank: 134,  Keep: False\n",
      "Feature: feature209                     Rank: 346,  Keep: False\n",
      "Feature: feature210                     Rank: 463,  Keep: False\n",
      "Feature: feature211                     Rank: 38,  Keep: False\n",
      "Feature: feature212                     Rank: 92,  Keep: False\n",
      "Feature: feature213                     Rank: 195,  Keep: False\n",
      "Feature: feature214                     Rank: 62,  Keep: False\n",
      "Feature: feature215                     Rank: 351,  Keep: False\n",
      "Feature: feature216                     Rank: 241,  Keep: False\n",
      "Feature: feature217                     Rank: 159,  Keep: False\n",
      "Feature: feature218                     Rank: 136,  Keep: False\n",
      "Feature: feature219                     Rank: 190,  Keep: False\n",
      "Feature: feature220                     Rank: 378,  Keep: False\n",
      "Feature: feature221                     Rank: 447,  Keep: False\n",
      "Feature: feature222                     Rank: 331,  Keep: False\n",
      "Feature: feature223                     Rank: 177,  Keep: False\n",
      "Feature: feature224                     Rank: 331,  Keep: False\n",
      "Feature: feature225                     Rank: 283,  Keep: False\n",
      "Feature: feature226                     Rank: 271,  Keep: False\n",
      "Feature: feature228                     Rank: 219,  Keep: False\n",
      "Feature: feature229                     Rank: 358,  Keep: False\n",
      "Feature: feature239                     Rank: 384,  Keep: False\n",
      "Feature: feature240                     Rank: 191,  Keep: False\n",
      "Feature: feature245                     Rank: 454,  Keep: False\n",
      "Feature: feature246                     Rank: 295,  Keep: False\n",
      "Feature: feature247                     Rank: 351,  Keep: False\n",
      "Feature: feature248                     Rank: 29,  Keep: False\n",
      "Feature: feature249                     Rank: 273,  Keep: False\n",
      "Feature: feature250                     Rank: 463,  Keep: False\n",
      "Feature: feature251                     Rank: 389,  Keep: False\n",
      "Feature: feature252                     Rank: 376,  Keep: False\n",
      "Feature: feature253                     Rank: 354,  Keep: False\n",
      "Feature: feature254                     Rank: 290,  Keep: False\n",
      "Feature: feature255                     Rank: 198,  Keep: False\n",
      "Feature: feature256                     Rank: 281,  Keep: False\n",
      "Feature: feature268                     Rank: 405,  Keep: False\n",
      "Feature: feature269                     Rank: 397,  Keep: False\n",
      "Feature: feature270                     Rank: 266,  Keep: False\n",
      "Feature: feature271                     Rank: 42,  Keep: False\n",
      "Feature: feature272                     Rank: 238,  Keep: False\n",
      "Feature: feature273                     Rank: 97,  Keep: False\n",
      "Feature: feature274                     Rank: 286,  Keep: False\n",
      "Feature: feature275                     Rank: 106,  Keep: False\n",
      "Feature: feature276                     Rank: 357,  Keep: False\n",
      "Feature: feature278                     Rank: 386,  Keep: False\n",
      "Feature: feature279                     Rank: 441,  Keep: False\n",
      "Feature: feature280                     Rank: 207,  Keep: False\n",
      "Feature: feature281                     Rank: 311,  Keep: False\n",
      "Feature: feature282                     Rank: 156,  Keep: False\n",
      "Feature: feature283                     Rank: 85,  Keep: False\n",
      "Feature: feature284                     Rank: 203,  Keep: False\n",
      "Feature: feature286                     Rank: 229,  Keep: False\n",
      "Feature: feature287                     Rank: 384,  Keep: False\n",
      "Feature: feature288                     Rank: 7,  Keep: False\n",
      "Feature: feature289                     Rank: 133,  Keep: False\n",
      "Feature: feature290                     Rank: 286,  Keep: False\n",
      "Feature: feature291                     Rank: 13,  Keep: False\n",
      "Feature: feature292                     Rank: 79,  Keep: False\n",
      "Feature: feature293                     Rank: 393,  Keep: False\n",
      "Feature: feature294                     Rank: 202,  Keep: False\n",
      "Feature: feature295                     Rank: 174,  Keep: False\n",
      "Feature: feature296                     Rank: 2,  Keep: False\n",
      "Feature: feature297                     Rank: 337,  Keep: False\n",
      "Feature: feature298                     Rank: 302,  Keep: False\n",
      "Feature: feature299                     Rank: 137,  Keep: False\n",
      "Feature: feature300                     Rank: 127,  Keep: False\n",
      "Feature: feature301                     Rank: 340,  Keep: False\n",
      "Feature: feature302                     Rank: 399,  Keep: False\n",
      "Feature: feature303                     Rank: 412,  Keep: False\n",
      "Feature: feature304                     Rank: 443,  Keep: False\n",
      "Feature: feature305                     Rank: 449,  Keep: False\n",
      "Feature: feature306                     Rank: 356,  Keep: False\n",
      "Feature: feature307                     Rank: 318,  Keep: False\n",
      "Feature: feature308                     Rank: 236,  Keep: False\n",
      "Feature: feature309                     Rank: 241,  Keep: False\n",
      "Feature: feature310                     Rank: 217,  Keep: False\n",
      "Feature: feature311                     Rank: 101,  Keep: False\n",
      "Feature: feature312                     Rank: 110,  Keep: False\n",
      "Feature: feature313                     Rank: 190,  Keep: False\n",
      "Feature: feature317                     Rank: 47,  Keep: False\n",
      "Feature: feature318                     Rank: 195,  Keep: False\n",
      "Feature: feature319                     Rank: 73,  Keep: False\n",
      "Feature: feature320                     Rank: 103,  Keep: False\n",
      "Feature: feature321                     Rank: 406,  Keep: False\n",
      "Feature: feature322                     Rank: 394,  Keep: False\n",
      "Feature: feature324                     Rank: 181,  Keep: False\n",
      "Feature: feature325                     Rank: 106,  Keep: False\n",
      "Feature: feature332                     Rank: 59,  Keep: False\n",
      "Feature: feature333                     Rank: 414,  Keep: False\n",
      "Feature: feature334                     Rank: 142,  Keep: False\n",
      "Feature: feature335                     Rank: 339,  Keep: False\n",
      "Feature: feature336                     Rank: 372,  Keep: False\n",
      "Feature: feature337                     Rank: 255,  Keep: False\n",
      "Feature: feature338                     Rank: 418,  Keep: False\n",
      "Feature: feature339                     Rank: 327,  Keep: False\n",
      "Feature: feature340                     Rank: 262,  Keep: False\n",
      "Feature: feature341                     Rank: 363,  Keep: False\n",
      "Feature: feature342                     Rank: 21,  Keep: False\n",
      "Feature: feature343                     Rank: 463,  Keep: False\n",
      "Feature: feature344                     Rank: 90,  Keep: False\n",
      "Feature: feature345                     Rank: 410,  Keep: False\n",
      "Feature: feature346                     Rank: 177,  Keep: False\n",
      "Feature: feature347                     Rank: 93,  Keep: False\n",
      "Feature: feature348                     Rank: 463,  Keep: False\n",
      "Feature: feature349                     Rank: 27,  Keep: False\n",
      "Feature: feature350                     Rank: 150,  Keep: False\n",
      "Feature: feature351                     Rank: 234,  Keep: False\n",
      "Feature: feature352                     Rank: 53,  Keep: False\n",
      "Feature: feature353                     Rank: 197,  Keep: False\n",
      "Feature: feature354                     Rank: 376,  Keep: False\n",
      "Feature: feature355                     Rank: 71,  Keep: False\n",
      "Feature: feature356                     Rank: 128,  Keep: False\n",
      "Feature: feature357                     Rank: 258,  Keep: False\n",
      "Feature: feature358                     Rank: 440,  Keep: False\n",
      "Feature: feature359                     Rank: 390,  Keep: False\n",
      "Feature: feature360                     Rank: 444,  Keep: False\n",
      "Feature: feature361                     Rank: 314,  Keep: False\n",
      "Feature: feature362                     Rank: 335,  Keep: False\n",
      "Feature: feature363                     Rank: 299,  Keep: False\n",
      "Feature: feature364                     Rank: 435,  Keep: False\n",
      "Feature: feature366                     Rank: 225,  Keep: False\n",
      "Feature: feature367                     Rank: 386,  Keep: False\n",
      "Feature: feature368                     Rank: 430,  Keep: False\n",
      "Feature: feature369                     Rank: 433,  Keep: False\n",
      "Feature: feature377                     Rank: 448,  Keep: False\n",
      "Feature: feature378                     Rank: 94,  Keep: False\n",
      "Feature: feature383                     Rank: 344,  Keep: False\n",
      "Feature: feature384                     Rank: 326,  Keep: False\n",
      "Feature: feature385                     Rank: 392,  Keep: False\n",
      "Feature: feature386                     Rank: 129,  Keep: False\n",
      "Feature: feature387                     Rank: 255,  Keep: False\n",
      "Feature: feature388                     Rank: 458,  Keep: False\n",
      "Feature: feature389                     Rank: 281,  Keep: False\n",
      "Feature: feature390                     Rank: 446,  Keep: False\n",
      "Feature: feature391                     Rank: 123,  Keep: False\n",
      "Feature: feature392                     Rank: 101,  Keep: False\n",
      "Feature: feature393                     Rank: 303,  Keep: False\n",
      "Feature: feature394                     Rank: 395,  Keep: False\n",
      "Feature: feature406                     Rank: 172,  Keep: False\n",
      "Feature: feature407                     Rank: 275,  Keep: False\n",
      "Feature: feature408                     Rank: 325,  Keep: False\n",
      "Feature: feature409                     Rank: 50,  Keep: False\n",
      "Feature: feature410                     Rank: 249,  Keep: False\n",
      "Feature: feature411                     Rank: 159,  Keep: False\n",
      "Feature: feature412                     Rank: 268,  Keep: False\n",
      "Feature: feature413                     Rank: 371,  Keep: False\n",
      "Feature: feature414                     Rank: 364,  Keep: False\n",
      "Feature: feature416                     Rank: 409,  Keep: False\n",
      "Feature: feature417                     Rank: 419,  Keep: False\n",
      "Feature: feature418                     Rank: 116,  Keep: False\n",
      "Feature: feature419                     Rank: 453,  Keep: False\n",
      "Feature: feature420                     Rank: 452,  Keep: False\n",
      "Feature: feature421                     Rank: 38,  Keep: False\n",
      "Feature: feature422                     Rank: 153,  Keep: False\n",
      "Feature: feature424                     Rank: 185,  Keep: False\n",
      "Feature: feature425                     Rank: 349,  Keep: False\n",
      "Feature: feature426                     Rank: 15,  Keep: False\n",
      "Feature: feature427                     Rank: 147,  Keep: False\n",
      "Feature: feature428                     Rank: 287,  Keep: False\n",
      "Feature: feature429                     Rank: 77,  Keep: False\n",
      "Feature: feature430                     Rank: 96,  Keep: False\n",
      "Feature: feature431                     Rank: 114,  Keep: False\n",
      "Feature: feature432                     Rank: 2,  Keep: False\n",
      "Feature: feature433                     Rank: 417,  Keep: False\n",
      "Feature: feature434                     Rank: 251,  Keep: False\n",
      "Feature: feature435                     Rank: 200,  Keep: False\n",
      "Feature: feature436                     Rank: 141,  Keep: False\n",
      "Feature: feature437                     Rank: 125,  Keep: False\n",
      "Feature: feature438                     Rank: 317,  Keep: False\n",
      "Feature: feature439                     Rank: 399,  Keep: False\n",
      "Feature: feature440                     Rank: 278,  Keep: False\n",
      "Feature: feature441                     Rank: 388,  Keep: False\n",
      "Feature: feature442                     Rank: 166,  Keep: False\n",
      "Feature: feature443                     Rank: 250,  Keep: False\n",
      "Feature: feature444                     Rank: 68,  Keep: False\n",
      "Feature: feature445                     Rank: 205,  Keep: False\n",
      "Feature: feature446                     Rank: 92,  Keep: False\n",
      "Feature: feature447                     Rank: 95,  Keep: False\n",
      "Feature: feature448                     Rank: 45,  Keep: False\n",
      "Feature: feature449                     Rank: 323,  Keep: False\n",
      "Feature: feature453                     Rank: 75,  Keep: False\n",
      "Feature: feature454                     Rank: 261,  Keep: False\n",
      "Feature: feature455                     Rank: 35,  Keep: False\n",
      "Feature: feature456                     Rank: 221,  Keep: False\n",
      "Feature: feature457                     Rank: 328,  Keep: False\n",
      "Feature: feature458                     Rank: 438,  Keep: False\n",
      "Feature: feature460                     Rank: 263,  Keep: False\n",
      "Feature: feature461                     Rank: 2,  Keep: False\n",
      "Feature: feature468                     Rank: 118,  Keep: False\n",
      "Feature: feature469                     Rank: 33,  Keep: False\n",
      "Feature: feature470                     Rank: 249,  Keep: False\n",
      "Feature: feature471                     Rank: 378,  Keep: False\n",
      "Feature: feature472                     Rank: 427,  Keep: False\n",
      "Feature: feature473                     Rank: 379,  Keep: False\n",
      "Feature: feature474                     Rank: 204,  Keep: False\n",
      "Feature: feature475                     Rank: 425,  Keep: False\n",
      "Feature: feature476                     Rank: 374,  Keep: False\n",
      "Feature: feature477                     Rank: 238,  Keep: False\n",
      "Feature: feature478                     Rank: 17,  Keep: False\n",
      "Feature: feature479                     Rank: 463,  Keep: False\n",
      "Feature: feature480                     Rank: 202,  Keep: False\n",
      "Feature: feature481                     Rank: 431,  Keep: False\n",
      "Feature: feature483                     Rank: 421,  Keep: False\n",
      "Feature: feature484                     Rank: 345,  Keep: False\n",
      "Feature: feature485                     Rank: 260,  Keep: False\n",
      "Feature: feature486                     Rank: 122,  Keep: False\n",
      "Feature: feature487                     Rank: 229,  Keep: False\n",
      "Feature: feature488                     Rank: 167,  Keep: False\n",
      "Feature: feature489                     Rank: 101,  Keep: False\n",
      "Feature: feature490                     Rank: 179,  Keep: False\n",
      "Feature: feature491                     Rank: 200,  Keep: False\n",
      "Feature: feature492                     Rank: 331,  Keep: False\n",
      "Feature: feature493                     Rank: 362,  Keep: False\n",
      "Feature: feature494                     Rank: 417,  Keep: False\n",
      "Feature: feature495                     Rank: 187,  Keep: False\n",
      "Feature: feature496                     Rank: 230,  Keep: False\n",
      "Feature: feature497                     Rank: 266,  Keep: False\n",
      "Feature: feature498                     Rank: 291,  Keep: False\n",
      "Feature: feature500                     Rank: 289,  Keep: False\n",
      "Feature: feature501                     Rank: 231,  Keep: False\n",
      "Feature: feature511                     Rank: 9,  Keep: False\n",
      "Feature: feature512                     Rank: 283,  Keep: False\n",
      "Feature: feature517                     Rank: 353,  Keep: False\n",
      "Feature: feature518                     Rank: 157,  Keep: False\n",
      "Feature: feature519                     Rank: 184,  Keep: False\n",
      "Feature: feature520                     Rank: 28,  Keep: False\n",
      "Feature: feature521                     Rank: 214,  Keep: False\n",
      "Feature: feature522                     Rank: 463,  Keep: False\n",
      "Feature: feature523                     Rank: 430,  Keep: False\n",
      "Feature: feature524                     Rank: 211,  Keep: False\n",
      "Feature: feature525                     Rank: 299,  Keep: False\n",
      "Feature: feature526                     Rank: 221,  Keep: False\n",
      "Feature: feature527                     Rank: 232,  Keep: False\n",
      "Feature: feature528                     Rank: 423,  Keep: False\n",
      "Feature: feature540                     Rank: 278,  Keep: False\n",
      "Feature: feature541                     Rank: 380,  Keep: False\n",
      "Feature: feature542                     Rank: 171,  Keep: False\n",
      "Feature: feature543                     Rank: 130,  Keep: False\n",
      "Feature: feature544                     Rank: 76,  Keep: False\n",
      "Feature: feature545                     Rank: 451,  Keep: False\n",
      "Feature: feature546                     Rank: 67,  Keep: False\n",
      "Feature: feature547                     Rank: 312,  Keep: False\n",
      "Feature: feature548                     Rank: 121,  Keep: False\n",
      "Feature: feature549                     Rank: 209,  Keep: False\n",
      "Feature: feature550                     Rank: 370,  Keep: False\n",
      "Feature: feature551                     Rank: 309,  Keep: False\n",
      "Feature: feature552                     Rank: 98,  Keep: False\n",
      "Feature: feature553                     Rank: 163,  Keep: False\n",
      "Feature: feature554                     Rank: 329,  Keep: False\n",
      "Feature: feature555                     Rank: 179,  Keep: False\n",
      "Feature: feature556                     Rank: 334,  Keep: False\n",
      "Feature: feature557                     Rank: 154,  Keep: False\n",
      "Feature: feature558                     Rank: 145,  Keep: False\n",
      "Feature: feature559                     Rank: 274,  Keep: False\n",
      "Feature: feature560                     Rank: 111,  Keep: False\n",
      "Feature: feature561                     Rank: 243,  Keep: False\n",
      "Feature: feature562                     Rank: 155,  Keep: False\n",
      "Feature: feature563                     Rank: 33,  Keep: False\n",
      "Feature: feature564                     Rank: 49,  Keep: False\n",
      "Feature: feature565                     Rank: 369,  Keep: False\n",
      "Feature: feature566                     Rank: 140,  Keep: False\n",
      "Feature: feature567                     Rank: 366,  Keep: False\n",
      "Feature: feature568                     Rank: 81,  Keep: False\n",
      "Feature: feature569                     Rank: 400,  Keep: False\n",
      "Feature: feature570                     Rank: 58,  Keep: False\n",
      "Feature: feature571                     Rank: 434,  Keep: False\n",
      "Feature: feature572                     Rank: 246,  Keep: False\n",
      "Feature: feature573                     Rank: 369,  Keep: False\n",
      "Feature: feature574                     Rank: 46,  Keep: False\n",
      "Feature: feature575                     Rank: 257,  Keep: False\n",
      "Feature: feature576                     Rank: 86,  Keep: False\n",
      "Feature: feature577                     Rank: 243,  Keep: False\n",
      "Feature: feature578                     Rank: 211,  Keep: False\n",
      "Feature: feature579                     Rank: 264,  Keep: False\n",
      "Feature: feature580                     Rank: 147,  Keep: False\n",
      "Feature: feature581                     Rank: 299,  Keep: False\n",
      "Feature: feature582                     Rank: 187,  Keep: False\n",
      "Feature: feature583                     Rank: 70,  Keep: False\n",
      "Feature: feature584                     Rank: 224,  Keep: False\n",
      "Feature: feature585                     Rank: 214,  Keep: False\n",
      "Feature: feature586                     Rank: 256,  Keep: False\n",
      "Feature: feature587                     Rank: 179,  Keep: False\n",
      "Feature: feature588                     Rank: 23,  Keep: False\n",
      "Feature: feature589                     Rank: 88,  Keep: False\n",
      "Feature: feature590                     Rank: 309,  Keep: False\n"
     ]
    },
    {
     "ename": "ValueError",
     "evalue": "Iteration of zero-sized operands is not enabled",
     "output_type": "error",
     "traceback": [
      "\u001b[1;31m---------------------------------------------------------------------------\u001b[0m",
      "\u001b[1;31mValueError\u001b[0m                                Traceback (most recent call last)",
      "\u001b[1;32m<ipython-input-233-026ff09eb771>\u001b[0m in \u001b[0;36m<module>\u001b[1;34m\u001b[0m\n\u001b[1;32m----> 1\u001b[1;33m \u001b[0mX_train_KNN_B\u001b[0m \u001b[1;33m,\u001b[0m \u001b[0mfinal_features_KNN\u001b[0m \u001b[1;33m=\u001b[0m \u001b[0mBorutaFeatureSelection\u001b[0m\u001b[1;33m(\u001b[0m\u001b[0mX_train_KNN\u001b[0m\u001b[1;33m,\u001b[0m\u001b[0my_train\u001b[0m\u001b[1;33m)\u001b[0m\u001b[1;33m\u001b[0m\u001b[1;33m\u001b[0m\u001b[0m\n\u001b[0m",
      "\u001b[1;32m<ipython-input-231-3a7b84bf030f>\u001b[0m in \u001b[0;36mBorutaFeatureSelection\u001b[1;34m(X, y)\u001b[0m\n\u001b[0;32m     31\u001b[0m     \u001b[0mfinal_features\u001b[0m \u001b[1;33m=\u001b[0m \u001b[0mlist\u001b[0m\u001b[1;33m(\u001b[0m\u001b[1;33m)\u001b[0m\u001b[1;33m\u001b[0m\u001b[1;33m\u001b[0m\u001b[0m\n\u001b[0;32m     32\u001b[0m     \u001b[0mindexes\u001b[0m \u001b[1;33m=\u001b[0m \u001b[0mnp\u001b[0m\u001b[1;33m.\u001b[0m\u001b[0mwhere\u001b[0m\u001b[1;33m(\u001b[0m\u001b[0mfeature_selector\u001b[0m\u001b[1;33m.\u001b[0m\u001b[0msupport_\u001b[0m \u001b[1;33m==\u001b[0m \u001b[1;32mTrue\u001b[0m\u001b[1;33m)\u001b[0m\u001b[1;33m\u001b[0m\u001b[1;33m\u001b[0m\u001b[0m\n\u001b[1;32m---> 33\u001b[1;33m     \u001b[1;32mfor\u001b[0m \u001b[0mx\u001b[0m \u001b[1;32min\u001b[0m \u001b[0mnp\u001b[0m\u001b[1;33m.\u001b[0m\u001b[0mnditer\u001b[0m\u001b[1;33m(\u001b[0m\u001b[0mindexes\u001b[0m\u001b[1;33m)\u001b[0m\u001b[1;33m:\u001b[0m\u001b[1;33m\u001b[0m\u001b[1;33m\u001b[0m\u001b[0m\n\u001b[0m\u001b[0;32m     34\u001b[0m         \u001b[0mfinal_features\u001b[0m\u001b[1;33m.\u001b[0m\u001b[0mappend\u001b[0m\u001b[1;33m(\u001b[0m\u001b[0mfeature_names\u001b[0m\u001b[1;33m[\u001b[0m\u001b[0mx\u001b[0m\u001b[1;33m]\u001b[0m\u001b[1;33m)\u001b[0m\u001b[1;33m\u001b[0m\u001b[1;33m\u001b[0m\u001b[0m\n\u001b[0;32m     35\u001b[0m     \u001b[0mprint\u001b[0m\u001b[1;33m(\u001b[0m\u001b[0mfinal_features\u001b[0m\u001b[1;33m)\u001b[0m\u001b[1;33m\u001b[0m\u001b[1;33m\u001b[0m\u001b[0m\n",
      "\u001b[1;31mValueError\u001b[0m: Iteration of zero-sized operands is not enabled"
     ]
    }
   ],
   "source": [
    "X_train_KNN_B , final_features_KNN = BorutaFeatureSelection(X_train_KNN,y_train)"
   ]
  },
  {
   "cell_type": "code",
   "execution_count": null,
   "metadata": {},
   "outputs": [],
   "source": [
    "X_train_KNN_B.to_csv('X_train_KNN_B.CSV')\r\n",
    "pd.DataFrame(final_features_KNN).to_csv('final_features_KNN.CSV')\r\n",
    "#X_train_KNN_B = pd.DataFrame(pd.read_csv(\"X_train_KNN_B.CSV\"))\r\n",
    "#X_train_KNN_B = X_train_KNN_B.set_index('ID')\r\n",
    "#final_features_KNN = pd.DataFrame(pd.read_csv(\"final_features_KNN.CSV\")).loc[:,'0'].values"
   ]
  },
  {
   "cell_type": "code",
   "execution_count": 236,
   "metadata": {},
   "outputs": [],
   "source": [
    "X_train_MICE_B.to_csv('X_train_MICE_B.CSV')\r\n",
    "pd.DataFrame(final_features_MICE).to_csv('final_features_MICE.CSV')\r\n",
    "#X_train_MICE_B = pd.DataFrame(pd.read_csv(\"X_train_MICE_B.CSV\"))\r\n",
    "#X_train_MICE_B = X_train_MICE_B.set_index('ID')\r\n",
    "#final_features_MICE = pd.DataFrame(pd.read_csv(\"final_features_MICE.CSV\")).loc[:,'0'].values"
   ]
  },
  {
   "cell_type": "code",
   "execution_count": 239,
   "metadata": {},
   "outputs": [],
   "source": [
    "X_train = X_train_MICE_B.copy(deep=True)\r\n",
    "final_features = final_features_MICE.copy()"
   ]
  },
  {
   "cell_type": "markdown",
   "metadata": {},
   "source": [
    "#### 4.5.2 Overview of remaining features\r\n"
   ]
  },
  {
   "cell_type": "code",
   "execution_count": 240,
   "metadata": {},
   "outputs": [
    {
     "data": {
      "text/html": [
       "<div>\n",
       "<style scoped>\n",
       "    .dataframe tbody tr th:only-of-type {\n",
       "        vertical-align: middle;\n",
       "    }\n",
       "\n",
       "    .dataframe tbody tr th {\n",
       "        vertical-align: top;\n",
       "    }\n",
       "\n",
       "    .dataframe thead th {\n",
       "        text-align: right;\n",
       "    }\n",
       "</style>\n",
       "<table border=\"1\" class=\"dataframe\">\n",
       "  <thead>\n",
       "    <tr style=\"text-align: right;\">\n",
       "      <th></th>\n",
       "      <th>feature060</th>\n",
       "      <th>feature104</th>\n",
       "      <th>feature247</th>\n",
       "      <th>feature461</th>\n",
       "      <th>feature518</th>\n",
       "      <th>feature519</th>\n",
       "    </tr>\n",
       "  </thead>\n",
       "  <tbody>\n",
       "    <tr>\n",
       "      <th>count</th>\n",
       "      <td>1253.000000</td>\n",
       "      <td>1253.000000</td>\n",
       "      <td>1253.000000</td>\n",
       "      <td>1253.000000</td>\n",
       "      <td>1253.000000</td>\n",
       "      <td>1253.000000</td>\n",
       "    </tr>\n",
       "    <tr>\n",
       "      <th>mean</th>\n",
       "      <td>2.739409</td>\n",
       "      <td>-0.009806</td>\n",
       "      <td>3.691417</td>\n",
       "      <td>29.054949</td>\n",
       "      <td>1.540893</td>\n",
       "      <td>1.598383</td>\n",
       "    </tr>\n",
       "    <tr>\n",
       "      <th>std</th>\n",
       "      <td>8.156432</td>\n",
       "      <td>0.002825</td>\n",
       "      <td>0.780884</td>\n",
       "      <td>12.245444</td>\n",
       "      <td>0.668954</td>\n",
       "      <td>0.330232</td>\n",
       "    </tr>\n",
       "    <tr>\n",
       "      <th>min</th>\n",
       "      <td>-21.205500</td>\n",
       "      <td>-0.018500</td>\n",
       "      <td>-1.032420</td>\n",
       "      <td>7.953400</td>\n",
       "      <td>0.288000</td>\n",
       "      <td>0.467400</td>\n",
       "    </tr>\n",
       "    <tr>\n",
       "      <th>25%</th>\n",
       "      <td>-1.890000</td>\n",
       "      <td>-0.011800</td>\n",
       "      <td>3.652681</td>\n",
       "      <td>20.363900</td>\n",
       "      <td>1.500269</td>\n",
       "      <td>1.586364</td>\n",
       "    </tr>\n",
       "    <tr>\n",
       "      <th>50%</th>\n",
       "      <td>0.853600</td>\n",
       "      <td>-0.010100</td>\n",
       "      <td>3.688702</td>\n",
       "      <td>26.336600</td>\n",
       "      <td>1.533159</td>\n",
       "      <td>1.595349</td>\n",
       "    </tr>\n",
       "    <tr>\n",
       "      <th>75%</th>\n",
       "      <td>4.361800</td>\n",
       "      <td>-0.008100</td>\n",
       "      <td>3.758855</td>\n",
       "      <td>35.748700</td>\n",
       "      <td>1.548388</td>\n",
       "      <td>1.627777</td>\n",
       "    </tr>\n",
       "    <tr>\n",
       "      <th>max</th>\n",
       "      <td>29.750900</td>\n",
       "      <td>-0.000700</td>\n",
       "      <td>10.463200</td>\n",
       "      <td>89.966069</td>\n",
       "      <td>9.317300</td>\n",
       "      <td>4.517100</td>\n",
       "    </tr>\n",
       "  </tbody>\n",
       "</table>\n",
       "</div>"
      ],
      "text/plain": [
       "        feature060   feature104   feature247   feature461   feature518  \\\n",
       "count  1253.000000  1253.000000  1253.000000  1253.000000  1253.000000   \n",
       "mean      2.739409    -0.009806     3.691417    29.054949     1.540893   \n",
       "std       8.156432     0.002825     0.780884    12.245444     0.668954   \n",
       "min     -21.205500    -0.018500    -1.032420     7.953400     0.288000   \n",
       "25%      -1.890000    -0.011800     3.652681    20.363900     1.500269   \n",
       "50%       0.853600    -0.010100     3.688702    26.336600     1.533159   \n",
       "75%       4.361800    -0.008100     3.758855    35.748700     1.548388   \n",
       "max      29.750900    -0.000700    10.463200    89.966069     9.317300   \n",
       "\n",
       "        feature519  \n",
       "count  1253.000000  \n",
       "mean      1.598383  \n",
       "std       0.330232  \n",
       "min       0.467400  \n",
       "25%       1.586364  \n",
       "50%       1.595349  \n",
       "75%       1.627777  \n",
       "max       4.517100  "
      ]
     },
     "execution_count": 240,
     "metadata": {},
     "output_type": "execute_result"
    }
   ],
   "source": [
    "# Descriptive statistics\n",
    "X_train.describe()"
   ]
  },
  {
   "cell_type": "code",
   "execution_count": 241,
   "metadata": {},
   "outputs": [
    {
     "name": "stdout",
     "output_type": "stream",
     "text": [
      "<class 'pandas.core.frame.DataFrame'>\n",
      "Float64Index: 1253 entries, 567.0 to 645.0\n",
      "Data columns (total 6 columns):\n",
      " #   Column      Non-Null Count  Dtype  \n",
      "---  ------      --------------  -----  \n",
      " 0   feature060  1253 non-null   float64\n",
      " 1   feature104  1253 non-null   float64\n",
      " 2   feature247  1253 non-null   float64\n",
      " 3   feature461  1253 non-null   float64\n",
      " 4   feature518  1253 non-null   float64\n",
      " 5   feature519  1253 non-null   float64\n",
      "dtypes: float64(6)\n",
      "memory usage: 68.5 KB\n",
      "None\n",
      "(1253, 6)\n"
     ]
    }
   ],
   "source": [
    "#datatype and shape\n",
    "print(X_train.info())\n",
    "print(X_train.shape)"
   ]
  },
  {
   "cell_type": "code",
   "execution_count": 242,
   "metadata": {
    "scrolled": false
   },
   "outputs": [
    {
     "data": {
      "text/plain": [
       "array([[<AxesSubplot:title={'center':'feature060'}>,\n",
       "        <AxesSubplot:title={'center':'feature104'}>],\n",
       "       [<AxesSubplot:title={'center':'feature247'}>,\n",
       "        <AxesSubplot:title={'center':'feature461'}>],\n",
       "       [<AxesSubplot:title={'center':'feature518'}>,\n",
       "        <AxesSubplot:title={'center':'feature519'}>]], dtype=object)"
      ]
     },
     "execution_count": 242,
     "metadata": {},
     "output_type": "execute_result"
    },
    {
     "data": {
      "image/png": "[encoded data removed]",
      "text/plain": [
       "<Figure size 1000x2000 with 6 Axes>"
      ]
     },
     "metadata": {
      "needs_background": "light"
     },
     "output_type": "display_data"
    }
   ],
   "source": [
    "# Histogram of the features\n",
    "X_train.hist(figsize=(10,20))"
   ]
  },
  {
   "cell_type": "code",
   "execution_count": 243,
   "metadata": {},
   "outputs": [
    {
     "data": {
      "image/png": "[encoded data removed]",
      "text/plain": [
       "<Figure size 800x800 with 1 Axes>"
      ]
     },
     "metadata": {
      "needs_background": "light"
     },
     "output_type": "display_data"
    }
   ],
   "source": [
    "# Histogram of Standard Deviation of the remaining features\n",
    "StandardDeviation(X_train)"
   ]
  },
  {
   "cell_type": "code",
   "execution_count": 244,
   "metadata": {},
   "outputs": [
    {
     "data": {
      "image/png": "[encoded data removed]",
      "text/plain": [
       "<Figure size 800x800 with 1 Axes>"
      ]
     },
     "metadata": {
      "needs_background": "light"
     },
     "output_type": "display_data"
    }
   ],
   "source": [
    "# Histogram of Coefficient of Standard Deviation of the remaining features\n",
    "CoefficientOfVariation(X_train)"
   ]
  },
  {
   "cell_type": "code",
   "execution_count": 245,
   "metadata": {},
   "outputs": [
    {
     "data": {
      "text/html": [
       "<style  type=\"text/css\" >\n",
       "#T_30281_row0_col0,#T_30281_row1_col1,#T_30281_row2_col2,#T_30281_row3_col3,#T_30281_row4_col4,#T_30281_row5_col5{\n",
       "            background-color:  #b40426;\n",
       "            color:  #f1f1f1;\n",
       "        }#T_30281_row0_col1{\n",
       "            background-color:  #b6cefa;\n",
       "            color:  #000000;\n",
       "        }#T_30281_row0_col2{\n",
       "            background-color:  #455cce;\n",
       "            color:  #f1f1f1;\n",
       "        }#T_30281_row0_col3{\n",
       "            background-color:  #5d7ce6;\n",
       "            color:  #000000;\n",
       "        }#T_30281_row0_col4,#T_30281_row5_col3{\n",
       "            background-color:  #4c66d6;\n",
       "            color:  #000000;\n",
       "        }#T_30281_row0_col5,#T_30281_row5_col0{\n",
       "            background-color:  #4358cb;\n",
       "            color:  #f1f1f1;\n",
       "        }#T_30281_row1_col0{\n",
       "            background-color:  #abc8fd;\n",
       "            color:  #000000;\n",
       "        }#T_30281_row1_col2,#T_30281_row1_col5{\n",
       "            background-color:  #3e51c5;\n",
       "            color:  #f1f1f1;\n",
       "        }#T_30281_row1_col3{\n",
       "            background-color:  #506bda;\n",
       "            color:  #000000;\n",
       "        }#T_30281_row1_col4{\n",
       "            background-color:  #3f53c6;\n",
       "            color:  #f1f1f1;\n",
       "        }#T_30281_row2_col0{\n",
       "            background-color:  #445acc;\n",
       "            color:  #f1f1f1;\n",
       "        }#T_30281_row2_col1,#T_30281_row3_col0{\n",
       "            background-color:  #4a63d3;\n",
       "            color:  #f1f1f1;\n",
       "        }#T_30281_row2_col3,#T_30281_row3_col1,#T_30281_row5_col1{\n",
       "            background-color:  #4b64d5;\n",
       "            color:  #f1f1f1;\n",
       "        }#T_30281_row2_col4{\n",
       "            background-color:  #cad8ef;\n",
       "            color:  #000000;\n",
       "        }#T_30281_row2_col5,#T_30281_row5_col2{\n",
       "            background-color:  #b70d28;\n",
       "            color:  #f1f1f1;\n",
       "        }#T_30281_row3_col2,#T_30281_row3_col4,#T_30281_row3_col5,#T_30281_row4_col0,#T_30281_row4_col1,#T_30281_row4_col3{\n",
       "            background-color:  #3b4cc0;\n",
       "            color:  #f1f1f1;\n",
       "        }#T_30281_row4_col2,#T_30281_row4_col5{\n",
       "            background-color:  #bfd3f6;\n",
       "            color:  #000000;\n",
       "        }#T_30281_row5_col4{\n",
       "            background-color:  #cbd8ee;\n",
       "            color:  #000000;\n",
       "        }</style><table id=\"T_30281_\" ><thead>    <tr>        <th class=\"blank level0\" ></th>        <th class=\"col_heading level0 col0\" >feature060</th>        <th class=\"col_heading level0 col1\" >feature104</th>        <th class=\"col_heading level0 col2\" >feature247</th>        <th class=\"col_heading level0 col3\" >feature461</th>        <th class=\"col_heading level0 col4\" >feature518</th>        <th class=\"col_heading level0 col5\" >feature519</th>    </tr></thead><tbody>\n",
       "                <tr>\n",
       "                        <th id=\"T_30281_level0_row0\" class=\"row_heading level0 row0\" >feature060</th>\n",
       "                        <td id=\"T_30281_row0_col0\" class=\"data row0 col0\" >1.00</td>\n",
       "                        <td id=\"T_30281_row0_col1\" class=\"data row0 col1\" >0.35</td>\n",
       "                        <td id=\"T_30281_row0_col2\" class=\"data row0 col2\" >0.05</td>\n",
       "                        <td id=\"T_30281_row0_col3\" class=\"data row0 col3\" >0.07</td>\n",
       "                        <td id=\"T_30281_row0_col4\" class=\"data row0 col4\" >0.02</td>\n",
       "                        <td id=\"T_30281_row0_col5\" class=\"data row0 col5\" >0.05</td>\n",
       "            </tr>\n",
       "            <tr>\n",
       "                        <th id=\"T_30281_level0_row1\" class=\"row_heading level0 row1\" >feature104</th>\n",
       "                        <td id=\"T_30281_row1_col0\" class=\"data row1 col0\" >0.35</td>\n",
       "                        <td id=\"T_30281_row1_col1\" class=\"data row1 col1\" >1.00</td>\n",
       "                        <td id=\"T_30281_row1_col2\" class=\"data row1 col2\" >0.03</td>\n",
       "                        <td id=\"T_30281_row1_col3\" class=\"data row1 col3\" >0.03</td>\n",
       "                        <td id=\"T_30281_row1_col4\" class=\"data row1 col4\" >-0.02</td>\n",
       "                        <td id=\"T_30281_row1_col5\" class=\"data row1 col5\" >0.03</td>\n",
       "            </tr>\n",
       "            <tr>\n",
       "                        <th id=\"T_30281_level0_row2\" class=\"row_heading level0 row2\" >feature247</th>\n",
       "                        <td id=\"T_30281_row2_col0\" class=\"data row2 col0\" >0.05</td>\n",
       "                        <td id=\"T_30281_row2_col1\" class=\"data row2 col1\" >0.03</td>\n",
       "                        <td id=\"T_30281_row2_col2\" class=\"data row2 col2\" >1.00</td>\n",
       "                        <td id=\"T_30281_row2_col3\" class=\"data row2 col3\" >0.02</td>\n",
       "                        <td id=\"T_30281_row2_col4\" class=\"data row2 col4\" >0.41</td>\n",
       "                        <td id=\"T_30281_row2_col5\" class=\"data row2 col5\" >0.99</td>\n",
       "            </tr>\n",
       "            <tr>\n",
       "                        <th id=\"T_30281_level0_row3\" class=\"row_heading level0 row3\" >feature461</th>\n",
       "                        <td id=\"T_30281_row3_col0\" class=\"data row3 col0\" >0.07</td>\n",
       "                        <td id=\"T_30281_row3_col1\" class=\"data row3 col1\" >0.03</td>\n",
       "                        <td id=\"T_30281_row3_col2\" class=\"data row3 col2\" >0.02</td>\n",
       "                        <td id=\"T_30281_row3_col3\" class=\"data row3 col3\" >1.00</td>\n",
       "                        <td id=\"T_30281_row3_col4\" class=\"data row3 col4\" >-0.04</td>\n",
       "                        <td id=\"T_30281_row3_col5\" class=\"data row3 col5\" >0.02</td>\n",
       "            </tr>\n",
       "            <tr>\n",
       "                        <th id=\"T_30281_level0_row4\" class=\"row_heading level0 row4\" >feature518</th>\n",
       "                        <td id=\"T_30281_row4_col0\" class=\"data row4 col0\" >0.02</td>\n",
       "                        <td id=\"T_30281_row4_col1\" class=\"data row4 col1\" >-0.02</td>\n",
       "                        <td id=\"T_30281_row4_col2\" class=\"data row4 col2\" >0.41</td>\n",
       "                        <td id=\"T_30281_row4_col3\" class=\"data row4 col3\" >-0.04</td>\n",
       "                        <td id=\"T_30281_row4_col4\" class=\"data row4 col4\" >1.00</td>\n",
       "                        <td id=\"T_30281_row4_col5\" class=\"data row4 col5\" >0.41</td>\n",
       "            </tr>\n",
       "            <tr>\n",
       "                        <th id=\"T_30281_level0_row5\" class=\"row_heading level0 row5\" >feature519</th>\n",
       "                        <td id=\"T_30281_row5_col0\" class=\"data row5 col0\" >0.05</td>\n",
       "                        <td id=\"T_30281_row5_col1\" class=\"data row5 col1\" >0.03</td>\n",
       "                        <td id=\"T_30281_row5_col2\" class=\"data row5 col2\" >0.99</td>\n",
       "                        <td id=\"T_30281_row5_col3\" class=\"data row5 col3\" >0.02</td>\n",
       "                        <td id=\"T_30281_row5_col4\" class=\"data row5 col4\" >0.41</td>\n",
       "                        <td id=\"T_30281_row5_col5\" class=\"data row5 col5\" >1.00</td>\n",
       "            </tr>\n",
       "    </tbody></table>"
      ],
      "text/plain": [
       "<pandas.io.formats.style.Styler at 0x1a4001f8a30>"
      ]
     },
     "execution_count": 245,
     "metadata": {},
     "output_type": "execute_result"
    }
   ],
   "source": [
    "# Correlation of the remaining features\n",
    "\n",
    "# Heatmap of correlation\n",
    "corr = pd.DataFrame(X_train.corr())\n",
    "corr.style.background_gradient(cmap='coolwarm').set_precision(2)"
   ]
  },
  {
   "cell_type": "code",
   "execution_count": 246,
   "metadata": {},
   "outputs": [
    {
     "data": {
      "image/png": "[encoded data removed]",
      "text/plain": [
       "<Figure size 800x800 with 1 Axes>"
      ]
     },
     "metadata": {
      "needs_background": "light"
     },
     "output_type": "display_data"
    }
   ],
   "source": [
    "# Histogram of the Correlation of the remaining features\r\n",
    "correlation(X_train)"
   ]
  },
  {
   "cell_type": "markdown",
   "metadata": {},
   "source": [
    "## 5. Modeling"
   ]
  },
  {
   "cell_type": "markdown",
   "metadata": {},
   "source": [
    "### 5.1 Balancing"
   ]
  },
  {
   "cell_type": "code",
   "execution_count": 247,
   "metadata": {},
   "outputs": [
    {
     "data": {
      "image/png": "[encoded data removed]",
      "text/plain": [
       "<Figure size 500x500 with 1 Axes>"
      ]
     },
     "metadata": {},
     "output_type": "display_data"
    }
   ],
   "source": [
    "#Pie chart of the imbalanced train data\r\n",
    "ClassDistributionGraph(y_train, 'Class Distribution of train set')"
   ]
  },
  {
   "cell_type": "code",
   "execution_count": 248,
   "metadata": {},
   "outputs": [],
   "source": [
    "# Sampling technique\r\n",
    "\r\n",
    "def Sampling(X_train, y_train, sampler):\r\n",
    "\r\n",
    "    #SMOTE\r\n",
    "    if sampler == 'SMOTE':\r\n",
    "        sampler = SMOTE()    \r\n",
    "    \r\n",
    "    #ROSE\r\n",
    "    if sampler == 'ROSE':\r\n",
    "        sampler = RandomOverSampler(random_state=40)\r\n",
    "\r\n",
    "    #ADASYN\r\n",
    "    if sampler == 'ADASYN':\r\n",
    "        sampler = ADASYN()\r\n",
    "        \r\n",
    "    #SMOTTEENN\r\n",
    "    if sampler == 'SMOTEENN' :\r\n",
    "        sampler = SMOTEENN(random_state=40)\r\n",
    "        \r\n",
    "    #SMOTETomek\r\n",
    "    if sampler == 'SMOTETomek':\r\n",
    "        from imblearn.combine import SMOTETomek \r\n",
    "        sampler = SMOTETomek(random_state=40)\r\n",
    "        \r\n",
    "    #BorderlineSMOTE\r\n",
    "    if sampler == 'BorderlineSMOTE':\r\n",
    "        from imblearn.over_sampling import BorderlineSMOTE \r\n",
    "        sampler = BorderlineSMOTE(random_state=40)\r\n",
    "        \r\n",
    "    if sampler =='ENN':\r\n",
    "        from imblearn.under_sampling import EditedNearestNeighbours\r\n",
    "        sampler = EditedNearestNeighbours()\r\n",
    "\r\n",
    "    if sampler == 'Cluster':\r\n",
    "        from imblearn.under_sampling import ClusterCentroids\r\n",
    "        sampler= ClusterCentroids(random_state=40)\r\n",
    "        \r\n",
    "    if sampler == \"randomunder\":\r\n",
    "        from imblearn.under_sampling import RandomUnderSampler\r\n",
    "        sampler = RandomUnderSampler(random_state=40)\r\n",
    "        \r\n",
    "    if sampler == 'Instant' :\r\n",
    "        from imblearn.under_sampling import InstanceHardnessThreshold\r\n",
    "        X_train.index = X_train.index.astype(int)\r\n",
    "        y_train.index = y_train.index.astype(int)\r\n",
    "        sampler = InstanceHardnessThreshold(random_state=40, estimator=RandomForestClassifier())\r\n",
    "        \r\n",
    "    X_resampled, y_resampled = sampler.fit_resample(X_train, y_train)\r\n",
    "    counter = Counter(y_resampled)\r\n",
    "    print(counter)\r\n",
    "    return X_resampled, y_resampled"
   ]
  },
  {
   "cell_type": "code",
   "execution_count": 249,
   "metadata": {},
   "outputs": [
    {
     "name": "stdout",
     "output_type": "stream",
     "text": [
      "Counter({'FAIL': 860, 'PASS': 674})\n"
     ]
    }
   ],
   "source": [
    "# Imbalance treatment\r\n",
    "X_resampled, y_resampled = Sampling(X_train, y_train, 'SMOTEENN')"
   ]
  },
  {
   "cell_type": "code",
   "execution_count": 250,
   "metadata": {},
   "outputs": [
    {
     "data": {
      "image/png": "[encoded data removed]",
      "text/plain": [
       "<Figure size 500x500 with 1 Axes>"
      ]
     },
     "metadata": {},
     "output_type": "display_data"
    }
   ],
   "source": [
    "# Pie Chart to visualize balanced data\r\n",
    "ClassDistributionGraph(y_resampled, 'Class Distribution of train set after SMOTE')"
   ]
  },
  {
   "cell_type": "markdown",
   "metadata": {},
   "source": [
    "### 5.2 Preparing Test data"
   ]
  },
  {
   "cell_type": "code",
   "execution_count": 251,
   "metadata": {},
   "outputs": [],
   "source": [
    "# Rough feature reduction\r\n",
    "X_test = X_test.drop(columns = 'timestamp')\r\n",
    "X_test = X_test.drop(columns = single_value_columns)\r\n",
    "X_test = X_test.drop(columns = missing_value_cols)\r\n",
    "X_test = X_test.drop(columns = features_least_volatile)"
   ]
  },
  {
   "cell_type": "code",
   "execution_count": 252,
   "metadata": {},
   "outputs": [
    {
     "name": "stdout",
     "output_type": "stream",
     "text": [
      "Number of Outliers :  1478\n"
     ]
    }
   ],
   "source": [
    "# Outlier treatment \r\n",
    "X_test = Outlier(X_test,'NaN')"
   ]
  },
  {
   "cell_type": "code",
   "execution_count": 253,
   "metadata": {},
   "outputs": [
    {
     "name": "stderr",
     "output_type": "stream",
     "text": [
      "C:\\Users\\Behzad\\anaconda3\\envs\\BP1\\lib\\site-packages\\sklearn\\impute\\_iterative.py:685: ConvergenceWarning: [IterativeImputer] Early stopping criterion not reached.\n",
      "  warnings.warn(\"[IterativeImputer] Early stopping criterion not\"\n"
     ]
    }
   ],
   "source": [
    "# Missing Value imputation\r\n",
    "X_test.iloc[:,:] = pd.DataFrame(MissingValueImputation(X_test,'MICE'))"
   ]
  },
  {
   "cell_type": "code",
   "execution_count": 254,
   "metadata": {},
   "outputs": [],
   "source": [
    "X_test.to_csv('X_test.CSV')\r\n",
    "#X_test = pd.DataFrame(pd.read_csv(\"X_test.CSV\"))\r\n",
    "#X_test = X_test.set_index('ID')"
   ]
  },
  {
   "cell_type": "code",
   "execution_count": 255,
   "metadata": {},
   "outputs": [],
   "source": [
    "# Feature selection \r\n",
    "X_test = X_test.filter(final_features)"
   ]
  },
  {
   "cell_type": "code",
   "execution_count": 256,
   "metadata": {},
   "outputs": [
    {
     "data": {
      "text/html": [
       "<div>\n",
       "<style scoped>\n",
       "    .dataframe tbody tr th:only-of-type {\n",
       "        vertical-align: middle;\n",
       "    }\n",
       "\n",
       "    .dataframe tbody tr th {\n",
       "        vertical-align: top;\n",
       "    }\n",
       "\n",
       "    .dataframe thead th {\n",
       "        text-align: right;\n",
       "    }\n",
       "</style>\n",
       "<table border=\"1\" class=\"dataframe\">\n",
       "  <thead>\n",
       "    <tr style=\"text-align: right;\">\n",
       "      <th></th>\n",
       "      <th>feature060</th>\n",
       "      <th>feature104</th>\n",
       "      <th>feature247</th>\n",
       "      <th>feature461</th>\n",
       "      <th>feature518</th>\n",
       "      <th>feature519</th>\n",
       "    </tr>\n",
       "    <tr>\n",
       "      <th>ID</th>\n",
       "      <th></th>\n",
       "      <th></th>\n",
       "      <th></th>\n",
       "      <th></th>\n",
       "      <th></th>\n",
       "      <th></th>\n",
       "    </tr>\n",
       "  </thead>\n",
       "  <tbody>\n",
       "    <tr>\n",
       "      <th>766.0</th>\n",
       "      <td>-0.2418</td>\n",
       "      <td>-0.0099</td>\n",
       "      <td>3.826420</td>\n",
       "      <td>18.7707</td>\n",
       "      <td>-0.675025</td>\n",
       "      <td>-1.640019</td>\n",
       "    </tr>\n",
       "    <tr>\n",
       "      <th>1231.0</th>\n",
       "      <td>4.6891</td>\n",
       "      <td>-0.0088</td>\n",
       "      <td>3.725286</td>\n",
       "      <td>53.9906</td>\n",
       "      <td>2.437357</td>\n",
       "      <td>0.226699</td>\n",
       "    </tr>\n",
       "    <tr>\n",
       "      <th>723.0</th>\n",
       "      <td>1.7618</td>\n",
       "      <td>-0.0101</td>\n",
       "      <td>3.891159</td>\n",
       "      <td>10.7413</td>\n",
       "      <td>-1.258709</td>\n",
       "      <td>0.952445</td>\n",
       "    </tr>\n",
       "    <tr>\n",
       "      <th>1470.0</th>\n",
       "      <td>0.0064</td>\n",
       "      <td>-0.0126</td>\n",
       "      <td>5.915200</td>\n",
       "      <td>37.5476</td>\n",
       "      <td>3.098377</td>\n",
       "      <td>2.502600</td>\n",
       "    </tr>\n",
       "    <tr>\n",
       "      <th>401.0</th>\n",
       "      <td>4.5027</td>\n",
       "      <td>-0.0057</td>\n",
       "      <td>3.982047</td>\n",
       "      <td>17.4238</td>\n",
       "      <td>-0.327800</td>\n",
       "      <td>0.730695</td>\n",
       "    </tr>\n",
       "    <tr>\n",
       "      <th>...</th>\n",
       "      <td>...</td>\n",
       "      <td>...</td>\n",
       "      <td>...</td>\n",
       "      <td>...</td>\n",
       "      <td>...</td>\n",
       "      <td>...</td>\n",
       "    </tr>\n",
       "    <tr>\n",
       "      <th>28.0</th>\n",
       "      <td>17.3873</td>\n",
       "      <td>-0.0078</td>\n",
       "      <td>3.579199</td>\n",
       "      <td>30.4356</td>\n",
       "      <td>-1.501326</td>\n",
       "      <td>1.066643</td>\n",
       "    </tr>\n",
       "    <tr>\n",
       "      <th>584.0</th>\n",
       "      <td>11.2909</td>\n",
       "      <td>-0.0111</td>\n",
       "      <td>3.076123</td>\n",
       "      <td>14.2373</td>\n",
       "      <td>2.183430</td>\n",
       "      <td>0.222916</td>\n",
       "    </tr>\n",
       "    <tr>\n",
       "      <th>953.0</th>\n",
       "      <td>0.4200</td>\n",
       "      <td>-0.0087</td>\n",
       "      <td>4.295400</td>\n",
       "      <td>29.9729</td>\n",
       "      <td>1.073900</td>\n",
       "      <td>1.854100</td>\n",
       "    </tr>\n",
       "    <tr>\n",
       "      <th>139.0</th>\n",
       "      <td>23.0364</td>\n",
       "      <td>-0.0068</td>\n",
       "      <td>3.056385</td>\n",
       "      <td>33.3101</td>\n",
       "      <td>-3.159815</td>\n",
       "      <td>0.482496</td>\n",
       "    </tr>\n",
       "    <tr>\n",
       "      <th>1380.0</th>\n",
       "      <td>-6.5027</td>\n",
       "      <td>-0.0120</td>\n",
       "      <td>3.749109</td>\n",
       "      <td>22.7234</td>\n",
       "      <td>3.209416</td>\n",
       "      <td>1.482475</td>\n",
       "    </tr>\n",
       "  </tbody>\n",
       "</table>\n",
       "<p>314 rows × 6 columns</p>\n",
       "</div>"
      ],
      "text/plain": [
       "        feature060  feature104  feature247  feature461  feature518  feature519\n",
       "ID                                                                            \n",
       "766.0      -0.2418     -0.0099    3.826420     18.7707   -0.675025   -1.640019\n",
       "1231.0      4.6891     -0.0088    3.725286     53.9906    2.437357    0.226699\n",
       "723.0       1.7618     -0.0101    3.891159     10.7413   -1.258709    0.952445\n",
       "1470.0      0.0064     -0.0126    5.915200     37.5476    3.098377    2.502600\n",
       "401.0       4.5027     -0.0057    3.982047     17.4238   -0.327800    0.730695\n",
       "...            ...         ...         ...         ...         ...         ...\n",
       "28.0       17.3873     -0.0078    3.579199     30.4356   -1.501326    1.066643\n",
       "584.0      11.2909     -0.0111    3.076123     14.2373    2.183430    0.222916\n",
       "953.0       0.4200     -0.0087    4.295400     29.9729    1.073900    1.854100\n",
       "139.0      23.0364     -0.0068    3.056385     33.3101   -3.159815    0.482496\n",
       "1380.0     -6.5027     -0.0120    3.749109     22.7234    3.209416    1.482475\n",
       "\n",
       "[314 rows x 6 columns]"
      ]
     },
     "execution_count": 256,
     "metadata": {},
     "output_type": "execute_result"
    }
   ],
   "source": [
    "# View processed test set\r\n",
    "X_test"
   ]
  },
  {
   "cell_type": "markdown",
   "metadata": {},
   "source": [
    "### 5.3 Grid search"
   ]
  },
  {
   "cell_type": "code",
   "execution_count": null,
   "metadata": {},
   "outputs": [],
   "source": []
  },
  {
   "cell_type": "code",
   "execution_count": null,
   "metadata": {},
   "outputs": [],
   "source": []
  },
  {
   "cell_type": "markdown",
   "metadata": {},
   "source": [
    "### 5.4 Model Function"
   ]
  },
  {
   "cell_type": "code",
   "execution_count": 257,
   "metadata": {},
   "outputs": [],
   "source": [
    "def run_ML_process(X, y, X_test, y_test, clf):\r\n",
    "    #scaling\r\n",
    "    #scaler = StandardScaler()\r\n",
    "    #scaler.fit(X)\r\n",
    "    #X = pd.DataFrame(scaler.transform(X), index=X.index, columns=X.columns)\r\n",
    "    #X_test = pd.DataFrame(scaler.transform(X_test), index=X_test.index, columns=X_test.columns)\r\n",
    "    \r\n",
    "    #Evaluation using Startified K Fold cross validation\r\n",
    "    cv = StratifiedKFold(n_splits=10)\r\n",
    "    scores = cross_val_score(clf, X, y, cv=cv, scoring = 'accuracy')\r\n",
    "    print('Averace Accuracy:', scores.mean())\r\n",
    "\r\n",
    "    #fit\r\n",
    "    clf.fit(X, y)\r\n",
    "    \r\n",
    "    #predict\r\n",
    "    y_pred_test = clf.predict(X_test)\r\n",
    "    \r\n",
    "    # View accuracy score\r\n",
    "    print('Accuracy: ', accuracy_score(y_test, y_pred_test))\r\n",
    "    \r\n",
    "    #Plot confussion matrix\r\n",
    "    plt.rcParams.update({'font.size': 16})\r\n",
    "    fig, ax = plt.subplots(figsize=(8, 8))\r\n",
    "    plot_confusion_matrix(clf, X_test, y_test, ax=ax, cmap=plt.cm.Blues)\r\n",
    "    \r\n",
    "    # View the classification report for test data and predictions\r\n",
    "    print(classification_report(y_test, y_pred_test))\r\n",
    "    \r\n",
    "    \r\n",
    "    #ROC curve\r\n",
    "    \r\n",
    "    #Prediction probabilities\r\n",
    "    clf_probs = clf.predict_proba(X_test)\r\n",
    "    \r\n",
    "    #Probabilities of the positive outcome is kept\r\n",
    "    clf_probs = clf_probs[:, 1]\r\n",
    "\r\n",
    "    \r\n",
    "    #Area under ROC curve\r\n",
    "    clf_auc = roc_auc_score(y_test, clf_probs)\r\n",
    "    print('Area under ROC: AUROC = %.3f' % (clf_auc))\r\n",
    "    \r\n",
    "    #Calculate ROC\r\n",
    "    clf_fpr, clf_tpr, _ = roc_curve(y_test, clf_probs, pos_label ='PASS')\r\n",
    "\r\n",
    "    #Plot ROC curve\r\n",
    "    plt.figure()\r\n",
    "    plt.plot(clf_fpr, clf_tpr, marker='.', label='Random Forest (AUROC = %0.3f)' % clf_auc)\r\n",
    "    \r\n",
    "    # Title\r\n",
    "    \r\n",
    "    plt.title('ROC Plot')\r\n",
    "    # Axis labels\r\n",
    "    plt.xlabel('False Positive Rate')\r\n",
    "    plt.ylabel('True Positive Rate')\r\n",
    "    # Show legend\r\n",
    "    plt.legend() # \r\n",
    "    # Show plot\r\n",
    "    plt.show()"
   ]
  },
  {
   "cell_type": "markdown",
   "metadata": {},
   "source": [
    "#### 5.4.1 Random Forest"
   ]
  },
  {
   "cell_type": "code",
   "execution_count": null,
   "metadata": {},
   "outputs": [],
   "source": []
  }
 ],
 "metadata": {
  "interpreter": {
   "hash": "44dfd87d71a60d6f80064400c4b11ec0a50086241372e6907672112cacccc3e0"
  },
  "kernelspec": {
   "display_name": "Python 3.8.8 64-bit ('BP1': conda)",
   "name": "python3"
  },
  "language_info": {
   "codemirror_mode": {
    "name": "ipython",
    "version": 3
   },
   "file_extension": ".py",
   "mimetype": "text/x-python",
   "name": "python",
   "nbconvert_exporter": "python",
   "pygments_lexer": "ipython3",
   "version": "3.8.8"
  }
 },
 "nbformat": 4,
 "nbformat_minor": 4
}
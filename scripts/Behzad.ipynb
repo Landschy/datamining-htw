{
 "cells": [
  {
   "cell_type": "markdown",
   "metadata": {},
   "source": [
    "## Packages"
   ]
  },
  {
   "cell_type": "markdown",
   "metadata": {},
   "source": [
    "### Install"
   ]
  },
  {
   "cell_type": "code",
   "execution_count": 1,
   "metadata": {},
   "outputs": [
    {
     "name": "stdout",
     "output_type": "stream",
     "text": [
      "Requirement already satisfied: numpy in c:\\users\\behzad\\anaconda3\\envs\\bp1\\lib\\site-packages (1.19.2)\n",
      "Note: you may need to restart the kernel to use updated packages.\n"
     ]
    }
   ],
   "source": [
    "pip install numpy"
   ]
  },
  {
   "cell_type": "code",
   "execution_count": 2,
   "metadata": {},
   "outputs": [
    {
     "name": "stdout",
     "output_type": "stream",
     "text": [
      "Requirement already satisfied: pandas in c:\\users\\behzad\\anaconda3\\envs\\bp1\\lib\\site-packages (1.2.3)\n",
      "Requirement already satisfied: numpy>=1.16.5 in c:\\users\\behzad\\anaconda3\\envs\\bp1\\lib\\site-packages (from pandas) (1.19.2)\n",
      "Requirement already satisfied: pytz>=2017.3 in c:\\users\\behzad\\anaconda3\\envs\\bp1\\lib\\site-packages (from pandas) (2021.1)\n",
      "Requirement already satisfied: python-dateutil>=2.7.3 in c:\\users\\behzad\\anaconda3\\envs\\bp1\\lib\\site-packages (from pandas) (2.8.1)\n",
      "Requirement already satisfied: six>=1.5 in c:\\users\\behzad\\anaconda3\\envs\\bp1\\lib\\site-packages (from python-dateutil>=2.7.3->pandas) (1.15.0)\n",
      "Note: you may need to restart the kernel to use updated packages.\n"
     ]
    }
   ],
   "source": [
    "pip install pandas"
   ]
  },
  {
   "cell_type": "code",
   "execution_count": 3,
   "metadata": {},
   "outputs": [
    {
     "name": "stdout",
     "output_type": "stream",
     "text": [
      "Requirement already satisfied: pyreadstat in c:\\users\\behzad\\anaconda3\\envs\\bp1\\lib\\site-packages (1.1.0)\n",
      "Requirement already satisfied: pandas>0.24.0 in c:\\users\\behzad\\anaconda3\\envs\\bp1\\lib\\site-packages (from pyreadstat) (1.2.3)\n",
      "Requirement already satisfied: numpy>=1.16.5 in c:\\users\\behzad\\anaconda3\\envs\\bp1\\lib\\site-packages (from pandas>0.24.0->pyreadstat) (1.19.2)\n",
      "Requirement already satisfied: python-dateutil>=2.7.3 in c:\\users\\behzad\\anaconda3\\envs\\bp1\\lib\\site-packages (from pandas>0.24.0->pyreadstat) (2.8.1)\n",
      "Requirement already satisfied: pytz>=2017.3 in c:\\users\\behzad\\anaconda3\\envs\\bp1\\lib\\site-packages (from pandas>0.24.0->pyreadstat) (2021.1)\n",
      "Requirement already satisfied: six>=1.5 in c:\\users\\behzad\\anaconda3\\envs\\bp1\\lib\\site-packages (from python-dateutil>=2.7.3->pandas>0.24.0->pyreadstat) (1.15.0)\n",
      "Note: you may need to restart the kernel to use updated packages.\n"
     ]
    }
   ],
   "source": [
    "pip install pyreadstat"
   ]
  },
  {
   "cell_type": "code",
   "execution_count": 4,
   "metadata": {},
   "outputs": [
    {
     "name": "stdout",
     "output_type": "stream",
     "text": [
      "Requirement already satisfied: scipy in c:\\users\\behzad\\anaconda3\\envs\\bp1\\lib\\site-packages (1.6.2)\n",
      "Requirement already satisfied: numpy<1.23.0,>=1.16.5 in c:\\users\\behzad\\anaconda3\\envs\\bp1\\lib\\site-packages (from scipy) (1.19.2)\n",
      "Note: you may need to restart the kernel to use updated packages.\n"
     ]
    }
   ],
   "source": [
    "pip install scipy"
   ]
  },
  {
   "cell_type": "code",
   "execution_count": 5,
   "metadata": {},
   "outputs": [
    {
     "name": "stdout",
     "output_type": "stream",
     "text": [
      "Requirement already satisfied: seaborn in c:\\users\\behzad\\anaconda3\\envs\\bp1\\lib\\site-packages (0.11.1)Note: you may need to restart the kernel to use updated packages.\n",
      "\n",
      "Requirement already satisfied: matplotlib>=2.2 in c:\\users\\behzad\\anaconda3\\envs\\bp1\\lib\\site-packages (from seaborn) (3.3.4)\n",
      "Requirement already satisfied: scipy>=1.0 in c:\\users\\behzad\\anaconda3\\envs\\bp1\\lib\\site-packages (from seaborn) (1.6.2)\n",
      "Requirement already satisfied: pandas>=0.23 in c:\\users\\behzad\\anaconda3\\envs\\bp1\\lib\\site-packages (from seaborn) (1.2.3)\n",
      "Requirement already satisfied: numpy>=1.15 in c:\\users\\behzad\\anaconda3\\envs\\bp1\\lib\\site-packages (from seaborn) (1.19.2)\n",
      "Requirement already satisfied: pyparsing!=2.0.4,!=2.1.2,!=2.1.6,>=2.0.3 in c:\\users\\behzad\\anaconda3\\envs\\bp1\\lib\\site-packages (from matplotlib>=2.2->seaborn) (2.4.7)\n",
      "Requirement already satisfied: kiwisolver>=1.0.1 in c:\\users\\behzad\\anaconda3\\envs\\bp1\\lib\\site-packages (from matplotlib>=2.2->seaborn) (1.3.1)\n",
      "Requirement already satisfied: python-dateutil>=2.1 in c:\\users\\behzad\\anaconda3\\envs\\bp1\\lib\\site-packages (from matplotlib>=2.2->seaborn) (2.8.1)\n",
      "Requirement already satisfied: cycler>=0.10 in c:\\users\\behzad\\anaconda3\\envs\\bp1\\lib\\site-packages (from matplotlib>=2.2->seaborn) (0.10.0)\n",
      "Requirement already satisfied: pillow>=6.2.0 in c:\\users\\behzad\\anaconda3\\envs\\bp1\\lib\\site-packages (from matplotlib>=2.2->seaborn) (8.2.0)\n",
      "Requirement already satisfied: six in c:\\users\\behzad\\anaconda3\\envs\\bp1\\lib\\site-packages (from cycler>=0.10->matplotlib>=2.2->seaborn) (1.15.0)\n",
      "Requirement already satisfied: pytz>=2017.3 in c:\\users\\behzad\\anaconda3\\envs\\bp1\\lib\\site-packages (from pandas>=0.23->seaborn) (2021.1)\n"
     ]
    }
   ],
   "source": [
    "pip install seaborn"
   ]
  },
  {
   "cell_type": "code",
   "execution_count": 6,
   "metadata": {},
   "outputs": [
    {
     "name": "stdout",
     "output_type": "stream",
     "text": [
      "Requirement already satisfied: plotly in c:\\users\\behzad\\anaconda3\\envs\\bp1\\lib\\site-packages (4.14.3)\n",
      "Requirement already satisfied: retrying>=1.3.3 in c:\\users\\behzad\\anaconda3\\envs\\bp1\\lib\\site-packages (from plotly) (1.3.3)\n",
      "Requirement already satisfied: six in c:\\users\\behzad\\anaconda3\\envs\\bp1\\lib\\site-packages (from plotly) (1.15.0)\n",
      "Note: you may need to restart the kernel to use updated packages.\n"
     ]
    }
   ],
   "source": [
    "pip install plotly"
   ]
  },
  {
   "cell_type": "code",
   "execution_count": 7,
   "metadata": {},
   "outputs": [
    {
     "name": "stdout",
     "output_type": "stream",
     "text": [
      "Requirement already satisfied: scikit-learn in c:\\users\\behzad\\anaconda3\\envs\\bp1\\lib\\site-packages (0.24.2)Note: you may need to restart the kernel to use updated packages.\n",
      "\n",
      "Requirement already satisfied: joblib>=0.11 in c:\\users\\behzad\\anaconda3\\envs\\bp1\\lib\\site-packages (from scikit-learn) (1.0.1)\n",
      "Requirement already satisfied: threadpoolctl>=2.0.0 in c:\\users\\behzad\\anaconda3\\envs\\bp1\\lib\\site-packages (from scikit-learn) (2.1.0)\n",
      "Requirement already satisfied: numpy>=1.13.3 in c:\\users\\behzad\\anaconda3\\envs\\bp1\\lib\\site-packages (from scikit-learn) (1.19.2)\n",
      "Requirement already satisfied: scipy>=0.19.1 in c:\\users\\behzad\\anaconda3\\envs\\bp1\\lib\\site-packages (from scikit-learn) (1.6.2)\n"
     ]
    }
   ],
   "source": [
    "pip install -U scikit-learn"
   ]
  },
  {
   "cell_type": "code",
   "execution_count": 8,
   "metadata": {},
   "outputs": [
    {
     "name": "stdout",
     "output_type": "stream",
     "text": [
      "Requirement already satisfied: boruta in c:\\users\\behzad\\anaconda3\\envs\\bp1\\lib\\site-packages (0.3)\n",
      "Requirement already satisfied: scipy>=0.17.0 in c:\\users\\behzad\\anaconda3\\envs\\bp1\\lib\\site-packages (from boruta) (1.6.2)\n",
      "Requirement already satisfied: numpy>=1.10.4 in c:\\users\\behzad\\anaconda3\\envs\\bp1\\lib\\site-packages (from boruta) (1.19.2)\n",
      "Requirement already satisfied: scikit-learn>=0.17.1 in c:\\users\\behzad\\anaconda3\\envs\\bp1\\lib\\site-packages (from boruta) (0.24.2)\n",
      "Requirement already satisfied: joblib>=0.11 in c:\\users\\behzad\\anaconda3\\envs\\bp1\\lib\\site-packages (from scikit-learn>=0.17.1->boruta) (1.0.1)\n",
      "Requirement already satisfied: threadpoolctl>=2.0.0 in c:\\users\\behzad\\anaconda3\\envs\\bp1\\lib\\site-packages (from scikit-learn>=0.17.1->boruta) (2.1.0)\n",
      "Note: you may need to restart the kernel to use updated packages.\n"
     ]
    }
   ],
   "source": [
    "pip install boruta"
   ]
  },
  {
   "cell_type": "code",
   "execution_count": 9,
   "metadata": {},
   "outputs": [
    {
     "name": "stdout",
     "output_type": "stream",
     "text": [
      "Requirement already satisfied: imbalanced-learn in c:\\users\\behzad\\anaconda3\\envs\\bp1\\lib\\site-packages (0.8.0)Note: you may need to restart the kernel to use updated packages.\n",
      "\n",
      "Requirement already satisfied: numpy>=1.13.3 in c:\\users\\behzad\\anaconda3\\envs\\bp1\\lib\\site-packages (from imbalanced-learn) (1.19.2)\n",
      "Requirement already satisfied: joblib>=0.11 in c:\\users\\behzad\\anaconda3\\envs\\bp1\\lib\\site-packages (from imbalanced-learn) (1.0.1)\n",
      "Requirement already satisfied: scikit-learn>=0.24 in c:\\users\\behzad\\anaconda3\\envs\\bp1\\lib\\site-packages (from imbalanced-learn) (0.24.2)\n",
      "Requirement already satisfied: scipy>=0.19.1 in c:\\users\\behzad\\anaconda3\\envs\\bp1\\lib\\site-packages (from imbalanced-learn) (1.6.2)\n",
      "Requirement already satisfied: threadpoolctl>=2.0.0 in c:\\users\\behzad\\anaconda3\\envs\\bp1\\lib\\site-packages (from scikit-learn>=0.24->imbalanced-learn) (2.1.0)\n"
     ]
    }
   ],
   "source": [
    "pip install -U imbalanced-learn"
   ]
  },
  {
   "cell_type": "code",
   "execution_count": 10,
   "metadata": {},
   "outputs": [
    {
     "name": "stdout",
     "output_type": "stream",
     "text": [
      "Requirement already satisfied: statsmodels in c:\\users\\behzad\\anaconda3\\envs\\bp1\\lib\\site-packages (0.12.2)Note: you may need to restart the kernel to use updated packages.\n",
      "\n",
      "Requirement already satisfied: pandas>=0.21 in c:\\users\\behzad\\anaconda3\\envs\\bp1\\lib\\site-packages (from statsmodels) (1.2.3)\n",
      "Requirement already satisfied: scipy>=1.1 in c:\\users\\behzad\\anaconda3\\envs\\bp1\\lib\\site-packages (from statsmodels) (1.6.2)\n",
      "Requirement already satisfied: patsy>=0.5 in c:\\users\\behzad\\anaconda3\\envs\\bp1\\lib\\site-packages (from statsmodels) (0.5.1)\n",
      "Requirement already satisfied: numpy>=1.15 in c:\\users\\behzad\\anaconda3\\envs\\bp1\\lib\\site-packages (from statsmodels) (1.19.2)\n",
      "Requirement already satisfied: python-dateutil>=2.7.3 in c:\\users\\behzad\\anaconda3\\envs\\bp1\\lib\\site-packages (from pandas>=0.21->statsmodels) (2.8.1)\n",
      "Requirement already satisfied: pytz>=2017.3 in c:\\users\\behzad\\anaconda3\\envs\\bp1\\lib\\site-packages (from pandas>=0.21->statsmodels) (2021.1)\n",
      "Requirement already satisfied: six in c:\\users\\behzad\\anaconda3\\envs\\bp1\\lib\\site-packages (from patsy>=0.5->statsmodels) (1.15.0)\n"
     ]
    }
   ],
   "source": [
    "pip install -U statsmodels"
   ]
  },
  {
   "cell_type": "code",
   "execution_count": 11,
   "metadata": {},
   "outputs": [
    {
     "name": "stdout",
     "output_type": "stream",
     "text": [
      "Requirement already satisfied: Jinja2 in c:\\users\\behzad\\anaconda3\\envs\\bp1\\lib\\site-packages (2.11.3)Note: you may need to restart the kernel to use updated packages.\n",
      "\n",
      "Requirement already satisfied: MarkupSafe>=0.23 in c:\\users\\behzad\\anaconda3\\envs\\bp1\\lib\\site-packages (from Jinja2) (1.1.1)\n"
     ]
    }
   ],
   "source": [
    "pip install Jinja2"
   ]
  },
  {
   "cell_type": "code",
   "execution_count": 12,
   "metadata": {},
   "outputs": [
    {
     "name": "stdout",
     "output_type": "stream",
     "text": [
      "Requirement already satisfied: xgboost in c:\\users\\behzad\\anaconda3\\envs\\bp1\\lib\\site-packages (1.4.2)Note: you may need to restart the kernel to use updated packages.\n",
      "\n",
      "Requirement already satisfied: scipy in c:\\users\\behzad\\anaconda3\\envs\\bp1\\lib\\site-packages (from xgboost) (1.6.2)\n",
      "Requirement already satisfied: numpy in c:\\users\\behzad\\anaconda3\\envs\\bp1\\lib\\site-packages (from xgboost) (1.19.2)\n"
     ]
    }
   ],
   "source": [
    "pip install xgboost"
   ]
  },
  {
   "cell_type": "code",
   "execution_count": 8,
   "metadata": {},
   "outputs": [
    {
     "name": "stdout",
     "output_type": "stream",
     "text": [
      "Collecting requestsNote: you may need to restart the kernel to use updated packages.\n",
      "  Downloading requests-2.25.1-py2.py3-none-any.whl (61 kB)\n",
      "Collecting chardet<5,>=3.0.2\n",
      "  Downloading chardet-4.0.0-py2.py3-none-any.whl (178 kB)\n",
      "Collecting idna<3,>=2.5\n",
      "  Downloading idna-2.10-py2.py3-none-any.whl (58 kB)\n",
      "Collecting urllib3<1.27,>=1.21.1\n",
      "  Downloading urllib3-1.26.6-py2.py3-none-any.whl (138 kB)\n",
      "Requirement already satisfied: certifi>=2017.4.17 in c:\\users\\behzad\\anaconda3\\envs\\bp1\\lib\\site-packages (from requests) (2020.12.5)\n",
      "Installing collected packages: urllib3, idna, chardet, requests\n",
      "Successfully installed chardet-4.0.0 idna-2.10 requests-2.25.1 urllib3-1.26.6\n",
      "\n"
     ]
    }
   ],
   "source": [
    "pip install requests"
   ]
  },
  {
   "cell_type": "markdown",
   "metadata": {},
   "source": [
    "### Import"
   ]
  },
  {
   "cell_type": "code",
   "execution_count": 2,
   "metadata": {},
   "outputs": [],
   "source": [
    "import numpy as np # for scientific computing\r\n",
    "import pandas as pd # a fundamental and powerful package for data analysis and manipulation\r\n",
    "import seaborn as sns # seaborn is a Python data visualization library based on matplotlib. It provides a high-level interface for drawing attractive and informative statistical graphics\r\n",
    "import pyreadstat # for reading .sav file\r\n",
    "from sklearn.model_selection import KFold, ShuffleSplit, StratifiedKFold, StratifiedShuffleSplit, LeaveOneOut, train_test_split # for separating train and test data, scaling, model building, ...\r\n",
    "from scipy import stats # it contains a large number of statistics, probability distributions functions\r\n",
    "import matplotlib.pyplot as plt # matplotlib is a library to plot graphs in Python\r\n",
    "from matplotlib.pyplot import figure # Plot graph\r\n",
    "from sklearn.impute import KNNImputer # Imputation for completing missing values using k-Nearest Neighbors\r\n",
    "from sklearn.experimental import enable_iterative_imputer # Enables IterativeImputer. The API and results of this estimator might change without any deprecation cycle\r\n",
    "from sklearn.impute import IterativeImputer # Multivariate imputer that estimates each feature from all the others. A strategy for imputing missing values by modeling each feature with missing values as a function of other features in a round-robin fashion\r\n",
    "from sklearn.ensemble import RandomForestClassifier # A random forest is a meta estimator that fits a number of decision tree classifiers on various sub-samples of the dataset and uses averaging to improve the predictive accuracy and control over-fitting\r\n",
    "from xgboost import XGBClassifier # A boosting algorithm based on gradient boosted decision trees algorithm\r\n",
    "from boruta import BorutaPy # Boruta is an all relevant feature selection method, while most other are minimal optimal; this means it tries to find all features carrying information usable for prediction, rather than finding a possibly compact subset of features on which some classifier has a minimal error\r\n",
    "from imblearn.over_sampling import SMOTE, ADASYN, RandomOverSampler# Implementation of SMOTE - Synthetic Minority Over-sampling Technique , ADASYN, ROSE\r\n",
    "from imblearn.combine import SMOTEENN # Combine over- and under-sampling using SMOTE and Edited Nearest Neighbours\r\n",
    "from collections import Counter # A Counter is a container that keeps track of how many times equivalent values are added\r\n",
    "from sklearn.metrics import plot_confusion_matrix # plot confusion matrix\r\n",
    "from sklearn.metrics import accuracy_score # Accuracy classification score\r\n",
    "from sklearn.model_selection import cross_val_score # Evaluate a score by cross-validation\r\n",
    "from sklearn.metrics import classification_report # Build a text report showing the main classification metrics\r\n",
    "from sklearn import preprocessing # provides the StandardScaler utility class, which is a quick and easy way to perform operations\r\n",
    "from sklearn.preprocessing import StandardScaler # To normalize the data for KNNImputer\r\n",
    "from sklearn.manifold import TSNE # To visualize high dimensional data\r\n",
    "from sklearn.decomposition import PCA # PCA Analysis\r\n",
    "from sklearn.pipeline import Pipeline # Pipeline to connect scalers and classifiers\r\n",
    "from sklearn.metrics import roc_curve, roc_auc_score #Evaluate ROC curve\r\n",
    "import requests # Requests will allow you to send HTTP/1.1 requests using Python\r\n",
    "from sklearn.model_selection import RandomizedSearchCV # Randomized search on hyper parameters"
   ]
  },
  {
   "cell_type": "markdown",
   "metadata": {},
   "source": [
    "## 1. Read Data"
   ]
  },
  {
   "cell_type": "code",
   "execution_count": 37,
   "metadata": {},
   "outputs": [
    {
     "data": {
      "text/plain": [
       "(1567, 592)"
      ]
     },
     "execution_count": 37,
     "metadata": {},
     "output_type": "execute_result"
    }
   ],
   "source": [
    "# Download the SAV file, reading data as a data frame, setting ID as the index and getting the number of rows and columns\r\n",
    "url = 'https://www.dropbox.com/s/g0ih98fpsmpn7cm/secom_mod.SAV?dl=1'\r\n",
    "r = requests.get(url, allow_redirects=True)\r\n",
    "open('secom_mod.SAV', 'wb').write(r.content)\r\n",
    "df = pd.DataFrame(pd.read_spss(\"secom_mod.SAV\"))\r\n",
    "df = df.set_index('ID')\r\n",
    "df.shape"
   ]
  },
  {
   "cell_type": "markdown",
   "metadata": {},
   "source": [
    "## 2. Explore data"
   ]
  },
  {
   "cell_type": "markdown",
   "metadata": {},
   "source": [
    "### 2.1. Shape and type"
   ]
  },
  {
   "cell_type": "code",
   "execution_count": 38,
   "metadata": {},
   "outputs": [
    {
     "name": "stdout",
     "output_type": "stream",
     "text": [
      "Shape:  (1567, 592)\n"
     ]
    }
   ],
   "source": [
    "# shape of the data set\n",
    "print('Shape: ',df.shape)  "
   ]
  },
  {
   "cell_type": "code",
   "execution_count": 39,
   "metadata": {},
   "outputs": [
    {
     "name": "stdout",
     "output_type": "stream",
     "text": [
      "<class 'pandas.core.frame.DataFrame'>\n",
      "Float64Index: 1567 entries, 1.0 to 1567.0\n",
      "Columns: 592 entries, class to feature590\n",
      "dtypes: float64(591), object(1)\n",
      "memory usage: 7.1+ MB\n",
      "None \n",
      "\n",
      "class         float64\n",
      "timestamp      object\n",
      "feature001    float64\n",
      "feature002    float64\n",
      "feature003    float64\n",
      "               ...   \n",
      "feature586    float64\n",
      "feature587    float64\n",
      "feature588    float64\n",
      "feature589    float64\n",
      "feature590    float64\n",
      "Length: 592, dtype: object\n"
     ]
    }
   ],
   "source": [
    "# checking data types of the features\n",
    "print(df.info(),\"\\n\")\n",
    "print(df.dtypes)"
   ]
  },
  {
   "cell_type": "code",
   "execution_count": 40,
   "metadata": {},
   "outputs": [
    {
     "data": {
      "text/plain": [
       "False"
      ]
     },
     "execution_count": 40,
     "metadata": {},
     "output_type": "execute_result"
    }
   ],
   "source": [
    "# Check for duplicated rows\n",
    "df.duplicated().any()"
   ]
  },
  {
   "cell_type": "code",
   "execution_count": 41,
   "metadata": {},
   "outputs": [
    {
     "data": {
      "text/html": [
       "<div>\n",
       "<style scoped>\n",
       "    .dataframe tbody tr th:only-of-type {\n",
       "        vertical-align: middle;\n",
       "    }\n",
       "\n",
       "    .dataframe tbody tr th {\n",
       "        vertical-align: top;\n",
       "    }\n",
       "\n",
       "    .dataframe thead th {\n",
       "        text-align: right;\n",
       "    }\n",
       "</style>\n",
       "<table border=\"1\" class=\"dataframe\">\n",
       "  <thead>\n",
       "    <tr style=\"text-align: right;\">\n",
       "      <th></th>\n",
       "      <th>class</th>\n",
       "      <th>timestamp</th>\n",
       "      <th>feature001</th>\n",
       "      <th>feature002</th>\n",
       "      <th>feature003</th>\n",
       "      <th>feature004</th>\n",
       "      <th>feature005</th>\n",
       "      <th>feature006</th>\n",
       "      <th>feature007</th>\n",
       "      <th>feature008</th>\n",
       "      <th>...</th>\n",
       "      <th>feature581</th>\n",
       "      <th>feature582</th>\n",
       "      <th>feature583</th>\n",
       "      <th>feature584</th>\n",
       "      <th>feature585</th>\n",
       "      <th>feature586</th>\n",
       "      <th>feature587</th>\n",
       "      <th>feature588</th>\n",
       "      <th>feature589</th>\n",
       "      <th>feature590</th>\n",
       "    </tr>\n",
       "    <tr>\n",
       "      <th>ID</th>\n",
       "      <th></th>\n",
       "      <th></th>\n",
       "      <th></th>\n",
       "      <th></th>\n",
       "      <th></th>\n",
       "      <th></th>\n",
       "      <th></th>\n",
       "      <th></th>\n",
       "      <th></th>\n",
       "      <th></th>\n",
       "      <th></th>\n",
       "      <th></th>\n",
       "      <th></th>\n",
       "      <th></th>\n",
       "      <th></th>\n",
       "      <th></th>\n",
       "      <th></th>\n",
       "      <th></th>\n",
       "      <th></th>\n",
       "      <th></th>\n",
       "      <th></th>\n",
       "    </tr>\n",
       "  </thead>\n",
       "  <tbody>\n",
       "  </tbody>\n",
       "</table>\n",
       "<p>0 rows × 592 columns</p>\n",
       "</div>"
      ],
      "text/plain": [
       "Empty DataFrame\n",
       "Columns: [class, timestamp, feature001, feature002, feature003, feature004, feature005, feature006, feature007, feature008, feature009, feature010, feature011, feature012, feature013, feature014, feature015, feature016, feature017, feature018, feature019, feature020, feature021, feature022, feature023, feature024, feature025, feature026, feature027, feature028, feature029, feature030, feature031, feature032, feature033, feature034, feature035, feature036, feature037, feature038, feature039, feature040, feature041, feature042, feature043, feature044, feature045, feature046, feature047, feature048, feature049, feature050, feature051, feature052, feature053, feature054, feature055, feature056, feature057, feature058, feature059, feature060, feature061, feature062, feature063, feature064, feature065, feature066, feature067, feature068, feature069, feature070, feature071, feature072, feature073, feature074, feature075, feature076, feature077, feature078, feature079, feature080, feature081, feature082, feature083, feature084, feature085, feature086, feature087, feature088, feature089, feature090, feature091, feature092, feature093, feature094, feature095, feature096, feature097, feature098, ...]\n",
       "Index: []\n",
       "\n",
       "[0 rows x 592 columns]"
      ]
     },
     "execution_count": 41,
     "metadata": {},
     "output_type": "execute_result"
    }
   ],
   "source": [
    "#Check for duplicated columns\r\n",
    "listofName = list(df.columns)\r\n",
    "testID = df[[c for c in df if c not in listofName]]\r\n",
    "#its runnig for the whole DF\r\n",
    "testRows = df[df.duplicated()]\r\n",
    "testRows.head()"
   ]
  },
  {
   "cell_type": "markdown",
   "metadata": {},
   "source": [
    "### 2.3. Pass / Fail ratio"
   ]
  },
  {
   "cell_type": "code",
   "execution_count": 42,
   "metadata": {},
   "outputs": [
    {
     "data": {
      "text/plain": [
       "0.0    1472\n",
       "1.0      95\n",
       "Name: class, dtype: int64"
      ]
     },
     "execution_count": 42,
     "metadata": {},
     "output_type": "execute_result"
    }
   ],
   "source": [
    "# number of pass and fail values\n",
    "df['class'].value_counts()"
   ]
  },
  {
   "cell_type": "code",
   "execution_count": 43,
   "metadata": {},
   "outputs": [],
   "source": [
    "# pie chart of the target variable\n",
    "def ClassDistributionGraph(df, title):\n",
    "    %matplotlib inline\n",
    "    plt.rcParams.update({'figure.figsize':(5,5), 'figure.dpi':100})\n",
    "    \n",
    "    labels = ['Pass', 'Fail']\n",
    "    distribution = df.value_counts()\n",
    "    colors = ['lightblue', 'yellowgreen']\n",
    "\n",
    "    # Plot\n",
    "    plt.pie(distribution, labels=labels, colors=colors, autopct= lambda p: '{:.2f}%({:.0f})'.format(p,(p/100)*distribution.sum()), shadow=True, startangle=140,)\n",
    "    plt.title(title, fontsize=15)\n",
    "    plt.axis('equal')\n",
    "    plt.show()"
   ]
  },
  {
   "cell_type": "code",
   "execution_count": 44,
   "metadata": {},
   "outputs": [
    {
     "data": {
      "image/png": "[encoded data removed]",
      "text/plain": [
       "<Figure size 500x500 with 1 Axes>"
      ]
     },
     "metadata": {},
     "output_type": "display_data"
    }
   ],
   "source": [
    "ClassDistributionGraph(df['class'], 'Class Distribution of SECOM dataset')"
   ]
  },
  {
   "cell_type": "markdown",
   "metadata": {},
   "source": [
    "### 2.4. Histogram of features"
   ]
  },
  {
   "cell_type": "code",
   "execution_count": 45,
   "metadata": {
    "scrolled": false
   },
   "outputs": [
    {
     "name": "stdout",
     "output_type": "stream",
     "text": [
      "23 9 8 3\n"
     ]
    },
    {
     "data": {
      "image/png": "[encoded data removed]",
      "text/plain": [
       "<Figure size 1440x5120 with 9 Axes>"
      ]
     },
     "metadata": {},
     "output_type": "display_data"
    }
   ],
   "source": [
    "# histogram of some of the features\n",
    "def plotPerColumnDistribution(df, nGraphShown, nGraphPerRow):\n",
    "    %matplotlib inline\n",
    "    plt.rcParams.update({'figure.figsize':(8,8), 'figure.dpi':100})\n",
    " \n",
    "    \n",
    "    nunique = df.nunique()\n",
    "    df = df[[col for col in df if nunique[col] > 1 and nunique[col] < 50]] # For displaying purposes, pick columns that have between 1 and 50 unique values\n",
    "    nRow, nCol = df.shape\n",
    "    columnNames = list(df)\n",
    "    nGraphRow = int((nCol + nGraphPerRow - 1) / nGraphPerRow)\n",
    "    %matplotlib inline\n",
    "    plt.figure(num = None, figsize = (6 * nGraphPerRow, 8 * nGraphRow), dpi = 80, facecolor = 'w', edgecolor = 'k')\n",
    "   \n",
    "    print(nCol, nGraphShown, nGraphRow, nGraphPerRow)\n",
    "    for i in range(min(nCol, nGraphShown)):\n",
    "        plt.subplot(nGraphRow, nGraphPerRow, i + 1)\n",
    "        columnDf = df.iloc[:, i]\n",
    "        if (not np.issubdtype(type(columnDf.iloc[0]), np.number)):\n",
    "            valueCounts = columnDf.value_counts()\n",
    "            valueCounts.plot.bar()\n",
    "        else:\n",
    "            columnDf.hist()\n",
    "        plt.ylabel('counts')\n",
    "        plt.xticks(rotation = 90)\n",
    "        plt.title(f'{columnNames[i]} (column {i})')\n",
    "    plt.tight_layout(pad = 1.0, w_pad = 1.0, h_pad = 1.0)\n",
    "    plt.show()\n",
    "\n",
    "plotPerColumnDistribution(df, 9, 3)"
   ]
  },
  {
   "cell_type": "markdown",
   "metadata": {},
   "source": [
    "### 2.5. Correlation"
   ]
  },
  {
   "cell_type": "code",
   "execution_count": 46,
   "metadata": {},
   "outputs": [],
   "source": [
    "# Correlation Histogram\n",
    "\n",
    "def correlation(df):\n",
    "    cor_matrix = pd.DataFrame(df.corr())\n",
    "\n",
    "    # Remove reuntant values by selecting only the upper correlation triangle\n",
    "    upper_tri = pd.DataFrame(cor_matrix.where(np.triu(np.ones(cor_matrix.shape),k=1).astype(bool)))\n",
    "\n",
    "    # Convert the upper correlation triangle to a Series\n",
    "    corlist = pd.Series(upper_tri.values.ravel('F'))\n",
    "\n",
    "    # Correlation Histogram\n",
    "    %matplotlib inline\n",
    "    plt.rcParams.update({'figure.figsize':(8,8), 'figure.dpi':100})\n",
    "\n",
    "    # Plot Histogram on x\n",
    "    plt.hist(corlist, bins =50)\n",
    "    plt.gca().set(title='Frequency Histogram of Correlation', ylabel='Frequency', xlabel='Correlation coefficient');"
   ]
  },
  {
   "cell_type": "code",
   "execution_count": 47,
   "metadata": {},
   "outputs": [
    {
     "data": {
      "image/png": "[encoded data removed]",
      "text/plain": [
       "<Figure size 800x800 with 1 Axes>"
      ]
     },
     "metadata": {
      "needs_background": "light"
     },
     "output_type": "display_data"
    }
   ],
   "source": [
    "correlation(df)"
   ]
  },
  {
   "cell_type": "markdown",
   "metadata": {},
   "source": [
    "### 2.6. Missing values"
   ]
  },
  {
   "cell_type": "code",
   "execution_count": 48,
   "metadata": {},
   "outputs": [
    {
     "data": {
      "text/plain": [
       "41951"
      ]
     },
     "execution_count": 48,
     "metadata": {},
     "output_type": "execute_result"
    }
   ],
   "source": [
    "# Total number of Nan values in the dataframe\n",
    "df.isna().sum().sum()"
   ]
  },
  {
   "cell_type": "code",
   "execution_count": 49,
   "metadata": {},
   "outputs": [
    {
     "name": "stdout",
     "output_type": "stream",
     "text": [
      "number of columns with missing values =  538\n",
      "number of rows with missing values =  1567\n"
     ]
    }
   ],
   "source": [
    "#number of cols with Nan values\n",
    "nan_cols = [i for i in df.columns if df[i].isnull().any()]\n",
    "print('number of columns with missing values = ', len(nan_cols))\n",
    "\n",
    "#number of rows with Nan values\n",
    "nan_rows = df.apply(lambda x: sum(x.isnull().values), axis = 1) # For rows\n",
    "print('number of rows with missing values = ', len(nan_rows))"
   ]
  },
  {
   "cell_type": "markdown",
   "metadata": {},
   "source": [
    "## 3. Preprocessing"
   ]
  },
  {
   "cell_type": "code",
   "execution_count": 50,
   "metadata": {},
   "outputs": [
    {
     "data": {
      "text/html": [
       "<div>\n",
       "<style scoped>\n",
       "    .dataframe tbody tr th:only-of-type {\n",
       "        vertical-align: middle;\n",
       "    }\n",
       "\n",
       "    .dataframe tbody tr th {\n",
       "        vertical-align: top;\n",
       "    }\n",
       "\n",
       "    .dataframe thead th {\n",
       "        text-align: right;\n",
       "    }\n",
       "</style>\n",
       "<table border=\"1\" class=\"dataframe\">\n",
       "  <thead>\n",
       "    <tr style=\"text-align: right;\">\n",
       "      <th></th>\n",
       "      <th>class</th>\n",
       "      <th>timestamp</th>\n",
       "      <th>feature001</th>\n",
       "      <th>feature002</th>\n",
       "      <th>feature003</th>\n",
       "      <th>feature004</th>\n",
       "      <th>feature005</th>\n",
       "      <th>feature006</th>\n",
       "      <th>feature007</th>\n",
       "      <th>feature008</th>\n",
       "      <th>...</th>\n",
       "      <th>feature581</th>\n",
       "      <th>feature582</th>\n",
       "      <th>feature583</th>\n",
       "      <th>feature584</th>\n",
       "      <th>feature585</th>\n",
       "      <th>feature586</th>\n",
       "      <th>feature587</th>\n",
       "      <th>feature588</th>\n",
       "      <th>feature589</th>\n",
       "      <th>feature590</th>\n",
       "    </tr>\n",
       "    <tr>\n",
       "      <th>ID</th>\n",
       "      <th></th>\n",
       "      <th></th>\n",
       "      <th></th>\n",
       "      <th></th>\n",
       "      <th></th>\n",
       "      <th></th>\n",
       "      <th></th>\n",
       "      <th></th>\n",
       "      <th></th>\n",
       "      <th></th>\n",
       "      <th></th>\n",
       "      <th></th>\n",
       "      <th></th>\n",
       "      <th></th>\n",
       "      <th></th>\n",
       "      <th></th>\n",
       "      <th></th>\n",
       "      <th></th>\n",
       "      <th></th>\n",
       "      <th></th>\n",
       "      <th></th>\n",
       "    </tr>\n",
       "  </thead>\n",
       "  <tbody>\n",
       "    <tr>\n",
       "      <th>1563.0</th>\n",
       "      <td>PASS</td>\n",
       "      <td>16/10/2008 15:13:00</td>\n",
       "      <td>2899.41</td>\n",
       "      <td>2464.36</td>\n",
       "      <td>2179.7333</td>\n",
       "      <td>3085.3781</td>\n",
       "      <td>1.4843</td>\n",
       "      <td>100.0</td>\n",
       "      <td>82.2467</td>\n",
       "      <td>0.1248</td>\n",
       "      <td>...</td>\n",
       "      <td>0.0047</td>\n",
       "      <td>203.1720</td>\n",
       "      <td>0.4988</td>\n",
       "      <td>0.0143</td>\n",
       "      <td>0.0039</td>\n",
       "      <td>2.8669</td>\n",
       "      <td>0.0068</td>\n",
       "      <td>0.0138</td>\n",
       "      <td>0.0047</td>\n",
       "      <td>203.1720</td>\n",
       "    </tr>\n",
       "    <tr>\n",
       "      <th>1564.0</th>\n",
       "      <td>PASS</td>\n",
       "      <td>16/10/2008 20:49:00</td>\n",
       "      <td>3052.31</td>\n",
       "      <td>2522.55</td>\n",
       "      <td>2198.5667</td>\n",
       "      <td>1124.6595</td>\n",
       "      <td>0.8763</td>\n",
       "      <td>100.0</td>\n",
       "      <td>98.4689</td>\n",
       "      <td>0.1205</td>\n",
       "      <td>...</td>\n",
       "      <td>NaN</td>\n",
       "      <td>NaN</td>\n",
       "      <td>0.4975</td>\n",
       "      <td>0.0131</td>\n",
       "      <td>0.0036</td>\n",
       "      <td>2.6238</td>\n",
       "      <td>0.0068</td>\n",
       "      <td>0.0138</td>\n",
       "      <td>0.0047</td>\n",
       "      <td>203.1720</td>\n",
       "    </tr>\n",
       "    <tr>\n",
       "      <th>1565.0</th>\n",
       "      <td>PASS</td>\n",
       "      <td>17/10/2008 05:26:00</td>\n",
       "      <td>2978.81</td>\n",
       "      <td>2379.78</td>\n",
       "      <td>2206.3000</td>\n",
       "      <td>1110.4967</td>\n",
       "      <td>0.8236</td>\n",
       "      <td>100.0</td>\n",
       "      <td>99.4122</td>\n",
       "      <td>0.1208</td>\n",
       "      <td>...</td>\n",
       "      <td>0.0025</td>\n",
       "      <td>43.5231</td>\n",
       "      <td>0.4987</td>\n",
       "      <td>0.0153</td>\n",
       "      <td>0.0041</td>\n",
       "      <td>3.0590</td>\n",
       "      <td>0.0197</td>\n",
       "      <td>0.0086</td>\n",
       "      <td>0.0025</td>\n",
       "      <td>43.5231</td>\n",
       "    </tr>\n",
       "    <tr>\n",
       "      <th>1566.0</th>\n",
       "      <td>PASS</td>\n",
       "      <td>17/10/2008 06:01:00</td>\n",
       "      <td>2894.92</td>\n",
       "      <td>2532.01</td>\n",
       "      <td>2177.0333</td>\n",
       "      <td>1183.7287</td>\n",
       "      <td>1.5726</td>\n",
       "      <td>100.0</td>\n",
       "      <td>98.7978</td>\n",
       "      <td>0.1213</td>\n",
       "      <td>...</td>\n",
       "      <td>0.0075</td>\n",
       "      <td>93.4941</td>\n",
       "      <td>0.5004</td>\n",
       "      <td>0.0178</td>\n",
       "      <td>0.0038</td>\n",
       "      <td>3.5662</td>\n",
       "      <td>0.0262</td>\n",
       "      <td>0.0245</td>\n",
       "      <td>0.0075</td>\n",
       "      <td>93.4941</td>\n",
       "    </tr>\n",
       "    <tr>\n",
       "      <th>1567.0</th>\n",
       "      <td>PASS</td>\n",
       "      <td>17/10/2008 06:07:00</td>\n",
       "      <td>2944.92</td>\n",
       "      <td>2450.76</td>\n",
       "      <td>2195.4444</td>\n",
       "      <td>2914.1792</td>\n",
       "      <td>1.5978</td>\n",
       "      <td>100.0</td>\n",
       "      <td>85.1011</td>\n",
       "      <td>0.1235</td>\n",
       "      <td>...</td>\n",
       "      <td>0.0045</td>\n",
       "      <td>137.7844</td>\n",
       "      <td>0.4987</td>\n",
       "      <td>0.0181</td>\n",
       "      <td>0.0040</td>\n",
       "      <td>3.6275</td>\n",
       "      <td>0.0117</td>\n",
       "      <td>0.0162</td>\n",
       "      <td>0.0045</td>\n",
       "      <td>137.7844</td>\n",
       "    </tr>\n",
       "  </tbody>\n",
       "</table>\n",
       "<p>5 rows × 592 columns</p>\n",
       "</div>"
      ],
      "text/plain": [
       "       class            timestamp  feature001  feature002  feature003  \\\n",
       "ID                                                                      \n",
       "1563.0  PASS  16/10/2008 15:13:00     2899.41     2464.36   2179.7333   \n",
       "1564.0  PASS  16/10/2008 20:49:00     3052.31     2522.55   2198.5667   \n",
       "1565.0  PASS  17/10/2008 05:26:00     2978.81     2379.78   2206.3000   \n",
       "1566.0  PASS  17/10/2008 06:01:00     2894.92     2532.01   2177.0333   \n",
       "1567.0  PASS  17/10/2008 06:07:00     2944.92     2450.76   2195.4444   \n",
       "\n",
       "        feature004  feature005  feature006  feature007  feature008  ...  \\\n",
       "ID                                                                  ...   \n",
       "1563.0   3085.3781      1.4843       100.0     82.2467      0.1248  ...   \n",
       "1564.0   1124.6595      0.8763       100.0     98.4689      0.1205  ...   \n",
       "1565.0   1110.4967      0.8236       100.0     99.4122      0.1208  ...   \n",
       "1566.0   1183.7287      1.5726       100.0     98.7978      0.1213  ...   \n",
       "1567.0   2914.1792      1.5978       100.0     85.1011      0.1235  ...   \n",
       "\n",
       "        feature581  feature582  feature583  feature584  feature585  \\\n",
       "ID                                                                   \n",
       "1563.0      0.0047    203.1720      0.4988      0.0143      0.0039   \n",
       "1564.0         NaN         NaN      0.4975      0.0131      0.0036   \n",
       "1565.0      0.0025     43.5231      0.4987      0.0153      0.0041   \n",
       "1566.0      0.0075     93.4941      0.5004      0.0178      0.0038   \n",
       "1567.0      0.0045    137.7844      0.4987      0.0181      0.0040   \n",
       "\n",
       "        feature586  feature587  feature588  feature589  feature590  \n",
       "ID                                                                  \n",
       "1563.0      2.8669      0.0068      0.0138      0.0047    203.1720  \n",
       "1564.0      2.6238      0.0068      0.0138      0.0047    203.1720  \n",
       "1565.0      3.0590      0.0197      0.0086      0.0025     43.5231  \n",
       "1566.0      3.5662      0.0262      0.0245      0.0075     93.4941  \n",
       "1567.0      3.6275      0.0117      0.0162      0.0045    137.7844  \n",
       "\n",
       "[5 rows x 592 columns]"
      ]
     },
     "execution_count": 50,
     "metadata": {},
     "output_type": "execute_result"
    }
   ],
   "source": [
    "# Give text labels to the training examples\n",
    "df['class'] = df['class'].replace({0: \"PASS\", 1: \"FAIL\"})\n",
    "df.tail()"
   ]
  },
  {
   "cell_type": "markdown",
   "metadata": {},
   "source": [
    "## 4. Data Preparation"
   ]
  },
  {
   "cell_type": "markdown",
   "metadata": {},
   "source": [
    "### 4.1 Splitting Traninig and Test Data"
   ]
  },
  {
   "cell_type": "code",
   "execution_count": 51,
   "metadata": {},
   "outputs": [],
   "source": [
    "# Split df into X and y\n",
    "y = df['class']\n",
    "X = df.drop('class', axis=1)"
   ]
  },
  {
   "cell_type": "code",
   "execution_count": 52,
   "metadata": {},
   "outputs": [],
   "source": [
    "# Train-test split\n",
    "X_train, X_test_ , y_train, y_test = train_test_split(X, y, train_size = 0.8, shuffle=True, random_state=40, stratify=y)"
   ]
  },
  {
   "cell_type": "code",
   "execution_count": 53,
   "metadata": {},
   "outputs": [
    {
     "data": {
      "image/png": "[encoded data removed]",
      "text/plain": [
       "<Figure size 500x500 with 1 Axes>"
      ]
     },
     "metadata": {},
     "output_type": "display_data"
    }
   ],
   "source": [
    "# pie chart for the train set\n",
    "ClassDistributionGraph(y_train, 'Class Distribution of train set')"
   ]
  },
  {
   "cell_type": "code",
   "execution_count": 54,
   "metadata": {},
   "outputs": [
    {
     "data": {
      "image/png": "[encoded data removed]",
      "text/plain": [
       "<Figure size 500x500 with 1 Axes>"
      ]
     },
     "metadata": {},
     "output_type": "display_data"
    }
   ],
   "source": [
    "# pie chart for the test set\n",
    "ClassDistributionGraph(y_test, 'Class Distribution of test set')"
   ]
  },
  {
   "cell_type": "markdown",
   "metadata": {},
   "source": [
    "### 4.2 Rough feature reduction"
   ]
  },
  {
   "cell_type": "markdown",
   "metadata": {},
   "source": [
    "#### 4.2.1 Removal of timestamp"
   ]
  },
  {
   "cell_type": "code",
   "execution_count": 55,
   "metadata": {},
   "outputs": [],
   "source": [
    "# removing timestamp\n",
    "X_train= X_train.drop(columns='timestamp')"
   ]
  },
  {
   "cell_type": "markdown",
   "metadata": {},
   "source": [
    "#### 4.2.2 Removal of constants"
   ]
  },
  {
   "cell_type": "code",
   "execution_count": 56,
   "metadata": {
    "scrolled": false
   },
   "outputs": [
    {
     "name": "stdout",
     "output_type": "stream",
     "text": [
      "116\n",
      "['feature006', 'feature014', 'feature043', 'feature050', 'feature053', 'feature070', 'feature098', 'feature142', 'feature150', 'feature179', 'feature180', 'feature187', 'feature190', 'feature191', 'feature192', 'feature193', 'feature194', 'feature195', 'feature227', 'feature230', 'feature231', 'feature232', 'feature233', 'feature234', 'feature235', 'feature236', 'feature237', 'feature238', 'feature241', 'feature242', 'feature243', 'feature244', 'feature257', 'feature258', 'feature259', 'feature260', 'feature261', 'feature262', 'feature263', 'feature264', 'feature265', 'feature266', 'feature267', 'feature277', 'feature285', 'feature314', 'feature315', 'feature316', 'feature323', 'feature326', 'feature327', 'feature328', 'feature329', 'feature330', 'feature331', 'feature365', 'feature370', 'feature371', 'feature372', 'feature373', 'feature374', 'feature375', 'feature376', 'feature379', 'feature380', 'feature381', 'feature382', 'feature395', 'feature396', 'feature397', 'feature398', 'feature399', 'feature400', 'feature401', 'feature402', 'feature403', 'feature404', 'feature405', 'feature415', 'feature423', 'feature450', 'feature451', 'feature452', 'feature459', 'feature462', 'feature463', 'feature464', 'feature465', 'feature466', 'feature467', 'feature482', 'feature499', 'feature502', 'feature503', 'feature504', 'feature505', 'feature506', 'feature507', 'feature508', 'feature509', 'feature510', 'feature513', 'feature514', 'feature515', 'feature516', 'feature529', 'feature530', 'feature531', 'feature532', 'feature533', 'feature534', 'feature535', 'feature536', 'feature537', 'feature538', 'feature539']\n"
     ]
    },
    {
     "data": {
      "text/html": [
       "<div>\n",
       "<style scoped>\n",
       "    .dataframe tbody tr th:only-of-type {\n",
       "        vertical-align: middle;\n",
       "    }\n",
       "\n",
       "    .dataframe tbody tr th {\n",
       "        vertical-align: top;\n",
       "    }\n",
       "\n",
       "    .dataframe thead th {\n",
       "        text-align: right;\n",
       "    }\n",
       "</style>\n",
       "<table border=\"1\" class=\"dataframe\">\n",
       "  <thead>\n",
       "    <tr style=\"text-align: right;\">\n",
       "      <th></th>\n",
       "      <th>feature001</th>\n",
       "      <th>feature002</th>\n",
       "      <th>feature003</th>\n",
       "      <th>feature004</th>\n",
       "      <th>feature005</th>\n",
       "      <th>feature007</th>\n",
       "      <th>feature008</th>\n",
       "      <th>feature009</th>\n",
       "      <th>feature010</th>\n",
       "      <th>feature011</th>\n",
       "      <th>...</th>\n",
       "      <th>feature581</th>\n",
       "      <th>feature582</th>\n",
       "      <th>feature583</th>\n",
       "      <th>feature584</th>\n",
       "      <th>feature585</th>\n",
       "      <th>feature586</th>\n",
       "      <th>feature587</th>\n",
       "      <th>feature588</th>\n",
       "      <th>feature589</th>\n",
       "      <th>feature590</th>\n",
       "    </tr>\n",
       "    <tr>\n",
       "      <th>ID</th>\n",
       "      <th></th>\n",
       "      <th></th>\n",
       "      <th></th>\n",
       "      <th></th>\n",
       "      <th></th>\n",
       "      <th></th>\n",
       "      <th></th>\n",
       "      <th></th>\n",
       "      <th></th>\n",
       "      <th></th>\n",
       "      <th></th>\n",
       "      <th></th>\n",
       "      <th></th>\n",
       "      <th></th>\n",
       "      <th></th>\n",
       "      <th></th>\n",
       "      <th></th>\n",
       "      <th></th>\n",
       "      <th></th>\n",
       "      <th></th>\n",
       "      <th></th>\n",
       "    </tr>\n",
       "  </thead>\n",
       "  <tbody>\n",
       "    <tr>\n",
       "      <th>567.0</th>\n",
       "      <td>3023.07</td>\n",
       "      <td>2484.55</td>\n",
       "      <td>2242.8555</td>\n",
       "      <td>1430.7270</td>\n",
       "      <td>0.8832</td>\n",
       "      <td>106.2100</td>\n",
       "      <td>0.1216</td>\n",
       "      <td>1.5613</td>\n",
       "      <td>-0.0028</td>\n",
       "      <td>0.0008</td>\n",
       "      <td>...</td>\n",
       "      <td>NaN</td>\n",
       "      <td>NaN</td>\n",
       "      <td>0.4979</td>\n",
       "      <td>0.0165</td>\n",
       "      <td>0.0041</td>\n",
       "      <td>3.3098</td>\n",
       "      <td>0.0184</td>\n",
       "      <td>0.0127</td>\n",
       "      <td>0.0037</td>\n",
       "      <td>68.7057</td>\n",
       "    </tr>\n",
       "    <tr>\n",
       "      <th>1261.0</th>\n",
       "      <td>2953.63</td>\n",
       "      <td>2384.04</td>\n",
       "      <td>2191.2111</td>\n",
       "      <td>1437.5003</td>\n",
       "      <td>2.2073</td>\n",
       "      <td>97.6444</td>\n",
       "      <td>0.1235</td>\n",
       "      <td>1.3584</td>\n",
       "      <td>-0.0024</td>\n",
       "      <td>-0.0048</td>\n",
       "      <td>...</td>\n",
       "      <td>NaN</td>\n",
       "      <td>NaN</td>\n",
       "      <td>0.4968</td>\n",
       "      <td>0.0188</td>\n",
       "      <td>0.0041</td>\n",
       "      <td>3.7853</td>\n",
       "      <td>0.0137</td>\n",
       "      <td>0.0326</td>\n",
       "      <td>0.0108</td>\n",
       "      <td>237.4625</td>\n",
       "    </tr>\n",
       "    <tr>\n",
       "      <th>1041.0</th>\n",
       "      <td>3021.61</td>\n",
       "      <td>2440.29</td>\n",
       "      <td>2227.2222</td>\n",
       "      <td>2043.5876</td>\n",
       "      <td>1.1892</td>\n",
       "      <td>95.5267</td>\n",
       "      <td>0.1253</td>\n",
       "      <td>1.5335</td>\n",
       "      <td>-0.0083</td>\n",
       "      <td>-0.0095</td>\n",
       "      <td>...</td>\n",
       "      <td>NaN</td>\n",
       "      <td>NaN</td>\n",
       "      <td>0.5091</td>\n",
       "      <td>0.0123</td>\n",
       "      <td>0.0031</td>\n",
       "      <td>2.4116</td>\n",
       "      <td>0.0437</td>\n",
       "      <td>0.0200</td>\n",
       "      <td>0.0074</td>\n",
       "      <td>45.7019</td>\n",
       "    </tr>\n",
       "    <tr>\n",
       "      <th>1181.0</th>\n",
       "      <td>3093.46</td>\n",
       "      <td>2479.17</td>\n",
       "      <td>2221.3667</td>\n",
       "      <td>2490.6947</td>\n",
       "      <td>1.2667</td>\n",
       "      <td>88.6578</td>\n",
       "      <td>0.1220</td>\n",
       "      <td>1.3537</td>\n",
       "      <td>0.0134</td>\n",
       "      <td>-0.0039</td>\n",
       "      <td>...</td>\n",
       "      <td>NaN</td>\n",
       "      <td>NaN</td>\n",
       "      <td>0.5006</td>\n",
       "      <td>0.0148</td>\n",
       "      <td>0.0036</td>\n",
       "      <td>2.9659</td>\n",
       "      <td>0.0190</td>\n",
       "      <td>0.0150</td>\n",
       "      <td>0.0045</td>\n",
       "      <td>78.6525</td>\n",
       "    </tr>\n",
       "    <tr>\n",
       "      <th>611.0</th>\n",
       "      <td>3010.40</td>\n",
       "      <td>NaN</td>\n",
       "      <td>2172.4000</td>\n",
       "      <td>1148.4101</td>\n",
       "      <td>1.2614</td>\n",
       "      <td>102.4522</td>\n",
       "      <td>0.1227</td>\n",
       "      <td>1.3843</td>\n",
       "      <td>-0.0010</td>\n",
       "      <td>-0.0004</td>\n",
       "      <td>...</td>\n",
       "      <td>NaN</td>\n",
       "      <td>NaN</td>\n",
       "      <td>0.5015</td>\n",
       "      <td>0.0137</td>\n",
       "      <td>0.0034</td>\n",
       "      <td>2.7339</td>\n",
       "      <td>0.0252</td>\n",
       "      <td>0.0157</td>\n",
       "      <td>0.0046</td>\n",
       "      <td>62.3881</td>\n",
       "    </tr>\n",
       "    <tr>\n",
       "      <th>...</th>\n",
       "      <td>...</td>\n",
       "      <td>...</td>\n",
       "      <td>...</td>\n",
       "      <td>...</td>\n",
       "      <td>...</td>\n",
       "      <td>...</td>\n",
       "      <td>...</td>\n",
       "      <td>...</td>\n",
       "      <td>...</td>\n",
       "      <td>...</td>\n",
       "      <td>...</td>\n",
       "      <td>...</td>\n",
       "      <td>...</td>\n",
       "      <td>...</td>\n",
       "      <td>...</td>\n",
       "      <td>...</td>\n",
       "      <td>...</td>\n",
       "      <td>...</td>\n",
       "      <td>...</td>\n",
       "      <td>...</td>\n",
       "      <td>...</td>\n",
       "    </tr>\n",
       "    <tr>\n",
       "      <th>806.0</th>\n",
       "      <td>2952.31</td>\n",
       "      <td>2453.53</td>\n",
       "      <td>2188.7222</td>\n",
       "      <td>1325.5230</td>\n",
       "      <td>1.1721</td>\n",
       "      <td>105.1700</td>\n",
       "      <td>0.1250</td>\n",
       "      <td>1.4480</td>\n",
       "      <td>-0.0233</td>\n",
       "      <td>0.0087</td>\n",
       "      <td>...</td>\n",
       "      <td>NaN</td>\n",
       "      <td>NaN</td>\n",
       "      <td>0.4949</td>\n",
       "      <td>0.0155</td>\n",
       "      <td>0.0034</td>\n",
       "      <td>3.1238</td>\n",
       "      <td>0.0253</td>\n",
       "      <td>0.0058</td>\n",
       "      <td>0.0018</td>\n",
       "      <td>22.7661</td>\n",
       "    </tr>\n",
       "    <tr>\n",
       "      <th>1101.0</th>\n",
       "      <td>2880.58</td>\n",
       "      <td>2489.76</td>\n",
       "      <td>2256.6000</td>\n",
       "      <td>2365.4787</td>\n",
       "      <td>1.1384</td>\n",
       "      <td>85.4278</td>\n",
       "      <td>0.1205</td>\n",
       "      <td>1.6114</td>\n",
       "      <td>0.0484</td>\n",
       "      <td>0.0043</td>\n",
       "      <td>...</td>\n",
       "      <td>0.0076</td>\n",
       "      <td>50.7949</td>\n",
       "      <td>0.5032</td>\n",
       "      <td>0.0117</td>\n",
       "      <td>0.0029</td>\n",
       "      <td>2.3282</td>\n",
       "      <td>0.0398</td>\n",
       "      <td>0.0202</td>\n",
       "      <td>0.0076</td>\n",
       "      <td>50.7949</td>\n",
       "    </tr>\n",
       "    <tr>\n",
       "      <th>1469.0</th>\n",
       "      <td>2968.78</td>\n",
       "      <td>2451.53</td>\n",
       "      <td>2207.1000</td>\n",
       "      <td>1298.4309</td>\n",
       "      <td>1.0251</td>\n",
       "      <td>96.9478</td>\n",
       "      <td>0.1203</td>\n",
       "      <td>1.3985</td>\n",
       "      <td>-0.0105</td>\n",
       "      <td>-0.0140</td>\n",
       "      <td>...</td>\n",
       "      <td>0.0084</td>\n",
       "      <td>185.3578</td>\n",
       "      <td>0.4972</td>\n",
       "      <td>0.0133</td>\n",
       "      <td>0.0036</td>\n",
       "      <td>2.6718</td>\n",
       "      <td>0.0167</td>\n",
       "      <td>0.0310</td>\n",
       "      <td>0.0084</td>\n",
       "      <td>185.3578</td>\n",
       "    </tr>\n",
       "    <tr>\n",
       "      <th>234.0</th>\n",
       "      <td>2958.39</td>\n",
       "      <td>2478.99</td>\n",
       "      <td>2231.9556</td>\n",
       "      <td>1185.0959</td>\n",
       "      <td>1.0208</td>\n",
       "      <td>102.5344</td>\n",
       "      <td>0.1192</td>\n",
       "      <td>1.4881</td>\n",
       "      <td>-0.0054</td>\n",
       "      <td>-0.0037</td>\n",
       "      <td>...</td>\n",
       "      <td>NaN</td>\n",
       "      <td>NaN</td>\n",
       "      <td>0.5024</td>\n",
       "      <td>0.0151</td>\n",
       "      <td>0.0038</td>\n",
       "      <td>3.0084</td>\n",
       "      <td>-0.0034</td>\n",
       "      <td>0.0093</td>\n",
       "      <td>0.0030</td>\n",
       "      <td>272.3477</td>\n",
       "    </tr>\n",
       "    <tr>\n",
       "      <th>645.0</th>\n",
       "      <td>3072.21</td>\n",
       "      <td>2610.62</td>\n",
       "      <td>2214.9333</td>\n",
       "      <td>1663.7024</td>\n",
       "      <td>1.0203</td>\n",
       "      <td>100.4456</td>\n",
       "      <td>0.1247</td>\n",
       "      <td>1.4403</td>\n",
       "      <td>-0.0169</td>\n",
       "      <td>0.0213</td>\n",
       "      <td>...</td>\n",
       "      <td>0.0034</td>\n",
       "      <td>50.0650</td>\n",
       "      <td>0.5044</td>\n",
       "      <td>0.0139</td>\n",
       "      <td>0.0037</td>\n",
       "      <td>2.7602</td>\n",
       "      <td>0.0211</td>\n",
       "      <td>0.0106</td>\n",
       "      <td>0.0034</td>\n",
       "      <td>50.0650</td>\n",
       "    </tr>\n",
       "  </tbody>\n",
       "</table>\n",
       "<p>1253 rows × 474 columns</p>\n",
       "</div>"
      ],
      "text/plain": [
       "        feature001  feature002  feature003  feature004  feature005  \\\n",
       "ID                                                                   \n",
       "567.0      3023.07     2484.55   2242.8555   1430.7270      0.8832   \n",
       "1261.0     2953.63     2384.04   2191.2111   1437.5003      2.2073   \n",
       "1041.0     3021.61     2440.29   2227.2222   2043.5876      1.1892   \n",
       "1181.0     3093.46     2479.17   2221.3667   2490.6947      1.2667   \n",
       "611.0      3010.40         NaN   2172.4000   1148.4101      1.2614   \n",
       "...            ...         ...         ...         ...         ...   \n",
       "806.0      2952.31     2453.53   2188.7222   1325.5230      1.1721   \n",
       "1101.0     2880.58     2489.76   2256.6000   2365.4787      1.1384   \n",
       "1469.0     2968.78     2451.53   2207.1000   1298.4309      1.0251   \n",
       "234.0      2958.39     2478.99   2231.9556   1185.0959      1.0208   \n",
       "645.0      3072.21     2610.62   2214.9333   1663.7024      1.0203   \n",
       "\n",
       "        feature007  feature008  feature009  feature010  feature011  ...  \\\n",
       "ID                                                                  ...   \n",
       "567.0     106.2100      0.1216      1.5613     -0.0028      0.0008  ...   \n",
       "1261.0     97.6444      0.1235      1.3584     -0.0024     -0.0048  ...   \n",
       "1041.0     95.5267      0.1253      1.5335     -0.0083     -0.0095  ...   \n",
       "1181.0     88.6578      0.1220      1.3537      0.0134     -0.0039  ...   \n",
       "611.0     102.4522      0.1227      1.3843     -0.0010     -0.0004  ...   \n",
       "...            ...         ...         ...         ...         ...  ...   \n",
       "806.0     105.1700      0.1250      1.4480     -0.0233      0.0087  ...   \n",
       "1101.0     85.4278      0.1205      1.6114      0.0484      0.0043  ...   \n",
       "1469.0     96.9478      0.1203      1.3985     -0.0105     -0.0140  ...   \n",
       "234.0     102.5344      0.1192      1.4881     -0.0054     -0.0037  ...   \n",
       "645.0     100.4456      0.1247      1.4403     -0.0169      0.0213  ...   \n",
       "\n",
       "        feature581  feature582  feature583  feature584  feature585  \\\n",
       "ID                                                                   \n",
       "567.0          NaN         NaN      0.4979      0.0165      0.0041   \n",
       "1261.0         NaN         NaN      0.4968      0.0188      0.0041   \n",
       "1041.0         NaN         NaN      0.5091      0.0123      0.0031   \n",
       "1181.0         NaN         NaN      0.5006      0.0148      0.0036   \n",
       "611.0          NaN         NaN      0.5015      0.0137      0.0034   \n",
       "...            ...         ...         ...         ...         ...   \n",
       "806.0          NaN         NaN      0.4949      0.0155      0.0034   \n",
       "1101.0      0.0076     50.7949      0.5032      0.0117      0.0029   \n",
       "1469.0      0.0084    185.3578      0.4972      0.0133      0.0036   \n",
       "234.0          NaN         NaN      0.5024      0.0151      0.0038   \n",
       "645.0       0.0034     50.0650      0.5044      0.0139      0.0037   \n",
       "\n",
       "        feature586  feature587  feature588  feature589  feature590  \n",
       "ID                                                                  \n",
       "567.0       3.3098      0.0184      0.0127      0.0037     68.7057  \n",
       "1261.0      3.7853      0.0137      0.0326      0.0108    237.4625  \n",
       "1041.0      2.4116      0.0437      0.0200      0.0074     45.7019  \n",
       "1181.0      2.9659      0.0190      0.0150      0.0045     78.6525  \n",
       "611.0       2.7339      0.0252      0.0157      0.0046     62.3881  \n",
       "...            ...         ...         ...         ...         ...  \n",
       "806.0       3.1238      0.0253      0.0058      0.0018     22.7661  \n",
       "1101.0      2.3282      0.0398      0.0202      0.0076     50.7949  \n",
       "1469.0      2.6718      0.0167      0.0310      0.0084    185.3578  \n",
       "234.0       3.0084     -0.0034      0.0093      0.0030    272.3477  \n",
       "645.0       2.7602      0.0211      0.0106      0.0034     50.0650  \n",
       "\n",
       "[1253 rows x 474 columns]"
      ]
     },
     "execution_count": 56,
     "metadata": {},
     "output_type": "execute_result"
    }
   ],
   "source": [
    "#columns that have the same value excluding nan\n",
    "print(len(X_train.columns[X_train.nunique() == 1]))\n",
    "\n",
    "#column names with same value in it\n",
    "X_train.columns[X_train.nunique() == 1]\n",
    "print(list(X_train.columns[X_train.nunique() == 1]))\n",
    "\n",
    "#remove these columns since it adds no value\n",
    "single_value_columns = list(X_train.columns[X_train.nunique() == 1])\n",
    "X_train=X_train.drop(columns=single_value_columns)\n",
    "X_train"
   ]
  },
  {
   "cell_type": "markdown",
   "metadata": {},
   "source": [
    "#### 4.2.3 Checking for columns more than 55% nan values"
   ]
  },
  {
   "cell_type": "code",
   "execution_count": 57,
   "metadata": {},
   "outputs": [
    {
     "name": "stdout",
     "output_type": "stream",
     "text": [
      "               0\n",
      "feature360     0\n",
      "feature223     0\n",
      "feature224     0\n",
      "feature249     0\n",
      "feature250     0\n",
      "...          ...\n",
      "feature359  1078\n",
      "feature294  1140\n",
      "feature158  1140\n",
      "feature159  1140\n",
      "feature293  1140\n",
      "\n",
      "[474 rows x 1 columns]\n"
     ]
    }
   ],
   "source": [
    "# count the number of missing values for each column\n",
    "num_missing = pd.DataFrame((X_train.isna()).sum())\n",
    "print(num_missing.sort_values(0))"
   ]
  },
  {
   "cell_type": "code",
   "execution_count": 58,
   "metadata": {},
   "outputs": [
    {
     "data": {
      "image/png": "[encoded data removed]",
      "text/plain": [
       "<Figure size 640x640 with 1 Axes>"
      ]
     },
     "metadata": {
      "needs_background": "light"
     },
     "output_type": "display_data"
    }
   ],
   "source": [
    "# Missing Value histogram\n",
    "nan_perc = pd.DataFrame(round((X_train.isnull().sum() * 100/ len(X_train)),2))\n",
    "nan_perc = nan_perc.reset_index()\n",
    "nan_perc = nan_perc.rename({'index': 'feature', 0: 'percentage'}, axis=1)\n",
    "\n",
    "%matplotlib inline\n",
    "plt.rcParams.update({'figure.figsize':(8,8), 'figure.dpi':80})\n",
    "n,bins,patch = plt.hist(nan_perc['percentage'],bins=10, alpha=0.8, label='Value', edgecolor='black', linewidth=1)\n",
    "plt.gca().set(title='Percentage of Missing Value Histogram', ylabel='No. of features', xlabel='Percentage of Nan values')\n",
    "plt.show()"
   ]
  },
  {
   "cell_type": "code",
   "execution_count": 59,
   "metadata": {},
   "outputs": [
    {
     "name": "stdout",
     "output_type": "stream",
     "text": [
      "24\n",
      "Index(['feature086', 'feature110', 'feature111', 'feature112', 'feature158',\n",
      "       'feature159', 'feature221', 'feature245', 'feature246', 'feature247',\n",
      "       'feature293', 'feature294', 'feature359', 'feature383', 'feature384',\n",
      "       'feature385', 'feature493', 'feature517', 'feature518', 'feature519',\n",
      "       'feature579', 'feature580', 'feature581', 'feature582'],\n",
      "      dtype='object')\n"
     ]
    }
   ],
   "source": [
    "# Defining a threshold to remove the values above it\n",
    "threshold= 0.55\n",
    "pct_null = X_train.isnull().sum() / len(X_train)\n",
    "missing_value_cols = pct_null[pct_null >= threshold].index\n",
    "\n",
    "# number of features containing more than 55% missing values\n",
    "print(len(missing_value_cols))\n",
    "print(missing_value_cols)\n",
    "\n",
    "X_train = X_train.drop(missing_value_cols, axis=1)"
   ]
  },
  {
   "cell_type": "markdown",
   "metadata": {},
   "source": [
    "#### 4.2.4 Less volatile"
   ]
  },
  {
   "cell_type": "code",
   "execution_count": 60,
   "metadata": {},
   "outputs": [],
   "source": [
    "# Exploring remaining features\r\n",
    "summary = X_train.iloc[:,:].describe(include='all')"
   ]
  },
  {
   "cell_type": "code",
   "execution_count": 61,
   "metadata": {},
   "outputs": [
    {
     "data": {
      "image/png": "[encoded data removed]",
      "text/plain": [
       "<Figure size 800x800 with 1 Axes>"
      ]
     },
     "metadata": {
      "needs_background": "light"
     },
     "output_type": "display_data"
    }
   ],
   "source": [
    "# Checking std of remaining features\n",
    "\n",
    "def StandardDeviation(df):\n",
    "    import matplotlib.pyplot as plt\n",
    "\n",
    "    %matplotlib inline\n",
    "    plt.rcParams.update({'figure.figsize':(8,8), 'figure.dpi':100})\n",
    "\n",
    "    plt.hist(df.std(), bins = 50)\n",
    "    plt.gca().set(title='Standard deviation Histogram', ylabel='No. of features', xlabel='Standard deviation');\n",
    "    plt.show()\n",
    "    \n",
    "StandardDeviation(X_train)"
   ]
  },
  {
   "cell_type": "code",
   "execution_count": 62,
   "metadata": {},
   "outputs": [
    {
     "data": {
      "image/png": "[encoded data removed]",
      "text/plain": [
       "<Figure size 800x800 with 1 Axes>"
      ]
     },
     "metadata": {
      "needs_background": "light"
     },
     "output_type": "display_data"
    }
   ],
   "source": [
    "# Checking coeff std of remaining features\n",
    "def CoefficientOfVariation(df):\n",
    "    %matplotlib inline\n",
    "    plt.rcParams.update({'figure.figsize':(8,8), 'figure.dpi':100})\n",
    "\n",
    "    plt.hist(df.std()/df.mean(), bins = 50)\n",
    "    plt.gca().set(title='Coefficient of variation Histogram', ylabel='No. of features', xlabel='Coefficient of variation');\n",
    "    plt.show()\n",
    "\n",
    "CoefficientOfVariation(X_train)"
   ]
  },
  {
   "cell_type": "code",
   "execution_count": 63,
   "metadata": {},
   "outputs": [
    {
     "data": {
      "text/plain": [
       "<AxesSubplot:>"
      ]
     },
     "execution_count": 63,
     "metadata": {},
     "output_type": "execute_result"
    },
    {
     "data": {
      "image/png": "[encoded data removed]",
      "text/plain": [
       "<Figure size 800x800 with 1 Axes>"
      ]
     },
     "metadata": {
      "needs_background": "light"
     },
     "output_type": "display_data"
    }
   ],
   "source": [
    "# histogram of the coefficient standard deviation of a percentage of features with the least coeffstd\n",
    "feature_coeffstd = pd.DataFrame(summary.loc['std',:]/abs(summary.loc['mean',:])).sort_values(by=[0])\n",
    "percentage_features = int(len(feature_coeffstd)*90/100)\n",
    "feature_coeffstd.iloc[0:percentage_features,0].hist(bins=30)"
   ]
  },
  {
   "cell_type": "code",
   "execution_count": 64,
   "metadata": {},
   "outputs": [
    {
     "name": "stdout",
     "output_type": "stream",
     "text": [
      "Number of least Volatiles 0\n",
      "Index([], dtype='object')\n"
     ]
    }
   ],
   "source": [
    "# a percentage of features with the least coeffstd to remove\r\n",
    "percentageToAnalyze = 0\r\n",
    "\r\n",
    "percentage_features_rm = int(len(feature_coeffstd)*percentageToAnalyze/100)\r\n",
    "feature_index = feature_coeffstd.index\r\n",
    "features_least_volatile = feature_index[0:percentage_features_rm]\r\n",
    "print(\"Number of least Volatiles\", len(features_least_volatile))\r\n",
    "print(features_least_volatile)"
   ]
  },
  {
   "cell_type": "code",
   "execution_count": 65,
   "metadata": {},
   "outputs": [],
   "source": [
    "# dropping a percentage of features with the least coeffstd\n",
    "X_train.drop(features_least_volatile, axis = 1, inplace = True)"
   ]
  },
  {
   "cell_type": "code",
   "execution_count": 66,
   "metadata": {},
   "outputs": [
    {
     "data": {
      "text/html": [
       "<div>\n",
       "<style scoped>\n",
       "    .dataframe tbody tr th:only-of-type {\n",
       "        vertical-align: middle;\n",
       "    }\n",
       "\n",
       "    .dataframe tbody tr th {\n",
       "        vertical-align: top;\n",
       "    }\n",
       "\n",
       "    .dataframe thead th {\n",
       "        text-align: right;\n",
       "    }\n",
       "</style>\n",
       "<table border=\"1\" class=\"dataframe\">\n",
       "  <thead>\n",
       "    <tr style=\"text-align: right;\">\n",
       "      <th></th>\n",
       "      <th>feature001</th>\n",
       "      <th>feature002</th>\n",
       "      <th>feature003</th>\n",
       "      <th>feature004</th>\n",
       "      <th>feature005</th>\n",
       "      <th>feature007</th>\n",
       "      <th>feature008</th>\n",
       "      <th>feature009</th>\n",
       "      <th>feature010</th>\n",
       "      <th>feature011</th>\n",
       "      <th>...</th>\n",
       "      <th>feature577</th>\n",
       "      <th>feature578</th>\n",
       "      <th>feature583</th>\n",
       "      <th>feature584</th>\n",
       "      <th>feature585</th>\n",
       "      <th>feature586</th>\n",
       "      <th>feature587</th>\n",
       "      <th>feature588</th>\n",
       "      <th>feature589</th>\n",
       "      <th>feature590</th>\n",
       "    </tr>\n",
       "    <tr>\n",
       "      <th>ID</th>\n",
       "      <th></th>\n",
       "      <th></th>\n",
       "      <th></th>\n",
       "      <th></th>\n",
       "      <th></th>\n",
       "      <th></th>\n",
       "      <th></th>\n",
       "      <th></th>\n",
       "      <th></th>\n",
       "      <th></th>\n",
       "      <th></th>\n",
       "      <th></th>\n",
       "      <th></th>\n",
       "      <th></th>\n",
       "      <th></th>\n",
       "      <th></th>\n",
       "      <th></th>\n",
       "      <th></th>\n",
       "      <th></th>\n",
       "      <th></th>\n",
       "      <th></th>\n",
       "    </tr>\n",
       "  </thead>\n",
       "  <tbody>\n",
       "    <tr>\n",
       "      <th>567.0</th>\n",
       "      <td>3023.07</td>\n",
       "      <td>2484.55</td>\n",
       "      <td>2242.8555</td>\n",
       "      <td>1430.7270</td>\n",
       "      <td>0.8832</td>\n",
       "      <td>106.2100</td>\n",
       "      <td>0.1216</td>\n",
       "      <td>1.5613</td>\n",
       "      <td>-0.0028</td>\n",
       "      <td>0.0008</td>\n",
       "      <td>...</td>\n",
       "      <td>1.1395</td>\n",
       "      <td>17.5289</td>\n",
       "      <td>0.4979</td>\n",
       "      <td>0.0165</td>\n",
       "      <td>0.0041</td>\n",
       "      <td>3.3098</td>\n",
       "      <td>0.0184</td>\n",
       "      <td>0.0127</td>\n",
       "      <td>0.0037</td>\n",
       "      <td>68.7057</td>\n",
       "    </tr>\n",
       "    <tr>\n",
       "      <th>1261.0</th>\n",
       "      <td>2953.63</td>\n",
       "      <td>2384.04</td>\n",
       "      <td>2191.2111</td>\n",
       "      <td>1437.5003</td>\n",
       "      <td>2.2073</td>\n",
       "      <td>97.6444</td>\n",
       "      <td>0.1235</td>\n",
       "      <td>1.3584</td>\n",
       "      <td>-0.0024</td>\n",
       "      <td>-0.0048</td>\n",
       "      <td>...</td>\n",
       "      <td>86.7573</td>\n",
       "      <td>91.1106</td>\n",
       "      <td>0.4968</td>\n",
       "      <td>0.0188</td>\n",
       "      <td>0.0041</td>\n",
       "      <td>3.7853</td>\n",
       "      <td>0.0137</td>\n",
       "      <td>0.0326</td>\n",
       "      <td>0.0108</td>\n",
       "      <td>237.4625</td>\n",
       "    </tr>\n",
       "    <tr>\n",
       "      <th>1041.0</th>\n",
       "      <td>3021.61</td>\n",
       "      <td>2440.29</td>\n",
       "      <td>2227.2222</td>\n",
       "      <td>2043.5876</td>\n",
       "      <td>1.1892</td>\n",
       "      <td>95.5267</td>\n",
       "      <td>0.1253</td>\n",
       "      <td>1.5335</td>\n",
       "      <td>-0.0083</td>\n",
       "      <td>-0.0095</td>\n",
       "      <td>...</td>\n",
       "      <td>1.5180</td>\n",
       "      <td>16.7005</td>\n",
       "      <td>0.5091</td>\n",
       "      <td>0.0123</td>\n",
       "      <td>0.0031</td>\n",
       "      <td>2.4116</td>\n",
       "      <td>0.0437</td>\n",
       "      <td>0.0200</td>\n",
       "      <td>0.0074</td>\n",
       "      <td>45.7019</td>\n",
       "    </tr>\n",
       "    <tr>\n",
       "      <th>1181.0</th>\n",
       "      <td>3093.46</td>\n",
       "      <td>2479.17</td>\n",
       "      <td>2221.3667</td>\n",
       "      <td>2490.6947</td>\n",
       "      <td>1.2667</td>\n",
       "      <td>88.6578</td>\n",
       "      <td>0.1220</td>\n",
       "      <td>1.3537</td>\n",
       "      <td>0.0134</td>\n",
       "      <td>-0.0039</td>\n",
       "      <td>...</td>\n",
       "      <td>1.4926</td>\n",
       "      <td>14.3055</td>\n",
       "      <td>0.5006</td>\n",
       "      <td>0.0148</td>\n",
       "      <td>0.0036</td>\n",
       "      <td>2.9659</td>\n",
       "      <td>0.0190</td>\n",
       "      <td>0.0150</td>\n",
       "      <td>0.0045</td>\n",
       "      <td>78.6525</td>\n",
       "    </tr>\n",
       "    <tr>\n",
       "      <th>611.0</th>\n",
       "      <td>3010.40</td>\n",
       "      <td>NaN</td>\n",
       "      <td>2172.4000</td>\n",
       "      <td>1148.4101</td>\n",
       "      <td>1.2614</td>\n",
       "      <td>102.4522</td>\n",
       "      <td>0.1227</td>\n",
       "      <td>1.3843</td>\n",
       "      <td>-0.0010</td>\n",
       "      <td>-0.0004</td>\n",
       "      <td>...</td>\n",
       "      <td>1.6264</td>\n",
       "      <td>23.2761</td>\n",
       "      <td>0.5015</td>\n",
       "      <td>0.0137</td>\n",
       "      <td>0.0034</td>\n",
       "      <td>2.7339</td>\n",
       "      <td>0.0252</td>\n",
       "      <td>0.0157</td>\n",
       "      <td>0.0046</td>\n",
       "      <td>62.3881</td>\n",
       "    </tr>\n",
       "    <tr>\n",
       "      <th>...</th>\n",
       "      <td>...</td>\n",
       "      <td>...</td>\n",
       "      <td>...</td>\n",
       "      <td>...</td>\n",
       "      <td>...</td>\n",
       "      <td>...</td>\n",
       "      <td>...</td>\n",
       "      <td>...</td>\n",
       "      <td>...</td>\n",
       "      <td>...</td>\n",
       "      <td>...</td>\n",
       "      <td>...</td>\n",
       "      <td>...</td>\n",
       "      <td>...</td>\n",
       "      <td>...</td>\n",
       "      <td>...</td>\n",
       "      <td>...</td>\n",
       "      <td>...</td>\n",
       "      <td>...</td>\n",
       "      <td>...</td>\n",
       "      <td>...</td>\n",
       "    </tr>\n",
       "    <tr>\n",
       "      <th>806.0</th>\n",
       "      <td>2952.31</td>\n",
       "      <td>2453.53</td>\n",
       "      <td>2188.7222</td>\n",
       "      <td>1325.5230</td>\n",
       "      <td>1.1721</td>\n",
       "      <td>105.1700</td>\n",
       "      <td>0.1250</td>\n",
       "      <td>1.4480</td>\n",
       "      <td>-0.0233</td>\n",
       "      <td>0.0087</td>\n",
       "      <td>...</td>\n",
       "      <td>1.7048</td>\n",
       "      <td>16.6976</td>\n",
       "      <td>0.4949</td>\n",
       "      <td>0.0155</td>\n",
       "      <td>0.0034</td>\n",
       "      <td>3.1238</td>\n",
       "      <td>0.0253</td>\n",
       "      <td>0.0058</td>\n",
       "      <td>0.0018</td>\n",
       "      <td>22.7661</td>\n",
       "    </tr>\n",
       "    <tr>\n",
       "      <th>1101.0</th>\n",
       "      <td>2880.58</td>\n",
       "      <td>2489.76</td>\n",
       "      <td>2256.6000</td>\n",
       "      <td>2365.4787</td>\n",
       "      <td>1.1384</td>\n",
       "      <td>85.4278</td>\n",
       "      <td>0.1205</td>\n",
       "      <td>1.6114</td>\n",
       "      <td>0.0484</td>\n",
       "      <td>0.0043</td>\n",
       "      <td>...</td>\n",
       "      <td>1.6892</td>\n",
       "      <td>14.6674</td>\n",
       "      <td>0.5032</td>\n",
       "      <td>0.0117</td>\n",
       "      <td>0.0029</td>\n",
       "      <td>2.3282</td>\n",
       "      <td>0.0398</td>\n",
       "      <td>0.0202</td>\n",
       "      <td>0.0076</td>\n",
       "      <td>50.7949</td>\n",
       "    </tr>\n",
       "    <tr>\n",
       "      <th>1469.0</th>\n",
       "      <td>2968.78</td>\n",
       "      <td>2451.53</td>\n",
       "      <td>2207.1000</td>\n",
       "      <td>1298.4309</td>\n",
       "      <td>1.0251</td>\n",
       "      <td>96.9478</td>\n",
       "      <td>0.1203</td>\n",
       "      <td>1.3985</td>\n",
       "      <td>-0.0105</td>\n",
       "      <td>-0.0140</td>\n",
       "      <td>...</td>\n",
       "      <td>1.3708</td>\n",
       "      <td>18.3819</td>\n",
       "      <td>0.4972</td>\n",
       "      <td>0.0133</td>\n",
       "      <td>0.0036</td>\n",
       "      <td>2.6718</td>\n",
       "      <td>0.0167</td>\n",
       "      <td>0.0310</td>\n",
       "      <td>0.0084</td>\n",
       "      <td>185.3578</td>\n",
       "    </tr>\n",
       "    <tr>\n",
       "      <th>234.0</th>\n",
       "      <td>2958.39</td>\n",
       "      <td>2478.99</td>\n",
       "      <td>2231.9556</td>\n",
       "      <td>1185.0959</td>\n",
       "      <td>1.0208</td>\n",
       "      <td>102.5344</td>\n",
       "      <td>0.1192</td>\n",
       "      <td>1.4881</td>\n",
       "      <td>-0.0054</td>\n",
       "      <td>-0.0037</td>\n",
       "      <td>...</td>\n",
       "      <td>1.2492</td>\n",
       "      <td>6.3989</td>\n",
       "      <td>0.5024</td>\n",
       "      <td>0.0151</td>\n",
       "      <td>0.0038</td>\n",
       "      <td>3.0084</td>\n",
       "      <td>-0.0034</td>\n",
       "      <td>0.0093</td>\n",
       "      <td>0.0030</td>\n",
       "      <td>272.3477</td>\n",
       "    </tr>\n",
       "    <tr>\n",
       "      <th>645.0</th>\n",
       "      <td>3072.21</td>\n",
       "      <td>2610.62</td>\n",
       "      <td>2214.9333</td>\n",
       "      <td>1663.7024</td>\n",
       "      <td>1.0203</td>\n",
       "      <td>100.4456</td>\n",
       "      <td>0.1247</td>\n",
       "      <td>1.4403</td>\n",
       "      <td>-0.0169</td>\n",
       "      <td>0.0213</td>\n",
       "      <td>...</td>\n",
       "      <td>1.3033</td>\n",
       "      <td>17.0534</td>\n",
       "      <td>0.5044</td>\n",
       "      <td>0.0139</td>\n",
       "      <td>0.0037</td>\n",
       "      <td>2.7602</td>\n",
       "      <td>0.0211</td>\n",
       "      <td>0.0106</td>\n",
       "      <td>0.0034</td>\n",
       "      <td>50.0650</td>\n",
       "    </tr>\n",
       "  </tbody>\n",
       "</table>\n",
       "<p>1253 rows × 450 columns</p>\n",
       "</div>"
      ],
      "text/plain": [
       "        feature001  feature002  feature003  feature004  feature005  \\\n",
       "ID                                                                   \n",
       "567.0      3023.07     2484.55   2242.8555   1430.7270      0.8832   \n",
       "1261.0     2953.63     2384.04   2191.2111   1437.5003      2.2073   \n",
       "1041.0     3021.61     2440.29   2227.2222   2043.5876      1.1892   \n",
       "1181.0     3093.46     2479.17   2221.3667   2490.6947      1.2667   \n",
       "611.0      3010.40         NaN   2172.4000   1148.4101      1.2614   \n",
       "...            ...         ...         ...         ...         ...   \n",
       "806.0      2952.31     2453.53   2188.7222   1325.5230      1.1721   \n",
       "1101.0     2880.58     2489.76   2256.6000   2365.4787      1.1384   \n",
       "1469.0     2968.78     2451.53   2207.1000   1298.4309      1.0251   \n",
       "234.0      2958.39     2478.99   2231.9556   1185.0959      1.0208   \n",
       "645.0      3072.21     2610.62   2214.9333   1663.7024      1.0203   \n",
       "\n",
       "        feature007  feature008  feature009  feature010  feature011  ...  \\\n",
       "ID                                                                  ...   \n",
       "567.0     106.2100      0.1216      1.5613     -0.0028      0.0008  ...   \n",
       "1261.0     97.6444      0.1235      1.3584     -0.0024     -0.0048  ...   \n",
       "1041.0     95.5267      0.1253      1.5335     -0.0083     -0.0095  ...   \n",
       "1181.0     88.6578      0.1220      1.3537      0.0134     -0.0039  ...   \n",
       "611.0     102.4522      0.1227      1.3843     -0.0010     -0.0004  ...   \n",
       "...            ...         ...         ...         ...         ...  ...   \n",
       "806.0     105.1700      0.1250      1.4480     -0.0233      0.0087  ...   \n",
       "1101.0     85.4278      0.1205      1.6114      0.0484      0.0043  ...   \n",
       "1469.0     96.9478      0.1203      1.3985     -0.0105     -0.0140  ...   \n",
       "234.0     102.5344      0.1192      1.4881     -0.0054     -0.0037  ...   \n",
       "645.0     100.4456      0.1247      1.4403     -0.0169      0.0213  ...   \n",
       "\n",
       "        feature577  feature578  feature583  feature584  feature585  \\\n",
       "ID                                                                   \n",
       "567.0       1.1395     17.5289      0.4979      0.0165      0.0041   \n",
       "1261.0     86.7573     91.1106      0.4968      0.0188      0.0041   \n",
       "1041.0      1.5180     16.7005      0.5091      0.0123      0.0031   \n",
       "1181.0      1.4926     14.3055      0.5006      0.0148      0.0036   \n",
       "611.0       1.6264     23.2761      0.5015      0.0137      0.0034   \n",
       "...            ...         ...         ...         ...         ...   \n",
       "806.0       1.7048     16.6976      0.4949      0.0155      0.0034   \n",
       "1101.0      1.6892     14.6674      0.5032      0.0117      0.0029   \n",
       "1469.0      1.3708     18.3819      0.4972      0.0133      0.0036   \n",
       "234.0       1.2492      6.3989      0.5024      0.0151      0.0038   \n",
       "645.0       1.3033     17.0534      0.5044      0.0139      0.0037   \n",
       "\n",
       "        feature586  feature587  feature588  feature589  feature590  \n",
       "ID                                                                  \n",
       "567.0       3.3098      0.0184      0.0127      0.0037     68.7057  \n",
       "1261.0      3.7853      0.0137      0.0326      0.0108    237.4625  \n",
       "1041.0      2.4116      0.0437      0.0200      0.0074     45.7019  \n",
       "1181.0      2.9659      0.0190      0.0150      0.0045     78.6525  \n",
       "611.0       2.7339      0.0252      0.0157      0.0046     62.3881  \n",
       "...            ...         ...         ...         ...         ...  \n",
       "806.0       3.1238      0.0253      0.0058      0.0018     22.7661  \n",
       "1101.0      2.3282      0.0398      0.0202      0.0076     50.7949  \n",
       "1469.0      2.6718      0.0167      0.0310      0.0084    185.3578  \n",
       "234.0       3.0084     -0.0034      0.0093      0.0030    272.3477  \n",
       "645.0       2.7602      0.0211      0.0106      0.0034     50.0650  \n",
       "\n",
       "[1253 rows x 450 columns]"
      ]
     },
     "execution_count": 66,
     "metadata": {},
     "output_type": "execute_result"
    }
   ],
   "source": [
    "X_train"
   ]
  },
  {
   "cell_type": "markdown",
   "metadata": {},
   "source": [
    "### 4.3 Outlier Identification"
   ]
  },
  {
   "cell_type": "code",
   "execution_count": 67,
   "metadata": {},
   "outputs": [],
   "source": [
    "# Funtion for Outlier treatment\n",
    "def Outlier(X, outlier_treatment) :\n",
    "    \n",
    "    if outlier_treatment == 'NaN' :\n",
    "        # calculating the z score of the values\n",
    "        z_train= pd.DataFrame(stats.zscore(X,nan_policy='omit'))\n",
    "        z_train\n",
    "\n",
    "        # calculating the number of outliers\n",
    "        print('Number of Outliers : ',sum(z_train.apply(lambda x: sum(x.apply(lambda x: 1 if abs(x)>3 else 0)))))\n",
    "\n",
    "        #Outlier treatment : replacing outliers with NA to impute all NA values\n",
    "        is_outlier = abs(z_train)>3\n",
    "        is_outlier.columns = X.columns\n",
    "        is_outlier.index = X.index\n",
    "        return(X.mask(is_outlier, np.nan))\n",
    "    \n",
    "    elif outlier_treatment == '3s':\n",
    "        boundary = 3\n",
    "        scaler = preprocessing.StandardScaler()\n",
    "        X = pd.DataFrame(scaler.fit_transform(X), columns= X.columns)\n",
    "        X = X.apply(lambda x : [y if y < boundary or np.isnan(y) else boundary for y in x])\n",
    "        X = X.apply(lambda x : [y if y > -1*boundary or np.isnan(y) else -1*boundary for y in x])\n",
    "        \n",
    "        # for inverse transformation\n",
    "        X_inverse = pd.DataFrame(scaler.inverse_transform(X))\n",
    "        X_inverse.columns = X.columns\n",
    "        return(X_inverse)\n",
    "\n",
    "\n"
   ]
  },
  {
   "cell_type": "code",
   "execution_count": 68,
   "metadata": {},
   "outputs": [
    {
     "name": "stdout",
     "output_type": "stream",
     "text": [
      "Number of Outliers :  4938\n"
     ]
    }
   ],
   "source": [
    "# Outlier treatment with NA values\n",
    "X_train = Outlier(X_train, 'NaN')"
   ]
  },
  {
   "cell_type": "code",
   "execution_count": 69,
   "metadata": {},
   "outputs": [],
   "source": [
    "#X_train = Outlier(X_train, '3s')"
   ]
  },
  {
   "cell_type": "markdown",
   "metadata": {},
   "source": [
    "### 4.4 Missing value Imputation"
   ]
  },
  {
   "cell_type": "markdown",
   "metadata": {},
   "source": [
    "#### 4.4.1 Define function for imputation"
   ]
  },
  {
   "cell_type": "code",
   "execution_count": 70,
   "metadata": {},
   "outputs": [],
   "source": [
    "# function for imputing missing values\r\n",
    "def MissingValueImputation(X, Imputer) :\r\n",
    "    \r\n",
    "    if Imputer == 'KNN' :\r\n",
    "        \r\n",
    "        #Scaling\r\n",
    "        scaler = preprocessing.StandardScaler()\r\n",
    "        X = pd.DataFrame(scaler.fit_transform(X), columns = X.columns)\r\n",
    "        \r\n",
    "        #define imputer\r\n",
    "        KNN_imputer = KNNImputer(n_neighbors=10, weights = 'uniform')\r\n",
    "\r\n",
    "        #fit on the dataset\r\n",
    "        X = KNN_imputer.fit_transform(X)\r\n",
    "        \r\n",
    "        #Inverse tranform of scaling\r\n",
    "        X_inverse = pd.DataFrame(scaler.inverse_transform(X))\r\n",
    "        return(X_inverse)\r\n",
    "        \r\n",
    "    elif Imputer == 'MICE' :\r\n",
    "        \r\n",
    "        #define imputer\r\n",
    "        MICE_imputer = IterativeImputer(max_iter=20, sample_posterior=False, random_state=0)\r\n",
    "        \r\n",
    "        #fit dataset\r\n",
    "        return(MICE_imputer.fit_transform(X))"
   ]
  },
  {
   "cell_type": "markdown",
   "metadata": {},
   "source": [
    "#### 4.4.2 KNN"
   ]
  },
  {
   "cell_type": "code",
   "execution_count": 71,
   "metadata": {},
   "outputs": [],
   "source": [
    "# impute using knn\n",
    "X_train_KNN = X_train.copy(deep=True)\n",
    "X_train_KNN.iloc[:,:] = pd.DataFrame(MissingValueImputation(X_train,'KNN'))"
   ]
  },
  {
   "cell_type": "code",
   "execution_count": 72,
   "metadata": {},
   "outputs": [
    {
     "data": {
      "text/plain": [
       "0"
      ]
     },
     "execution_count": 72,
     "metadata": {},
     "output_type": "execute_result"
    }
   ],
   "source": [
    "X_train_KNN.isna().sum().sum()"
   ]
  },
  {
   "cell_type": "markdown",
   "metadata": {},
   "source": [
    "#### 4.4.3 MICE"
   ]
  },
  {
   "cell_type": "code",
   "execution_count": 73,
   "metadata": {},
   "outputs": [],
   "source": [
    "# impute using mice\r\n",
    "#X_train_MICE = X_train.copy(deep=True)\r\n",
    "#X_train_MICE.iloc[:,:] = pd.DataFrame(MissingValueImputation(X_train,'MICE'))"
   ]
  },
  {
   "cell_type": "code",
   "execution_count": 76,
   "metadata": {},
   "outputs": [],
   "source": [
    "X_train_MICE = pd.DataFrame(pd.read_csv(\"../temp CSV/X_train_MICE.CSV\"))"
   ]
  },
  {
   "cell_type": "code",
   "execution_count": 77,
   "metadata": {},
   "outputs": [
    {
     "data": {
      "text/plain": [
       "0"
      ]
     },
     "execution_count": 77,
     "metadata": {},
     "output_type": "execute_result"
    }
   ],
   "source": [
    "X_train_MICE.isna().sum().sum()"
   ]
  },
  {
   "cell_type": "markdown",
   "metadata": {},
   "source": [
    "#### 4.4.4 Evaluation of imputation"
   ]
  },
  {
   "cell_type": "code",
   "execution_count": 78,
   "metadata": {},
   "outputs": [
    {
     "data": {
      "text/plain": [
       "Text(0.5, 0, 'feature347')"
      ]
     },
     "execution_count": 78,
     "metadata": {},
     "output_type": "execute_result"
    },
    {
     "data": {
      "image/png": "[encoded data removed]",
      "text/plain": [
       "<Figure size 800x800 with 1 Axes>"
      ]
     },
     "metadata": {
      "needs_background": "light"
     },
     "output_type": "display_data"
    }
   ],
   "source": [
    "# Visualization of a variable with most missing values\n",
    "\n",
    "X_train['feature347'].plot(kind='kde',c='red',linewidth=3)\n",
    "X_train_KNN['feature347'].plot(kind='kde')\n",
    "X_train_MICE['feature347'].plot(kind='kde')\n",
    "labels = ['Baseline', 'KNN','MICE']\n",
    "plt.legend(labels)\n",
    "plt.xlabel('feature347')"
   ]
  },
  {
   "cell_type": "code",
   "execution_count": 79,
   "metadata": {},
   "outputs": [
    {
     "name": "stdout",
     "output_type": "stream",
     "text": [
      "62\n"
     ]
    },
    {
     "data": {
      "text/plain": [
       "<matplotlib.legend.Legend at 0x138c6a4ac40>"
      ]
     },
     "execution_count": 79,
     "metadata": {},
     "output_type": "execute_result"
    },
    {
     "data": {
      "image/png": "[encoded data removed]",
      "text/plain": [
       "<Figure size 800x800 with 1 Axes>"
      ]
     },
     "metadata": {
      "needs_background": "light"
     },
     "output_type": "display_data"
    }
   ],
   "source": [
    "# plot the std of the features with more than 3% of missing values before and after imputation with knn and mice\n",
    "feature_missing_sum = pd.DataFrame((X_train.isna()).sum())\n",
    "percentage_missing_filter = 3/100\n",
    "feature_filter = feature_missing_sum[feature_missing_sum[0]>=(len(X_train.loc[:,])*percentage_missing_filter)].index\n",
    "\n",
    "print(len(feature_filter))\n",
    "\n",
    "summary_with_na = X_train[feature_filter].describe(include='all')\n",
    "feature_std_with_na = pd.DataFrame(summary_with_na.loc['std',:])\n",
    "feature_std_sort_with_na = feature_std_with_na.sort_values(by=['std'])\n",
    "\n",
    "summary_knn = X_train_KNN[feature_filter].describe(include='all')\n",
    "feature_std_knn = pd.DataFrame(summary_knn.loc['std',:])\n",
    "feature_std_sort_knn = feature_std_knn.sort_values(by=['std'])\n",
    "\n",
    "summary_mice = X_train_MICE[feature_filter].describe(include='all')\n",
    "feature_std_mice = pd.DataFrame(summary_mice.loc['std',:])\n",
    "feature_std_sort_mice = feature_std_mice.sort_values(by=['std'])\n",
    "\n",
    "feature_std_sort_with_na.iloc[:,0].plot(kind='kde',c='red',linewidth=3)\n",
    "feature_std_sort_knn.iloc[:,0].plot(kind='kde')\n",
    "feature_std_sort_mice.iloc[:,0].plot(kind='kde')\n",
    "labels = ['With Na', 'KNN','MICE']\n",
    "plt.legend(labels)"
   ]
  },
  {
   "cell_type": "markdown",
   "metadata": {},
   "source": [
    "### 4.5 Feature Selection"
   ]
  },
  {
   "cell_type": "markdown",
   "metadata": {},
   "source": [
    "#### 4.5.1 Boruta"
   ]
  },
  {
   "cell_type": "code",
   "execution_count": 80,
   "metadata": {},
   "outputs": [],
   "source": [
    "#Boruta function\r\n",
    "\r\n",
    "def BorutaFeatureSelection (X, y) :\r\n",
    "    feature_names = np.array(X.columns)\r\n",
    "\r\n",
    "    # define random forest classifier\r\n",
    "    model = RandomForestClassifier(n_jobs=-1, class_weight='balanced', max_depth=5)\r\n",
    "    model.fit(X, y)\r\n",
    "    \r\n",
    "    # define Boruta feature selection method\r\n",
    "    feature_selector = BorutaPy(model, n_estimators='auto', verbose=2, random_state=1, max_iter=200)\r\n",
    "\r\n",
    "    # find all relevant features\r\n",
    "    feature_selector.fit(X.to_numpy(),y)\r\n",
    "\r\n",
    "    # check selected features\r\n",
    "    feature_selector.support_\r\n",
    "\r\n",
    "    # check ranking of features\r\n",
    "    feature_selector.ranking_\r\n",
    "\r\n",
    "    # zip feature names, ranks, and decisions \r\n",
    "    feature_ranks = list(zip(feature_names, \r\n",
    "                             feature_selector.ranking_, \r\n",
    "                             feature_selector.support_))\r\n",
    "\r\n",
    "    # print the results\r\n",
    "    for feat in feature_ranks:\r\n",
    "        print('Feature: {:<30} Rank: {},  Keep: {}'.format(feat[0], feat[1], feat[2]))\r\n",
    "        \r\n",
    "    final_features = list()\r\n",
    "    indexes = np.where(feature_selector.support_ == True)\r\n",
    "    for x in np.nditer(indexes):\r\n",
    "        final_features.append(feature_names[x])\r\n",
    "    print(final_features)\r\n",
    "    \r\n",
    "    \r\n",
    "    # call transform() on X to filter it down to selected features\r\n",
    "    return pd.DataFrame(X.filter(final_features)) , final_features\r\n"
   ]
  },
  {
   "cell_type": "code",
   "execution_count": 81,
   "metadata": {
    "scrolled": true,
    "tags": []
   },
   "outputs": [],
   "source": [
    "# apply Boruta and store selected features in the variable\r\n",
    "#X_train , final_features = BorutaFeatureSelection(X_train_MICE,y_train)"
   ]
  },
  {
   "cell_type": "code",
   "execution_count": 84,
   "metadata": {},
   "outputs": [],
   "source": [
    "X_train = pd.DataFrame(pd.read_csv(\"../temp CSV/X_train.CSV\"))"
   ]
  },
  {
   "cell_type": "code",
   "execution_count": 93,
   "metadata": {},
   "outputs": [],
   "source": [
    "final_features = pd.DataFrame(pd.read_csv(\"../temp CSV/final_features.CSV\")).loc[:,'0'].values"
   ]
  },
  {
   "cell_type": "markdown",
   "metadata": {},
   "source": [
    "#### 4.5.2 Overview of remaining features\r\n"
   ]
  },
  {
   "cell_type": "code",
   "execution_count": 94,
   "metadata": {},
   "outputs": [
    {
     "data": {
      "text/html": [
       "<div>\n",
       "<style scoped>\n",
       "    .dataframe tbody tr th:only-of-type {\n",
       "        vertical-align: middle;\n",
       "    }\n",
       "\n",
       "    .dataframe tbody tr th {\n",
       "        vertical-align: top;\n",
       "    }\n",
       "\n",
       "    .dataframe thead th {\n",
       "        text-align: right;\n",
       "    }\n",
       "</style>\n",
       "<table border=\"1\" class=\"dataframe\">\n",
       "  <thead>\n",
       "    <tr style=\"text-align: right;\">\n",
       "      <th></th>\n",
       "      <th>ID</th>\n",
       "      <th>feature034</th>\n",
       "      <th>feature060</th>\n",
       "      <th>feature065</th>\n",
       "      <th>feature066</th>\n",
       "      <th>feature104</th>\n",
       "      <th>feature113</th>\n",
       "      <th>feature125</th>\n",
       "      <th>feature126</th>\n",
       "      <th>feature127</th>\n",
       "      <th>feature131</th>\n",
       "      <th>feature161</th>\n",
       "      <th>feature248</th>\n",
       "      <th>feature296</th>\n",
       "      <th>feature432</th>\n",
       "      <th>feature461</th>\n",
       "      <th>feature478</th>\n",
       "      <th>feature511</th>\n",
       "      <th>feature520</th>\n",
       "    </tr>\n",
       "  </thead>\n",
       "  <tbody>\n",
       "    <tr>\n",
       "      <th>count</th>\n",
       "      <td>1253.000000</td>\n",
       "      <td>1253.000000</td>\n",
       "      <td>1253.000000</td>\n",
       "      <td>1253.000000</td>\n",
       "      <td>1253.000000</td>\n",
       "      <td>1253.000000</td>\n",
       "      <td>1253.000000</td>\n",
       "      <td>1253.000000</td>\n",
       "      <td>1253.000000</td>\n",
       "      <td>1253.000000</td>\n",
       "      <td>1253.000000</td>\n",
       "      <td>1253.000000</td>\n",
       "      <td>1253.000000</td>\n",
       "      <td>1253.000000</td>\n",
       "      <td>1253.000000</td>\n",
       "      <td>1253.000000</td>\n",
       "      <td>1253.000000</td>\n",
       "      <td>1253.000000</td>\n",
       "      <td>1253.000000</td>\n",
       "    </tr>\n",
       "    <tr>\n",
       "      <th>mean</th>\n",
       "      <td>784.950519</td>\n",
       "      <td>8.823866</td>\n",
       "      <td>2.738015</td>\n",
       "      <td>20.507971</td>\n",
       "      <td>26.676591</td>\n",
       "      <td>-0.009805</td>\n",
       "      <td>0.462023</td>\n",
       "      <td>15.796073</td>\n",
       "      <td>1.183247</td>\n",
       "      <td>2.731295</td>\n",
       "      <td>0.746798</td>\n",
       "      <td>489.969328</td>\n",
       "      <td>0.046695</td>\n",
       "      <td>218.194652</td>\n",
       "      <td>17.749570</td>\n",
       "      <td>29.055140</td>\n",
       "      <td>5.626105</td>\n",
       "      <td>52.237439</td>\n",
       "      <td>10.100208</td>\n",
       "    </tr>\n",
       "    <tr>\n",
       "      <th>std</th>\n",
       "      <td>451.925429</td>\n",
       "      <td>0.399684</td>\n",
       "      <td>8.160062</td>\n",
       "      <td>4.929552</td>\n",
       "      <td>8.045375</td>\n",
       "      <td>0.002825</td>\n",
       "      <td>0.005949</td>\n",
       "      <td>0.113443</td>\n",
       "      <td>0.267272</td>\n",
       "      <td>0.204348</td>\n",
       "      <td>0.080855</td>\n",
       "      <td>362.802490</td>\n",
       "      <td>0.037211</td>\n",
       "      <td>160.929907</td>\n",
       "      <td>12.502469</td>\n",
       "      <td>12.253043</td>\n",
       "      <td>3.140735</td>\n",
       "      <td>24.424038</td>\n",
       "      <td>8.057118</td>\n",
       "    </tr>\n",
       "    <tr>\n",
       "      <th>min</th>\n",
       "      <td>1.000000</td>\n",
       "      <td>7.603200</td>\n",
       "      <td>-21.205500</td>\n",
       "      <td>6.448200</td>\n",
       "      <td>-162.488529</td>\n",
       "      <td>-0.018500</td>\n",
       "      <td>0.398900</td>\n",
       "      <td>15.470000</td>\n",
       "      <td>0.605500</td>\n",
       "      <td>2.340000</td>\n",
       "      <td>0.501300</td>\n",
       "      <td>28.000000</td>\n",
       "      <td>0.000000</td>\n",
       "      <td>13.622900</td>\n",
       "      <td>1.239100</td>\n",
       "      <td>7.953400</td>\n",
       "      <td>-69.217125</td>\n",
       "      <td>0.000000</td>\n",
       "      <td>0.000000</td>\n",
       "    </tr>\n",
       "    <tr>\n",
       "      <th>25%</th>\n",
       "      <td>392.000000</td>\n",
       "      <td>8.578800</td>\n",
       "      <td>-1.929100</td>\n",
       "      <td>17.362700</td>\n",
       "      <td>22.997000</td>\n",
       "      <td>-0.011800</td>\n",
       "      <td>0.459300</td>\n",
       "      <td>15.730000</td>\n",
       "      <td>0.974400</td>\n",
       "      <td>2.572000</td>\n",
       "      <td>0.688700</td>\n",
       "      <td>295.000000</td>\n",
       "      <td>0.025100</td>\n",
       "      <td>130.306100</td>\n",
       "      <td>11.056900</td>\n",
       "      <td>20.363900</td>\n",
       "      <td>4.091100</td>\n",
       "      <td>35.320100</td>\n",
       "      <td>5.429400</td>\n",
       "    </tr>\n",
       "    <tr>\n",
       "      <th>50%</th>\n",
       "      <td>788.000000</td>\n",
       "      <td>8.769600</td>\n",
       "      <td>0.860000</td>\n",
       "      <td>20.023600</td>\n",
       "      <td>26.247000</td>\n",
       "      <td>-0.010100</td>\n",
       "      <td>0.462066</td>\n",
       "      <td>15.780000</td>\n",
       "      <td>1.144000</td>\n",
       "      <td>2.734000</td>\n",
       "      <td>0.758900</td>\n",
       "      <td>435.000000</td>\n",
       "      <td>0.042587</td>\n",
       "      <td>194.398900</td>\n",
       "      <td>16.213400</td>\n",
       "      <td>26.311100</td>\n",
       "      <td>5.243698</td>\n",
       "      <td>47.276100</td>\n",
       "      <td>9.269578</td>\n",
       "    </tr>\n",
       "    <tr>\n",
       "      <th>75%</th>\n",
       "      <td>1180.000000</td>\n",
       "      <td>9.035500</td>\n",
       "      <td>4.381800</td>\n",
       "      <td>22.872700</td>\n",
       "      <td>29.921200</td>\n",
       "      <td>-0.008100</td>\n",
       "      <td>0.464945</td>\n",
       "      <td>15.870000</td>\n",
       "      <td>1.338000</td>\n",
       "      <td>2.857000</td>\n",
       "      <td>0.818700</td>\n",
       "      <td>613.000000</td>\n",
       "      <td>0.049762</td>\n",
       "      <td>270.728000</td>\n",
       "      <td>21.406800</td>\n",
       "      <td>35.748700</td>\n",
       "      <td>6.679000</td>\n",
       "      <td>63.378200</td>\n",
       "      <td>10.804853</td>\n",
       "    </tr>\n",
       "    <tr>\n",
       "      <th>max</th>\n",
       "      <td>1567.000000</td>\n",
       "      <td>10.963400</td>\n",
       "      <td>29.750900</td>\n",
       "      <td>47.859212</td>\n",
       "      <td>52.638423</td>\n",
       "      <td>-0.000700</td>\n",
       "      <td>0.488500</td>\n",
       "      <td>16.090000</td>\n",
       "      <td>2.022000</td>\n",
       "      <td>3.463000</td>\n",
       "      <td>0.888400</td>\n",
       "      <td>3386.788582</td>\n",
       "      <td>0.252682</td>\n",
       "      <td>1508.623036</td>\n",
       "      <td>119.356000</td>\n",
       "      <td>90.708244</td>\n",
       "      <td>23.100200</td>\n",
       "      <td>160.493800</td>\n",
       "      <td>59.664900</td>\n",
       "    </tr>\n",
       "  </tbody>\n",
       "</table>\n",
       "</div>"
      ],
      "text/plain": [
       "                ID   feature034   feature060   feature065   feature066  \\\n",
       "count  1253.000000  1253.000000  1253.000000  1253.000000  1253.000000   \n",
       "mean    784.950519     8.823866     2.738015    20.507971    26.676591   \n",
       "std     451.925429     0.399684     8.160062     4.929552     8.045375   \n",
       "min       1.000000     7.603200   -21.205500     6.448200  -162.488529   \n",
       "25%     392.000000     8.578800    -1.929100    17.362700    22.997000   \n",
       "50%     788.000000     8.769600     0.860000    20.023600    26.247000   \n",
       "75%    1180.000000     9.035500     4.381800    22.872700    29.921200   \n",
       "max    1567.000000    10.963400    29.750900    47.859212    52.638423   \n",
       "\n",
       "        feature104   feature113   feature125   feature126   feature127  \\\n",
       "count  1253.000000  1253.000000  1253.000000  1253.000000  1253.000000   \n",
       "mean     -0.009805     0.462023    15.796073     1.183247     2.731295   \n",
       "std       0.002825     0.005949     0.113443     0.267272     0.204348   \n",
       "min      -0.018500     0.398900    15.470000     0.605500     2.340000   \n",
       "25%      -0.011800     0.459300    15.730000     0.974400     2.572000   \n",
       "50%      -0.010100     0.462066    15.780000     1.144000     2.734000   \n",
       "75%      -0.008100     0.464945    15.870000     1.338000     2.857000   \n",
       "max      -0.000700     0.488500    16.090000     2.022000     3.463000   \n",
       "\n",
       "        feature131   feature161   feature248   feature296   feature432  \\\n",
       "count  1253.000000  1253.000000  1253.000000  1253.000000  1253.000000   \n",
       "mean      0.746798   489.969328     0.046695   218.194652    17.749570   \n",
       "std       0.080855   362.802490     0.037211   160.929907    12.502469   \n",
       "min       0.501300    28.000000     0.000000    13.622900     1.239100   \n",
       "25%       0.688700   295.000000     0.025100   130.306100    11.056900   \n",
       "50%       0.758900   435.000000     0.042587   194.398900    16.213400   \n",
       "75%       0.818700   613.000000     0.049762   270.728000    21.406800   \n",
       "max       0.888400  3386.788582     0.252682  1508.623036   119.356000   \n",
       "\n",
       "        feature461   feature478   feature511   feature520  \n",
       "count  1253.000000  1253.000000  1253.000000  1253.000000  \n",
       "mean     29.055140     5.626105    52.237439    10.100208  \n",
       "std      12.253043     3.140735    24.424038     8.057118  \n",
       "min       7.953400   -69.217125     0.000000     0.000000  \n",
       "25%      20.363900     4.091100    35.320100     5.429400  \n",
       "50%      26.311100     5.243698    47.276100     9.269578  \n",
       "75%      35.748700     6.679000    63.378200    10.804853  \n",
       "max      90.708244    23.100200   160.493800    59.664900  "
      ]
     },
     "execution_count": 94,
     "metadata": {},
     "output_type": "execute_result"
    }
   ],
   "source": [
    "# Descriptive statistics\n",
    "X_train.describe()"
   ]
  },
  {
   "cell_type": "code",
   "execution_count": 95,
   "metadata": {},
   "outputs": [
    {
     "name": "stdout",
     "output_type": "stream",
     "text": [
      "<class 'pandas.core.frame.DataFrame'>\n",
      "RangeIndex: 1253 entries, 0 to 1252\n",
      "Data columns (total 19 columns):\n",
      " #   Column      Non-Null Count  Dtype  \n",
      "---  ------      --------------  -----  \n",
      " 0   ID          1253 non-null   float64\n",
      " 1   feature034  1253 non-null   float64\n",
      " 2   feature060  1253 non-null   float64\n",
      " 3   feature065  1253 non-null   float64\n",
      " 4   feature066  1253 non-null   float64\n",
      " 5   feature104  1253 non-null   float64\n",
      " 6   feature113  1253 non-null   float64\n",
      " 7   feature125  1253 non-null   float64\n",
      " 8   feature126  1253 non-null   float64\n",
      " 9   feature127  1253 non-null   float64\n",
      " 10  feature131  1253 non-null   float64\n",
      " 11  feature161  1253 non-null   float64\n",
      " 12  feature248  1253 non-null   float64\n",
      " 13  feature296  1253 non-null   float64\n",
      " 14  feature432  1253 non-null   float64\n",
      " 15  feature461  1253 non-null   float64\n",
      " 16  feature478  1253 non-null   float64\n",
      " 17  feature511  1253 non-null   float64\n",
      " 18  feature520  1253 non-null   float64\n",
      "dtypes: float64(19)\n",
      "memory usage: 186.1 KB\n",
      "None\n",
      "(1253, 19)\n"
     ]
    }
   ],
   "source": [
    "#datatype and shape\n",
    "print(X_train.info())\n",
    "print(X_train.shape)"
   ]
  },
  {
   "cell_type": "code",
   "execution_count": 96,
   "metadata": {
    "scrolled": false
   },
   "outputs": [
    {
     "data": {
      "text/plain": [
       "array([[<AxesSubplot:title={'center':'ID'}>,\n",
       "        <AxesSubplot:title={'center':'feature034'}>,\n",
       "        <AxesSubplot:title={'center':'feature060'}>,\n",
       "        <AxesSubplot:title={'center':'feature065'}>],\n",
       "       [<AxesSubplot:title={'center':'feature066'}>,\n",
       "        <AxesSubplot:title={'center':'feature104'}>,\n",
       "        <AxesSubplot:title={'center':'feature113'}>,\n",
       "        <AxesSubplot:title={'center':'feature125'}>],\n",
       "       [<AxesSubplot:title={'center':'feature126'}>,\n",
       "        <AxesSubplot:title={'center':'feature127'}>,\n",
       "        <AxesSubplot:title={'center':'feature131'}>,\n",
       "        <AxesSubplot:title={'center':'feature161'}>],\n",
       "       [<AxesSubplot:title={'center':'feature248'}>,\n",
       "        <AxesSubplot:title={'center':'feature296'}>,\n",
       "        <AxesSubplot:title={'center':'feature432'}>,\n",
       "        <AxesSubplot:title={'center':'feature461'}>],\n",
       "       [<AxesSubplot:title={'center':'feature478'}>,\n",
       "        <AxesSubplot:title={'center':'feature511'}>,\n",
       "        <AxesSubplot:title={'center':'feature520'}>, <AxesSubplot:>]],\n",
       "      dtype=object)"
      ]
     },
     "execution_count": 96,
     "metadata": {},
     "output_type": "execute_result"
    },
    {
     "data": {
      "image/png": "[encoded data removed]",
      "text/plain": [
       "<Figure size 1000x2000 with 20 Axes>"
      ]
     },
     "metadata": {
      "needs_background": "light"
     },
     "output_type": "display_data"
    }
   ],
   "source": [
    "# Histogram of the features\n",
    "X_train.hist(figsize=(10,20))"
   ]
  },
  {
   "cell_type": "code",
   "execution_count": 97,
   "metadata": {},
   "outputs": [
    {
     "data": {
      "image/png": "[encoded data removed]",
      "text/plain": [
       "<Figure size 800x800 with 1 Axes>"
      ]
     },
     "metadata": {
      "needs_background": "light"
     },
     "output_type": "display_data"
    }
   ],
   "source": [
    "# Histogram of Standard Deviation of the remaining features\n",
    "StandardDeviation(X_train)"
   ]
  },
  {
   "cell_type": "code",
   "execution_count": 98,
   "metadata": {},
   "outputs": [
    {
     "data": {
      "image/png": "[encoded data removed]",
      "text/plain": [
       "<Figure size 800x800 with 1 Axes>"
      ]
     },
     "metadata": {
      "needs_background": "light"
     },
     "output_type": "display_data"
    }
   ],
   "source": [
    "# Histogram of Coefficient of Standard Deviation of the remaining features\n",
    "CoefficientOfVariation(X_train)"
   ]
  },
  {
   "cell_type": "code",
   "execution_count": 99,
   "metadata": {},
   "outputs": [
    {
     "data": {
      "text/html": [
       "<style  type=\"text/css\" >\n",
       "#T_b6470_row0_col0,#T_b6470_row1_col1,#T_b6470_row2_col2,#T_b6470_row3_col3,#T_b6470_row4_col4,#T_b6470_row5_col5,#T_b6470_row6_col6,#T_b6470_row7_col7,#T_b6470_row8_col8,#T_b6470_row9_col9,#T_b6470_row10_col10,#T_b6470_row11_col11,#T_b6470_row11_col13,#T_b6470_row12_col12,#T_b6470_row13_col11,#T_b6470_row13_col13,#T_b6470_row14_col14,#T_b6470_row15_col15,#T_b6470_row16_col16,#T_b6470_row17_col17,#T_b6470_row18_col18{\n",
       "            background-color:  #b40426;\n",
       "            color:  #f1f1f1;\n",
       "        }#T_b6470_row0_col1,#T_b6470_row0_col2,#T_b6470_row0_col5,#T_b6470_row0_col6,#T_b6470_row0_col7,#T_b6470_row0_col11,#T_b6470_row0_col12,#T_b6470_row0_col13,#T_b6470_row0_col14,#T_b6470_row0_col16,#T_b6470_row0_col17,#T_b6470_row0_col18,#T_b6470_row2_col3,#T_b6470_row2_col4,#T_b6470_row5_col0,#T_b6470_row8_col9,#T_b6470_row8_col10,#T_b6470_row10_col8,#T_b6470_row10_col15{\n",
       "            background-color:  #3b4cc0;\n",
       "            color:  #f1f1f1;\n",
       "        }#T_b6470_row0_col3{\n",
       "            background-color:  #97b8ff;\n",
       "            color:  #000000;\n",
       "        }#T_b6470_row0_col4,#T_b6470_row3_col11,#T_b6470_row15_col16{\n",
       "            background-color:  #6c8ff1;\n",
       "            color:  #000000;\n",
       "        }#T_b6470_row0_col8,#T_b6470_row12_col5{\n",
       "            background-color:  #e4d9d2;\n",
       "            color:  #000000;\n",
       "        }#T_b6470_row0_col9,#T_b6470_row1_col3,#T_b6470_row18_col3{\n",
       "            background-color:  #b5cdfa;\n",
       "            color:  #000000;\n",
       "        }#T_b6470_row0_col10,#T_b6470_row2_col6,#T_b6470_row5_col9,#T_b6470_row13_col17,#T_b6470_row18_col9{\n",
       "            background-color:  #aac7fd;\n",
       "            color:  #000000;\n",
       "        }#T_b6470_row0_col15{\n",
       "            background-color:  #3d50c3;\n",
       "            color:  #f1f1f1;\n",
       "        }#T_b6470_row1_col0,#T_b6470_row7_col16,#T_b6470_row11_col4,#T_b6470_row13_col4,#T_b6470_row16_col1{\n",
       "            background-color:  #82a6fb;\n",
       "            color:  #000000;\n",
       "        }#T_b6470_row1_col2,#T_b6470_row11_col5,#T_b6470_row12_col17,#T_b6470_row13_col5,#T_b6470_row17_col10,#T_b6470_row18_col17{\n",
       "            background-color:  #c9d7f0;\n",
       "            color:  #000000;\n",
       "        }#T_b6470_row1_col4,#T_b6470_row2_col1,#T_b6470_row6_col1,#T_b6470_row15_col0,#T_b6470_row18_col4{\n",
       "            background-color:  #9dbdff;\n",
       "            color:  #000000;\n",
       "        }#T_b6470_row1_col5,#T_b6470_row3_col5{\n",
       "            background-color:  #cbd8ee;\n",
       "            color:  #000000;\n",
       "        }#T_b6470_row1_col6,#T_b6470_row5_col4,#T_b6470_row5_col6,#T_b6470_row8_col3,#T_b6470_row9_col2,#T_b6470_row9_col3,#T_b6470_row12_col8,#T_b6470_row17_col6{\n",
       "            background-color:  #a3c2fe;\n",
       "            color:  #000000;\n",
       "        }#T_b6470_row1_col7,#T_b6470_row3_col6,#T_b6470_row7_col3,#T_b6470_row14_col7,#T_b6470_row15_col9{\n",
       "            background-color:  #93b5fe;\n",
       "            color:  #000000;\n",
       "        }#T_b6470_row1_col8,#T_b6470_row11_col9,#T_b6470_row13_col9,#T_b6470_row14_col17,#T_b6470_row15_col10{\n",
       "            background-color:  #a6c4fe;\n",
       "            color:  #000000;\n",
       "        }#T_b6470_row1_col9,#T_b6470_row6_col16,#T_b6470_row10_col3,#T_b6470_row10_col7,#T_b6470_row14_col9{\n",
       "            background-color:  #a7c5fe;\n",
       "            color:  #000000;\n",
       "        }#T_b6470_row1_col10{\n",
       "            background-color:  #bfd3f6;\n",
       "            color:  #000000;\n",
       "        }#T_b6470_row1_col11,#T_b6470_row1_col13,#T_b6470_row2_col14,#T_b6470_row4_col7,#T_b6470_row7_col12,#T_b6470_row8_col2,#T_b6470_row10_col6,#T_b6470_row12_col0,#T_b6470_row18_col0{\n",
       "            background-color:  #7b9ff9;\n",
       "            color:  #000000;\n",
       "        }#T_b6470_row1_col12,#T_b6470_row3_col18,#T_b6470_row10_col4,#T_b6470_row10_col12,#T_b6470_row10_col18{\n",
       "            background-color:  #8db0fe;\n",
       "            color:  #000000;\n",
       "        }#T_b6470_row1_col14,#T_b6470_row7_col0,#T_b6470_row9_col7,#T_b6470_row10_col16{\n",
       "            background-color:  #7295f4;\n",
       "            color:  #000000;\n",
       "        }#T_b6470_row1_col15,#T_b6470_row2_col15,#T_b6470_row8_col6{\n",
       "            background-color:  #6b8df0;\n",
       "            color:  #000000;\n",
       "        }#T_b6470_row1_col16,#T_b6470_row6_col14,#T_b6470_row7_col4,#T_b6470_row11_col0,#T_b6470_row13_col0,#T_b6470_row16_col11,#T_b6470_row16_col13,#T_b6470_row17_col11,#T_b6470_row18_col16{\n",
       "            background-color:  #80a3fa;\n",
       "            color:  #000000;\n",
       "        }#T_b6470_row1_col17{\n",
       "            background-color:  #afcafc;\n",
       "            color:  #000000;\n",
       "        }#T_b6470_row1_col18,#T_b6470_row5_col16,#T_b6470_row7_col11,#T_b6470_row7_col13,#T_b6470_row9_col4,#T_b6470_row12_col11,#T_b6470_row12_col13,#T_b6470_row14_col6,#T_b6470_row15_col6,#T_b6470_row16_col3{\n",
       "            background-color:  #8caffe;\n",
       "            color:  #000000;\n",
       "        }#T_b6470_row2_col0{\n",
       "            background-color:  #465ecf;\n",
       "            color:  #f1f1f1;\n",
       "        }#T_b6470_row2_col5{\n",
       "            background-color:  #efcfbf;\n",
       "            color:  #000000;\n",
       "        }#T_b6470_row2_col7,#T_b6470_row2_col8,#T_b6470_row5_col11,#T_b6470_row16_col7{\n",
       "            background-color:  #94b6ff;\n",
       "            color:  #000000;\n",
       "        }#T_b6470_row2_col9,#T_b6470_row3_col0,#T_b6470_row6_col9,#T_b6470_row17_col4{\n",
       "            background-color:  #a5c3fe;\n",
       "            color:  #000000;\n",
       "        }#T_b6470_row2_col10,#T_b6470_row5_col18,#T_b6470_row6_col17{\n",
       "            background-color:  #c3d5f4;\n",
       "            color:  #000000;\n",
       "        }#T_b6470_row2_col11,#T_b6470_row5_col8,#T_b6470_row14_col0{\n",
       "            background-color:  #86a9fc;\n",
       "            color:  #000000;\n",
       "        }#T_b6470_row2_col12,#T_b6470_row3_col8,#T_b6470_row4_col17{\n",
       "            background-color:  #bad0f8;\n",
       "            color:  #000000;\n",
       "        }#T_b6470_row2_col13,#T_b6470_row4_col1{\n",
       "            background-color:  #88abfd;\n",
       "            color:  #000000;\n",
       "        }#T_b6470_row2_col16,#T_b6470_row13_col3,#T_b6470_row14_col3,#T_b6470_row15_col17{\n",
       "            background-color:  #9fbfff;\n",
       "            color:  #000000;\n",
       "        }#T_b6470_row2_col17{\n",
       "            background-color:  #dddcdc;\n",
       "            color:  #000000;\n",
       "        }#T_b6470_row2_col18,#T_b6470_row4_col6,#T_b6470_row6_col3,#T_b6470_row12_col3{\n",
       "            background-color:  #b9d0f9;\n",
       "            color:  #000000;\n",
       "        }#T_b6470_row3_col1,#T_b6470_row12_col1,#T_b6470_row12_col7,#T_b6470_row12_col14,#T_b6470_row15_col1,#T_b6470_row15_col4,#T_b6470_row16_col0,#T_b6470_row17_col1,#T_b6470_row17_col16,#T_b6470_row18_col1,#T_b6470_row18_col7{\n",
       "            background-color:  #85a8fc;\n",
       "            color:  #000000;\n",
       "        }#T_b6470_row3_col2{\n",
       "            background-color:  #3f53c6;\n",
       "            color:  #f1f1f1;\n",
       "        }#T_b6470_row3_col4{\n",
       "            background-color:  #f7a889;\n",
       "            color:  #000000;\n",
       "        }#T_b6470_row3_col7,#T_b6470_row3_col13,#T_b6470_row15_col11,#T_b6470_row16_col12{\n",
       "            background-color:  #6e90f2;\n",
       "            color:  #000000;\n",
       "        }#T_b6470_row3_col9,#T_b6470_row11_col17,#T_b6470_row12_col9{\n",
       "            background-color:  #a9c6fd;\n",
       "            color:  #000000;\n",
       "        }#T_b6470_row3_col10,#T_b6470_row10_col5,#T_b6470_row11_col10,#T_b6470_row13_col10,#T_b6470_row14_col10,#T_b6470_row16_col10{\n",
       "            background-color:  #bed2f6;\n",
       "            color:  #000000;\n",
       "        }#T_b6470_row3_col12,#T_b6470_row17_col8{\n",
       "            background-color:  #92b4fe;\n",
       "            color:  #000000;\n",
       "        }#T_b6470_row3_col14{\n",
       "            background-color:  #6788ee;\n",
       "            color:  #000000;\n",
       "        }#T_b6470_row3_col15,#T_b6470_row4_col14,#T_b6470_row18_col15{\n",
       "            background-color:  #688aef;\n",
       "            color:  #000000;\n",
       "        }#T_b6470_row3_col16,#T_b6470_row13_col15{\n",
       "            background-color:  #516ddb;\n",
       "            color:  #000000;\n",
       "        }#T_b6470_row3_col17,#T_b6470_row14_col2{\n",
       "            background-color:  #b3cdfb;\n",
       "            color:  #000000;\n",
       "        }#T_b6470_row4_col0,#T_b6470_row7_col9{\n",
       "            background-color:  #9bbcff;\n",
       "            color:  #000000;\n",
       "        }#T_b6470_row4_col2{\n",
       "            background-color:  #6180e9;\n",
       "            color:  #000000;\n",
       "        }#T_b6470_row4_col3{\n",
       "            background-color:  #f59c7d;\n",
       "            color:  #000000;\n",
       "        }#T_b6470_row4_col5,#T_b6470_row5_col10,#T_b6470_row7_col5{\n",
       "            background-color:  #c7d7f0;\n",
       "            color:  #000000;\n",
       "        }#T_b6470_row4_col8,#T_b6470_row7_col17,#T_b6470_row15_col3,#T_b6470_row16_col17{\n",
       "            background-color:  #b2ccfb;\n",
       "            color:  #000000;\n",
       "        }#T_b6470_row4_col9{\n",
       "            background-color:  #aec9fc;\n",
       "            color:  #000000;\n",
       "        }#T_b6470_row4_col10{\n",
       "            background-color:  #c0d4f5;\n",
       "            color:  #000000;\n",
       "        }#T_b6470_row4_col11,#T_b6470_row8_col17,#T_b6470_row9_col1,#T_b6470_row9_col11,#T_b6470_row9_col13,#T_b6470_row10_col14,#T_b6470_row15_col13{\n",
       "            background-color:  #6f92f3;\n",
       "            color:  #000000;\n",
       "        }#T_b6470_row4_col12,#T_b6470_row10_col1,#T_b6470_row14_col1,#T_b6470_row16_col14{\n",
       "            background-color:  #7699f6;\n",
       "            color:  #000000;\n",
       "        }#T_b6470_row4_col13,#T_b6470_row8_col15{\n",
       "            background-color:  #7093f3;\n",
       "            color:  #000000;\n",
       "        }#T_b6470_row4_col15,#T_b6470_row16_col15{\n",
       "            background-color:  #5572df;\n",
       "            color:  #000000;\n",
       "        }#T_b6470_row4_col16{\n",
       "            background-color:  #e5d8d1;\n",
       "            color:  #000000;\n",
       "        }#T_b6470_row4_col18,#T_b6470_row11_col6,#T_b6470_row11_col12,#T_b6470_row11_col18,#T_b6470_row13_col6,#T_b6470_row13_col12,#T_b6470_row13_col18,#T_b6470_row14_col12,#T_b6470_row14_col18{\n",
       "            background-color:  #90b2fe;\n",
       "            color:  #000000;\n",
       "        }#T_b6470_row5_col1,#T_b6470_row5_col13{\n",
       "            background-color:  #96b7ff;\n",
       "            color:  #000000;\n",
       "        }#T_b6470_row5_col2{\n",
       "            background-color:  #ebd3c6;\n",
       "            color:  #000000;\n",
       "        }#T_b6470_row5_col3,#T_b6470_row6_col4{\n",
       "            background-color:  #c1d4f4;\n",
       "            color:  #000000;\n",
       "        }#T_b6470_row5_col7,#T_b6470_row9_col17,#T_b6470_row16_col9{\n",
       "            background-color:  #a1c0ff;\n",
       "            color:  #000000;\n",
       "        }#T_b6470_row5_col12{\n",
       "            background-color:  #c4d5f3;\n",
       "            color:  #000000;\n",
       "        }#T_b6470_row5_col14,#T_b6470_row6_col11,#T_b6470_row6_col13,#T_b6470_row15_col12,#T_b6470_row18_col11,#T_b6470_row18_col13{\n",
       "            background-color:  #8badfd;\n",
       "            color:  #000000;\n",
       "        }#T_b6470_row5_col15,#T_b6470_row6_col18{\n",
       "            background-color:  #5e7de7;\n",
       "            color:  #000000;\n",
       "        }#T_b6470_row5_col17{\n",
       "            background-color:  #f59f80;\n",
       "            color:  #000000;\n",
       "        }#T_b6470_row6_col0,#T_b6470_row11_col16,#T_b6470_row13_col16{\n",
       "            background-color:  #7a9df8;\n",
       "            color:  #000000;\n",
       "        }#T_b6470_row6_col2{\n",
       "            background-color:  #cdd9ec;\n",
       "            color:  #000000;\n",
       "        }#T_b6470_row6_col5{\n",
       "            background-color:  #cfdaea;\n",
       "            color:  #000000;\n",
       "        }#T_b6470_row6_col7,#T_b6470_row15_col18,#T_b6470_row16_col18{\n",
       "            background-color:  #89acfd;\n",
       "            color:  #000000;\n",
       "        }#T_b6470_row6_col8,#T_b6470_row7_col8,#T_b6470_row9_col5,#T_b6470_row10_col2,#T_b6470_row10_col17,#T_b6470_row16_col6{\n",
       "            background-color:  #b1cbfc;\n",
       "            color:  #000000;\n",
       "        }#T_b6470_row6_col10{\n",
       "            background-color:  #bcd2f7;\n",
       "            color:  #000000;\n",
       "        }#T_b6470_row6_col12,#T_b6470_row8_col11,#T_b6470_row8_col13,#T_b6470_row12_col6,#T_b6470_row18_col6{\n",
       "            background-color:  #5f7fe8;\n",
       "            color:  #000000;\n",
       "        }#T_b6470_row6_col15,#T_b6470_row9_col14,#T_b6470_row12_col15{\n",
       "            background-color:  #6a8bef;\n",
       "            color:  #000000;\n",
       "        }#T_b6470_row7_col1,#T_b6470_row12_col4,#T_b6470_row14_col4,#T_b6470_row15_col7,#T_b6470_row18_col14{\n",
       "            background-color:  #84a7fc;\n",
       "            color:  #000000;\n",
       "        }#T_b6470_row7_col2,#T_b6470_row13_col2,#T_b6470_row15_col2,#T_b6470_row17_col3{\n",
       "            background-color:  #b7cff9;\n",
       "            color:  #000000;\n",
       "        }#T_b6470_row7_col6,#T_b6470_row17_col13{\n",
       "            background-color:  #81a4fb;\n",
       "            color:  #000000;\n",
       "        }#T_b6470_row7_col10{\n",
       "            background-color:  #d5dbe5;\n",
       "            color:  #000000;\n",
       "        }#T_b6470_row7_col14{\n",
       "            background-color:  #7ea1fa;\n",
       "            color:  #000000;\n",
       "        }#T_b6470_row7_col15,#T_b6470_row8_col12,#T_b6470_row8_col14,#T_b6470_row8_col16{\n",
       "            background-color:  #5977e3;\n",
       "            color:  #000000;\n",
       "        }#T_b6470_row7_col18{\n",
       "            background-color:  #7da0f9;\n",
       "            color:  #000000;\n",
       "        }#T_b6470_row8_col0{\n",
       "            background-color:  #dedcdb;\n",
       "            color:  #000000;\n",
       "        }#T_b6470_row8_col1{\n",
       "            background-color:  #5470de;\n",
       "            color:  #000000;\n",
       "        }#T_b6470_row8_col4,#T_b6470_row8_col5,#T_b6470_row9_col12,#T_b6470_row9_col18,#T_b6470_row10_col13,#T_b6470_row11_col1,#T_b6470_row13_col1,#T_b6470_row14_col16{\n",
       "            background-color:  #799cf8;\n",
       "            color:  #000000;\n",
       "        }#T_b6470_row8_col7{\n",
       "            background-color:  #7396f5;\n",
       "            color:  #000000;\n",
       "        }#T_b6470_row8_col18{\n",
       "            background-color:  #5875e1;\n",
       "            color:  #000000;\n",
       "        }#T_b6470_row9_col0{\n",
       "            background-color:  #bbd1f8;\n",
       "            color:  #000000;\n",
       "        }#T_b6470_row9_col6,#T_b6470_row17_col14{\n",
       "            background-color:  #7597f6;\n",
       "            color:  #000000;\n",
       "        }#T_b6470_row9_col8{\n",
       "            background-color:  #536edd;\n",
       "            color:  #000000;\n",
       "        }#T_b6470_row9_col10{\n",
       "            background-color:  #f08b6e;\n",
       "            color:  #000000;\n",
       "        }#T_b6470_row9_col15{\n",
       "            background-color:  #3c4ec2;\n",
       "            color:  #f1f1f1;\n",
       "        }#T_b6470_row9_col16,#T_b6470_row12_col16{\n",
       "            background-color:  #6384eb;\n",
       "            color:  #000000;\n",
       "        }#T_b6470_row10_col0,#T_b6470_row11_col3{\n",
       "            background-color:  #9ebeff;\n",
       "            color:  #000000;\n",
       "        }#T_b6470_row10_col9{\n",
       "            background-color:  #f29274;\n",
       "            color:  #000000;\n",
       "        }#T_b6470_row10_col11{\n",
       "            background-color:  #779af7;\n",
       "            color:  #000000;\n",
       "        }#T_b6470_row11_col2,#T_b6470_row15_col5{\n",
       "            background-color:  #b6cefa;\n",
       "            color:  #000000;\n",
       "        }#T_b6470_row11_col7,#T_b6470_row13_col7,#T_b6470_row17_col7{\n",
       "            background-color:  #98b9ff;\n",
       "            color:  #000000;\n",
       "        }#T_b6470_row11_col8,#T_b6470_row13_col8,#T_b6470_row14_col8{\n",
       "            background-color:  #adc9fd;\n",
       "            color:  #000000;\n",
       "        }#T_b6470_row11_col14,#T_b6470_row14_col11{\n",
       "            background-color:  #b50927;\n",
       "            color:  #f1f1f1;\n",
       "        }#T_b6470_row11_col15,#T_b6470_row17_col0{\n",
       "            background-color:  #506bda;\n",
       "            color:  #000000;\n",
       "        }#T_b6470_row12_col2,#T_b6470_row18_col2{\n",
       "            background-color:  #d8dce2;\n",
       "            color:  #000000;\n",
       "        }#T_b6470_row12_col10,#T_b6470_row18_col10{\n",
       "            background-color:  #cad8ef;\n",
       "            color:  #000000;\n",
       "        }#T_b6470_row12_col18,#T_b6470_row13_col14,#T_b6470_row14_col13,#T_b6470_row18_col12{\n",
       "            background-color:  #b70d28;\n",
       "            color:  #f1f1f1;\n",
       "        }#T_b6470_row14_col5,#T_b6470_row16_col5{\n",
       "            background-color:  #c6d6f1;\n",
       "            color:  #000000;\n",
       "        }#T_b6470_row14_col15{\n",
       "            background-color:  #4e68d8;\n",
       "            color:  #000000;\n",
       "        }#T_b6470_row15_col8,#T_b6470_row16_col2{\n",
       "            background-color:  #ccd9ed;\n",
       "            color:  #000000;\n",
       "        }#T_b6470_row15_col14{\n",
       "            background-color:  #6485ec;\n",
       "            color:  #000000;\n",
       "        }#T_b6470_row16_col4{\n",
       "            background-color:  #edd1c2;\n",
       "            color:  #000000;\n",
       "        }#T_b6470_row16_col8,#T_b6470_row17_col9,#T_b6470_row17_col12,#T_b6470_row17_col18{\n",
       "            background-color:  #abc8fd;\n",
       "            color:  #000000;\n",
       "        }#T_b6470_row17_col2{\n",
       "            background-color:  #e2dad5;\n",
       "            color:  #000000;\n",
       "        }#T_b6470_row17_col5{\n",
       "            background-color:  #f39778;\n",
       "            color:  #000000;\n",
       "        }#T_b6470_row17_col15{\n",
       "            background-color:  #5673e0;\n",
       "            color:  #000000;\n",
       "        }#T_b6470_row18_col5{\n",
       "            background-color:  #e3d9d3;\n",
       "            color:  #000000;\n",
       "        }#T_b6470_row18_col8{\n",
       "            background-color:  #a2c1ff;\n",
       "            color:  #000000;\n",
       "        }</style><table id=\"T_b6470_\" ><thead>    <tr>        <th class=\"blank level0\" ></th>        <th class=\"col_heading level0 col0\" >ID</th>        <th class=\"col_heading level0 col1\" >feature034</th>        <th class=\"col_heading level0 col2\" >feature060</th>        <th class=\"col_heading level0 col3\" >feature065</th>        <th class=\"col_heading level0 col4\" >feature066</th>        <th class=\"col_heading level0 col5\" >feature104</th>        <th class=\"col_heading level0 col6\" >feature113</th>        <th class=\"col_heading level0 col7\" >feature125</th>        <th class=\"col_heading level0 col8\" >feature126</th>        <th class=\"col_heading level0 col9\" >feature127</th>        <th class=\"col_heading level0 col10\" >feature131</th>        <th class=\"col_heading level0 col11\" >feature161</th>        <th class=\"col_heading level0 col12\" >feature248</th>        <th class=\"col_heading level0 col13\" >feature296</th>        <th class=\"col_heading level0 col14\" >feature432</th>        <th class=\"col_heading level0 col15\" >feature461</th>        <th class=\"col_heading level0 col16\" >feature478</th>        <th class=\"col_heading level0 col17\" >feature511</th>        <th class=\"col_heading level0 col18\" >feature520</th>    </tr></thead><tbody>\n",
       "                <tr>\n",
       "                        <th id=\"T_b6470_level0_row0\" class=\"row_heading level0 row0\" >ID</th>\n",
       "                        <td id=\"T_b6470_row0_col0\" class=\"data row0 col0\" >1.00</td>\n",
       "                        <td id=\"T_b6470_row0_col1\" class=\"data row0 col1\" >-0.20</td>\n",
       "                        <td id=\"T_b6470_row0_col2\" class=\"data row0 col2\" >-0.48</td>\n",
       "                        <td id=\"T_b6470_row0_col3\" class=\"data row0 col3\" >-0.05</td>\n",
       "                        <td id=\"T_b6470_row0_col4\" class=\"data row0 col4\" >-0.09</td>\n",
       "                        <td id=\"T_b6470_row0_col5\" class=\"data row0 col5\" >-0.54</td>\n",
       "                        <td id=\"T_b6470_row0_col6\" class=\"data row0 col6\" >-0.24</td>\n",
       "                        <td id=\"T_b6470_row0_col7\" class=\"data row0 col7\" >-0.27</td>\n",
       "                        <td id=\"T_b6470_row0_col8\" class=\"data row0 col8\" >0.24</td>\n",
       "                        <td id=\"T_b6470_row0_col9\" class=\"data row0 col9\" >0.05</td>\n",
       "                        <td id=\"T_b6470_row0_col10\" class=\"data row0 col10\" >-0.08</td>\n",
       "                        <td id=\"T_b6470_row0_col11\" class=\"data row0 col11\" >-0.21</td>\n",
       "                        <td id=\"T_b6470_row0_col12\" class=\"data row0 col12\" >-0.23</td>\n",
       "                        <td id=\"T_b6470_row0_col13\" class=\"data row0 col13\" >-0.21</td>\n",
       "                        <td id=\"T_b6470_row0_col14\" class=\"data row0 col14\" >-0.18</td>\n",
       "                        <td id=\"T_b6470_row0_col15\" class=\"data row0 col15\" >-0.09</td>\n",
       "                        <td id=\"T_b6470_row0_col16\" class=\"data row0 col16\" >-0.19</td>\n",
       "                        <td id=\"T_b6470_row0_col17\" class=\"data row0 col17\" >-0.43</td>\n",
       "                        <td id=\"T_b6470_row0_col18\" class=\"data row0 col18\" >-0.23</td>\n",
       "            </tr>\n",
       "            <tr>\n",
       "                        <th id=\"T_b6470_level0_row1\" class=\"row_heading level0 row1\" >feature034</th>\n",
       "                        <td id=\"T_b6470_row1_col0\" class=\"data row1 col0\" >-0.20</td>\n",
       "                        <td id=\"T_b6470_row1_col1\" class=\"data row1 col1\" >1.00</td>\n",
       "                        <td id=\"T_b6470_row1_col2\" class=\"data row1 col2\" >0.15</td>\n",
       "                        <td id=\"T_b6470_row1_col3\" class=\"data row1 col3\" >0.08</td>\n",
       "                        <td id=\"T_b6470_row1_col4\" class=\"data row1 col4\" >0.08</td>\n",
       "                        <td id=\"T_b6470_row1_col5\" class=\"data row1 col5\" >0.13</td>\n",
       "                        <td id=\"T_b6470_row1_col6\" class=\"data row1 col6\" >0.15</td>\n",
       "                        <td id=\"T_b6470_row1_col7\" class=\"data row1 col7\" >0.07</td>\n",
       "                        <td id=\"T_b6470_row1_col8\" class=\"data row1 col8\" >-0.10</td>\n",
       "                        <td id=\"T_b6470_row1_col9\" class=\"data row1 col9\" >-0.00</td>\n",
       "                        <td id=\"T_b6470_row1_col10\" class=\"data row1 col10\" >0.02</td>\n",
       "                        <td id=\"T_b6470_row1_col11\" class=\"data row1 col11\" >0.03</td>\n",
       "                        <td id=\"T_b6470_row1_col12\" class=\"data row1 col12\" >0.08</td>\n",
       "                        <td id=\"T_b6470_row1_col13\" class=\"data row1 col13\" >0.03</td>\n",
       "                        <td id=\"T_b6470_row1_col14\" class=\"data row1 col14\" >0.03</td>\n",
       "                        <td id=\"T_b6470_row1_col15\" class=\"data row1 col15\" >0.07</td>\n",
       "                        <td id=\"T_b6470_row1_col16\" class=\"data row1 col16\" >0.07</td>\n",
       "                        <td id=\"T_b6470_row1_col17\" class=\"data row1 col17\" >0.07</td>\n",
       "                        <td id=\"T_b6470_row1_col18\" class=\"data row1 col18\" >0.08</td>\n",
       "            </tr>\n",
       "            <tr>\n",
       "                        <th id=\"T_b6470_level0_row2\" class=\"row_heading level0 row2\" >feature060</th>\n",
       "                        <td id=\"T_b6470_row2_col0\" class=\"data row2 col0\" >-0.48</td>\n",
       "                        <td id=\"T_b6470_row2_col1\" class=\"data row2 col1\" >0.15</td>\n",
       "                        <td id=\"T_b6470_row2_col2\" class=\"data row2 col2\" >1.00</td>\n",
       "                        <td id=\"T_b6470_row2_col3\" class=\"data row2 col3\" >-0.45</td>\n",
       "                        <td id=\"T_b6470_row2_col4\" class=\"data row2 col4\" >-0.30</td>\n",
       "                        <td id=\"T_b6470_row2_col5\" class=\"data row2 col5\" >0.35</td>\n",
       "                        <td id=\"T_b6470_row2_col6\" class=\"data row2 col6\" >0.18</td>\n",
       "                        <td id=\"T_b6470_row2_col7\" class=\"data row2 col7\" >0.07</td>\n",
       "                        <td id=\"T_b6470_row2_col8\" class=\"data row2 col8\" >-0.18</td>\n",
       "                        <td id=\"T_b6470_row2_col9\" class=\"data row2 col9\" >-0.01</td>\n",
       "                        <td id=\"T_b6470_row2_col10\" class=\"data row2 col10\" >0.04</td>\n",
       "                        <td id=\"T_b6470_row2_col11\" class=\"data row2 col11\" >0.07</td>\n",
       "                        <td id=\"T_b6470_row2_col12\" class=\"data row2 col12\" >0.24</td>\n",
       "                        <td id=\"T_b6470_row2_col13\" class=\"data row2 col13\" >0.07</td>\n",
       "                        <td id=\"T_b6470_row2_col14\" class=\"data row2 col14\" >0.06</td>\n",
       "                        <td id=\"T_b6470_row2_col15\" class=\"data row2 col15\" >0.07</td>\n",
       "                        <td id=\"T_b6470_row2_col16\" class=\"data row2 col16\" >0.17</td>\n",
       "                        <td id=\"T_b6470_row2_col17\" class=\"data row2 col17\" >0.29</td>\n",
       "                        <td id=\"T_b6470_row2_col18\" class=\"data row2 col18\" >0.23</td>\n",
       "            </tr>\n",
       "            <tr>\n",
       "                        <th id=\"T_b6470_level0_row3\" class=\"row_heading level0 row3\" >feature065</th>\n",
       "                        <td id=\"T_b6470_row3_col0\" class=\"data row3 col0\" >-0.05</td>\n",
       "                        <td id=\"T_b6470_row3_col1\" class=\"data row3 col1\" >0.08</td>\n",
       "                        <td id=\"T_b6470_row3_col2\" class=\"data row3 col2\" >-0.45</td>\n",
       "                        <td id=\"T_b6470_row3_col3\" class=\"data row3 col3\" >1.00</td>\n",
       "                        <td id=\"T_b6470_row3_col4\" class=\"data row3 col4\" >0.63</td>\n",
       "                        <td id=\"T_b6470_row3_col5\" class=\"data row3 col5\" >0.13</td>\n",
       "                        <td id=\"T_b6470_row3_col6\" class=\"data row3 col6\" >0.09</td>\n",
       "                        <td id=\"T_b6470_row3_col7\" class=\"data row3 col7\" >-0.07</td>\n",
       "                        <td id=\"T_b6470_row3_col8\" class=\"data row3 col8\" >0.00</td>\n",
       "                        <td id=\"T_b6470_row3_col9\" class=\"data row3 col9\" >0.00</td>\n",
       "                        <td id=\"T_b6470_row3_col10\" class=\"data row3 col10\" >0.02</td>\n",
       "                        <td id=\"T_b6470_row3_col11\" class=\"data row3 col11\" >-0.02</td>\n",
       "                        <td id=\"T_b6470_row3_col12\" class=\"data row3 col12\" >0.09</td>\n",
       "                        <td id=\"T_b6470_row3_col13\" class=\"data row3 col13\" >-0.01</td>\n",
       "                        <td id=\"T_b6470_row3_col14\" class=\"data row3 col14\" >-0.01</td>\n",
       "                        <td id=\"T_b6470_row3_col15\" class=\"data row3 col15\" >0.06</td>\n",
       "                        <td id=\"T_b6470_row3_col16\" class=\"data row3 col16\" >-0.10</td>\n",
       "                        <td id=\"T_b6470_row3_col17\" class=\"data row3 col17\" >0.09</td>\n",
       "                        <td id=\"T_b6470_row3_col18\" class=\"data row3 col18\" >0.08</td>\n",
       "            </tr>\n",
       "            <tr>\n",
       "                        <th id=\"T_b6470_level0_row4\" class=\"row_heading level0 row4\" >feature066</th>\n",
       "                        <td id=\"T_b6470_row4_col0\" class=\"data row4 col0\" >-0.09</td>\n",
       "                        <td id=\"T_b6470_row4_col1\" class=\"data row4 col1\" >0.08</td>\n",
       "                        <td id=\"T_b6470_row4_col2\" class=\"data row4 col2\" >-0.30</td>\n",
       "                        <td id=\"T_b6470_row4_col3\" class=\"data row4 col3\" >0.63</td>\n",
       "                        <td id=\"T_b6470_row4_col4\" class=\"data row4 col4\" >1.00</td>\n",
       "                        <td id=\"T_b6470_row4_col5\" class=\"data row4 col5\" >0.11</td>\n",
       "                        <td id=\"T_b6470_row4_col6\" class=\"data row4 col6\" >0.23</td>\n",
       "                        <td id=\"T_b6470_row4_col7\" class=\"data row4 col7\" >-0.02</td>\n",
       "                        <td id=\"T_b6470_row4_col8\" class=\"data row4 col8\" >-0.04</td>\n",
       "                        <td id=\"T_b6470_row4_col9\" class=\"data row4 col9\" >0.02</td>\n",
       "                        <td id=\"T_b6470_row4_col10\" class=\"data row4 col10\" >0.03</td>\n",
       "                        <td id=\"T_b6470_row4_col11\" class=\"data row4 col11\" >-0.01</td>\n",
       "                        <td id=\"T_b6470_row4_col12\" class=\"data row4 col12\" >-0.00</td>\n",
       "                        <td id=\"T_b6470_row4_col13\" class=\"data row4 col13\" >-0.01</td>\n",
       "                        <td id=\"T_b6470_row4_col14\" class=\"data row4 col14\" >-0.01</td>\n",
       "                        <td id=\"T_b6470_row4_col15\" class=\"data row4 col15\" >0.00</td>\n",
       "                        <td id=\"T_b6470_row4_col16\" class=\"data row4 col16\" >0.44</td>\n",
       "                        <td id=\"T_b6470_row4_col17\" class=\"data row4 col17\" >0.12</td>\n",
       "                        <td id=\"T_b6470_row4_col18\" class=\"data row4 col18\" >0.09</td>\n",
       "            </tr>\n",
       "            <tr>\n",
       "                        <th id=\"T_b6470_level0_row5\" class=\"row_heading level0 row5\" >feature104</th>\n",
       "                        <td id=\"T_b6470_row5_col0\" class=\"data row5 col0\" >-0.54</td>\n",
       "                        <td id=\"T_b6470_row5_col1\" class=\"data row5 col1\" >0.13</td>\n",
       "                        <td id=\"T_b6470_row5_col2\" class=\"data row5 col2\" >0.35</td>\n",
       "                        <td id=\"T_b6470_row5_col3\" class=\"data row5 col3\" >0.13</td>\n",
       "                        <td id=\"T_b6470_row5_col4\" class=\"data row5 col4\" >0.11</td>\n",
       "                        <td id=\"T_b6470_row5_col5\" class=\"data row5 col5\" >1.00</td>\n",
       "                        <td id=\"T_b6470_row5_col6\" class=\"data row5 col6\" >0.15</td>\n",
       "                        <td id=\"T_b6470_row5_col7\" class=\"data row5 col7\" >0.12</td>\n",
       "                        <td id=\"T_b6470_row5_col8\" class=\"data row5 col8\" >-0.24</td>\n",
       "                        <td id=\"T_b6470_row5_col9\" class=\"data row5 col9\" >0.01</td>\n",
       "                        <td id=\"T_b6470_row5_col10\" class=\"data row5 col10\" >0.07</td>\n",
       "                        <td id=\"T_b6470_row5_col11\" class=\"data row5 col11\" >0.12</td>\n",
       "                        <td id=\"T_b6470_row5_col12\" class=\"data row5 col12\" >0.28</td>\n",
       "                        <td id=\"T_b6470_row5_col13\" class=\"data row5 col13\" >0.12</td>\n",
       "                        <td id=\"T_b6470_row5_col14\" class=\"data row5 col14\" >0.11</td>\n",
       "                        <td id=\"T_b6470_row5_col15\" class=\"data row5 col15\" >0.03</td>\n",
       "                        <td id=\"T_b6470_row5_col16\" class=\"data row5 col16\" >0.11</td>\n",
       "                        <td id=\"T_b6470_row5_col17\" class=\"data row5 col17\" >0.63</td>\n",
       "                        <td id=\"T_b6470_row5_col18\" class=\"data row5 col18\" >0.27</td>\n",
       "            </tr>\n",
       "            <tr>\n",
       "                        <th id=\"T_b6470_level0_row6\" class=\"row_heading level0 row6\" >feature113</th>\n",
       "                        <td id=\"T_b6470_row6_col0\" class=\"data row6 col0\" >-0.24</td>\n",
       "                        <td id=\"T_b6470_row6_col1\" class=\"data row6 col1\" >0.15</td>\n",
       "                        <td id=\"T_b6470_row6_col2\" class=\"data row6 col2\" >0.18</td>\n",
       "                        <td id=\"T_b6470_row6_col3\" class=\"data row6 col3\" >0.09</td>\n",
       "                        <td id=\"T_b6470_row6_col4\" class=\"data row6 col4\" >0.23</td>\n",
       "                        <td id=\"T_b6470_row6_col5\" class=\"data row6 col5\" >0.15</td>\n",
       "                        <td id=\"T_b6470_row6_col6\" class=\"data row6 col6\" >1.00</td>\n",
       "                        <td id=\"T_b6470_row6_col7\" class=\"data row6 col7\" >0.03</td>\n",
       "                        <td id=\"T_b6470_row6_col8\" class=\"data row6 col8\" >-0.05</td>\n",
       "                        <td id=\"T_b6470_row6_col9\" class=\"data row6 col9\" >-0.01</td>\n",
       "                        <td id=\"T_b6470_row6_col10\" class=\"data row6 col10\" >0.01</td>\n",
       "                        <td id=\"T_b6470_row6_col11\" class=\"data row6 col11\" >0.09</td>\n",
       "                        <td id=\"T_b6470_row6_col12\" class=\"data row6 col12\" >-0.09</td>\n",
       "                        <td id=\"T_b6470_row6_col13\" class=\"data row6 col13\" >0.08</td>\n",
       "                        <td id=\"T_b6470_row6_col14\" class=\"data row6 col14\" >0.07</td>\n",
       "                        <td id=\"T_b6470_row6_col15\" class=\"data row6 col15\" >0.07</td>\n",
       "                        <td id=\"T_b6470_row6_col16\" class=\"data row6 col16\" >0.20</td>\n",
       "                        <td id=\"T_b6470_row6_col17\" class=\"data row6 col17\" >0.15</td>\n",
       "                        <td id=\"T_b6470_row6_col18\" class=\"data row6 col18\" >-0.09</td>\n",
       "            </tr>\n",
       "            <tr>\n",
       "                        <th id=\"T_b6470_level0_row7\" class=\"row_heading level0 row7\" >feature125</th>\n",
       "                        <td id=\"T_b6470_row7_col0\" class=\"data row7 col0\" >-0.27</td>\n",
       "                        <td id=\"T_b6470_row7_col1\" class=\"data row7 col1\" >0.07</td>\n",
       "                        <td id=\"T_b6470_row7_col2\" class=\"data row7 col2\" >0.07</td>\n",
       "                        <td id=\"T_b6470_row7_col3\" class=\"data row7 col3\" >-0.07</td>\n",
       "                        <td id=\"T_b6470_row7_col4\" class=\"data row7 col4\" >-0.02</td>\n",
       "                        <td id=\"T_b6470_row7_col5\" class=\"data row7 col5\" >0.12</td>\n",
       "                        <td id=\"T_b6470_row7_col6\" class=\"data row7 col6\" >0.03</td>\n",
       "                        <td id=\"T_b6470_row7_col7\" class=\"data row7 col7\" >1.00</td>\n",
       "                        <td id=\"T_b6470_row7_col8\" class=\"data row7 col8\" >-0.05</td>\n",
       "                        <td id=\"T_b6470_row7_col9\" class=\"data row7 col9\" >-0.05</td>\n",
       "                        <td id=\"T_b6470_row7_col10\" class=\"data row7 col10\" >0.14</td>\n",
       "                        <td id=\"T_b6470_row7_col11\" class=\"data row7 col11\" >0.09</td>\n",
       "                        <td id=\"T_b6470_row7_col12\" class=\"data row7 col12\" >0.02</td>\n",
       "                        <td id=\"T_b6470_row7_col13\" class=\"data row7 col13\" >0.09</td>\n",
       "                        <td id=\"T_b6470_row7_col14\" class=\"data row7 col14\" >0.07</td>\n",
       "                        <td id=\"T_b6470_row7_col15\" class=\"data row7 col15\" >0.01</td>\n",
       "                        <td id=\"T_b6470_row7_col16\" class=\"data row7 col16\" >0.07</td>\n",
       "                        <td id=\"T_b6470_row7_col17\" class=\"data row7 col17\" >0.09</td>\n",
       "                        <td id=\"T_b6470_row7_col18\" class=\"data row7 col18\" >0.02</td>\n",
       "            </tr>\n",
       "            <tr>\n",
       "                        <th id=\"T_b6470_level0_row8\" class=\"row_heading level0 row8\" >feature126</th>\n",
       "                        <td id=\"T_b6470_row8_col0\" class=\"data row8 col0\" >0.24</td>\n",
       "                        <td id=\"T_b6470_row8_col1\" class=\"data row8 col1\" >-0.10</td>\n",
       "                        <td id=\"T_b6470_row8_col2\" class=\"data row8 col2\" >-0.18</td>\n",
       "                        <td id=\"T_b6470_row8_col3\" class=\"data row8 col3\" >0.00</td>\n",
       "                        <td id=\"T_b6470_row8_col4\" class=\"data row8 col4\" >-0.04</td>\n",
       "                        <td id=\"T_b6470_row8_col5\" class=\"data row8 col5\" >-0.24</td>\n",
       "                        <td id=\"T_b6470_row8_col6\" class=\"data row8 col6\" >-0.05</td>\n",
       "                        <td id=\"T_b6470_row8_col7\" class=\"data row8 col7\" >-0.05</td>\n",
       "                        <td id=\"T_b6470_row8_col8\" class=\"data row8 col8\" >1.00</td>\n",
       "                        <td id=\"T_b6470_row8_col9\" class=\"data row8 col9\" >-0.49</td>\n",
       "                        <td id=\"T_b6470_row8_col10\" class=\"data row8 col10\" >-0.62</td>\n",
       "                        <td id=\"T_b6470_row8_col11\" class=\"data row8 col11\" >-0.07</td>\n",
       "                        <td id=\"T_b6470_row8_col12\" class=\"data row8 col12\" >-0.11</td>\n",
       "                        <td id=\"T_b6470_row8_col13\" class=\"data row8 col13\" >-0.07</td>\n",
       "                        <td id=\"T_b6470_row8_col14\" class=\"data row8 col14\" >-0.06</td>\n",
       "                        <td id=\"T_b6470_row8_col15\" class=\"data row8 col15\" >0.09</td>\n",
       "                        <td id=\"T_b6470_row8_col16\" class=\"data row8 col16\" >-0.07</td>\n",
       "                        <td id=\"T_b6470_row8_col17\" class=\"data row8 col17\" >-0.19</td>\n",
       "                        <td id=\"T_b6470_row8_col18\" class=\"data row8 col18\" >-0.11</td>\n",
       "            </tr>\n",
       "            <tr>\n",
       "                        <th id=\"T_b6470_level0_row9\" class=\"row_heading level0 row9\" >feature127</th>\n",
       "                        <td id=\"T_b6470_row9_col0\" class=\"data row9 col0\" >0.05</td>\n",
       "                        <td id=\"T_b6470_row9_col1\" class=\"data row9 col1\" >-0.00</td>\n",
       "                        <td id=\"T_b6470_row9_col2\" class=\"data row9 col2\" >-0.01</td>\n",
       "                        <td id=\"T_b6470_row9_col3\" class=\"data row9 col3\" >0.00</td>\n",
       "                        <td id=\"T_b6470_row9_col4\" class=\"data row9 col4\" >0.02</td>\n",
       "                        <td id=\"T_b6470_row9_col5\" class=\"data row9 col5\" >0.01</td>\n",
       "                        <td id=\"T_b6470_row9_col6\" class=\"data row9 col6\" >-0.01</td>\n",
       "                        <td id=\"T_b6470_row9_col7\" class=\"data row9 col7\" >-0.05</td>\n",
       "                        <td id=\"T_b6470_row9_col8\" class=\"data row9 col8\" >-0.49</td>\n",
       "                        <td id=\"T_b6470_row9_col9\" class=\"data row9 col9\" >1.00</td>\n",
       "                        <td id=\"T_b6470_row9_col10\" class=\"data row9 col10\" >0.65</td>\n",
       "                        <td id=\"T_b6470_row9_col11\" class=\"data row9 col11\" >-0.01</td>\n",
       "                        <td id=\"T_b6470_row9_col12\" class=\"data row9 col12\" >0.00</td>\n",
       "                        <td id=\"T_b6470_row9_col13\" class=\"data row9 col13\" >-0.01</td>\n",
       "                        <td id=\"T_b6470_row9_col14\" class=\"data row9 col14\" >-0.00</td>\n",
       "                        <td id=\"T_b6470_row9_col15\" class=\"data row9 col15\" >-0.09</td>\n",
       "                        <td id=\"T_b6470_row9_col16\" class=\"data row9 col16\" >-0.03</td>\n",
       "                        <td id=\"T_b6470_row9_col17\" class=\"data row9 col17\" >0.01</td>\n",
       "                        <td id=\"T_b6470_row9_col18\" class=\"data row9 col18\" >0.01</td>\n",
       "            </tr>\n",
       "            <tr>\n",
       "                        <th id=\"T_b6470_level0_row10\" class=\"row_heading level0 row10\" >feature131</th>\n",
       "                        <td id=\"T_b6470_row10_col0\" class=\"data row10 col0\" >-0.08</td>\n",
       "                        <td id=\"T_b6470_row10_col1\" class=\"data row10 col1\" >0.02</td>\n",
       "                        <td id=\"T_b6470_row10_col2\" class=\"data row10 col2\" >0.04</td>\n",
       "                        <td id=\"T_b6470_row10_col3\" class=\"data row10 col3\" >0.02</td>\n",
       "                        <td id=\"T_b6470_row10_col4\" class=\"data row10 col4\" >0.03</td>\n",
       "                        <td id=\"T_b6470_row10_col5\" class=\"data row10 col5\" >0.07</td>\n",
       "                        <td id=\"T_b6470_row10_col6\" class=\"data row10 col6\" >0.01</td>\n",
       "                        <td id=\"T_b6470_row10_col7\" class=\"data row10 col7\" >0.14</td>\n",
       "                        <td id=\"T_b6470_row10_col8\" class=\"data row10 col8\" >-0.62</td>\n",
       "                        <td id=\"T_b6470_row10_col9\" class=\"data row10 col9\" >0.65</td>\n",
       "                        <td id=\"T_b6470_row10_col10\" class=\"data row10 col10\" >1.00</td>\n",
       "                        <td id=\"T_b6470_row10_col11\" class=\"data row10 col11\" >0.02</td>\n",
       "                        <td id=\"T_b6470_row10_col12\" class=\"data row10 col12\" >0.08</td>\n",
       "                        <td id=\"T_b6470_row10_col13\" class=\"data row10 col13\" >0.02</td>\n",
       "                        <td id=\"T_b6470_row10_col14\" class=\"data row10 col14\" >0.02</td>\n",
       "                        <td id=\"T_b6470_row10_col15\" class=\"data row10 col15\" >-0.09</td>\n",
       "                        <td id=\"T_b6470_row10_col16\" class=\"data row10 col16\" >0.02</td>\n",
       "                        <td id=\"T_b6470_row10_col17\" class=\"data row10 col17\" >0.08</td>\n",
       "                        <td id=\"T_b6470_row10_col18\" class=\"data row10 col18\" >0.08</td>\n",
       "            </tr>\n",
       "            <tr>\n",
       "                        <th id=\"T_b6470_level0_row11\" class=\"row_heading level0 row11\" >feature161</th>\n",
       "                        <td id=\"T_b6470_row11_col0\" class=\"data row11 col0\" >-0.21</td>\n",
       "                        <td id=\"T_b6470_row11_col1\" class=\"data row11 col1\" >0.03</td>\n",
       "                        <td id=\"T_b6470_row11_col2\" class=\"data row11 col2\" >0.07</td>\n",
       "                        <td id=\"T_b6470_row11_col3\" class=\"data row11 col3\" >-0.02</td>\n",
       "                        <td id=\"T_b6470_row11_col4\" class=\"data row11 col4\" >-0.01</td>\n",
       "                        <td id=\"T_b6470_row11_col5\" class=\"data row11 col5\" >0.12</td>\n",
       "                        <td id=\"T_b6470_row11_col6\" class=\"data row11 col6\" >0.09</td>\n",
       "                        <td id=\"T_b6470_row11_col7\" class=\"data row11 col7\" >0.09</td>\n",
       "                        <td id=\"T_b6470_row11_col8\" class=\"data row11 col8\" >-0.07</td>\n",
       "                        <td id=\"T_b6470_row11_col9\" class=\"data row11 col9\" >-0.01</td>\n",
       "                        <td id=\"T_b6470_row11_col10\" class=\"data row11 col10\" >0.02</td>\n",
       "                        <td id=\"T_b6470_row11_col11\" class=\"data row11 col11\" >1.00</td>\n",
       "                        <td id=\"T_b6470_row11_col12\" class=\"data row11 col12\" >0.09</td>\n",
       "                        <td id=\"T_b6470_row11_col13\" class=\"data row11 col13\" >1.00</td>\n",
       "                        <td id=\"T_b6470_row11_col14\" class=\"data row11 col14\" >0.99</td>\n",
       "                        <td id=\"T_b6470_row11_col15\" class=\"data row11 col15\" >-0.02</td>\n",
       "                        <td id=\"T_b6470_row11_col16\" class=\"data row11 col16\" >0.05</td>\n",
       "                        <td id=\"T_b6470_row11_col17\" class=\"data row11 col17\" >0.05</td>\n",
       "                        <td id=\"T_b6470_row11_col18\" class=\"data row11 col18\" >0.09</td>\n",
       "            </tr>\n",
       "            <tr>\n",
       "                        <th id=\"T_b6470_level0_row12\" class=\"row_heading level0 row12\" >feature248</th>\n",
       "                        <td id=\"T_b6470_row12_col0\" class=\"data row12 col0\" >-0.23</td>\n",
       "                        <td id=\"T_b6470_row12_col1\" class=\"data row12 col1\" >0.08</td>\n",
       "                        <td id=\"T_b6470_row12_col2\" class=\"data row12 col2\" >0.24</td>\n",
       "                        <td id=\"T_b6470_row12_col3\" class=\"data row12 col3\" >0.09</td>\n",
       "                        <td id=\"T_b6470_row12_col4\" class=\"data row12 col4\" >-0.00</td>\n",
       "                        <td id=\"T_b6470_row12_col5\" class=\"data row12 col5\" >0.28</td>\n",
       "                        <td id=\"T_b6470_row12_col6\" class=\"data row12 col6\" >-0.09</td>\n",
       "                        <td id=\"T_b6470_row12_col7\" class=\"data row12 col7\" >0.02</td>\n",
       "                        <td id=\"T_b6470_row12_col8\" class=\"data row12 col8\" >-0.11</td>\n",
       "                        <td id=\"T_b6470_row12_col9\" class=\"data row12 col9\" >0.00</td>\n",
       "                        <td id=\"T_b6470_row12_col10\" class=\"data row12 col10\" >0.08</td>\n",
       "                        <td id=\"T_b6470_row12_col11\" class=\"data row12 col11\" >0.09</td>\n",
       "                        <td id=\"T_b6470_row12_col12\" class=\"data row12 col12\" >1.00</td>\n",
       "                        <td id=\"T_b6470_row12_col13\" class=\"data row12 col13\" >0.09</td>\n",
       "                        <td id=\"T_b6470_row12_col14\" class=\"data row12 col14\" >0.09</td>\n",
       "                        <td id=\"T_b6470_row12_col15\" class=\"data row12 col15\" >0.07</td>\n",
       "                        <td id=\"T_b6470_row12_col16\" class=\"data row12 col16\" >-0.03</td>\n",
       "                        <td id=\"T_b6470_row12_col17\" class=\"data row12 col17\" >0.18</td>\n",
       "                        <td id=\"T_b6470_row12_col18\" class=\"data row12 col18\" >0.99</td>\n",
       "            </tr>\n",
       "            <tr>\n",
       "                        <th id=\"T_b6470_level0_row13\" class=\"row_heading level0 row13\" >feature296</th>\n",
       "                        <td id=\"T_b6470_row13_col0\" class=\"data row13 col0\" >-0.21</td>\n",
       "                        <td id=\"T_b6470_row13_col1\" class=\"data row13 col1\" >0.03</td>\n",
       "                        <td id=\"T_b6470_row13_col2\" class=\"data row13 col2\" >0.07</td>\n",
       "                        <td id=\"T_b6470_row13_col3\" class=\"data row13 col3\" >-0.01</td>\n",
       "                        <td id=\"T_b6470_row13_col4\" class=\"data row13 col4\" >-0.01</td>\n",
       "                        <td id=\"T_b6470_row13_col5\" class=\"data row13 col5\" >0.12</td>\n",
       "                        <td id=\"T_b6470_row13_col6\" class=\"data row13 col6\" >0.08</td>\n",
       "                        <td id=\"T_b6470_row13_col7\" class=\"data row13 col7\" >0.09</td>\n",
       "                        <td id=\"T_b6470_row13_col8\" class=\"data row13 col8\" >-0.07</td>\n",
       "                        <td id=\"T_b6470_row13_col9\" class=\"data row13 col9\" >-0.01</td>\n",
       "                        <td id=\"T_b6470_row13_col10\" class=\"data row13 col10\" >0.02</td>\n",
       "                        <td id=\"T_b6470_row13_col11\" class=\"data row13 col11\" >1.00</td>\n",
       "                        <td id=\"T_b6470_row13_col12\" class=\"data row13 col12\" >0.09</td>\n",
       "                        <td id=\"T_b6470_row13_col13\" class=\"data row13 col13\" >1.00</td>\n",
       "                        <td id=\"T_b6470_row13_col14\" class=\"data row13 col14\" >0.99</td>\n",
       "                        <td id=\"T_b6470_row13_col15\" class=\"data row13 col15\" >-0.01</td>\n",
       "                        <td id=\"T_b6470_row13_col16\" class=\"data row13 col16\" >0.05</td>\n",
       "                        <td id=\"T_b6470_row13_col17\" class=\"data row13 col17\" >0.05</td>\n",
       "                        <td id=\"T_b6470_row13_col18\" class=\"data row13 col18\" >0.09</td>\n",
       "            </tr>\n",
       "            <tr>\n",
       "                        <th id=\"T_b6470_level0_row14\" class=\"row_heading level0 row14\" >feature432</th>\n",
       "                        <td id=\"T_b6470_row14_col0\" class=\"data row14 col0\" >-0.18</td>\n",
       "                        <td id=\"T_b6470_row14_col1\" class=\"data row14 col1\" >0.03</td>\n",
       "                        <td id=\"T_b6470_row14_col2\" class=\"data row14 col2\" >0.06</td>\n",
       "                        <td id=\"T_b6470_row14_col3\" class=\"data row14 col3\" >-0.01</td>\n",
       "                        <td id=\"T_b6470_row14_col4\" class=\"data row14 col4\" >-0.01</td>\n",
       "                        <td id=\"T_b6470_row14_col5\" class=\"data row14 col5\" >0.11</td>\n",
       "                        <td id=\"T_b6470_row14_col6\" class=\"data row14 col6\" >0.07</td>\n",
       "                        <td id=\"T_b6470_row14_col7\" class=\"data row14 col7\" >0.07</td>\n",
       "                        <td id=\"T_b6470_row14_col8\" class=\"data row14 col8\" >-0.06</td>\n",
       "                        <td id=\"T_b6470_row14_col9\" class=\"data row14 col9\" >-0.00</td>\n",
       "                        <td id=\"T_b6470_row14_col10\" class=\"data row14 col10\" >0.02</td>\n",
       "                        <td id=\"T_b6470_row14_col11\" class=\"data row14 col11\" >0.99</td>\n",
       "                        <td id=\"T_b6470_row14_col12\" class=\"data row14 col12\" >0.09</td>\n",
       "                        <td id=\"T_b6470_row14_col13\" class=\"data row14 col13\" >0.99</td>\n",
       "                        <td id=\"T_b6470_row14_col14\" class=\"data row14 col14\" >1.00</td>\n",
       "                        <td id=\"T_b6470_row14_col15\" class=\"data row14 col15\" >-0.02</td>\n",
       "                        <td id=\"T_b6470_row14_col16\" class=\"data row14 col16\" >0.04</td>\n",
       "                        <td id=\"T_b6470_row14_col17\" class=\"data row14 col17\" >0.04</td>\n",
       "                        <td id=\"T_b6470_row14_col18\" class=\"data row14 col18\" >0.09</td>\n",
       "            </tr>\n",
       "            <tr>\n",
       "                        <th id=\"T_b6470_level0_row15\" class=\"row_heading level0 row15\" >feature461</th>\n",
       "                        <td id=\"T_b6470_row15_col0\" class=\"data row15 col0\" >-0.09</td>\n",
       "                        <td id=\"T_b6470_row15_col1\" class=\"data row15 col1\" >0.07</td>\n",
       "                        <td id=\"T_b6470_row15_col2\" class=\"data row15 col2\" >0.07</td>\n",
       "                        <td id=\"T_b6470_row15_col3\" class=\"data row15 col3\" >0.06</td>\n",
       "                        <td id=\"T_b6470_row15_col4\" class=\"data row15 col4\" >0.00</td>\n",
       "                        <td id=\"T_b6470_row15_col5\" class=\"data row15 col5\" >0.03</td>\n",
       "                        <td id=\"T_b6470_row15_col6\" class=\"data row15 col6\" >0.07</td>\n",
       "                        <td id=\"T_b6470_row15_col7\" class=\"data row15 col7\" >0.01</td>\n",
       "                        <td id=\"T_b6470_row15_col8\" class=\"data row15 col8\" >0.09</td>\n",
       "                        <td id=\"T_b6470_row15_col9\" class=\"data row15 col9\" >-0.09</td>\n",
       "                        <td id=\"T_b6470_row15_col10\" class=\"data row15 col10\" >-0.09</td>\n",
       "                        <td id=\"T_b6470_row15_col11\" class=\"data row15 col11\" >-0.02</td>\n",
       "                        <td id=\"T_b6470_row15_col12\" class=\"data row15 col12\" >0.07</td>\n",
       "                        <td id=\"T_b6470_row15_col13\" class=\"data row15 col13\" >-0.01</td>\n",
       "                        <td id=\"T_b6470_row15_col14\" class=\"data row15 col14\" >-0.02</td>\n",
       "                        <td id=\"T_b6470_row15_col15\" class=\"data row15 col15\" >1.00</td>\n",
       "                        <td id=\"T_b6470_row15_col16\" class=\"data row15 col16\" >0.00</td>\n",
       "                        <td id=\"T_b6470_row15_col17\" class=\"data row15 col17\" >0.01</td>\n",
       "                        <td id=\"T_b6470_row15_col18\" class=\"data row15 col18\" >0.07</td>\n",
       "            </tr>\n",
       "            <tr>\n",
       "                        <th id=\"T_b6470_level0_row16\" class=\"row_heading level0 row16\" >feature478</th>\n",
       "                        <td id=\"T_b6470_row16_col0\" class=\"data row16 col0\" >-0.19</td>\n",
       "                        <td id=\"T_b6470_row16_col1\" class=\"data row16 col1\" >0.07</td>\n",
       "                        <td id=\"T_b6470_row16_col2\" class=\"data row16 col2\" >0.17</td>\n",
       "                        <td id=\"T_b6470_row16_col3\" class=\"data row16 col3\" >-0.10</td>\n",
       "                        <td id=\"T_b6470_row16_col4\" class=\"data row16 col4\" >0.44</td>\n",
       "                        <td id=\"T_b6470_row16_col5\" class=\"data row16 col5\" >0.11</td>\n",
       "                        <td id=\"T_b6470_row16_col6\" class=\"data row16 col6\" >0.20</td>\n",
       "                        <td id=\"T_b6470_row16_col7\" class=\"data row16 col7\" >0.07</td>\n",
       "                        <td id=\"T_b6470_row16_col8\" class=\"data row16 col8\" >-0.07</td>\n",
       "                        <td id=\"T_b6470_row16_col9\" class=\"data row16 col9\" >-0.03</td>\n",
       "                        <td id=\"T_b6470_row16_col10\" class=\"data row16 col10\" >0.02</td>\n",
       "                        <td id=\"T_b6470_row16_col11\" class=\"data row16 col11\" >0.05</td>\n",
       "                        <td id=\"T_b6470_row16_col12\" class=\"data row16 col12\" >-0.03</td>\n",
       "                        <td id=\"T_b6470_row16_col13\" class=\"data row16 col13\" >0.05</td>\n",
       "                        <td id=\"T_b6470_row16_col14\" class=\"data row16 col14\" >0.04</td>\n",
       "                        <td id=\"T_b6470_row16_col15\" class=\"data row16 col15\" >0.00</td>\n",
       "                        <td id=\"T_b6470_row16_col16\" class=\"data row16 col16\" >1.00</td>\n",
       "                        <td id=\"T_b6470_row16_col17\" class=\"data row16 col17\" >0.08</td>\n",
       "                        <td id=\"T_b6470_row16_col18\" class=\"data row16 col18\" >0.06</td>\n",
       "            </tr>\n",
       "            <tr>\n",
       "                        <th id=\"T_b6470_level0_row17\" class=\"row_heading level0 row17\" >feature511</th>\n",
       "                        <td id=\"T_b6470_row17_col0\" class=\"data row17 col0\" >-0.43</td>\n",
       "                        <td id=\"T_b6470_row17_col1\" class=\"data row17 col1\" >0.07</td>\n",
       "                        <td id=\"T_b6470_row17_col2\" class=\"data row17 col2\" >0.29</td>\n",
       "                        <td id=\"T_b6470_row17_col3\" class=\"data row17 col3\" >0.09</td>\n",
       "                        <td id=\"T_b6470_row17_col4\" class=\"data row17 col4\" >0.12</td>\n",
       "                        <td id=\"T_b6470_row17_col5\" class=\"data row17 col5\" >0.63</td>\n",
       "                        <td id=\"T_b6470_row17_col6\" class=\"data row17 col6\" >0.15</td>\n",
       "                        <td id=\"T_b6470_row17_col7\" class=\"data row17 col7\" >0.09</td>\n",
       "                        <td id=\"T_b6470_row17_col8\" class=\"data row17 col8\" >-0.19</td>\n",
       "                        <td id=\"T_b6470_row17_col9\" class=\"data row17 col9\" >0.01</td>\n",
       "                        <td id=\"T_b6470_row17_col10\" class=\"data row17 col10\" >0.08</td>\n",
       "                        <td id=\"T_b6470_row17_col11\" class=\"data row17 col11\" >0.05</td>\n",
       "                        <td id=\"T_b6470_row17_col12\" class=\"data row17 col12\" >0.18</td>\n",
       "                        <td id=\"T_b6470_row17_col13\" class=\"data row17 col13\" >0.05</td>\n",
       "                        <td id=\"T_b6470_row17_col14\" class=\"data row17 col14\" >0.04</td>\n",
       "                        <td id=\"T_b6470_row17_col15\" class=\"data row17 col15\" >0.01</td>\n",
       "                        <td id=\"T_b6470_row17_col16\" class=\"data row17 col16\" >0.08</td>\n",
       "                        <td id=\"T_b6470_row17_col17\" class=\"data row17 col17\" >1.00</td>\n",
       "                        <td id=\"T_b6470_row17_col18\" class=\"data row17 col18\" >0.18</td>\n",
       "            </tr>\n",
       "            <tr>\n",
       "                        <th id=\"T_b6470_level0_row18\" class=\"row_heading level0 row18\" >feature520</th>\n",
       "                        <td id=\"T_b6470_row18_col0\" class=\"data row18 col0\" >-0.23</td>\n",
       "                        <td id=\"T_b6470_row18_col1\" class=\"data row18 col1\" >0.08</td>\n",
       "                        <td id=\"T_b6470_row18_col2\" class=\"data row18 col2\" >0.23</td>\n",
       "                        <td id=\"T_b6470_row18_col3\" class=\"data row18 col3\" >0.08</td>\n",
       "                        <td id=\"T_b6470_row18_col4\" class=\"data row18 col4\" >0.09</td>\n",
       "                        <td id=\"T_b6470_row18_col5\" class=\"data row18 col5\" >0.27</td>\n",
       "                        <td id=\"T_b6470_row18_col6\" class=\"data row18 col6\" >-0.09</td>\n",
       "                        <td id=\"T_b6470_row18_col7\" class=\"data row18 col7\" >0.02</td>\n",
       "                        <td id=\"T_b6470_row18_col8\" class=\"data row18 col8\" >-0.11</td>\n",
       "                        <td id=\"T_b6470_row18_col9\" class=\"data row18 col9\" >0.01</td>\n",
       "                        <td id=\"T_b6470_row18_col10\" class=\"data row18 col10\" >0.08</td>\n",
       "                        <td id=\"T_b6470_row18_col11\" class=\"data row18 col11\" >0.09</td>\n",
       "                        <td id=\"T_b6470_row18_col12\" class=\"data row18 col12\" >0.99</td>\n",
       "                        <td id=\"T_b6470_row18_col13\" class=\"data row18 col13\" >0.09</td>\n",
       "                        <td id=\"T_b6470_row18_col14\" class=\"data row18 col14\" >0.09</td>\n",
       "                        <td id=\"T_b6470_row18_col15\" class=\"data row18 col15\" >0.07</td>\n",
       "                        <td id=\"T_b6470_row18_col16\" class=\"data row18 col16\" >0.06</td>\n",
       "                        <td id=\"T_b6470_row18_col17\" class=\"data row18 col17\" >0.18</td>\n",
       "                        <td id=\"T_b6470_row18_col18\" class=\"data row18 col18\" >1.00</td>\n",
       "            </tr>\n",
       "    </tbody></table>"
      ],
      "text/plain": [
       "<pandas.io.formats.style.Styler at 0x138c6e47610>"
      ]
     },
     "execution_count": 99,
     "metadata": {},
     "output_type": "execute_result"
    }
   ],
   "source": [
    "# Correlation of the remaining features\n",
    "\n",
    "# Heatmap of correlation\n",
    "corr = pd.DataFrame(X_train.corr())\n",
    "corr.style.background_gradient(cmap='coolwarm').set_precision(2)"
   ]
  },
  {
   "cell_type": "code",
   "execution_count": 100,
   "metadata": {},
   "outputs": [
    {
     "data": {
      "image/png": "[encoded data removed]",
      "text/plain": [
       "<Figure size 800x800 with 1 Axes>"
      ]
     },
     "metadata": {
      "needs_background": "light"
     },
     "output_type": "display_data"
    }
   ],
   "source": [
    "# Histogram of the Correlation of the remaining features\r\n",
    "correlation(X_train)"
   ]
  },
  {
   "cell_type": "markdown",
   "metadata": {},
   "source": [
    "## 5. Modeling"
   ]
  },
  {
   "cell_type": "markdown",
   "metadata": {},
   "source": [
    "### 5.1 Balancing"
   ]
  },
  {
   "cell_type": "code",
   "execution_count": 103,
   "metadata": {},
   "outputs": [
    {
     "data": {
      "image/png": "[encoded data removed]",
      "text/plain": [
       "<Figure size 500x500 with 1 Axes>"
      ]
     },
     "metadata": {},
     "output_type": "display_data"
    }
   ],
   "source": [
    "#Pie chart of the imbalanced train data\r\n",
    "ClassDistributionGraph(y_train, 'Class Distribution of train set')"
   ]
  },
  {
   "cell_type": "code",
   "execution_count": 104,
   "metadata": {},
   "outputs": [],
   "source": [
    "# Sampling technique\r\n",
    "\r\n",
    "def Sampling(X_train, y_train, sampler):\r\n",
    "\r\n",
    "    #SMOTE\r\n",
    "    if sampler == 'SMOTE':\r\n",
    "        sampler = SMOTE()    \r\n",
    "    \r\n",
    "    #ROSE\r\n",
    "    if sampler == 'ROSE':\r\n",
    "        sampler = RandomOverSampler(random_state=0)\r\n",
    "\r\n",
    "    #ADASYN\r\n",
    "    if sampler == 'ADASYN':\r\n",
    "        sampler = ADASYN()\r\n",
    "        \r\n",
    "    #SMOTTEENN\r\n",
    "    if sampler == 'SMOTEENN' :\r\n",
    "        sampler = SMOTEENN(random_state=42)\r\n",
    "        \r\n",
    "    #SMOTETomek\r\n",
    "    if sampler == 'SMOTETomek':\r\n",
    "        from imblearn.combine import SMOTETomek \r\n",
    "        sampler = SMOTETomek(random_state=42)\r\n",
    "        \r\n",
    "    #BorderlineSMOTE\r\n",
    "    if sampler == 'BorderlineSMOTE':\r\n",
    "        from imblearn.over_sampling import BorderlineSMOTE \r\n",
    "        sampler = BorderlineSMOTE(random_state=42)\r\n",
    "        \r\n",
    "    if sampler =='ENN':\r\n",
    "        from imblearn.under_sampling import EditedNearestNeighbours\r\n",
    "        sampler = EditedNearestNeighbours()\r\n",
    "\r\n",
    "    if sampler == 'Cluster':\r\n",
    "        from imblearn.under_sampling import ClusterCentroids\r\n",
    "        sampler= ClusterCentroids(random_state=0)\r\n",
    "        \r\n",
    "    if sampler == \"randomunder\":\r\n",
    "        from imblearn.under_sampling import RandomUnderSampler\r\n",
    "        sampler = RandomUnderSampler(random_state=0)\r\n",
    "        \r\n",
    "    if sampler == 'Instant' :\r\n",
    "        from imblearn.under_sampling import InstanceHardnessThreshold\r\n",
    "        X_train.index = X_train.index.astype(int)\r\n",
    "        y_train.index = y_train.index.astype(int)\r\n",
    "        sampler = InstanceHardnessThreshold(random_state=0, estimator=RandomForestClassifier())\r\n",
    "        \r\n",
    "    X_resampled, y_resampled = sampler.fit_resample(X_train, y_train)\r\n",
    "    counter = Counter(y_resampled)\r\n",
    "    print(counter)\r\n",
    "    return X_resampled, y_resampled"
   ]
  },
  {
   "cell_type": "code",
   "execution_count": 105,
   "metadata": {},
   "outputs": [
    {
     "name": "stdout",
     "output_type": "stream",
     "text": [
      "Counter({'FAIL': 1011, 'PASS': 729})\n"
     ]
    }
   ],
   "source": [
    "# Imbalance treatment\r\n",
    "X_resampled, y_resampled = Sampling(X_train, y_train, 'SMOTEENN')"
   ]
  },
  {
   "cell_type": "code",
   "execution_count": 106,
   "metadata": {},
   "outputs": [
    {
     "data": {
      "image/png": "[encoded data removed]",
      "text/plain": [
       "<Figure size 500x500 with 1 Axes>"
      ]
     },
     "metadata": {},
     "output_type": "display_data"
    }
   ],
   "source": [
    "# Pie Chart to visualize balanced data\r\n",
    "ClassDistributionGraph(y_resampled, 'Class Distribution of train set after SMOTE')"
   ]
  },
  {
   "cell_type": "markdown",
   "metadata": {},
   "source": [
    "### 5.2 Preparing Test data"
   ]
  },
  {
   "cell_type": "code",
   "execution_count": 108,
   "metadata": {},
   "outputs": [],
   "source": [
    "X_test = X_test_"
   ]
  },
  {
   "cell_type": "code",
   "execution_count": 109,
   "metadata": {},
   "outputs": [],
   "source": [
    "# Rough feature reduction\r\n",
    "X_test = X_test.drop(columns = 'timestamp')\r\n",
    "X_test = X_test.drop(columns = single_value_columns)\r\n",
    "X_test = X_test.drop(columns = missing_value_cols)\r\n",
    "X_test = X_test.drop(columns = features_least_volatile)"
   ]
  },
  {
   "cell_type": "code",
   "execution_count": 110,
   "metadata": {},
   "outputs": [
    {
     "name": "stdout",
     "output_type": "stream",
     "text": [
      "Number of Outliers :  1447\n"
     ]
    }
   ],
   "source": [
    "# Outlier treatment \r\n",
    "X_test = Outlier(X_test,'NaN')"
   ]
  },
  {
   "cell_type": "code",
   "execution_count": 111,
   "metadata": {},
   "outputs": [],
   "source": [
    "# Missing Value imputation\r\n",
    "#X_test.iloc[:,:] = pd.DataFrame(MissingValueImputation(X_test,'MICE'))"
   ]
  },
  {
   "cell_type": "code",
   "execution_count": 114,
   "metadata": {},
   "outputs": [],
   "source": [
    "# Feature selection \r\n",
    "#X_test = X_test.filter(final_features)"
   ]
  },
  {
   "cell_type": "code",
   "execution_count": 113,
   "metadata": {},
   "outputs": [],
   "source": [
    "X_test = pd.DataFrame(pd.read_csv(\"../temp CSV/X_test.CSV\"))"
   ]
  },
  {
   "cell_type": "code",
   "execution_count": 115,
   "metadata": {},
   "outputs": [
    {
     "data": {
      "text/html": [
       "<div>\n",
       "<style scoped>\n",
       "    .dataframe tbody tr th:only-of-type {\n",
       "        vertical-align: middle;\n",
       "    }\n",
       "\n",
       "    .dataframe tbody tr th {\n",
       "        vertical-align: top;\n",
       "    }\n",
       "\n",
       "    .dataframe thead th {\n",
       "        text-align: right;\n",
       "    }\n",
       "</style>\n",
       "<table border=\"1\" class=\"dataframe\">\n",
       "  <thead>\n",
       "    <tr style=\"text-align: right;\">\n",
       "      <th></th>\n",
       "      <th>ID</th>\n",
       "      <th>feature034</th>\n",
       "      <th>feature060</th>\n",
       "      <th>feature065</th>\n",
       "      <th>feature066</th>\n",
       "      <th>feature104</th>\n",
       "      <th>feature113</th>\n",
       "      <th>feature125</th>\n",
       "      <th>feature126</th>\n",
       "      <th>feature127</th>\n",
       "      <th>feature131</th>\n",
       "      <th>feature161</th>\n",
       "      <th>feature248</th>\n",
       "      <th>feature296</th>\n",
       "      <th>feature432</th>\n",
       "      <th>feature461</th>\n",
       "      <th>feature478</th>\n",
       "      <th>feature511</th>\n",
       "      <th>feature520</th>\n",
       "    </tr>\n",
       "  </thead>\n",
       "  <tbody>\n",
       "    <tr>\n",
       "      <th>0</th>\n",
       "      <td>766.0</td>\n",
       "      <td>8.7073</td>\n",
       "      <td>-0.2418</td>\n",
       "      <td>20.2418</td>\n",
       "      <td>24.7587</td>\n",
       "      <td>-0.0099</td>\n",
       "      <td>0.464100</td>\n",
       "      <td>15.63</td>\n",
       "      <td>1.0590</td>\n",
       "      <td>2.915</td>\n",
       "      <td>0.7697</td>\n",
       "      <td>591.0</td>\n",
       "      <td>0.031600</td>\n",
       "      <td>244.8106</td>\n",
       "      <td>20.8815</td>\n",
       "      <td>18.7707</td>\n",
       "      <td>6.9587</td>\n",
       "      <td>57.7947</td>\n",
       "      <td>6.819300</td>\n",
       "    </tr>\n",
       "    <tr>\n",
       "      <th>1</th>\n",
       "      <td>1231.0</td>\n",
       "      <td>8.8355</td>\n",
       "      <td>4.6891</td>\n",
       "      <td>15.3109</td>\n",
       "      <td>14.6060</td>\n",
       "      <td>-0.0088</td>\n",
       "      <td>0.453638</td>\n",
       "      <td>15.98</td>\n",
       "      <td>1.1350</td>\n",
       "      <td>2.545</td>\n",
       "      <td>0.7284</td>\n",
       "      <td>328.0</td>\n",
       "      <td>0.054404</td>\n",
       "      <td>153.2971</td>\n",
       "      <td>12.7478</td>\n",
       "      <td>53.9906</td>\n",
       "      <td>6.0446</td>\n",
       "      <td>52.4964</td>\n",
       "      <td>11.408447</td>\n",
       "    </tr>\n",
       "    <tr>\n",
       "      <th>2</th>\n",
       "      <td>723.0</td>\n",
       "      <td>8.3436</td>\n",
       "      <td>1.7618</td>\n",
       "      <td>18.2382</td>\n",
       "      <td>23.5304</td>\n",
       "      <td>-0.0101</td>\n",
       "      <td>0.456400</td>\n",
       "      <td>15.79</td>\n",
       "      <td>0.9554</td>\n",
       "      <td>2.864</td>\n",
       "      <td>0.7585</td>\n",
       "      <td>650.0</td>\n",
       "      <td>0.019800</td>\n",
       "      <td>266.3136</td>\n",
       "      <td>21.5178</td>\n",
       "      <td>10.7413</td>\n",
       "      <td>5.5131</td>\n",
       "      <td>45.6576</td>\n",
       "      <td>4.329800</td>\n",
       "    </tr>\n",
       "    <tr>\n",
       "      <th>3</th>\n",
       "      <td>1470.0</td>\n",
       "      <td>9.7137</td>\n",
       "      <td>0.0064</td>\n",
       "      <td>19.9936</td>\n",
       "      <td>23.1671</td>\n",
       "      <td>-0.0126</td>\n",
       "      <td>0.460388</td>\n",
       "      <td>15.69</td>\n",
       "      <td>1.2200</td>\n",
       "      <td>2.897</td>\n",
       "      <td>0.8522</td>\n",
       "      <td>95.0</td>\n",
       "      <td>0.047760</td>\n",
       "      <td>43.8824</td>\n",
       "      <td>3.7721</td>\n",
       "      <td>37.5476</td>\n",
       "      <td>6.8544</td>\n",
       "      <td>27.8884</td>\n",
       "      <td>10.912640</td>\n",
       "    </tr>\n",
       "    <tr>\n",
       "      <th>4</th>\n",
       "      <td>401.0</td>\n",
       "      <td>8.6013</td>\n",
       "      <td>4.5027</td>\n",
       "      <td>15.4973</td>\n",
       "      <td>22.3374</td>\n",
       "      <td>-0.0057</td>\n",
       "      <td>0.455800</td>\n",
       "      <td>15.76</td>\n",
       "      <td>1.3470</td>\n",
       "      <td>2.481</td>\n",
       "      <td>0.6834</td>\n",
       "      <td>314.0</td>\n",
       "      <td>0.014200</td>\n",
       "      <td>137.3132</td>\n",
       "      <td>12.1741</td>\n",
       "      <td>17.4238</td>\n",
       "      <td>5.7879</td>\n",
       "      <td>54.0305</td>\n",
       "      <td>3.109100</td>\n",
       "    </tr>\n",
       "    <tr>\n",
       "      <th>...</th>\n",
       "      <td>...</td>\n",
       "      <td>...</td>\n",
       "      <td>...</td>\n",
       "      <td>...</td>\n",
       "      <td>...</td>\n",
       "      <td>...</td>\n",
       "      <td>...</td>\n",
       "      <td>...</td>\n",
       "      <td>...</td>\n",
       "      <td>...</td>\n",
       "      <td>...</td>\n",
       "      <td>...</td>\n",
       "      <td>...</td>\n",
       "      <td>...</td>\n",
       "      <td>...</td>\n",
       "      <td>...</td>\n",
       "      <td>...</td>\n",
       "      <td>...</td>\n",
       "      <td>...</td>\n",
       "    </tr>\n",
       "    <tr>\n",
       "      <th>309</th>\n",
       "      <td>28.0</td>\n",
       "      <td>8.9336</td>\n",
       "      <td>17.3873</td>\n",
       "      <td>22.6127</td>\n",
       "      <td>27.4102</td>\n",
       "      <td>-0.0078</td>\n",
       "      <td>0.476000</td>\n",
       "      <td>16.05</td>\n",
       "      <td>0.9554</td>\n",
       "      <td>3.002</td>\n",
       "      <td>0.6287</td>\n",
       "      <td>420.0</td>\n",
       "      <td>0.033200</td>\n",
       "      <td>177.2362</td>\n",
       "      <td>15.3734</td>\n",
       "      <td>30.4356</td>\n",
       "      <td>5.7628</td>\n",
       "      <td>69.6774</td>\n",
       "      <td>6.975700</td>\n",
       "    </tr>\n",
       "    <tr>\n",
       "      <th>310</th>\n",
       "      <td>584.0</td>\n",
       "      <td>8.7994</td>\n",
       "      <td>11.2909</td>\n",
       "      <td>8.7091</td>\n",
       "      <td>13.8957</td>\n",
       "      <td>-0.0111</td>\n",
       "      <td>0.459100</td>\n",
       "      <td>15.91</td>\n",
       "      <td>1.1350</td>\n",
       "      <td>2.467</td>\n",
       "      <td>0.6802</td>\n",
       "      <td>517.0</td>\n",
       "      <td>0.031200</td>\n",
       "      <td>232.9440</td>\n",
       "      <td>19.3000</td>\n",
       "      <td>14.2373</td>\n",
       "      <td>10.7271</td>\n",
       "      <td>39.5062</td>\n",
       "      <td>6.793900</td>\n",
       "    </tr>\n",
       "    <tr>\n",
       "      <th>311</th>\n",
       "      <td>953.0</td>\n",
       "      <td>8.6695</td>\n",
       "      <td>0.4200</td>\n",
       "      <td>19.5800</td>\n",
       "      <td>26.5186</td>\n",
       "      <td>-0.0087</td>\n",
       "      <td>0.459000</td>\n",
       "      <td>15.82</td>\n",
       "      <td>1.1820</td>\n",
       "      <td>2.735</td>\n",
       "      <td>0.8349</td>\n",
       "      <td>276.0</td>\n",
       "      <td>0.018800</td>\n",
       "      <td>114.3343</td>\n",
       "      <td>10.6625</td>\n",
       "      <td>29.9729</td>\n",
       "      <td>6.8146</td>\n",
       "      <td>50.4298</td>\n",
       "      <td>4.102700</td>\n",
       "    </tr>\n",
       "    <tr>\n",
       "      <th>312</th>\n",
       "      <td>139.0</td>\n",
       "      <td>10.9634</td>\n",
       "      <td>23.0364</td>\n",
       "      <td>16.9636</td>\n",
       "      <td>23.0148</td>\n",
       "      <td>-0.0068</td>\n",
       "      <td>0.470700</td>\n",
       "      <td>15.70</td>\n",
       "      <td>1.2720</td>\n",
       "      <td>2.763</td>\n",
       "      <td>0.7636</td>\n",
       "      <td>775.0</td>\n",
       "      <td>0.056800</td>\n",
       "      <td>335.9379</td>\n",
       "      <td>25.3041</td>\n",
       "      <td>33.3101</td>\n",
       "      <td>5.1101</td>\n",
       "      <td>56.0886</td>\n",
       "      <td>12.066800</td>\n",
       "    </tr>\n",
       "    <tr>\n",
       "      <th>313</th>\n",
       "      <td>1380.0</td>\n",
       "      <td>8.7286</td>\n",
       "      <td>-6.5027</td>\n",
       "      <td>26.5027</td>\n",
       "      <td>34.1725</td>\n",
       "      <td>-0.0120</td>\n",
       "      <td>0.457948</td>\n",
       "      <td>15.73</td>\n",
       "      <td>1.2010</td>\n",
       "      <td>2.563</td>\n",
       "      <td>0.6676</td>\n",
       "      <td>289.0</td>\n",
       "      <td>0.034408</td>\n",
       "      <td>132.1675</td>\n",
       "      <td>11.3925</td>\n",
       "      <td>22.7234</td>\n",
       "      <td>3.3019</td>\n",
       "      <td>37.4220</td>\n",
       "      <td>8.514949</td>\n",
       "    </tr>\n",
       "  </tbody>\n",
       "</table>\n",
       "<p>314 rows × 19 columns</p>\n",
       "</div>"
      ],
      "text/plain": [
       "         ID  feature034  feature060  feature065  feature066  feature104  \\\n",
       "0     766.0      8.7073     -0.2418     20.2418     24.7587     -0.0099   \n",
       "1    1231.0      8.8355      4.6891     15.3109     14.6060     -0.0088   \n",
       "2     723.0      8.3436      1.7618     18.2382     23.5304     -0.0101   \n",
       "3    1470.0      9.7137      0.0064     19.9936     23.1671     -0.0126   \n",
       "4     401.0      8.6013      4.5027     15.4973     22.3374     -0.0057   \n",
       "..      ...         ...         ...         ...         ...         ...   \n",
       "309    28.0      8.9336     17.3873     22.6127     27.4102     -0.0078   \n",
       "310   584.0      8.7994     11.2909      8.7091     13.8957     -0.0111   \n",
       "311   953.0      8.6695      0.4200     19.5800     26.5186     -0.0087   \n",
       "312   139.0     10.9634     23.0364     16.9636     23.0148     -0.0068   \n",
       "313  1380.0      8.7286     -6.5027     26.5027     34.1725     -0.0120   \n",
       "\n",
       "     feature113  feature125  feature126  feature127  feature131  feature161  \\\n",
       "0      0.464100       15.63      1.0590       2.915      0.7697       591.0   \n",
       "1      0.453638       15.98      1.1350       2.545      0.7284       328.0   \n",
       "2      0.456400       15.79      0.9554       2.864      0.7585       650.0   \n",
       "3      0.460388       15.69      1.2200       2.897      0.8522        95.0   \n",
       "4      0.455800       15.76      1.3470       2.481      0.6834       314.0   \n",
       "..          ...         ...         ...         ...         ...         ...   \n",
       "309    0.476000       16.05      0.9554       3.002      0.6287       420.0   \n",
       "310    0.459100       15.91      1.1350       2.467      0.6802       517.0   \n",
       "311    0.459000       15.82      1.1820       2.735      0.8349       276.0   \n",
       "312    0.470700       15.70      1.2720       2.763      0.7636       775.0   \n",
       "313    0.457948       15.73      1.2010       2.563      0.6676       289.0   \n",
       "\n",
       "     feature248  feature296  feature432  feature461  feature478  feature511  \\\n",
       "0      0.031600    244.8106     20.8815     18.7707      6.9587     57.7947   \n",
       "1      0.054404    153.2971     12.7478     53.9906      6.0446     52.4964   \n",
       "2      0.019800    266.3136     21.5178     10.7413      5.5131     45.6576   \n",
       "3      0.047760     43.8824      3.7721     37.5476      6.8544     27.8884   \n",
       "4      0.014200    137.3132     12.1741     17.4238      5.7879     54.0305   \n",
       "..          ...         ...         ...         ...         ...         ...   \n",
       "309    0.033200    177.2362     15.3734     30.4356      5.7628     69.6774   \n",
       "310    0.031200    232.9440     19.3000     14.2373     10.7271     39.5062   \n",
       "311    0.018800    114.3343     10.6625     29.9729      6.8146     50.4298   \n",
       "312    0.056800    335.9379     25.3041     33.3101      5.1101     56.0886   \n",
       "313    0.034408    132.1675     11.3925     22.7234      3.3019     37.4220   \n",
       "\n",
       "     feature520  \n",
       "0      6.819300  \n",
       "1     11.408447  \n",
       "2      4.329800  \n",
       "3     10.912640  \n",
       "4      3.109100  \n",
       "..          ...  \n",
       "309    6.975700  \n",
       "310    6.793900  \n",
       "311    4.102700  \n",
       "312   12.066800  \n",
       "313    8.514949  \n",
       "\n",
       "[314 rows x 19 columns]"
      ]
     },
     "execution_count": 115,
     "metadata": {},
     "output_type": "execute_result"
    }
   ],
   "source": [
    "# View processed test set\r\n",
    "X_test"
   ]
  },
  {
   "cell_type": "markdown",
   "metadata": {},
   "source": [
    "### 5.3 Grid search"
   ]
  },
  {
   "cell_type": "code",
   "execution_count": 124,
   "metadata": {},
   "outputs": [
    {
     "name": "stdout",
     "output_type": "stream",
     "text": [
      "{'n_estimators': [200, 400, 600, 800, 1000, 1200, 1400, 1600, 1800, 2000], 'max_features': ['auto', 'sqrt'], 'max_depth': [10, 20, 30, 40, 50, 60, 70, 80, 90, 100, 110, None], 'min_samples_split': [2, 5, 10], 'min_samples_leaf': [1, 2, 4], 'bootstrap': [True, False], 'class_weight': ['balanced', 'balanced_subsample']}\n"
     ]
    }
   ],
   "source": [
    "# Number of trees in random forest\r\n",
    "n_estimators = [int(x) for x in np.linspace(start = 200, stop = 2000, num = 10)]\r\n",
    "# Criterion\r\n",
    "criterion=['gini', 'entropy']\r\n",
    "# Number of features to consider at every split\r\n",
    "max_features = ['auto', 'sqrt']\r\n",
    "# Maximum number of levels in tree\r\n",
    "max_depth = [int(x) for x in np.linspace(10, 110, num = 11)]\r\n",
    "max_depth.append(None)\r\n",
    "# Minimum number of samples required to split a node\r\n",
    "min_samples_split = [2, 5, 10]\r\n",
    "# Minimum number of samples required at each leaf node\r\n",
    "min_samples_leaf = [1, 2, 4]\r\n",
    "# Method of selecting samples for training each tree\r\n",
    "bootstrap = [True, False]\r\n",
    "#class-weight\r\n",
    "class_weight = [\"balanced\", \"balanced_subsample\"]\r\n",
    "\r\n",
    "# Create the random grid\r\n",
    "random_grid = {'n_estimators': n_estimators,\r\n",
    "               'max_features': max_features,\r\n",
    "               'max_depth': max_depth,\r\n",
    "               'min_samples_split': min_samples_split,\r\n",
    "               'min_samples_leaf': min_samples_leaf,\r\n",
    "               'bootstrap': bootstrap,\r\n",
    "              'class_weight': class_weight}\r\n",
    "print(random_grid)"
   ]
  },
  {
   "cell_type": "code",
   "execution_count": 130,
   "metadata": {},
   "outputs": [
    {
     "name": "stdout",
     "output_type": "stream",
     "text": [
      "Fitting 3 folds for each of 100 candidates, totalling 300 fits\n"
     ]
    },
    {
     "data": {
      "text/plain": [
       "RandomForestClassifier(bootstrap=False, class_weight='balanced_subsample',\n",
       "                       max_depth=90, n_estimators=600)"
      ]
     },
     "execution_count": 130,
     "metadata": {},
     "output_type": "execute_result"
    }
   ],
   "source": [
    "# Use the random grid to search for best hyperparameters\r\n",
    "\r\n",
    "# First create the base model to tune\r\n",
    "rf = RandomForestClassifier()\r\n",
    "\r\n",
    "# Random search of parameters, using 3 fold cross validation\r\n",
    "\r\n",
    "# search across 100 different combinations, and use all available cores\r\n",
    "rf_random = RandomizedSearchCV(estimator = rf, param_distributions = random_grid, n_iter = 100, cv = 3, verbose=2, random_state=42, n_jobs = -1)\r\n",
    "\r\n",
    "# Fit the random search model\r\n",
    "rf_random.fit(X_resampled, y_resampled)\r\n",
    "\r\n",
    "rf_random.best_estimator_"
   ]
  },
  {
   "cell_type": "markdown",
   "metadata": {},
   "source": [
    "### 5.4 Model Function"
   ]
  },
  {
   "cell_type": "code",
   "execution_count": 125,
   "metadata": {},
   "outputs": [],
   "source": [
    "def run_ML_process(X, y, X_test, y_test, clf):\r\n",
    "    #scaling\r\n",
    "    #scaler = StandardScaler()\r\n",
    "    #scaler.fit(X)\r\n",
    "    #X = pd.DataFrame(scaler.transform(X), index=X.index, columns=X.columns)\r\n",
    "    #X_test = pd.DataFrame(scaler.transform(X_test), index=X_test.index, columns=X_test.columns)\r\n",
    "    \r\n",
    "    #Evaluation using Startified K Fold cross validation\r\n",
    "    cv = StratifiedKFold(n_splits=10)\r\n",
    "    scores = cross_val_score(clf, X, y, cv=cv, scoring = 'accuracy')\r\n",
    "    print('Averace Accuracy:', scores.mean())\r\n",
    "\r\n",
    "    #fit\r\n",
    "    clf.fit(X, y)\r\n",
    "    \r\n",
    "    #predict\r\n",
    "    y_pred_test = clf.predict(X_test)\r\n",
    "    \r\n",
    "    # View accuracy score\r\n",
    "    print('Accuracy: ', accuracy_score(y_test, y_pred_test))\r\n",
    "    \r\n",
    "    #Plot confussion matrix\r\n",
    "    plt.rcParams.update({'font.size': 16})\r\n",
    "    fig, ax = plt.subplots(figsize=(8, 8))\r\n",
    "    plot_confusion_matrix(clf, X_test, y_test, ax=ax, cmap=plt.cm.Blues)\r\n",
    "    \r\n",
    "    # View the classification report for test data and predictions\r\n",
    "    print(classification_report(y_test, y_pred_test))\r\n",
    "    \r\n",
    "    \r\n",
    "    #ROC curve\r\n",
    "    \r\n",
    "    #Prediction probabilities\r\n",
    "    clf_probs = clf.predict_proba(X_test)\r\n",
    "    \r\n",
    "    #Probabilities of the positive outcome is kept\r\n",
    "    clf_probs = clf_probs[:, 1]\r\n",
    "\r\n",
    "    \r\n",
    "    #Area under ROC curve\r\n",
    "    clf_auc = roc_auc_score(y_test, clf_probs)\r\n",
    "    print('Area under ROC: AUROC = %.3f' % (clf_auc))\r\n",
    "    \r\n",
    "    #Calculate ROC\r\n",
    "    clf_fpr, clf_tpr, _ = roc_curve(y_test, clf_probs, pos_label ='FAIL')\r\n",
    "\r\n",
    "    #Plot ROC curve\r\n",
    "    plt.figure()\r\n",
    "    plt.plot(clf_fpr, clf_tpr, marker='.', label='Random Forest (AUROC = %0.3f)' % clf_auc)\r\n",
    "    \r\n",
    "    # Title\r\n",
    "    \r\n",
    "    plt.title('ROC Plot')\r\n",
    "    # Axis labels\r\n",
    "    plt.xlabel('False Positive Rate')\r\n",
    "    plt.ylabel('True Positive Rate')\r\n",
    "    # Show legend\r\n",
    "    plt.legend() # \r\n",
    "    # Show plot\r\n",
    "    plt.show()"
   ]
  },
  {
   "cell_type": "markdown",
   "metadata": {},
   "source": [
    "#### 5.4.1 Random Forest"
   ]
  },
  {
   "cell_type": "code",
   "execution_count": 131,
   "metadata": {},
   "outputs": [
    {
     "name": "stdout",
     "output_type": "stream",
     "text": [
      "Averace Accuracy: 0.978735632183908\n",
      "Accuracy:  0.8757961783439491\n",
      "              precision    recall  f1-score   support\n",
      "\n",
      "        FAIL       0.14      0.21      0.17        19\n",
      "        PASS       0.95      0.92      0.93       295\n",
      "\n",
      "    accuracy                           0.88       314\n",
      "   macro avg       0.55      0.56      0.55       314\n",
      "weighted avg       0.90      0.88      0.89       314\n",
      "\n",
      "Area under ROC: AUROC = 0.689\n"
     ]
    },
    {
     "data": {
      "image/png": "[encoded data removed]",
      "text/plain": [
       "<Figure size 800x800 with 2 Axes>"
      ]
     },
     "metadata": {
      "needs_background": "light"
     },
     "output_type": "display_data"
    },
    {
     "data": {
      "image/png": "[encoded data removed]",
      "text/plain": [
       "<Figure size 500x500 with 1 Axes>"
      ]
     },
     "metadata": {
      "needs_background": "light"
     },
     "output_type": "display_data"
    }
   ],
   "source": [
    "# Random Forest modelstClass\r\n",
    "run_ML_process(X_resampled, y_resampled, X_test, y_test, rf_random.best_estimator_)"
   ]
  },
  {
   "cell_type": "code",
   "execution_count": null,
   "metadata": {},
   "outputs": [],
   "source": []
  }
 ],
 "metadata": {
  "interpreter": {
   "hash": "44dfd87d71a60d6f80064400c4b11ec0a50086241372e6907672112cacccc3e0"
  },
  "kernelspec": {
   "display_name": "Python 3.8.8 64-bit ('BP1': conda)",
   "name": "python3"
  },
  "language_info": {
   "codemirror_mode": {
    "name": "ipython",
    "version": 3
   },
   "file_extension": ".py",
   "mimetype": "text/x-python",
   "name": "python",
   "nbconvert_exporter": "python",
   "pygments_lexer": "ipython3",
   "version": "3.8.8"
  }
 },
 "nbformat": 4,
 "nbformat_minor": 4
}
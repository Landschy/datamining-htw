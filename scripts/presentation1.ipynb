{
 "cells": [
  {
   "source": [
    "## 1.Packages"
   ],
   "cell_type": "markdown",
   "metadata": {}
  },
  {
   "source": [
    "### 1.1.Install"
   ],
   "cell_type": "markdown",
   "metadata": {}
  },
  {
   "cell_type": "code",
   "execution_count": 1,
   "metadata": {},
   "outputs": [
    {
     "output_type": "stream",
     "name": "stdout",
     "text": [
      "Requirement already satisfied: numpy in c:\\users\\behzad\\anaconda3\\lib\\site-packages (1.18.5)\nNote: you may need to restart the kernel to use updated packages.\n"
     ]
    }
   ],
   "source": [
    "pip install numpy"
   ]
  },
  {
   "cell_type": "code",
   "execution_count": 2,
   "metadata": {},
   "outputs": [
    {
     "output_type": "stream",
     "name": "stdout",
     "text": [
      "Requirement already satisfied: pandas in c:\\users\\behzad\\anaconda3\\lib\\site-packages (1.0.5)\nRequirement already satisfied: pytz>=2017.2 in c:\\users\\behzad\\anaconda3\\lib\\site-packages (from pandas) (2020.1)\nRequirement already satisfied: python-dateutil>=2.6.1 in c:\\users\\behzad\\anaconda3\\lib\\site-packages (from pandas) (2.8.1)\nRequirement already satisfied: numpy>=1.13.3 in c:\\users\\behzad\\anaconda3\\lib\\site-packages (from pandas) (1.18.5)\nRequirement already satisfied: six>=1.5 in c:\\users\\behzad\\anaconda3\\lib\\site-packages (from python-dateutil>=2.6.1->pandas) (1.15.0)\nNote: you may need to restart the kernel to use updated packages.\n"
     ]
    }
   ],
   "source": [
    "pip install pandas"
   ]
  },
  {
   "cell_type": "code",
   "execution_count": 3,
   "metadata": {},
   "outputs": [
    {
     "output_type": "stream",
     "name": "stdout",
     "text": [
      "Note: you may need to restart the kernel to use updated packages.\n",
      "ERROR: Could not find a version that satisfies the requirement math (from versions: none)\n",
      "ERROR: No matching distribution found for math\n"
     ]
    }
   ],
   "source": [
    "pip install math"
   ]
  },
  {
   "cell_type": "code",
   "execution_count": 4,
   "metadata": {},
   "outputs": [
    {
     "output_type": "stream",
     "name": "stdout",
     "text": [
      "Requirement already satisfied: pyreadstat in c:\\users\\behzad\\anaconda3\\lib\\site-packages (1.1.0)\nRequirement already satisfied: pandas>0.24.0 in c:\\users\\behzad\\anaconda3\\lib\\site-packages (from pyreadstat) (1.0.5)\nRequirement already satisfied: python-dateutil>=2.6.1 in c:\\users\\behzad\\anaconda3\\lib\\site-packages (from pandas>0.24.0->pyreadstat) (2.8.1)\nRequirement already satisfied: numpy>=1.13.3 in c:\\users\\behzad\\anaconda3\\lib\\site-packages (from pandas>0.24.0->pyreadstat) (1.18.5)\nRequirement already satisfied: pytz>=2017.2 in c:\\users\\behzad\\anaconda3\\lib\\site-packages (from pandas>0.24.0->pyreadstat) (2020.1)\nRequirement already satisfied: six>=1.5 in c:\\users\\behzad\\anaconda3\\lib\\site-packages (from python-dateutil>=2.6.1->pandas>0.24.0->pyreadstat) (1.15.0)\nNote: you may need to restart the kernel to use updated packages.\n"
     ]
    }
   ],
   "source": [
    "pip install pyreadstat"
   ]
  },
  {
   "source": [
    "### 1.2.Import"
   ],
   "cell_type": "markdown",
   "metadata": {}
  },
  {
   "cell_type": "code",
   "execution_count": 5,
   "id": "b0c91ca5",
   "metadata": {},
   "outputs": [],
   "source": [
    "import numpy as np\n",
    "import pandas as pd\n",
    "import math\n",
    "import pyreadstat"
   ]
  },
  {
   "source": [
    "## 2.Data"
   ],
   "cell_type": "markdown",
   "metadata": {}
  },
  {
   "cell_type": "markdown",
   "id": "b3d5aabc",
   "metadata": {},
   "source": [
    "### 2.1.Load Data"
   ]
  },
  {
   "cell_type": "code",
   "execution_count": 6,
   "id": "d6a3c9e3",
   "metadata": {
    "scrolled": true
   },
   "outputs": [
    {
     "output_type": "execute_result",
     "data": {
      "text/plain": [
       "        class            timestamp  feature001  feature002  feature003  \\\n",
       "ID                                                                       \n",
       "1.0       0.0  19/07/2008 11:55:00     3030.93     2564.00   2187.7333   \n",
       "2.0       0.0  19/07/2008 12:32:00     3095.78     2465.14   2230.4222   \n",
       "3.0       1.0  19/07/2008 13:17:00     2932.61     2559.94   2186.4111   \n",
       "4.0       0.0  19/07/2008 14:43:00     2988.72     2479.90   2199.0333   \n",
       "5.0       0.0  19/07/2008 15:22:00     3032.24     2502.87   2233.3667   \n",
       "...       ...                  ...         ...         ...         ...   \n",
       "1563.0    0.0  16/10/2008 15:13:00     2899.41     2464.36   2179.7333   \n",
       "1564.0    0.0  16/10/2008 20:49:00     3052.31     2522.55   2198.5667   \n",
       "1565.0    0.0  17/10/2008 05:26:00     2978.81     2379.78   2206.3000   \n",
       "1566.0    0.0  17/10/2008 06:01:00     2894.92     2532.01   2177.0333   \n",
       "1567.0    0.0  17/10/2008 06:07:00     2944.92     2450.76   2195.4444   \n",
       "\n",
       "        feature004  feature005  feature006  feature007  feature008  ...  \\\n",
       "ID                                                                  ...   \n",
       "1.0      1411.1265      1.3602       100.0     97.6133      0.1242  ...   \n",
       "2.0      1463.6606      0.8294       100.0    102.3433      0.1247  ...   \n",
       "3.0      1698.0172      1.5102       100.0     95.4878      0.1241  ...   \n",
       "4.0       909.7926      1.3204       100.0    104.2367      0.1217  ...   \n",
       "5.0      1326.5200      1.5334       100.0    100.3967      0.1235  ...   \n",
       "...            ...         ...         ...         ...         ...  ...   \n",
       "1563.0   3085.3781      1.4843       100.0     82.2467      0.1248  ...   \n",
       "1564.0   1124.6595      0.8763       100.0     98.4689      0.1205  ...   \n",
       "1565.0   1110.4967      0.8236       100.0     99.4122      0.1208  ...   \n",
       "1566.0   1183.7287      1.5726       100.0     98.7978      0.1213  ...   \n",
       "1567.0   2914.1792      1.5978       100.0     85.1011      0.1235  ...   \n",
       "\n",
       "        feature581  feature582  feature583  feature584  feature585  \\\n",
       "ID                                                                   \n",
       "1.0            NaN         NaN      0.5005      0.0118      0.0035   \n",
       "2.0         0.0060    208.2045      0.5019      0.0223      0.0055   \n",
       "3.0         0.0148     82.8602      0.4958      0.0157      0.0039   \n",
       "4.0         0.0044     73.8432      0.4990      0.0103      0.0025   \n",
       "5.0            NaN         NaN      0.4800      0.4766      0.1045   \n",
       "...            ...         ...         ...         ...         ...   \n",
       "1563.0      0.0047    203.1720      0.4988      0.0143      0.0039   \n",
       "1564.0         NaN         NaN      0.4975      0.0131      0.0036   \n",
       "1565.0      0.0025     43.5231      0.4987      0.0153      0.0041   \n",
       "1566.0      0.0075     93.4941      0.5004      0.0178      0.0038   \n",
       "1567.0      0.0045    137.7844      0.4987      0.0181      0.0040   \n",
       "\n",
       "        feature586  feature587  feature588  feature589  feature590  \n",
       "ID                                                                  \n",
       "1.0         2.3630         NaN         NaN         NaN         NaN  \n",
       "2.0         4.4447      0.0096      0.0201      0.0060    208.2045  \n",
       "3.0         3.1745      0.0584      0.0484      0.0148     82.8602  \n",
       "4.0         2.0544      0.0202      0.0149      0.0044     73.8432  \n",
       "5.0        99.3032      0.0202      0.0149      0.0044     73.8432  \n",
       "...            ...         ...         ...         ...         ...  \n",
       "1563.0      2.8669      0.0068      0.0138      0.0047    203.1720  \n",
       "1564.0      2.6238      0.0068      0.0138      0.0047    203.1720  \n",
       "1565.0      3.0590      0.0197      0.0086      0.0025     43.5231  \n",
       "1566.0      3.5662      0.0262      0.0245      0.0075     93.4941  \n",
       "1567.0      3.6275      0.0117      0.0162      0.0045    137.7844  \n",
       "\n",
       "[1567 rows x 592 columns]"
      ],
      "text/html": "<div>\n<style scoped>\n    .dataframe tbody tr th:only-of-type {\n        vertical-align: middle;\n    }\n\n    .dataframe tbody tr th {\n        vertical-align: top;\n    }\n\n    .dataframe thead th {\n        text-align: right;\n    }\n</style>\n<table border=\"1\" class=\"dataframe\">\n  <thead>\n    <tr style=\"text-align: right;\">\n      <th></th>\n      <th>class</th>\n      <th>timestamp</th>\n      <th>feature001</th>\n      <th>feature002</th>\n      <th>feature003</th>\n      <th>feature004</th>\n      <th>feature005</th>\n      <th>feature006</th>\n      <th>feature007</th>\n      <th>feature008</th>\n      <th>...</th>\n      <th>feature581</th>\n      <th>feature582</th>\n      <th>feature583</th>\n      <th>feature584</th>\n      <th>feature585</th>\n      <th>feature586</th>\n      <th>feature587</th>\n      <th>feature588</th>\n      <th>feature589</th>\n      <th>feature590</th>\n    </tr>\n    <tr>\n      <th>ID</th>\n      <th></th>\n      <th></th>\n      <th></th>\n      <th></th>\n      <th></th>\n      <th></th>\n      <th></th>\n      <th></th>\n      <th></th>\n      <th></th>\n      <th></th>\n      <th></th>\n      <th></th>\n      <th></th>\n      <th></th>\n      <th></th>\n      <th></th>\n      <th></th>\n      <th></th>\n      <th></th>\n      <th></th>\n    </tr>\n  </thead>\n  <tbody>\n    <tr>\n      <th>1.0</th>\n      <td>0.0</td>\n      <td>19/07/2008 11:55:00</td>\n      <td>3030.93</td>\n      <td>2564.00</td>\n      <td>2187.7333</td>\n      <td>1411.1265</td>\n      <td>1.3602</td>\n      <td>100.0</td>\n      <td>97.6133</td>\n      <td>0.1242</td>\n      <td>...</td>\n      <td>NaN</td>\n      <td>NaN</td>\n      <td>0.5005</td>\n      <td>0.0118</td>\n      <td>0.0035</td>\n      <td>2.3630</td>\n      <td>NaN</td>\n      <td>NaN</td>\n      <td>NaN</td>\n      <td>NaN</td>\n    </tr>\n    <tr>\n      <th>2.0</th>\n      <td>0.0</td>\n      <td>19/07/2008 12:32:00</td>\n      <td>3095.78</td>\n      <td>2465.14</td>\n      <td>2230.4222</td>\n      <td>1463.6606</td>\n      <td>0.8294</td>\n      <td>100.0</td>\n      <td>102.3433</td>\n      <td>0.1247</td>\n      <td>...</td>\n      <td>0.0060</td>\n      <td>208.2045</td>\n      <td>0.5019</td>\n      <td>0.0223</td>\n      <td>0.0055</td>\n      <td>4.4447</td>\n      <td>0.0096</td>\n      <td>0.0201</td>\n      <td>0.0060</td>\n      <td>208.2045</td>\n    </tr>\n    <tr>\n      <th>3.0</th>\n      <td>1.0</td>\n      <td>19/07/2008 13:17:00</td>\n      <td>2932.61</td>\n      <td>2559.94</td>\n      <td>2186.4111</td>\n      <td>1698.0172</td>\n      <td>1.5102</td>\n      <td>100.0</td>\n      <td>95.4878</td>\n      <td>0.1241</td>\n      <td>...</td>\n      <td>0.0148</td>\n      <td>82.8602</td>\n      <td>0.4958</td>\n      <td>0.0157</td>\n      <td>0.0039</td>\n      <td>3.1745</td>\n      <td>0.0584</td>\n      <td>0.0484</td>\n      <td>0.0148</td>\n      <td>82.8602</td>\n    </tr>\n    <tr>\n      <th>4.0</th>\n      <td>0.0</td>\n      <td>19/07/2008 14:43:00</td>\n      <td>2988.72</td>\n      <td>2479.90</td>\n      <td>2199.0333</td>\n      <td>909.7926</td>\n      <td>1.3204</td>\n      <td>100.0</td>\n      <td>104.2367</td>\n      <td>0.1217</td>\n      <td>...</td>\n      <td>0.0044</td>\n      <td>73.8432</td>\n      <td>0.4990</td>\n      <td>0.0103</td>\n      <td>0.0025</td>\n      <td>2.0544</td>\n      <td>0.0202</td>\n      <td>0.0149</td>\n      <td>0.0044</td>\n      <td>73.8432</td>\n    </tr>\n    <tr>\n      <th>5.0</th>\n      <td>0.0</td>\n      <td>19/07/2008 15:22:00</td>\n      <td>3032.24</td>\n      <td>2502.87</td>\n      <td>2233.3667</td>\n      <td>1326.5200</td>\n      <td>1.5334</td>\n      <td>100.0</td>\n      <td>100.3967</td>\n      <td>0.1235</td>\n      <td>...</td>\n      <td>NaN</td>\n      <td>NaN</td>\n      <td>0.4800</td>\n      <td>0.4766</td>\n      <td>0.1045</td>\n      <td>99.3032</td>\n      <td>0.0202</td>\n      <td>0.0149</td>\n      <td>0.0044</td>\n      <td>73.8432</td>\n    </tr>\n    <tr>\n      <th>...</th>\n      <td>...</td>\n      <td>...</td>\n      <td>...</td>\n      <td>...</td>\n      <td>...</td>\n      <td>...</td>\n      <td>...</td>\n      <td>...</td>\n      <td>...</td>\n      <td>...</td>\n      <td>...</td>\n      <td>...</td>\n      <td>...</td>\n      <td>...</td>\n      <td>...</td>\n      <td>...</td>\n      <td>...</td>\n      <td>...</td>\n      <td>...</td>\n      <td>...</td>\n      <td>...</td>\n    </tr>\n    <tr>\n      <th>1563.0</th>\n      <td>0.0</td>\n      <td>16/10/2008 15:13:00</td>\n      <td>2899.41</td>\n      <td>2464.36</td>\n      <td>2179.7333</td>\n      <td>3085.3781</td>\n      <td>1.4843</td>\n      <td>100.0</td>\n      <td>82.2467</td>\n      <td>0.1248</td>\n      <td>...</td>\n      <td>0.0047</td>\n      <td>203.1720</td>\n      <td>0.4988</td>\n      <td>0.0143</td>\n      <td>0.0039</td>\n      <td>2.8669</td>\n      <td>0.0068</td>\n      <td>0.0138</td>\n      <td>0.0047</td>\n      <td>203.1720</td>\n    </tr>\n    <tr>\n      <th>1564.0</th>\n      <td>0.0</td>\n      <td>16/10/2008 20:49:00</td>\n      <td>3052.31</td>\n      <td>2522.55</td>\n      <td>2198.5667</td>\n      <td>1124.6595</td>\n      <td>0.8763</td>\n      <td>100.0</td>\n      <td>98.4689</td>\n      <td>0.1205</td>\n      <td>...</td>\n      <td>NaN</td>\n      <td>NaN</td>\n      <td>0.4975</td>\n      <td>0.0131</td>\n      <td>0.0036</td>\n      <td>2.6238</td>\n      <td>0.0068</td>\n      <td>0.0138</td>\n      <td>0.0047</td>\n      <td>203.1720</td>\n    </tr>\n    <tr>\n      <th>1565.0</th>\n      <td>0.0</td>\n      <td>17/10/2008 05:26:00</td>\n      <td>2978.81</td>\n      <td>2379.78</td>\n      <td>2206.3000</td>\n      <td>1110.4967</td>\n      <td>0.8236</td>\n      <td>100.0</td>\n      <td>99.4122</td>\n      <td>0.1208</td>\n      <td>...</td>\n      <td>0.0025</td>\n      <td>43.5231</td>\n      <td>0.4987</td>\n      <td>0.0153</td>\n      <td>0.0041</td>\n      <td>3.0590</td>\n      <td>0.0197</td>\n      <td>0.0086</td>\n      <td>0.0025</td>\n      <td>43.5231</td>\n    </tr>\n    <tr>\n      <th>1566.0</th>\n      <td>0.0</td>\n      <td>17/10/2008 06:01:00</td>\n      <td>2894.92</td>\n      <td>2532.01</td>\n      <td>2177.0333</td>\n      <td>1183.7287</td>\n      <td>1.5726</td>\n      <td>100.0</td>\n      <td>98.7978</td>\n      <td>0.1213</td>\n      <td>...</td>\n      <td>0.0075</td>\n      <td>93.4941</td>\n      <td>0.5004</td>\n      <td>0.0178</td>\n      <td>0.0038</td>\n      <td>3.5662</td>\n      <td>0.0262</td>\n      <td>0.0245</td>\n      <td>0.0075</td>\n      <td>93.4941</td>\n    </tr>\n    <tr>\n      <th>1567.0</th>\n      <td>0.0</td>\n      <td>17/10/2008 06:07:00</td>\n      <td>2944.92</td>\n      <td>2450.76</td>\n      <td>2195.4444</td>\n      <td>2914.1792</td>\n      <td>1.5978</td>\n      <td>100.0</td>\n      <td>85.1011</td>\n      <td>0.1235</td>\n      <td>...</td>\n      <td>0.0045</td>\n      <td>137.7844</td>\n      <td>0.4987</td>\n      <td>0.0181</td>\n      <td>0.0040</td>\n      <td>3.6275</td>\n      <td>0.0117</td>\n      <td>0.0162</td>\n      <td>0.0045</td>\n      <td>137.7844</td>\n    </tr>\n  </tbody>\n</table>\n<p>1567 rows × 592 columns</p>\n</div>"
     },
     "metadata": {},
     "execution_count": 6
    }
   ],
   "source": [
    "# read data\n",
    "df = pd.DataFrame(pd.read_spss(\"../data/secom_mod.sav\"))\n",
    "df = df.set_index('ID')\n",
    "df"
   ]
  },
  {
   "cell_type": "markdown",
   "id": "2f1c8861",
   "metadata": {},
   "source": [
    "### 2.2.Change \"class\" feature Type and Values"
   ]
  },
  {
   "cell_type": "code",
   "execution_count": 7,
   "id": "87802d43",
   "metadata": {},
   "outputs": [
    {
     "output_type": "execute_result",
     "data": {
      "text/plain": [
       "class         float64\n",
       "timestamp      object\n",
       "feature001    float64\n",
       "feature002    float64\n",
       "feature003    float64\n",
       "               ...   \n",
       "feature586    float64\n",
       "feature587    float64\n",
       "feature588    float64\n",
       "feature589    float64\n",
       "feature590    float64\n",
       "Length: 592, dtype: object"
      ]
     },
     "metadata": {},
     "execution_count": 7
    }
   ],
   "source": [
    "df.dtypes"
   ]
  },
  {
   "cell_type": "code",
   "execution_count": 8,
   "id": "c4a6e73a",
   "metadata": {},
   "outputs": [],
   "source": [
    "dict_temp = {0:True ,1:False}\n",
    "df['class'] = df['class'].map(dict_temp)"
   ]
  },
  {
   "cell_type": "code",
   "execution_count": 9,
   "id": "091d0917",
   "metadata": {},
   "outputs": [
    {
     "output_type": "execute_result",
     "data": {
      "text/plain": [
       "class            bool\n",
       "timestamp      object\n",
       "feature001    float64\n",
       "feature002    float64\n",
       "feature003    float64\n",
       "               ...   \n",
       "feature586    float64\n",
       "feature587    float64\n",
       "feature588    float64\n",
       "feature589    float64\n",
       "feature590    float64\n",
       "Length: 592, dtype: object"
      ]
     },
     "metadata": {},
     "execution_count": 9
    }
   ],
   "source": [
    "df.dtypes"
   ]
  },
  {
   "cell_type": "markdown",
   "id": "44ef32f3",
   "metadata": {},
   "source": [
    "### 2.3.Splitting Traninig and Test Data "
   ]
  },
  {
   "cell_type": "code",
   "execution_count": 10,
   "metadata": {},
   "outputs": [
    {
     "output_type": "stream",
     "name": "stdout",
     "text": [
      "1472\n95\n"
     ]
    }
   ],
   "source": [
    "print(len(df[df['class']==1]))\n",
    "print(len(df[df['class']==0]))"
   ]
  },
  {
   "cell_type": "code",
   "execution_count": 11,
   "metadata": {},
   "outputs": [
    {
     "output_type": "stream",
     "name": "stdout",
     "text": [
      "0.061\n"
     ]
    }
   ],
   "source": [
    "print(round(len(df[df['class']==0])/len(df),3))"
   ]
  },
  {
   "cell_type": "code",
   "execution_count": 12,
   "id": "14cd2cd4",
   "metadata": {},
   "outputs": [],
   "source": [
    "from sklearn.model_selection import train_test_split"
   ]
  },
  {
   "cell_type": "code",
   "execution_count": 13,
   "id": "e43d95c6",
   "metadata": {},
   "outputs": [],
   "source": [
    "train_df,test_df = train_test_split(df,test_size=0.2,random_state=40)"
   ]
  },
  {
   "cell_type": "code",
   "execution_count": 14,
   "id": "8a00609e",
   "metadata": {},
   "outputs": [
    {
     "output_type": "stream",
     "name": "stdout",
     "text": [
      "0.061\n"
     ]
    }
   ],
   "source": [
    "print(round(len(train_df[train_df['class']==0])/len(train_df),3))"
   ]
  },
  {
   "cell_type": "code",
   "execution_count": 15,
   "id": "17db646f",
   "metadata": {},
   "outputs": [
    {
     "output_type": "stream",
     "name": "stdout",
     "text": [
      "0.061\n"
     ]
    }
   ],
   "source": [
    "print(round(len(test_df[test_df['class']==0])/len(test_df),3))"
   ]
  },
  {
   "cell_type": "code",
   "execution_count": null,
   "metadata": {},
   "outputs": [],
   "source": []
  }
 ],
 "metadata": {
  "kernelspec": {
   "name": "python383jvsc74a57bd003e37fa30cc8a0f1c8e83df6d736f47ce234d076f7f5f3b6e5e4a17770432483",
   "display_name": "Python 3.8.3 64-bit ('base': conda)"
  },
  "language_info": {
   "codemirror_mode": {
    "name": "ipython",
    "version": 3
   },
   "file_extension": ".py",
   "mimetype": "text/x-python",
   "name": "python",
   "nbconvert_exporter": "python",
   "pygments_lexer": "ipython3",
   "version": "3.8.3"
  }
 },
 "nbformat": 4,
 "nbformat_minor": 5
}
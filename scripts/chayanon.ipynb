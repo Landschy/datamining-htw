{
 "cells": [
  {
   "cell_type": "markdown",
   "id": "cbacc115",
   "metadata": {},
   "source": [
    "# Install packages\n",
    "\n",
    "- pyreadstat is required to read .SAV file"
   ]
  },
  {
   "cell_type": "code",
   "execution_count": 2,
   "id": "6dde5e57",
   "metadata": {
    "scrolled": true
   },
   "outputs": [
    {
     "name": "stdout",
     "output_type": "stream",
     "text": [
      "Requirement already satisfied: pyreadstat in /opt/anaconda3/envs/SECOM/lib/python3.8/site-packages (1.1.0)\n",
      "Requirement already satisfied: pandas>0.24.0 in /opt/anaconda3/envs/SECOM/lib/python3.8/site-packages (from pyreadstat) (1.2.4)\n",
      "Requirement already satisfied: python-dateutil>=2.7.3 in /opt/anaconda3/envs/SECOM/lib/python3.8/site-packages (from pandas>0.24.0->pyreadstat) (2.8.1)\n",
      "Requirement already satisfied: pytz>=2017.3 in /opt/anaconda3/envs/SECOM/lib/python3.8/site-packages (from pandas>0.24.0->pyreadstat) (2021.1)\n",
      "Requirement already satisfied: numpy>=1.16.5 in /opt/anaconda3/envs/SECOM/lib/python3.8/site-packages (from pandas>0.24.0->pyreadstat) (1.19.2)\n",
      "Requirement already satisfied: six>=1.5 in /opt/anaconda3/envs/SECOM/lib/python3.8/site-packages (from python-dateutil>=2.7.3->pandas>0.24.0->pyreadstat) (1.15.0)\n",
      "Note: you may need to restart the kernel to use updated packages.\n"
     ]
    }
   ],
   "source": [
    "pip install pyreadstat"
   ]
  },
  {
   "cell_type": "markdown",
   "id": "47ba3d57",
   "metadata": {},
   "source": [
    "# Import packages\n",
    "\n",
    "- pandas is a fundamental and powerful package for data analysis and manipulation.\n",
    "- pyreadstat for reading .sav file\n",
    "- numpy is the fundamental package for scientific computing with Python.\n",
    "- matplotlib is a library to plot graphs in Python.\n",
    "- seaborn is a Python data visualization library based on matplotlib. It provides a high-level interface for drawing attractive and informative statistical graphics."
   ]
  },
  {
   "cell_type": "code",
   "execution_count": 3,
   "id": "5a256795",
   "metadata": {},
   "outputs": [],
   "source": [
    "import pandas as pd\n",
    "import pyreadstat\n",
    "import numpy as np\n",
    "import matplotlib.pyplot as plt\n",
    "import seaborn as sns\n",
    "\n",
    "#Setting seed for keeping all the random function calls consistent.\n",
    "np.random.seed(100)  "
   ]
  },
  {
   "cell_type": "markdown",
   "id": "b79e4cc3",
   "metadata": {},
   "source": [
    "## 1. Read SECOM dataset"
   ]
  },
  {
   "cell_type": "code",
   "execution_count": 4,
   "id": "72d40ddb",
   "metadata": {},
   "outputs": [],
   "source": [
    "raw_data = pd.read_spss(\"secom_mod.SAV\")"
   ]
  },
  {
   "cell_type": "markdown",
   "id": "8f268d45",
   "metadata": {},
   "source": [
    "## 2. Data Understanding"
   ]
  },
  {
   "cell_type": "markdown",
   "id": "04d05042",
   "metadata": {},
   "source": [
    "#### 2.1 Exploring data (Data Quality and Data Quantity)"
   ]
  },
  {
   "cell_type": "code",
   "execution_count": 5,
   "id": "86a5233e",
   "metadata": {},
   "outputs": [
    {
     "data": {
      "text/html": [
       "<div>\n",
       "<style scoped>\n",
       "    .dataframe tbody tr th:only-of-type {\n",
       "        vertical-align: middle;\n",
       "    }\n",
       "\n",
       "    .dataframe tbody tr th {\n",
       "        vertical-align: top;\n",
       "    }\n",
       "\n",
       "    .dataframe thead th {\n",
       "        text-align: right;\n",
       "    }\n",
       "</style>\n",
       "<table border=\"1\" class=\"dataframe\">\n",
       "  <thead>\n",
       "    <tr style=\"text-align: right;\">\n",
       "      <th></th>\n",
       "      <th>ID</th>\n",
       "      <th>class</th>\n",
       "      <th>timestamp</th>\n",
       "      <th>feature001</th>\n",
       "      <th>feature002</th>\n",
       "      <th>feature003</th>\n",
       "      <th>feature004</th>\n",
       "      <th>feature005</th>\n",
       "      <th>feature006</th>\n",
       "      <th>feature007</th>\n",
       "      <th>...</th>\n",
       "      <th>feature581</th>\n",
       "      <th>feature582</th>\n",
       "      <th>feature583</th>\n",
       "      <th>feature584</th>\n",
       "      <th>feature585</th>\n",
       "      <th>feature586</th>\n",
       "      <th>feature587</th>\n",
       "      <th>feature588</th>\n",
       "      <th>feature589</th>\n",
       "      <th>feature590</th>\n",
       "    </tr>\n",
       "  </thead>\n",
       "  <tbody>\n",
       "    <tr>\n",
       "      <th>0</th>\n",
       "      <td>1.0</td>\n",
       "      <td>0.0</td>\n",
       "      <td>19/07/2008 11:55:00</td>\n",
       "      <td>3030.93</td>\n",
       "      <td>2564.00</td>\n",
       "      <td>2187.7333</td>\n",
       "      <td>1411.1265</td>\n",
       "      <td>1.3602</td>\n",
       "      <td>100.0</td>\n",
       "      <td>97.6133</td>\n",
       "      <td>...</td>\n",
       "      <td>NaN</td>\n",
       "      <td>NaN</td>\n",
       "      <td>0.5005</td>\n",
       "      <td>0.0118</td>\n",
       "      <td>0.0035</td>\n",
       "      <td>2.3630</td>\n",
       "      <td>NaN</td>\n",
       "      <td>NaN</td>\n",
       "      <td>NaN</td>\n",
       "      <td>NaN</td>\n",
       "    </tr>\n",
       "    <tr>\n",
       "      <th>1</th>\n",
       "      <td>2.0</td>\n",
       "      <td>0.0</td>\n",
       "      <td>19/07/2008 12:32:00</td>\n",
       "      <td>3095.78</td>\n",
       "      <td>2465.14</td>\n",
       "      <td>2230.4222</td>\n",
       "      <td>1463.6606</td>\n",
       "      <td>0.8294</td>\n",
       "      <td>100.0</td>\n",
       "      <td>102.3433</td>\n",
       "      <td>...</td>\n",
       "      <td>0.0060</td>\n",
       "      <td>208.2045</td>\n",
       "      <td>0.5019</td>\n",
       "      <td>0.0223</td>\n",
       "      <td>0.0055</td>\n",
       "      <td>4.4447</td>\n",
       "      <td>0.0096</td>\n",
       "      <td>0.0201</td>\n",
       "      <td>0.0060</td>\n",
       "      <td>208.2045</td>\n",
       "    </tr>\n",
       "    <tr>\n",
       "      <th>2</th>\n",
       "      <td>3.0</td>\n",
       "      <td>1.0</td>\n",
       "      <td>19/07/2008 13:17:00</td>\n",
       "      <td>2932.61</td>\n",
       "      <td>2559.94</td>\n",
       "      <td>2186.4111</td>\n",
       "      <td>1698.0172</td>\n",
       "      <td>1.5102</td>\n",
       "      <td>100.0</td>\n",
       "      <td>95.4878</td>\n",
       "      <td>...</td>\n",
       "      <td>0.0148</td>\n",
       "      <td>82.8602</td>\n",
       "      <td>0.4958</td>\n",
       "      <td>0.0157</td>\n",
       "      <td>0.0039</td>\n",
       "      <td>3.1745</td>\n",
       "      <td>0.0584</td>\n",
       "      <td>0.0484</td>\n",
       "      <td>0.0148</td>\n",
       "      <td>82.8602</td>\n",
       "    </tr>\n",
       "    <tr>\n",
       "      <th>3</th>\n",
       "      <td>4.0</td>\n",
       "      <td>0.0</td>\n",
       "      <td>19/07/2008 14:43:00</td>\n",
       "      <td>2988.72</td>\n",
       "      <td>2479.90</td>\n",
       "      <td>2199.0333</td>\n",
       "      <td>909.7926</td>\n",
       "      <td>1.3204</td>\n",
       "      <td>100.0</td>\n",
       "      <td>104.2367</td>\n",
       "      <td>...</td>\n",
       "      <td>0.0044</td>\n",
       "      <td>73.8432</td>\n",
       "      <td>0.4990</td>\n",
       "      <td>0.0103</td>\n",
       "      <td>0.0025</td>\n",
       "      <td>2.0544</td>\n",
       "      <td>0.0202</td>\n",
       "      <td>0.0149</td>\n",
       "      <td>0.0044</td>\n",
       "      <td>73.8432</td>\n",
       "    </tr>\n",
       "    <tr>\n",
       "      <th>4</th>\n",
       "      <td>5.0</td>\n",
       "      <td>0.0</td>\n",
       "      <td>19/07/2008 15:22:00</td>\n",
       "      <td>3032.24</td>\n",
       "      <td>2502.87</td>\n",
       "      <td>2233.3667</td>\n",
       "      <td>1326.5200</td>\n",
       "      <td>1.5334</td>\n",
       "      <td>100.0</td>\n",
       "      <td>100.3967</td>\n",
       "      <td>...</td>\n",
       "      <td>NaN</td>\n",
       "      <td>NaN</td>\n",
       "      <td>0.4800</td>\n",
       "      <td>0.4766</td>\n",
       "      <td>0.1045</td>\n",
       "      <td>99.3032</td>\n",
       "      <td>0.0202</td>\n",
       "      <td>0.0149</td>\n",
       "      <td>0.0044</td>\n",
       "      <td>73.8432</td>\n",
       "    </tr>\n",
       "  </tbody>\n",
       "</table>\n",
       "<p>5 rows × 593 columns</p>\n",
       "</div>"
      ],
      "text/plain": [
       "    ID  class            timestamp  feature001  feature002  feature003  \\\n",
       "0  1.0    0.0  19/07/2008 11:55:00     3030.93     2564.00   2187.7333   \n",
       "1  2.0    0.0  19/07/2008 12:32:00     3095.78     2465.14   2230.4222   \n",
       "2  3.0    1.0  19/07/2008 13:17:00     2932.61     2559.94   2186.4111   \n",
       "3  4.0    0.0  19/07/2008 14:43:00     2988.72     2479.90   2199.0333   \n",
       "4  5.0    0.0  19/07/2008 15:22:00     3032.24     2502.87   2233.3667   \n",
       "\n",
       "   feature004  feature005  feature006  feature007  ...  feature581  \\\n",
       "0   1411.1265      1.3602       100.0     97.6133  ...         NaN   \n",
       "1   1463.6606      0.8294       100.0    102.3433  ...      0.0060   \n",
       "2   1698.0172      1.5102       100.0     95.4878  ...      0.0148   \n",
       "3    909.7926      1.3204       100.0    104.2367  ...      0.0044   \n",
       "4   1326.5200      1.5334       100.0    100.3967  ...         NaN   \n",
       "\n",
       "   feature582  feature583  feature584  feature585  feature586  feature587  \\\n",
       "0         NaN      0.5005      0.0118      0.0035      2.3630         NaN   \n",
       "1    208.2045      0.5019      0.0223      0.0055      4.4447      0.0096   \n",
       "2     82.8602      0.4958      0.0157      0.0039      3.1745      0.0584   \n",
       "3     73.8432      0.4990      0.0103      0.0025      2.0544      0.0202   \n",
       "4         NaN      0.4800      0.4766      0.1045     99.3032      0.0202   \n",
       "\n",
       "   feature588  feature589  feature590  \n",
       "0         NaN         NaN         NaN  \n",
       "1      0.0201      0.0060    208.2045  \n",
       "2      0.0484      0.0148     82.8602  \n",
       "3      0.0149      0.0044     73.8432  \n",
       "4      0.0149      0.0044     73.8432  \n",
       "\n",
       "[5 rows x 593 columns]"
      ]
     },
     "execution_count": 5,
     "metadata": {},
     "output_type": "execute_result"
    }
   ],
   "source": [
    "## have a look at the first five rows of dataset\n",
    "raw_data.head()"
   ]
  },
  {
   "cell_type": "code",
   "execution_count": 6,
   "id": "637aa4a3",
   "metadata": {
    "scrolled": false
   },
   "outputs": [
    {
     "name": "stdout",
     "output_type": "stream",
     "text": [
      "<class 'pandas.core.frame.DataFrame'>\n",
      "RangeIndex: 1567 entries, 0 to 1566\n",
      "Columns: 593 entries, ID to feature590\n",
      "dtypes: float64(592), object(1)\n",
      "memory usage: 7.1+ MB\n"
     ]
    }
   ],
   "source": [
    "## Overview information about SECOM dataset\n",
    "raw_data.info()"
   ]
  },
  {
   "cell_type": "code",
   "execution_count": 7,
   "id": "78af7876",
   "metadata": {
    "scrolled": true
   },
   "outputs": [
    {
     "data": {
      "text/plain": [
       "(1567, 593)"
      ]
     },
     "execution_count": 7,
     "metadata": {},
     "output_type": "execute_result"
    }
   ],
   "source": [
    "## Shape of data set including 1567 rows and 593 columns\n",
    "raw_data.shape"
   ]
  },
  {
   "cell_type": "code",
   "execution_count": 8,
   "id": "9ea999b1",
   "metadata": {
    "scrolled": true
   },
   "outputs": [
    {
     "data": {
      "text/html": [
       "<div>\n",
       "<style scoped>\n",
       "    .dataframe tbody tr th:only-of-type {\n",
       "        vertical-align: middle;\n",
       "    }\n",
       "\n",
       "    .dataframe tbody tr th {\n",
       "        vertical-align: top;\n",
       "    }\n",
       "\n",
       "    .dataframe thead th {\n",
       "        text-align: right;\n",
       "    }\n",
       "</style>\n",
       "<table border=\"1\" class=\"dataframe\">\n",
       "  <thead>\n",
       "    <tr style=\"text-align: right;\">\n",
       "      <th></th>\n",
       "      <th>ID</th>\n",
       "      <th>class</th>\n",
       "      <th>feature001</th>\n",
       "      <th>feature002</th>\n",
       "      <th>feature003</th>\n",
       "      <th>feature004</th>\n",
       "      <th>feature005</th>\n",
       "      <th>feature006</th>\n",
       "      <th>feature007</th>\n",
       "      <th>feature008</th>\n",
       "      <th>...</th>\n",
       "      <th>feature581</th>\n",
       "      <th>feature582</th>\n",
       "      <th>feature583</th>\n",
       "      <th>feature584</th>\n",
       "      <th>feature585</th>\n",
       "      <th>feature586</th>\n",
       "      <th>feature587</th>\n",
       "      <th>feature588</th>\n",
       "      <th>feature589</th>\n",
       "      <th>feature590</th>\n",
       "    </tr>\n",
       "  </thead>\n",
       "  <tbody>\n",
       "    <tr>\n",
       "      <th>count</th>\n",
       "      <td>1567.00000</td>\n",
       "      <td>1567.000000</td>\n",
       "      <td>1561.000000</td>\n",
       "      <td>1560.000000</td>\n",
       "      <td>1553.000000</td>\n",
       "      <td>1553.000000</td>\n",
       "      <td>1553.000000</td>\n",
       "      <td>1553.0</td>\n",
       "      <td>1553.000000</td>\n",
       "      <td>1558.000000</td>\n",
       "      <td>...</td>\n",
       "      <td>618.000000</td>\n",
       "      <td>618.000000</td>\n",
       "      <td>1566.000000</td>\n",
       "      <td>1566.000000</td>\n",
       "      <td>1566.000000</td>\n",
       "      <td>1566.000000</td>\n",
       "      <td>1566.000000</td>\n",
       "      <td>1566.000000</td>\n",
       "      <td>1566.000000</td>\n",
       "      <td>1566.000000</td>\n",
       "    </tr>\n",
       "    <tr>\n",
       "      <th>mean</th>\n",
       "      <td>784.00000</td>\n",
       "      <td>0.060625</td>\n",
       "      <td>3014.452896</td>\n",
       "      <td>2495.850231</td>\n",
       "      <td>2200.547318</td>\n",
       "      <td>1396.376627</td>\n",
       "      <td>4.197013</td>\n",
       "      <td>100.0</td>\n",
       "      <td>101.112908</td>\n",
       "      <td>0.121822</td>\n",
       "      <td>...</td>\n",
       "      <td>0.005396</td>\n",
       "      <td>97.934373</td>\n",
       "      <td>0.500096</td>\n",
       "      <td>0.015318</td>\n",
       "      <td>0.003847</td>\n",
       "      <td>3.067826</td>\n",
       "      <td>0.021458</td>\n",
       "      <td>0.016475</td>\n",
       "      <td>0.005283</td>\n",
       "      <td>99.670066</td>\n",
       "    </tr>\n",
       "    <tr>\n",
       "      <th>std</th>\n",
       "      <td>452.49825</td>\n",
       "      <td>0.238718</td>\n",
       "      <td>73.621787</td>\n",
       "      <td>80.407705</td>\n",
       "      <td>29.513152</td>\n",
       "      <td>441.691640</td>\n",
       "      <td>56.355540</td>\n",
       "      <td>0.0</td>\n",
       "      <td>6.237214</td>\n",
       "      <td>0.008961</td>\n",
       "      <td>...</td>\n",
       "      <td>0.003116</td>\n",
       "      <td>87.520966</td>\n",
       "      <td>0.003404</td>\n",
       "      <td>0.017180</td>\n",
       "      <td>0.003720</td>\n",
       "      <td>3.578033</td>\n",
       "      <td>0.012358</td>\n",
       "      <td>0.008808</td>\n",
       "      <td>0.002867</td>\n",
       "      <td>93.891919</td>\n",
       "    </tr>\n",
       "    <tr>\n",
       "      <th>min</th>\n",
       "      <td>1.00000</td>\n",
       "      <td>0.000000</td>\n",
       "      <td>2743.240000</td>\n",
       "      <td>2158.750000</td>\n",
       "      <td>2060.660000</td>\n",
       "      <td>0.000000</td>\n",
       "      <td>0.681500</td>\n",
       "      <td>100.0</td>\n",
       "      <td>82.131100</td>\n",
       "      <td>0.000000</td>\n",
       "      <td>...</td>\n",
       "      <td>0.001000</td>\n",
       "      <td>0.000000</td>\n",
       "      <td>0.477800</td>\n",
       "      <td>0.006000</td>\n",
       "      <td>0.001700</td>\n",
       "      <td>1.197500</td>\n",
       "      <td>-0.016900</td>\n",
       "      <td>0.003200</td>\n",
       "      <td>0.001000</td>\n",
       "      <td>0.000000</td>\n",
       "    </tr>\n",
       "    <tr>\n",
       "      <th>25%</th>\n",
       "      <td>392.50000</td>\n",
       "      <td>0.000000</td>\n",
       "      <td>2966.260000</td>\n",
       "      <td>2452.247500</td>\n",
       "      <td>2181.044400</td>\n",
       "      <td>1081.875800</td>\n",
       "      <td>1.017700</td>\n",
       "      <td>100.0</td>\n",
       "      <td>97.920000</td>\n",
       "      <td>0.121100</td>\n",
       "      <td>...</td>\n",
       "      <td>0.003400</td>\n",
       "      <td>46.184900</td>\n",
       "      <td>0.497900</td>\n",
       "      <td>0.011600</td>\n",
       "      <td>0.003100</td>\n",
       "      <td>2.306500</td>\n",
       "      <td>0.013425</td>\n",
       "      <td>0.010600</td>\n",
       "      <td>0.003300</td>\n",
       "      <td>44.368600</td>\n",
       "    </tr>\n",
       "    <tr>\n",
       "      <th>50%</th>\n",
       "      <td>784.00000</td>\n",
       "      <td>0.000000</td>\n",
       "      <td>3011.490000</td>\n",
       "      <td>2499.405000</td>\n",
       "      <td>2201.066700</td>\n",
       "      <td>1285.214400</td>\n",
       "      <td>1.316800</td>\n",
       "      <td>100.0</td>\n",
       "      <td>101.512200</td>\n",
       "      <td>0.122400</td>\n",
       "      <td>...</td>\n",
       "      <td>0.004700</td>\n",
       "      <td>72.288900</td>\n",
       "      <td>0.500200</td>\n",
       "      <td>0.013800</td>\n",
       "      <td>0.003600</td>\n",
       "      <td>2.757650</td>\n",
       "      <td>0.020500</td>\n",
       "      <td>0.014800</td>\n",
       "      <td>0.004600</td>\n",
       "      <td>71.900500</td>\n",
       "    </tr>\n",
       "    <tr>\n",
       "      <th>75%</th>\n",
       "      <td>1175.50000</td>\n",
       "      <td>0.000000</td>\n",
       "      <td>3056.650000</td>\n",
       "      <td>2538.822500</td>\n",
       "      <td>2218.055500</td>\n",
       "      <td>1591.223500</td>\n",
       "      <td>1.525700</td>\n",
       "      <td>100.0</td>\n",
       "      <td>104.586700</td>\n",
       "      <td>0.123800</td>\n",
       "      <td>...</td>\n",
       "      <td>0.006475</td>\n",
       "      <td>116.539150</td>\n",
       "      <td>0.502375</td>\n",
       "      <td>0.016500</td>\n",
       "      <td>0.004100</td>\n",
       "      <td>3.295175</td>\n",
       "      <td>0.027600</td>\n",
       "      <td>0.020300</td>\n",
       "      <td>0.006400</td>\n",
       "      <td>114.749700</td>\n",
       "    </tr>\n",
       "    <tr>\n",
       "      <th>max</th>\n",
       "      <td>1567.00000</td>\n",
       "      <td>1.000000</td>\n",
       "      <td>3356.350000</td>\n",
       "      <td>2846.440000</td>\n",
       "      <td>2315.266700</td>\n",
       "      <td>3715.041700</td>\n",
       "      <td>1114.536600</td>\n",
       "      <td>100.0</td>\n",
       "      <td>129.252200</td>\n",
       "      <td>0.128600</td>\n",
       "      <td>...</td>\n",
       "      <td>0.028600</td>\n",
       "      <td>737.304800</td>\n",
       "      <td>0.509800</td>\n",
       "      <td>0.476600</td>\n",
       "      <td>0.104500</td>\n",
       "      <td>99.303200</td>\n",
       "      <td>0.102800</td>\n",
       "      <td>0.079900</td>\n",
       "      <td>0.028600</td>\n",
       "      <td>737.304800</td>\n",
       "    </tr>\n",
       "  </tbody>\n",
       "</table>\n",
       "<p>8 rows × 592 columns</p>\n",
       "</div>"
      ],
      "text/plain": [
       "               ID        class   feature001   feature002   feature003  \\\n",
       "count  1567.00000  1567.000000  1561.000000  1560.000000  1553.000000   \n",
       "mean    784.00000     0.060625  3014.452896  2495.850231  2200.547318   \n",
       "std     452.49825     0.238718    73.621787    80.407705    29.513152   \n",
       "min       1.00000     0.000000  2743.240000  2158.750000  2060.660000   \n",
       "25%     392.50000     0.000000  2966.260000  2452.247500  2181.044400   \n",
       "50%     784.00000     0.000000  3011.490000  2499.405000  2201.066700   \n",
       "75%    1175.50000     0.000000  3056.650000  2538.822500  2218.055500   \n",
       "max    1567.00000     1.000000  3356.350000  2846.440000  2315.266700   \n",
       "\n",
       "        feature004   feature005  feature006   feature007   feature008  ...  \\\n",
       "count  1553.000000  1553.000000      1553.0  1553.000000  1558.000000  ...   \n",
       "mean   1396.376627     4.197013       100.0   101.112908     0.121822  ...   \n",
       "std     441.691640    56.355540         0.0     6.237214     0.008961  ...   \n",
       "min       0.000000     0.681500       100.0    82.131100     0.000000  ...   \n",
       "25%    1081.875800     1.017700       100.0    97.920000     0.121100  ...   \n",
       "50%    1285.214400     1.316800       100.0   101.512200     0.122400  ...   \n",
       "75%    1591.223500     1.525700       100.0   104.586700     0.123800  ...   \n",
       "max    3715.041700  1114.536600       100.0   129.252200     0.128600  ...   \n",
       "\n",
       "       feature581  feature582   feature583   feature584   feature585  \\\n",
       "count  618.000000  618.000000  1566.000000  1566.000000  1566.000000   \n",
       "mean     0.005396   97.934373     0.500096     0.015318     0.003847   \n",
       "std      0.003116   87.520966     0.003404     0.017180     0.003720   \n",
       "min      0.001000    0.000000     0.477800     0.006000     0.001700   \n",
       "25%      0.003400   46.184900     0.497900     0.011600     0.003100   \n",
       "50%      0.004700   72.288900     0.500200     0.013800     0.003600   \n",
       "75%      0.006475  116.539150     0.502375     0.016500     0.004100   \n",
       "max      0.028600  737.304800     0.509800     0.476600     0.104500   \n",
       "\n",
       "        feature586   feature587   feature588   feature589   feature590  \n",
       "count  1566.000000  1566.000000  1566.000000  1566.000000  1566.000000  \n",
       "mean      3.067826     0.021458     0.016475     0.005283    99.670066  \n",
       "std       3.578033     0.012358     0.008808     0.002867    93.891919  \n",
       "min       1.197500    -0.016900     0.003200     0.001000     0.000000  \n",
       "25%       2.306500     0.013425     0.010600     0.003300    44.368600  \n",
       "50%       2.757650     0.020500     0.014800     0.004600    71.900500  \n",
       "75%       3.295175     0.027600     0.020300     0.006400   114.749700  \n",
       "max      99.303200     0.102800     0.079900     0.028600   737.304800  \n",
       "\n",
       "[8 rows x 592 columns]"
      ]
     },
     "execution_count": 8,
     "metadata": {},
     "output_type": "execute_result"
    }
   ],
   "source": [
    "## Example of Statistical numeric values in 8 rows\n",
    "raw_data.describe()"
   ]
  },
  {
   "cell_type": "code",
   "execution_count": 9,
   "id": "5e41495d",
   "metadata": {
    "scrolled": true
   },
   "outputs": [
    {
     "data": {
      "text/plain": [
       "0"
      ]
     },
     "execution_count": 9,
     "metadata": {},
     "output_type": "execute_result"
    }
   ],
   "source": [
    "#Check duplicated observation\n",
    "raw_data.duplicated(subset=None, keep='first').sum()"
   ]
  },
  {
   "cell_type": "code",
   "execution_count": 10,
   "id": "db97c446",
   "metadata": {},
   "outputs": [
    {
     "data": {
      "text/plain": [
       "ID            float64\n",
       "class         float64\n",
       "timestamp      object\n",
       "feature001    float64\n",
       "feature002    float64\n",
       "               ...   \n",
       "feature586    float64\n",
       "feature587    float64\n",
       "feature588    float64\n",
       "feature589    float64\n",
       "feature590    float64\n",
       "Length: 593, dtype: object"
      ]
     },
     "execution_count": 10,
     "metadata": {},
     "output_type": "execute_result"
    }
   ],
   "source": [
    "# Types of data in the dataset\n",
    "raw_data.dtypes"
   ]
  },
  {
   "cell_type": "code",
   "execution_count": 11,
   "id": "d01c861d",
   "metadata": {},
   "outputs": [
    {
     "data": {
      "text/plain": [
       "0.0    1472\n",
       "1.0      95\n",
       "Name: class, dtype: int64"
      ]
     },
     "execution_count": 11,
     "metadata": {},
     "output_type": "execute_result"
    }
   ],
   "source": [
    "# Number of pass and fail values\n",
    "raw_data['class'].value_counts()"
   ]
  },
  {
   "cell_type": "code",
   "execution_count": 12,
   "id": "3d84a60b",
   "metadata": {},
   "outputs": [
    {
     "data": {
      "image/png": "[encoded data removed]",
      "text/plain": [
       "<Figure size 432x288 with 1 Axes>"
      ]
     },
     "metadata": {
      "needs_background": "light"
     },
     "output_type": "display_data"
    }
   ],
   "source": [
    "#Example of histogram of feature 589\n",
    "plt.hist(raw_data.iloc[:,589], bins = 100)\n",
    "plt.xlabel('feature 589')\n",
    "plt.ylabel('Frequency')\n",
    "plt.title('Histogram of feature 589')\n",
    "plt.show()"
   ]
  },
  {
   "cell_type": "markdown",
   "id": "416179e7",
   "metadata": {},
   "source": [
    "#### 2.2 Missing Value Analysis"
   ]
  },
  {
   "cell_type": "code",
   "execution_count": 30,
   "id": "ee97cc0d",
   "metadata": {},
   "outputs": [],
   "source": [
    "#Drop other features (ID, class, timestamp)\n",
    "feature_data = raw_data.drop(['ID', 'class', 'timestamp'], axis=1)"
   ]
  },
  {
   "cell_type": "code",
   "execution_count": 31,
   "id": "2772cec7",
   "metadata": {},
   "outputs": [
    {
     "data": {
      "text/plain": [
       "2"
      ]
     },
     "execution_count": 31,
     "metadata": {},
     "output_type": "execute_result"
    }
   ],
   "source": [
    "# Checking NA in feature 160\n",
    "raw_data['feature160'].isna().sum()"
   ]
  },
  {
   "cell_type": "code",
   "execution_count": 15,
   "id": "299fb13e",
   "metadata": {},
   "outputs": [
    {
     "data": {
      "text/plain": [
       "41951"
      ]
     },
     "execution_count": 15,
     "metadata": {},
     "output_type": "execute_result"
    }
   ],
   "source": [
    "# Total number of NA values in the dataset\n",
    "raw_data.isna().sum().sum()"
   ]
  },
  {
   "cell_type": "code",
   "execution_count": 34,
   "id": "1693e2b4",
   "metadata": {},
   "outputs": [
    {
     "name": "stdout",
     "output_type": "stream",
     "text": [
      "feature158    1429\n",
      "feature293    1429\n",
      "feature294    1429\n",
      "feature159    1429\n",
      "feature493    1341\n",
      "feature359    1341\n",
      "feature086    1341\n",
      "feature221    1341\n",
      "feature247    1018\n",
      "feature110    1018\n",
      "dtype: int64\n"
     ]
    }
   ],
   "source": [
    "# Showing top 10 features containing missing values\n",
    "feature_na = feature_data.isnull().sum().sort_values(ascending = False).head(10)\n",
    "\n",
    "print(feature_na)"
   ]
  },
  {
   "cell_type": "code",
   "execution_count": 35,
   "id": "4f849e40",
   "metadata": {},
   "outputs": [
    {
     "data": {
      "image/png": "[encoded data removed]",
      "text/plain": [
       "<Figure size 432x288 with 1 Axes>"
      ]
     },
     "metadata": {
      "needs_background": "light"
     },
     "output_type": "display_data"
    }
   ],
   "source": [
    "# Plot top 10 features containing missing values\n",
    "plt.hist(feature_na, bins= 100)\n",
    "plt.xlabel('Number of NaN in each feature')\n",
    "plt.ylabel('Number of feature')\n",
    "plt.title('Histogram of all features')\n",
    "plt.show()"
   ]
  },
  {
   "cell_type": "code",
   "execution_count": 18,
   "id": "f44d8c29",
   "metadata": {},
   "outputs": [],
   "source": [
    "#Show number of missing values of 100 features in ascending order\n",
    "feature_na = feature_data.isnull().sum().sort_values(ascending = True).head(100)"
   ]
  },
  {
   "cell_type": "code",
   "execution_count": 19,
   "id": "91364b72",
   "metadata": {},
   "outputs": [
    {
     "data": {
      "text/plain": [
       "feature292    0\n",
       "feature249    0\n",
       "feature250    0\n",
       "feature251    0\n",
       "feature252    0\n",
       "             ..\n",
       "feature045    1\n",
       "feature456    1\n",
       "feature457    1\n",
       "feature458    1\n",
       "feature459    1\n",
       "Length: 100, dtype: int64"
      ]
     },
     "execution_count": 19,
     "metadata": {},
     "output_type": "execute_result"
    }
   ],
   "source": [
    "feature_na[feature_na <= 100]"
   ]
  },
  {
   "cell_type": "code",
   "execution_count": 36,
   "id": "98c1b022",
   "metadata": {},
   "outputs": [
    {
     "data": {
      "text/plain": [
       "True"
      ]
     },
     "execution_count": 36,
     "metadata": {},
     "output_type": "execute_result"
    }
   ],
   "source": [
    "#Check is there any missing values in all features \n",
    "feature_data.isnull().any().any()"
   ]
  },
  {
   "cell_type": "code",
   "execution_count": 21,
   "id": "bd0ab570",
   "metadata": {},
   "outputs": [
    {
     "data": {
      "text/plain": [
       "852     4\n",
       "1256    4\n",
       "773     4\n",
       "817     4\n",
       "1208    4\n",
       "843     4\n",
       "1246    4\n",
       "1455    4\n",
       "952     4\n",
       "1180    8\n",
       "dtype: int64"
      ]
     },
     "execution_count": 21,
     "metadata": {},
     "output_type": "execute_result"
    }
   ],
   "source": [
    "#Check missing values in each row \n",
    "raw_data.isnull().sum(axis = 1).sort_values(ascending = True).head(10)"
   ]
  },
  {
   "cell_type": "code",
   "execution_count": 22,
   "id": "c533d26a",
   "metadata": {},
   "outputs": [
    {
     "data": {
      "text/plain": [
       "ID            0\n",
       "class         0\n",
       "timestamp     0\n",
       "feature001    6\n",
       "feature002    7\n",
       "             ..\n",
       "feature586    1\n",
       "feature587    1\n",
       "feature588    1\n",
       "feature589    1\n",
       "feature590    1\n",
       "Length: 593, dtype: int64"
      ]
     },
     "execution_count": 22,
     "metadata": {},
     "output_type": "execute_result"
    }
   ],
   "source": [
    "raw_data.isnull().sum(axis = 0) # each column"
   ]
  },
  {
   "cell_type": "code",
   "execution_count": 23,
   "id": "91a52e83",
   "metadata": {
    "scrolled": false
   },
   "outputs": [
    {
     "name": "stdout",
     "output_type": "stream",
     "text": [
      "The SECOM dataset has 593 columns and 1567 Rows.\n",
      "There are 538 columns that have missing values.\n"
     ]
    },
    {
     "data": {
      "text/html": [
       "<div>\n",
       "<style scoped>\n",
       "    .dataframe tbody tr th:only-of-type {\n",
       "        vertical-align: middle;\n",
       "    }\n",
       "\n",
       "    .dataframe tbody tr th {\n",
       "        vertical-align: top;\n",
       "    }\n",
       "\n",
       "    .dataframe thead th {\n",
       "        text-align: right;\n",
       "    }\n",
       "</style>\n",
       "<table border=\"1\" class=\"dataframe\">\n",
       "  <thead>\n",
       "    <tr style=\"text-align: right;\">\n",
       "      <th></th>\n",
       "      <th>Zero Values</th>\n",
       "      <th>Missing Values</th>\n",
       "      <th>% of Total Missing Values</th>\n",
       "      <th>Total Zero&amp;Missing Values</th>\n",
       "      <th>% Total Zero&amp;Missing Values</th>\n",
       "      <th>Data Type</th>\n",
       "    </tr>\n",
       "  </thead>\n",
       "  <tbody>\n",
       "    <tr>\n",
       "      <th>feature293</th>\n",
       "      <td>0</td>\n",
       "      <td>1429</td>\n",
       "      <td>91.2</td>\n",
       "      <td>1429</td>\n",
       "      <td>91.2</td>\n",
       "      <td>float64</td>\n",
       "    </tr>\n",
       "    <tr>\n",
       "      <th>feature294</th>\n",
       "      <td>0</td>\n",
       "      <td>1429</td>\n",
       "      <td>91.2</td>\n",
       "      <td>1429</td>\n",
       "      <td>91.2</td>\n",
       "      <td>float64</td>\n",
       "    </tr>\n",
       "    <tr>\n",
       "      <th>feature158</th>\n",
       "      <td>0</td>\n",
       "      <td>1429</td>\n",
       "      <td>91.2</td>\n",
       "      <td>1429</td>\n",
       "      <td>91.2</td>\n",
       "      <td>float64</td>\n",
       "    </tr>\n",
       "    <tr>\n",
       "      <th>feature159</th>\n",
       "      <td>0</td>\n",
       "      <td>1429</td>\n",
       "      <td>91.2</td>\n",
       "      <td>1429</td>\n",
       "      <td>91.2</td>\n",
       "      <td>float64</td>\n",
       "    </tr>\n",
       "    <tr>\n",
       "      <th>feature359</th>\n",
       "      <td>0</td>\n",
       "      <td>1341</td>\n",
       "      <td>85.6</td>\n",
       "      <td>1341</td>\n",
       "      <td>85.6</td>\n",
       "      <td>float64</td>\n",
       "    </tr>\n",
       "    <tr>\n",
       "      <th>...</th>\n",
       "      <td>...</td>\n",
       "      <td>...</td>\n",
       "      <td>...</td>\n",
       "      <td>...</td>\n",
       "      <td>...</td>\n",
       "      <td>...</td>\n",
       "    </tr>\n",
       "    <tr>\n",
       "      <th>feature457</th>\n",
       "      <td>0</td>\n",
       "      <td>1</td>\n",
       "      <td>0.1</td>\n",
       "      <td>1</td>\n",
       "      <td>0.1</td>\n",
       "      <td>float64</td>\n",
       "    </tr>\n",
       "    <tr>\n",
       "      <th>feature219</th>\n",
       "      <td>0</td>\n",
       "      <td>1</td>\n",
       "      <td>0.1</td>\n",
       "      <td>1</td>\n",
       "      <td>0.1</td>\n",
       "      <td>float64</td>\n",
       "    </tr>\n",
       "    <tr>\n",
       "      <th>feature357</th>\n",
       "      <td>0</td>\n",
       "      <td>1</td>\n",
       "      <td>0.1</td>\n",
       "      <td>1</td>\n",
       "      <td>0.1</td>\n",
       "      <td>float64</td>\n",
       "    </tr>\n",
       "    <tr>\n",
       "      <th>feature458</th>\n",
       "      <td>0</td>\n",
       "      <td>1</td>\n",
       "      <td>0.1</td>\n",
       "      <td>1</td>\n",
       "      <td>0.1</td>\n",
       "      <td>float64</td>\n",
       "    </tr>\n",
       "    <tr>\n",
       "      <th>feature590</th>\n",
       "      <td>32</td>\n",
       "      <td>1</td>\n",
       "      <td>0.1</td>\n",
       "      <td>33</td>\n",
       "      <td>2.1</td>\n",
       "      <td>float64</td>\n",
       "    </tr>\n",
       "  </tbody>\n",
       "</table>\n",
       "<p>538 rows × 6 columns</p>\n",
       "</div>"
      ],
      "text/plain": [
       "            Zero Values  Missing Values  % of Total Missing Values  \\\n",
       "feature293            0            1429                       91.2   \n",
       "feature294            0            1429                       91.2   \n",
       "feature158            0            1429                       91.2   \n",
       "feature159            0            1429                       91.2   \n",
       "feature359            0            1341                       85.6   \n",
       "...                 ...             ...                        ...   \n",
       "feature457            0               1                        0.1   \n",
       "feature219            0               1                        0.1   \n",
       "feature357            0               1                        0.1   \n",
       "feature458            0               1                        0.1   \n",
       "feature590           32               1                        0.1   \n",
       "\n",
       "            Total Zero&Missing Values  % Total Zero&Missing Values Data Type  \n",
       "feature293                       1429                         91.2   float64  \n",
       "feature294                       1429                         91.2   float64  \n",
       "feature158                       1429                         91.2   float64  \n",
       "feature159                       1429                         91.2   float64  \n",
       "feature359                       1341                         85.6   float64  \n",
       "...                               ...                          ...       ...  \n",
       "feature457                          1                          0.1   float64  \n",
       "feature219                          1                          0.1   float64  \n",
       "feature357                          1                          0.1   float64  \n",
       "feature458                          1                          0.1   float64  \n",
       "feature590                         33                          2.1   float64  \n",
       "\n",
       "[538 rows x 6 columns]"
      ]
     },
     "execution_count": 23,
     "metadata": {},
     "output_type": "execute_result"
    }
   ],
   "source": [
    "# % of missing values and zero values\n",
    "def missing_zero_values_table(df):\n",
    "        zero_val = (df == 0.00).astype(int).sum(axis=0)\n",
    "        mis_val = df.isnull().sum()\n",
    "        mis_val_percent = 100 * df.isnull().sum() / len(df)\n",
    "        mz_table = pd.concat([zero_val, mis_val, mis_val_percent], axis=1)\n",
    "        mz_table = mz_table.rename(\n",
    "        columns = {0 : 'Zero Values', 1 : 'Missing Values', 2 : '% of Total Missing Values'})\n",
    "        mz_table['Total Zero&Missing Values'] = mz_table['Zero Values'] + mz_table['Missing Values']\n",
    "        mz_table['% Total Zero&Missing Values'] = 100 * mz_table['Total Zero&Missing Values'] / len(df)\n",
    "        mz_table['Data Type'] = df.dtypes\n",
    "        mz_table = mz_table[\n",
    "            mz_table.iloc[:,1] != 0].sort_values(\n",
    "        '% of Total Missing Values', ascending=False).round(1)\n",
    "        print (\"The SECOM dataset has \" + str(df.shape[1]) + \" columns and \" + str(df.shape[0]) + \" Rows.\\n\"      \n",
    "            \"There are \" + str(mz_table.shape[0]) +\n",
    "              \" columns that have missing values.\") \n",
    "        return mz_table\n",
    "\n",
    "missing_zero_values_table(raw_data)"
   ]
  },
  {
   "cell_type": "code",
   "execution_count": 37,
   "id": "9360678c",
   "metadata": {},
   "outputs": [
    {
     "data": {
      "text/plain": [
       "28"
      ]
     },
     "execution_count": 37,
     "metadata": {},
     "output_type": "execute_result"
    }
   ],
   "source": [
    "#1 count features containing more than 50% missing values \n",
    "mis_per = 100 * feature_data.isnull().sum() / len(feature_data)\n",
    "miss50 = mis_per.sort_values(ascending = False)\n",
    "miss50[miss50 > 50].count()"
   ]
  },
  {
   "cell_type": "code",
   "execution_count": 38,
   "id": "4f8b208c",
   "metadata": {},
   "outputs": [
    {
     "data": {
      "text/plain": [
       "feature001     6\n",
       "feature002     7\n",
       "feature003    14\n",
       "feature004    14\n",
       "feature005    14\n",
       "              ..\n",
       "feature586     1\n",
       "feature587     1\n",
       "feature588     1\n",
       "feature589     1\n",
       "feature590     1\n",
       "Length: 538, dtype: int64"
      ]
     },
     "execution_count": 38,
     "metadata": {},
     "output_type": "execute_result"
    }
   ],
   "source": [
    "#1) To find number of feature containing missing values \n",
    "mis = feature_data.isnull().sum()\n",
    "mis[mis >= 1]"
   ]
  },
  {
   "cell_type": "code",
   "execution_count": 29,
   "id": "86755860",
   "metadata": {},
   "outputs": [
    {
     "data": {
      "text/plain": [
       "116"
      ]
     },
     "execution_count": 29,
     "metadata": {},
     "output_type": "execute_result"
    }
   ],
   "source": [
    "# 100% constant values (0% variance)\n",
    "len(raw_data.columns[raw_data.nunique() == 1])"
   ]
  },
  {
   "cell_type": "code",
   "execution_count": null,
   "id": "ee59270f",
   "metadata": {},
   "outputs": [],
   "source": []
  }
 ],
 "metadata": {
  "kernelspec": {
   "display_name": "Python 3",
   "language": "python",
   "name": "python3"
  },
  "language_info": {
   "codemirror_mode": {
    "name": "ipython",
    "version": 3
   },
   "file_extension": ".py",
   "mimetype": "text/x-python",
   "name": "python",
   "nbconvert_exporter": "python",
   "pygments_lexer": "ipython3",
   "version": "3.8.8"
  }
 },
 "nbformat": 4,
 "nbformat_minor": 5
}

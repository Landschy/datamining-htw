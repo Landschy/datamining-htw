{
 "cells": [
  {
   "source": [
    "## 1.Packages"
   ],
   "cell_type": "markdown",
   "metadata": {}
  },
  {
   "source": [
    "### 1.1.Install"
   ],
   "cell_type": "code",
   "metadata": {},
   "execution_count": 3,
   "outputs": []
  },
  {
   "cell_type": "code",
   "execution_count": 4,
   "metadata": {},
   "outputs": [
    {
     "output_type": "stream",
     "name": "stdout",
     "text": [
      "Requirement already satisfied: numpy in c:\\users\\fjorg\\appdata\\local\\programs\\python\\python39\\lib\\site-packages (1.20.2)\nNote: you may need to restart the kernel to use updated packages.\n"
     ]
    }
   ],
   "source": [
    "pip install numpy"
   ]
  },
  {
   "cell_type": "code",
   "execution_count": 5,
   "metadata": {},
   "outputs": [
    {
     "output_type": "stream",
     "name": "stdout",
     "text": [
      "Requirement already satisfied: pandas in c:\\users\\fjorg\\appdata\\local\\programs\\python\\python39\\lib\\site-packages (1.2.4)\nRequirement already satisfied: numpy>=1.16.5 in c:\\users\\fjorg\\appdata\\local\\programs\\python\\python39\\lib\\site-packages (from pandas) (1.20.2)\nRequirement already satisfied: python-dateutil>=2.7.3 in c:\\users\\fjorg\\appdata\\roaming\\python\\python39\\site-packages (from pandas) (2.8.1)\nRequirement already satisfied: pytz>=2017.3 in c:\\users\\fjorg\\appdata\\local\\programs\\python\\python39\\lib\\site-packages (from pandas) (2021.1)\nRequirement already satisfied: six>=1.5 in c:\\users\\fjorg\\appdata\\roaming\\python\\python39\\site-packages (from python-dateutil>=2.7.3->pandas) (1.15.0)\nNote: you may need to restart the kernel to use updated packages.\n"
     ]
    }
   ],
   "source": [
    "pip install pandas"
   ]
  },
  {
   "cell_type": "code",
   "execution_count": 6,
   "metadata": {},
   "outputs": [
    {
     "output_type": "stream",
     "name": "stdout",
     "text": [
      "Requirement already satisfied: pyreadstat in c:\\users\\fjorg\\appdata\\local\\programs\\python\\python39\\lib\\site-packages (1.1.2)\nRequirement already satisfied: pandas>0.24.0 in c:\\users\\fjorg\\appdata\\local\\programs\\python\\python39\\lib\\site-packages (from pyreadstat) (1.2.4)\nRequirement already satisfied: pytz>=2017.3 in c:\\users\\fjorg\\appdata\\local\\programs\\python\\python39\\lib\\site-packages (from pandas>0.24.0->pyreadstat) (2021.1)\nRequirement already satisfied: python-dateutil>=2.7.3 in c:\\users\\fjorg\\appdata\\roaming\\python\\python39\\site-packages (from pandas>0.24.0->pyreadstat) (2.8.1)\nRequirement already satisfied: numpy>=1.16.5 in c:\\users\\fjorg\\appdata\\local\\programs\\python\\python39\\lib\\site-packages (from pandas>0.24.0->pyreadstat) (1.20.2)\nRequirement already satisfied: six>=1.5 in c:\\users\\fjorg\\appdata\\roaming\\python\\python39\\site-packages (from python-dateutil>=2.7.3->pandas>0.24.0->pyreadstat) (1.15.0)\nNote: you may need to restart the kernel to use updated packages.\n"
     ]
    }
   ],
   "source": [
    "pip install pyreadstat"
   ]
  },
  {
   "cell_type": "code",
   "execution_count": 7,
   "metadata": {},
   "outputs": [
    {
     "output_type": "stream",
     "name": "stdout",
     "text": [
      "Requirement already satisfied: plotly in c:\\users\\fjorg\\appdata\\local\\programs\\python\\python39\\lib\\site-packages (4.14.3)\nRequirement already satisfied: six in c:\\users\\fjorg\\appdata\\roaming\\python\\python39\\site-packages (from plotly) (1.15.0)\nRequirement already satisfied: retrying>=1.3.3 in c:\\users\\fjorg\\appdata\\local\\programs\\python\\python39\\lib\\site-packages (from plotly) (1.3.3)\nNote: you may need to restart the kernel to use updated packages.\n"
     ]
    }
   ],
   "source": [
    "pip install plotly"
   ]
  },
  {
   "cell_type": "code",
   "execution_count": 8,
   "metadata": {},
   "outputs": [
    {
     "output_type": "stream",
     "name": "stdout",
     "text": [
      "Requirement already satisfied: scipy in c:\\users\\fjorg\\appdata\\local\\programs\\python\\python39\\lib\\site-packages (1.6.3)\nRequirement already satisfied: numpy<1.23.0,>=1.16.5 in c:\\users\\fjorg\\appdata\\local\\programs\\python\\python39\\lib\\site-packages (from scipy) (1.20.2)\nNote: you may need to restart the kernel to use updated packages.\n"
     ]
    }
   ],
   "source": [
    "pip install scipy"
   ]
  },
  {
   "source": [
    "### 1.2.Import"
   ],
   "cell_type": "markdown",
   "metadata": {}
  },
  {
   "cell_type": "code",
   "execution_count": 59,
   "id": "b0c91ca5",
   "metadata": {},
   "outputs": [],
   "source": [
    "import numpy as np\n",
    "import pandas as pd\n",
    "import seaborn as sns\n",
    "import pyreadstat\n",
    "from sklearn.model_selection import KFold, ShuffleSplit, StratifiedKFold, StratifiedShuffleSplit, LeaveOneOut, train_test_split \n",
    "from scipy import stats\n",
    "import matplotlib.pyplot as plt"
   ]
  },
  {
   "source": [
    "## 2.Data"
   ],
   "cell_type": "markdown",
   "metadata": {}
  },
  {
   "cell_type": "markdown",
   "id": "b3d5aabc",
   "metadata": {},
   "source": [
    "### 2.1.Load Data"
   ]
  },
  {
   "cell_type": "code",
   "execution_count": 10,
   "id": "d6a3c9e3",
   "metadata": {
    "scrolled": true
   },
   "outputs": [
    {
     "output_type": "execute_result",
     "data": {
      "text/plain": [
       "(1567, 592)"
      ]
     },
     "metadata": {},
     "execution_count": 10
    }
   ],
   "source": [
    "# read data\n",
    "df = pd.DataFrame(pd.read_spss(\"../data/secom_mod.sav\"))\n",
    "df = df.set_index('ID')\n",
    "df.shape"
   ]
  },
  {
   "cell_type": "code",
   "execution_count": 11,
   "metadata": {},
   "outputs": [
    {
     "output_type": "execute_result",
     "data": {
      "text/plain": [
       "     class            timestamp  feature001  feature002  feature003  \\\n",
       "ID                                                                    \n",
       "1.0    0.0  19/07/2008 11:55:00     3030.93     2564.00   2187.7333   \n",
       "2.0    0.0  19/07/2008 12:32:00     3095.78     2465.14   2230.4222   \n",
       "3.0    1.0  19/07/2008 13:17:00     2932.61     2559.94   2186.4111   \n",
       "4.0    0.0  19/07/2008 14:43:00     2988.72     2479.90   2199.0333   \n",
       "5.0    0.0  19/07/2008 15:22:00     3032.24     2502.87   2233.3667   \n",
       "\n",
       "     feature004  feature005  feature006  feature007  feature008  ...  \\\n",
       "ID                                                               ...   \n",
       "1.0   1411.1265      1.3602       100.0     97.6133      0.1242  ...   \n",
       "2.0   1463.6606      0.8294       100.0    102.3433      0.1247  ...   \n",
       "3.0   1698.0172      1.5102       100.0     95.4878      0.1241  ...   \n",
       "4.0    909.7926      1.3204       100.0    104.2367      0.1217  ...   \n",
       "5.0   1326.5200      1.5334       100.0    100.3967      0.1235  ...   \n",
       "\n",
       "     feature581  feature582  feature583  feature584  feature585  feature586  \\\n",
       "ID                                                                            \n",
       "1.0         NaN         NaN      0.5005      0.0118      0.0035      2.3630   \n",
       "2.0      0.0060    208.2045      0.5019      0.0223      0.0055      4.4447   \n",
       "3.0      0.0148     82.8602      0.4958      0.0157      0.0039      3.1745   \n",
       "4.0      0.0044     73.8432      0.4990      0.0103      0.0025      2.0544   \n",
       "5.0         NaN         NaN      0.4800      0.4766      0.1045     99.3032   \n",
       "\n",
       "     feature587  feature588  feature589  feature590  \n",
       "ID                                                   \n",
       "1.0         NaN         NaN         NaN         NaN  \n",
       "2.0      0.0096      0.0201      0.0060    208.2045  \n",
       "3.0      0.0584      0.0484      0.0148     82.8602  \n",
       "4.0      0.0202      0.0149      0.0044     73.8432  \n",
       "5.0      0.0202      0.0149      0.0044     73.8432  \n",
       "\n",
       "[5 rows x 592 columns]"
      ],
      "text/html": "<div>\n<style scoped>\n    .dataframe tbody tr th:only-of-type {\n        vertical-align: middle;\n    }\n\n    .dataframe tbody tr th {\n        vertical-align: top;\n    }\n\n    .dataframe thead th {\n        text-align: right;\n    }\n</style>\n<table border=\"1\" class=\"dataframe\">\n  <thead>\n    <tr style=\"text-align: right;\">\n      <th></th>\n      <th>class</th>\n      <th>timestamp</th>\n      <th>feature001</th>\n      <th>feature002</th>\n      <th>feature003</th>\n      <th>feature004</th>\n      <th>feature005</th>\n      <th>feature006</th>\n      <th>feature007</th>\n      <th>feature008</th>\n      <th>...</th>\n      <th>feature581</th>\n      <th>feature582</th>\n      <th>feature583</th>\n      <th>feature584</th>\n      <th>feature585</th>\n      <th>feature586</th>\n      <th>feature587</th>\n      <th>feature588</th>\n      <th>feature589</th>\n      <th>feature590</th>\n    </tr>\n    <tr>\n      <th>ID</th>\n      <th></th>\n      <th></th>\n      <th></th>\n      <th></th>\n      <th></th>\n      <th></th>\n      <th></th>\n      <th></th>\n      <th></th>\n      <th></th>\n      <th></th>\n      <th></th>\n      <th></th>\n      <th></th>\n      <th></th>\n      <th></th>\n      <th></th>\n      <th></th>\n      <th></th>\n      <th></th>\n      <th></th>\n    </tr>\n  </thead>\n  <tbody>\n    <tr>\n      <th>1.0</th>\n      <td>0.0</td>\n      <td>19/07/2008 11:55:00</td>\n      <td>3030.93</td>\n      <td>2564.00</td>\n      <td>2187.7333</td>\n      <td>1411.1265</td>\n      <td>1.3602</td>\n      <td>100.0</td>\n      <td>97.6133</td>\n      <td>0.1242</td>\n      <td>...</td>\n      <td>NaN</td>\n      <td>NaN</td>\n      <td>0.5005</td>\n      <td>0.0118</td>\n      <td>0.0035</td>\n      <td>2.3630</td>\n      <td>NaN</td>\n      <td>NaN</td>\n      <td>NaN</td>\n      <td>NaN</td>\n    </tr>\n    <tr>\n      <th>2.0</th>\n      <td>0.0</td>\n      <td>19/07/2008 12:32:00</td>\n      <td>3095.78</td>\n      <td>2465.14</td>\n      <td>2230.4222</td>\n      <td>1463.6606</td>\n      <td>0.8294</td>\n      <td>100.0</td>\n      <td>102.3433</td>\n      <td>0.1247</td>\n      <td>...</td>\n      <td>0.0060</td>\n      <td>208.2045</td>\n      <td>0.5019</td>\n      <td>0.0223</td>\n      <td>0.0055</td>\n      <td>4.4447</td>\n      <td>0.0096</td>\n      <td>0.0201</td>\n      <td>0.0060</td>\n      <td>208.2045</td>\n    </tr>\n    <tr>\n      <th>3.0</th>\n      <td>1.0</td>\n      <td>19/07/2008 13:17:00</td>\n      <td>2932.61</td>\n      <td>2559.94</td>\n      <td>2186.4111</td>\n      <td>1698.0172</td>\n      <td>1.5102</td>\n      <td>100.0</td>\n      <td>95.4878</td>\n      <td>0.1241</td>\n      <td>...</td>\n      <td>0.0148</td>\n      <td>82.8602</td>\n      <td>0.4958</td>\n      <td>0.0157</td>\n      <td>0.0039</td>\n      <td>3.1745</td>\n      <td>0.0584</td>\n      <td>0.0484</td>\n      <td>0.0148</td>\n      <td>82.8602</td>\n    </tr>\n    <tr>\n      <th>4.0</th>\n      <td>0.0</td>\n      <td>19/07/2008 14:43:00</td>\n      <td>2988.72</td>\n      <td>2479.90</td>\n      <td>2199.0333</td>\n      <td>909.7926</td>\n      <td>1.3204</td>\n      <td>100.0</td>\n      <td>104.2367</td>\n      <td>0.1217</td>\n      <td>...</td>\n      <td>0.0044</td>\n      <td>73.8432</td>\n      <td>0.4990</td>\n      <td>0.0103</td>\n      <td>0.0025</td>\n      <td>2.0544</td>\n      <td>0.0202</td>\n      <td>0.0149</td>\n      <td>0.0044</td>\n      <td>73.8432</td>\n    </tr>\n    <tr>\n      <th>5.0</th>\n      <td>0.0</td>\n      <td>19/07/2008 15:22:00</td>\n      <td>3032.24</td>\n      <td>2502.87</td>\n      <td>2233.3667</td>\n      <td>1326.5200</td>\n      <td>1.5334</td>\n      <td>100.0</td>\n      <td>100.3967</td>\n      <td>0.1235</td>\n      <td>...</td>\n      <td>NaN</td>\n      <td>NaN</td>\n      <td>0.4800</td>\n      <td>0.4766</td>\n      <td>0.1045</td>\n      <td>99.3032</td>\n      <td>0.0202</td>\n      <td>0.0149</td>\n      <td>0.0044</td>\n      <td>73.8432</td>\n    </tr>\n  </tbody>\n</table>\n<p>5 rows × 592 columns</p>\n</div>"
     },
     "metadata": {},
     "execution_count": 11
    }
   ],
   "source": [
    "df.head()"
   ]
  },
  {
   "cell_type": "code",
   "execution_count": null,
   "metadata": {},
   "outputs": [],
   "source": []
  },
  {
   "cell_type": "markdown",
   "id": "2f1c8861",
   "metadata": {},
   "source": [
    "### 2.2.Change \"class\" feature Type and Values"
   ]
  },
  {
   "cell_type": "code",
   "execution_count": 12,
   "id": "87802d43",
   "metadata": {},
   "outputs": [
    {
     "output_type": "execute_result",
     "data": {
      "text/plain": [
       "class         float64\n",
       "timestamp      object\n",
       "feature001    float64\n",
       "feature002    float64\n",
       "feature003    float64\n",
       "               ...   \n",
       "feature586    float64\n",
       "feature587    float64\n",
       "feature588    float64\n",
       "feature589    float64\n",
       "feature590    float64\n",
       "Length: 592, dtype: object"
      ]
     },
     "metadata": {},
     "execution_count": 12
    }
   ],
   "source": [
    "df.dtypes"
   ]
  },
  {
   "cell_type": "code",
   "execution_count": 13,
   "id": "c4a6e73a",
   "metadata": {},
   "outputs": [],
   "source": [
    "dict_temp = {0:'pass' ,1:'fail'}\n",
    "df['class'] = df['class'].map(dict_temp)"
   ]
  },
  {
   "cell_type": "code",
   "execution_count": 15,
   "metadata": {},
   "outputs": [
    {
     "output_type": "execute_result",
     "data": {
      "text/plain": [
       "pass    1472\n",
       "fail      95\n",
       "Name: class, dtype: int64"
      ]
     },
     "metadata": {},
     "execution_count": 15
    }
   ],
   "source": [
    "df['class'].value_counts()"
   ]
  },
  {
   "cell_type": "code",
   "execution_count": 66,
   "metadata": {},
   "outputs": [
    {
     "output_type": "display_data",
     "data": {
      "text/plain": "<Figure size 432x288 with 1 Axes>",
      "image/svg+xml": "<?xml version=\"1.0\" encoding=\"utf-8\" standalone=\"no\"?>\r\n<!DOCTYPE svg PUBLIC \"-//W3C//DTD SVG 1.1//EN\"\r\n  \"http://www.w3.org/Graphics/SVG/1.1/DTD/svg11.dtd\">\r\n<svg height=\"231.84pt\" version=\"1.1\" viewBox=\"0 0 240.387111 231.84\" width=\"240.387111pt\" xmlns=\"http://www.w3.org/2000/svg\" xmlns:xlink=\"http://www.w3.org/1999/xlink\">\r\n <metadata>\r\n  <rdf:RDF xmlns:cc=\"http://creativecommons.org/ns#\" xmlns:dc=\"http://purl.org/dc/elements/1.1/\" xmlns:rdf=\"http://www.w3.org/1999/02/22-rdf-syntax-ns#\">\r\n   <cc:Work>\r\n    <dc:type rdf:resource=\"http://purl.org/dc/dcmitype/StillImage\"/>\r\n    <dc:date>2021-05-07T20:14:14.918864</dc:date>\r\n    <dc:format>image/svg+xml</dc:format>\r\n    <dc:creator>\r\n     <cc:Agent>\r\n      <dc:title>Matplotlib v3.4.1, https://matplotlib.org/</dc:title>\r\n     </cc:Agent>\r\n    </dc:creator>\r\n   </cc:Work>\r\n  </rdf:RDF>\r\n </metadata>\r\n <defs>\r\n  <style type=\"text/css\">*{stroke-linecap:butt;stroke-linejoin:round;}</style>\r\n </defs>\r\n <g id=\"figure_1\">\r\n  <g id=\"patch_1\">\r\n   <path d=\"M 0 231.84 \r\nL 240.387111 231.84 \r\nL 240.387111 0 \r\nL 0 0 \r\nz\r\n\" style=\"fill:none;\"/>\r\n  </g>\r\n  <g id=\"axes_1\">\r\n   <g id=\"patch_2\">\r\n    <path d=\"M 211.014867 115.92 \r\nC 211.014867 105.194868 209.03107 94.561667 205.163783 84.55804 \r\nC 201.296496 74.554413 195.612016 65.351853 188.397764 57.415668 \r\nC 181.183513 49.479482 172.563166 42.945721 162.972591 38.144749 \r\nC 153.382016 33.343777 142.985625 30.357897 132.309088 29.338085 \r\nC 121.632551 28.318272 110.858897 29.282009 100.53287 32.180567 \r\nC 90.206843 35.079124 80.505465 39.862812 71.919261 46.289753 \r\nC 63.333058 52.716695 56.009225 60.676712 50.318074 69.767327 \r\nC 44.626923 78.857941 40.666019 88.92331 38.635636 99.454502 \r\nC 36.605252 109.985694 36.540196 120.802171 38.443757 131.357024 \r\nC 40.347318 141.911877 44.186863 152.024162 49.768255 161.182575 \r\nC 55.349646 170.340988 62.577202 178.388526 71.085476 184.918283 \r\nC 79.593751 191.448039 89.236887 196.348075 99.527301 199.37063 \r\nC 109.817715 202.393186 120.578997 203.486445 131.267029 202.595131 \r\nC 141.955061 201.703816 152.386615 198.843207 162.034246 194.157943 \r\nC 171.681876 189.47268 180.380191 183.043083 187.689382 175.194248 \r\nC 194.998573 167.345414 200.793336 158.211897 204.780673 148.255512 \r\nL 124.038867 115.92 \r\nL 211.014867 115.92 \r\nz\r\n\" style=\"fill:#1f77b4;\"/>\r\n   </g>\r\n   <g id=\"patch_3\">\r\n    <path d=\"M 204.780673 148.255512 \r\nC 206.835101 143.125605 208.39597 137.811561 209.4421 132.385491 \r\nC 210.48823 126.959421 211.014868 121.445981 211.014867 115.919986 \r\nL 124.038867 115.92 \r\nL 204.780673 148.255512 \r\nz\r\n\" style=\"fill:#ff7f0e;\"/>\r\n   </g>\r\n   <g id=\"matplotlib.axis_1\"/>\r\n   <g id=\"matplotlib.axis_2\"/>\r\n   <g id=\"text_1\">\r\n    <!-- pass -->\r\n    <g transform=\"translate(7.2 100.567327)scale(0.1 -0.1)\">\r\n     <defs>\r\n      <path d=\"M 1159 525 \r\nL 1159 -1331 \r\nL 581 -1331 \r\nL 581 3500 \r\nL 1159 3500 \r\nL 1159 2969 \r\nQ 1341 3281 1617 3432 \r\nQ 1894 3584 2278 3584 \r\nQ 2916 3584 3314 3078 \r\nQ 3713 2572 3713 1747 \r\nQ 3713 922 3314 415 \r\nQ 2916 -91 2278 -91 \r\nQ 1894 -91 1617 61 \r\nQ 1341 213 1159 525 \r\nz\r\nM 3116 1747 \r\nQ 3116 2381 2855 2742 \r\nQ 2594 3103 2138 3103 \r\nQ 1681 3103 1420 2742 \r\nQ 1159 2381 1159 1747 \r\nQ 1159 1113 1420 752 \r\nQ 1681 391 2138 391 \r\nQ 2594 391 2855 752 \r\nQ 3116 1113 3116 1747 \r\nz\r\n\" id=\"DejaVuSans-70\" transform=\"scale(0.015625)\"/>\r\n      <path d=\"M 2194 1759 \r\nQ 1497 1759 1228 1600 \r\nQ 959 1441 959 1056 \r\nQ 959 750 1161 570 \r\nQ 1363 391 1709 391 \r\nQ 2188 391 2477 730 \r\nQ 2766 1069 2766 1631 \r\nL 2766 1759 \r\nL 2194 1759 \r\nz\r\nM 3341 1997 \r\nL 3341 0 \r\nL 2766 0 \r\nL 2766 531 \r\nQ 2569 213 2275 61 \r\nQ 1981 -91 1556 -91 \r\nQ 1019 -91 701 211 \r\nQ 384 513 384 1019 \r\nQ 384 1609 779 1909 \r\nQ 1175 2209 1959 2209 \r\nL 2766 2209 \r\nL 2766 2266 \r\nQ 2766 2663 2505 2880 \r\nQ 2244 3097 1772 3097 \r\nQ 1472 3097 1187 3025 \r\nQ 903 2953 641 2809 \r\nL 641 3341 \r\nQ 956 3463 1253 3523 \r\nQ 1550 3584 1831 3584 \r\nQ 2591 3584 2966 3190 \r\nQ 3341 2797 3341 1997 \r\nz\r\n\" id=\"DejaVuSans-61\" transform=\"scale(0.015625)\"/>\r\n      <path d=\"M 2834 3397 \r\nL 2834 2853 \r\nQ 2591 2978 2328 3040 \r\nQ 2066 3103 1784 3103 \r\nQ 1356 3103 1142 2972 \r\nQ 928 2841 928 2578 \r\nQ 928 2378 1081 2264 \r\nQ 1234 2150 1697 2047 \r\nL 1894 2003 \r\nQ 2506 1872 2764 1633 \r\nQ 3022 1394 3022 966 \r\nQ 3022 478 2636 193 \r\nQ 2250 -91 1575 -91 \r\nQ 1294 -91 989 -36 \r\nQ 684 19 347 128 \r\nL 347 722 \r\nQ 666 556 975 473 \r\nQ 1284 391 1588 391 \r\nQ 1994 391 2212 530 \r\nQ 2431 669 2431 922 \r\nQ 2431 1156 2273 1281 \r\nQ 2116 1406 1581 1522 \r\nL 1381 1569 \r\nQ 847 1681 609 1914 \r\nQ 372 2147 372 2553 \r\nQ 372 3047 722 3315 \r\nQ 1072 3584 1716 3584 \r\nQ 2034 3584 2315 3537 \r\nQ 2597 3491 2834 3397 \r\nz\r\n\" id=\"DejaVuSans-73\" transform=\"scale(0.015625)\"/>\r\n     </defs>\r\n     <use xlink:href=\"#DejaVuSans-70\"/>\r\n     <use x=\"63.476562\" xlink:href=\"#DejaVuSans-61\"/>\r\n     <use x=\"124.755859\" xlink:href=\"#DejaVuSans-73\"/>\r\n     <use x=\"176.855469\" xlink:href=\"#DejaVuSans-73\"/>\r\n    </g>\r\n   </g>\r\n   <g id=\"text_2\">\r\n    <!-- 93.94% -->\r\n    <g transform=\"translate(53.732084 108.800076)scale(0.1 -0.1)\">\r\n     <defs>\r\n      <path d=\"M 703 97 \r\nL 703 672 \r\nQ 941 559 1184 500 \r\nQ 1428 441 1663 441 \r\nQ 2288 441 2617 861 \r\nQ 2947 1281 2994 2138 \r\nQ 2813 1869 2534 1725 \r\nQ 2256 1581 1919 1581 \r\nQ 1219 1581 811 2004 \r\nQ 403 2428 403 3163 \r\nQ 403 3881 828 4315 \r\nQ 1253 4750 1959 4750 \r\nQ 2769 4750 3195 4129 \r\nQ 3622 3509 3622 2328 \r\nQ 3622 1225 3098 567 \r\nQ 2575 -91 1691 -91 \r\nQ 1453 -91 1209 -44 \r\nQ 966 3 703 97 \r\nz\r\nM 1959 2075 \r\nQ 2384 2075 2632 2365 \r\nQ 2881 2656 2881 3163 \r\nQ 2881 3666 2632 3958 \r\nQ 2384 4250 1959 4250 \r\nQ 1534 4250 1286 3958 \r\nQ 1038 3666 1038 3163 \r\nQ 1038 2656 1286 2365 \r\nQ 1534 2075 1959 2075 \r\nz\r\n\" id=\"DejaVuSans-39\" transform=\"scale(0.015625)\"/>\r\n      <path d=\"M 2597 2516 \r\nQ 3050 2419 3304 2112 \r\nQ 3559 1806 3559 1356 \r\nQ 3559 666 3084 287 \r\nQ 2609 -91 1734 -91 \r\nQ 1441 -91 1130 -33 \r\nQ 819 25 488 141 \r\nL 488 750 \r\nQ 750 597 1062 519 \r\nQ 1375 441 1716 441 \r\nQ 2309 441 2620 675 \r\nQ 2931 909 2931 1356 \r\nQ 2931 1769 2642 2001 \r\nQ 2353 2234 1838 2234 \r\nL 1294 2234 \r\nL 1294 2753 \r\nL 1863 2753 \r\nQ 2328 2753 2575 2939 \r\nQ 2822 3125 2822 3475 \r\nQ 2822 3834 2567 4026 \r\nQ 2313 4219 1838 4219 \r\nQ 1578 4219 1281 4162 \r\nQ 984 4106 628 3988 \r\nL 628 4550 \r\nQ 988 4650 1302 4700 \r\nQ 1616 4750 1894 4750 \r\nQ 2613 4750 3031 4423 \r\nQ 3450 4097 3450 3541 \r\nQ 3450 3153 3228 2886 \r\nQ 3006 2619 2597 2516 \r\nz\r\n\" id=\"DejaVuSans-33\" transform=\"scale(0.015625)\"/>\r\n      <path d=\"M 684 794 \r\nL 1344 794 \r\nL 1344 0 \r\nL 684 0 \r\nL 684 794 \r\nz\r\n\" id=\"DejaVuSans-2e\" transform=\"scale(0.015625)\"/>\r\n      <path d=\"M 2419 4116 \r\nL 825 1625 \r\nL 2419 1625 \r\nL 2419 4116 \r\nz\r\nM 2253 4666 \r\nL 3047 4666 \r\nL 3047 1625 \r\nL 3713 1625 \r\nL 3713 1100 \r\nL 3047 1100 \r\nL 3047 0 \r\nL 2419 0 \r\nL 2419 1100 \r\nL 313 1100 \r\nL 313 1709 \r\nL 2253 4666 \r\nz\r\n\" id=\"DejaVuSans-34\" transform=\"scale(0.015625)\"/>\r\n      <path d=\"M 4653 2053 \r\nQ 4381 2053 4226 1822 \r\nQ 4072 1591 4072 1178 \r\nQ 4072 772 4226 539 \r\nQ 4381 306 4653 306 \r\nQ 4919 306 5073 539 \r\nQ 5228 772 5228 1178 \r\nQ 5228 1588 5073 1820 \r\nQ 4919 2053 4653 2053 \r\nz\r\nM 4653 2450 \r\nQ 5147 2450 5437 2106 \r\nQ 5728 1763 5728 1178 \r\nQ 5728 594 5436 251 \r\nQ 5144 -91 4653 -91 \r\nQ 4153 -91 3862 251 \r\nQ 3572 594 3572 1178 \r\nQ 3572 1766 3864 2108 \r\nQ 4156 2450 4653 2450 \r\nz\r\nM 1428 4353 \r\nQ 1159 4353 1004 4120 \r\nQ 850 3888 850 3481 \r\nQ 850 3069 1003 2837 \r\nQ 1156 2606 1428 2606 \r\nQ 1700 2606 1854 2837 \r\nQ 2009 3069 2009 3481 \r\nQ 2009 3884 1853 4118 \r\nQ 1697 4353 1428 4353 \r\nz\r\nM 4250 4750 \r\nL 4750 4750 \r\nL 1831 -91 \r\nL 1331 -91 \r\nL 4250 4750 \r\nz\r\nM 1428 4750 \r\nQ 1922 4750 2215 4408 \r\nQ 2509 4066 2509 3481 \r\nQ 2509 2891 2217 2550 \r\nQ 1925 2209 1428 2209 \r\nQ 931 2209 642 2551 \r\nQ 353 2894 353 3481 \r\nQ 353 4063 643 4406 \r\nQ 934 4750 1428 4750 \r\nz\r\n\" id=\"DejaVuSans-25\" transform=\"scale(0.015625)\"/>\r\n     </defs>\r\n     <use xlink:href=\"#DejaVuSans-39\"/>\r\n     <use x=\"63.623047\" xlink:href=\"#DejaVuSans-33\"/>\r\n     <use x=\"127.246094\" xlink:href=\"#DejaVuSans-2e\"/>\r\n     <use x=\"159.033203\" xlink:href=\"#DejaVuSans-39\"/>\r\n     <use x=\"222.65625\" xlink:href=\"#DejaVuSans-34\"/>\r\n     <use x=\"286.279297\" xlink:href=\"#DejaVuSans-25\"/>\r\n    </g>\r\n   </g>\r\n   <g id=\"text_3\">\r\n    <!-- fail -->\r\n    <g transform=\"translate(217.982423 136.791415)scale(0.1 -0.1)\">\r\n     <defs>\r\n      <path d=\"M 2375 4863 \r\nL 2375 4384 \r\nL 1825 4384 \r\nQ 1516 4384 1395 4259 \r\nQ 1275 4134 1275 3809 \r\nL 1275 3500 \r\nL 2222 3500 \r\nL 2222 3053 \r\nL 1275 3053 \r\nL 1275 0 \r\nL 697 0 \r\nL 697 3053 \r\nL 147 3053 \r\nL 147 3500 \r\nL 697 3500 \r\nL 697 3744 \r\nQ 697 4328 969 4595 \r\nQ 1241 4863 1831 4863 \r\nL 2375 4863 \r\nz\r\n\" id=\"DejaVuSans-66\" transform=\"scale(0.015625)\"/>\r\n      <path d=\"M 603 3500 \r\nL 1178 3500 \r\nL 1178 0 \r\nL 603 0 \r\nL 603 3500 \r\nz\r\nM 603 4863 \r\nL 1178 4863 \r\nL 1178 4134 \r\nL 603 4134 \r\nL 603 4863 \r\nz\r\n\" id=\"DejaVuSans-69\" transform=\"scale(0.015625)\"/>\r\n      <path d=\"M 603 4863 \r\nL 1178 4863 \r\nL 1178 0 \r\nL 603 0 \r\nL 603 4863 \r\nz\r\n\" id=\"DejaVuSans-6c\" transform=\"scale(0.015625)\"/>\r\n     </defs>\r\n     <use xlink:href=\"#DejaVuSans-66\"/>\r\n     <use x=\"35.205078\" xlink:href=\"#DejaVuSans-61\"/>\r\n     <use x=\"96.484375\" xlink:href=\"#DejaVuSans-69\"/>\r\n     <use x=\"124.267578\" xlink:href=\"#DejaVuSans-6c\"/>\r\n    </g>\r\n   </g>\r\n   <g id=\"text_4\">\r\n    <!-- 6.06% -->\r\n    <g transform=\"translate(159.397213 128.55867)scale(0.1 -0.1)\">\r\n     <defs>\r\n      <path d=\"M 2113 2584 \r\nQ 1688 2584 1439 2293 \r\nQ 1191 2003 1191 1497 \r\nQ 1191 994 1439 701 \r\nQ 1688 409 2113 409 \r\nQ 2538 409 2786 701 \r\nQ 3034 994 3034 1497 \r\nQ 3034 2003 2786 2293 \r\nQ 2538 2584 2113 2584 \r\nz\r\nM 3366 4563 \r\nL 3366 3988 \r\nQ 3128 4100 2886 4159 \r\nQ 2644 4219 2406 4219 \r\nQ 1781 4219 1451 3797 \r\nQ 1122 3375 1075 2522 \r\nQ 1259 2794 1537 2939 \r\nQ 1816 3084 2150 3084 \r\nQ 2853 3084 3261 2657 \r\nQ 3669 2231 3669 1497 \r\nQ 3669 778 3244 343 \r\nQ 2819 -91 2113 -91 \r\nQ 1303 -91 875 529 \r\nQ 447 1150 447 2328 \r\nQ 447 3434 972 4092 \r\nQ 1497 4750 2381 4750 \r\nQ 2619 4750 2861 4703 \r\nQ 3103 4656 3366 4563 \r\nz\r\n\" id=\"DejaVuSans-36\" transform=\"scale(0.015625)\"/>\r\n      <path d=\"M 2034 4250 \r\nQ 1547 4250 1301 3770 \r\nQ 1056 3291 1056 2328 \r\nQ 1056 1369 1301 889 \r\nQ 1547 409 2034 409 \r\nQ 2525 409 2770 889 \r\nQ 3016 1369 3016 2328 \r\nQ 3016 3291 2770 3770 \r\nQ 2525 4250 2034 4250 \r\nz\r\nM 2034 4750 \r\nQ 2819 4750 3233 4129 \r\nQ 3647 3509 3647 2328 \r\nQ 3647 1150 3233 529 \r\nQ 2819 -91 2034 -91 \r\nQ 1250 -91 836 529 \r\nQ 422 1150 422 2328 \r\nQ 422 3509 836 4129 \r\nQ 1250 4750 2034 4750 \r\nz\r\n\" id=\"DejaVuSans-30\" transform=\"scale(0.015625)\"/>\r\n     </defs>\r\n     <use xlink:href=\"#DejaVuSans-36\"/>\r\n     <use x=\"63.623047\" xlink:href=\"#DejaVuSans-2e\"/>\r\n     <use x=\"95.410156\" xlink:href=\"#DejaVuSans-30\"/>\r\n     <use x=\"159.033203\" xlink:href=\"#DejaVuSans-36\"/>\r\n     <use x=\"222.65625\" xlink:href=\"#DejaVuSans-25\"/>\r\n    </g>\r\n   </g>\r\n  </g>\r\n </g>\r\n</svg>\r\n",
      "image/png": "[encoded data removed]"
     },
     "metadata": {}
    }
   ],
   "source": [
    "fig = plt.pie(df['class'].value_counts(),labels=['pass','fail'], autopct=\"%.2f%%\")"
   ]
  },
  {
   "cell_type": "code",
   "execution_count": 67,
   "metadata": {},
   "outputs": [
    {
     "output_type": "execute_result",
     "data": {
      "text/plain": [
       "        feature001   feature002   feature003   feature004   feature005  \\\n",
       "count  1561.000000  1560.000000  1553.000000  1553.000000  1553.000000   \n",
       "mean   3014.452896  2495.850231  2200.547318  1396.376627     4.197013   \n",
       "std      73.621787    80.407705    29.513152   441.691640    56.355540   \n",
       "min    2743.240000  2158.750000  2060.660000     0.000000     0.681500   \n",
       "25%    2966.260000  2452.247500  2181.044400  1081.875800     1.017700   \n",
       "50%    3011.490000  2499.405000  2201.066700  1285.214400     1.316800   \n",
       "75%    3056.650000  2538.822500  2218.055500  1591.223500     1.525700   \n",
       "max    3356.350000  2846.440000  2315.266700  3715.041700  1114.536600   \n",
       "\n",
       "       feature006   feature007   feature008   feature009   feature010  ...  \\\n",
       "count      1553.0  1553.000000  1558.000000  1565.000000  1565.000000  ...   \n",
       "mean        100.0   101.112908     0.121822     1.462862    -0.000841  ...   \n",
       "std           0.0     6.237214     0.008961     0.073897     0.015116  ...   \n",
       "min         100.0    82.131100     0.000000     1.191000    -0.053400  ...   \n",
       "25%         100.0    97.920000     0.121100     1.411200    -0.010800  ...   \n",
       "50%         100.0   101.512200     0.122400     1.461600    -0.001300  ...   \n",
       "75%         100.0   104.586700     0.123800     1.516900     0.008400  ...   \n",
       "max         100.0   129.252200     0.128600     1.656400     0.074900  ...   \n",
       "\n",
       "       feature581  feature582   feature583   feature584   feature585  \\\n",
       "count  618.000000  618.000000  1566.000000  1566.000000  1566.000000   \n",
       "mean     0.005396   97.934373     0.500096     0.015318     0.003847   \n",
       "std      0.003116   87.520966     0.003404     0.017180     0.003720   \n",
       "min      0.001000    0.000000     0.477800     0.006000     0.001700   \n",
       "25%      0.003400   46.184900     0.497900     0.011600     0.003100   \n",
       "50%      0.004700   72.288900     0.500200     0.013800     0.003600   \n",
       "75%      0.006475  116.539150     0.502375     0.016500     0.004100   \n",
       "max      0.028600  737.304800     0.509800     0.476600     0.104500   \n",
       "\n",
       "        feature586   feature587   feature588   feature589   feature590  \n",
       "count  1566.000000  1566.000000  1566.000000  1566.000000  1566.000000  \n",
       "mean      3.067826     0.021458     0.016475     0.005283    99.670066  \n",
       "std       3.578033     0.012358     0.008808     0.002867    93.891919  \n",
       "min       1.197500    -0.016900     0.003200     0.001000     0.000000  \n",
       "25%       2.306500     0.013425     0.010600     0.003300    44.368600  \n",
       "50%       2.757650     0.020500     0.014800     0.004600    71.900500  \n",
       "75%       3.295175     0.027600     0.020300     0.006400   114.749700  \n",
       "max      99.303200     0.102800     0.079900     0.028600   737.304800  \n",
       "\n",
       "[8 rows x 590 columns]"
      ],
      "text/html": "<div>\n<style scoped>\n    .dataframe tbody tr th:only-of-type {\n        vertical-align: middle;\n    }\n\n    .dataframe tbody tr th {\n        vertical-align: top;\n    }\n\n    .dataframe thead th {\n        text-align: right;\n    }\n</style>\n<table border=\"1\" class=\"dataframe\">\n  <thead>\n    <tr style=\"text-align: right;\">\n      <th></th>\n      <th>feature001</th>\n      <th>feature002</th>\n      <th>feature003</th>\n      <th>feature004</th>\n      <th>feature005</th>\n      <th>feature006</th>\n      <th>feature007</th>\n      <th>feature008</th>\n      <th>feature009</th>\n      <th>feature010</th>\n      <th>...</th>\n      <th>feature581</th>\n      <th>feature582</th>\n      <th>feature583</th>\n      <th>feature584</th>\n      <th>feature585</th>\n      <th>feature586</th>\n      <th>feature587</th>\n      <th>feature588</th>\n      <th>feature589</th>\n      <th>feature590</th>\n    </tr>\n  </thead>\n  <tbody>\n    <tr>\n      <th>count</th>\n      <td>1561.000000</td>\n      <td>1560.000000</td>\n      <td>1553.000000</td>\n      <td>1553.000000</td>\n      <td>1553.000000</td>\n      <td>1553.0</td>\n      <td>1553.000000</td>\n      <td>1558.000000</td>\n      <td>1565.000000</td>\n      <td>1565.000000</td>\n      <td>...</td>\n      <td>618.000000</td>\n      <td>618.000000</td>\n      <td>1566.000000</td>\n      <td>1566.000000</td>\n      <td>1566.000000</td>\n      <td>1566.000000</td>\n      <td>1566.000000</td>\n      <td>1566.000000</td>\n      <td>1566.000000</td>\n      <td>1566.000000</td>\n    </tr>\n    <tr>\n      <th>mean</th>\n      <td>3014.452896</td>\n      <td>2495.850231</td>\n      <td>2200.547318</td>\n      <td>1396.376627</td>\n      <td>4.197013</td>\n      <td>100.0</td>\n      <td>101.112908</td>\n      <td>0.121822</td>\n      <td>1.462862</td>\n      <td>-0.000841</td>\n      <td>...</td>\n      <td>0.005396</td>\n      <td>97.934373</td>\n      <td>0.500096</td>\n      <td>0.015318</td>\n      <td>0.003847</td>\n      <td>3.067826</td>\n      <td>0.021458</td>\n      <td>0.016475</td>\n      <td>0.005283</td>\n      <td>99.670066</td>\n    </tr>\n    <tr>\n      <th>std</th>\n      <td>73.621787</td>\n      <td>80.407705</td>\n      <td>29.513152</td>\n      <td>441.691640</td>\n      <td>56.355540</td>\n      <td>0.0</td>\n      <td>6.237214</td>\n      <td>0.008961</td>\n      <td>0.073897</td>\n      <td>0.015116</td>\n      <td>...</td>\n      <td>0.003116</td>\n      <td>87.520966</td>\n      <td>0.003404</td>\n      <td>0.017180</td>\n      <td>0.003720</td>\n      <td>3.578033</td>\n      <td>0.012358</td>\n      <td>0.008808</td>\n      <td>0.002867</td>\n      <td>93.891919</td>\n    </tr>\n    <tr>\n      <th>min</th>\n      <td>2743.240000</td>\n      <td>2158.750000</td>\n      <td>2060.660000</td>\n      <td>0.000000</td>\n      <td>0.681500</td>\n      <td>100.0</td>\n      <td>82.131100</td>\n      <td>0.000000</td>\n      <td>1.191000</td>\n      <td>-0.053400</td>\n      <td>...</td>\n      <td>0.001000</td>\n      <td>0.000000</td>\n      <td>0.477800</td>\n      <td>0.006000</td>\n      <td>0.001700</td>\n      <td>1.197500</td>\n      <td>-0.016900</td>\n      <td>0.003200</td>\n      <td>0.001000</td>\n      <td>0.000000</td>\n    </tr>\n    <tr>\n      <th>25%</th>\n      <td>2966.260000</td>\n      <td>2452.247500</td>\n      <td>2181.044400</td>\n      <td>1081.875800</td>\n      <td>1.017700</td>\n      <td>100.0</td>\n      <td>97.920000</td>\n      <td>0.121100</td>\n      <td>1.411200</td>\n      <td>-0.010800</td>\n      <td>...</td>\n      <td>0.003400</td>\n      <td>46.184900</td>\n      <td>0.497900</td>\n      <td>0.011600</td>\n      <td>0.003100</td>\n      <td>2.306500</td>\n      <td>0.013425</td>\n      <td>0.010600</td>\n      <td>0.003300</td>\n      <td>44.368600</td>\n    </tr>\n    <tr>\n      <th>50%</th>\n      <td>3011.490000</td>\n      <td>2499.405000</td>\n      <td>2201.066700</td>\n      <td>1285.214400</td>\n      <td>1.316800</td>\n      <td>100.0</td>\n      <td>101.512200</td>\n      <td>0.122400</td>\n      <td>1.461600</td>\n      <td>-0.001300</td>\n      <td>...</td>\n      <td>0.004700</td>\n      <td>72.288900</td>\n      <td>0.500200</td>\n      <td>0.013800</td>\n      <td>0.003600</td>\n      <td>2.757650</td>\n      <td>0.020500</td>\n      <td>0.014800</td>\n      <td>0.004600</td>\n      <td>71.900500</td>\n    </tr>\n    <tr>\n      <th>75%</th>\n      <td>3056.650000</td>\n      <td>2538.822500</td>\n      <td>2218.055500</td>\n      <td>1591.223500</td>\n      <td>1.525700</td>\n      <td>100.0</td>\n      <td>104.586700</td>\n      <td>0.123800</td>\n      <td>1.516900</td>\n      <td>0.008400</td>\n      <td>...</td>\n      <td>0.006475</td>\n      <td>116.539150</td>\n      <td>0.502375</td>\n      <td>0.016500</td>\n      <td>0.004100</td>\n      <td>3.295175</td>\n      <td>0.027600</td>\n      <td>0.020300</td>\n      <td>0.006400</td>\n      <td>114.749700</td>\n    </tr>\n    <tr>\n      <th>max</th>\n      <td>3356.350000</td>\n      <td>2846.440000</td>\n      <td>2315.266700</td>\n      <td>3715.041700</td>\n      <td>1114.536600</td>\n      <td>100.0</td>\n      <td>129.252200</td>\n      <td>0.128600</td>\n      <td>1.656400</td>\n      <td>0.074900</td>\n      <td>...</td>\n      <td>0.028600</td>\n      <td>737.304800</td>\n      <td>0.509800</td>\n      <td>0.476600</td>\n      <td>0.104500</td>\n      <td>99.303200</td>\n      <td>0.102800</td>\n      <td>0.079900</td>\n      <td>0.028600</td>\n      <td>737.304800</td>\n    </tr>\n  </tbody>\n</table>\n<p>8 rows × 590 columns</p>\n</div>"
     },
     "metadata": {},
     "execution_count": 67
    }
   ],
   "source": [
    "df.describe()"
   ]
  },
  {
   "cell_type": "code",
   "execution_count": 16,
   "id": "091d0917",
   "metadata": {},
   "outputs": [
    {
     "output_type": "execute_result",
     "data": {
      "text/plain": [
       "class          object\n",
       "timestamp      object\n",
       "feature001    float64\n",
       "feature002    float64\n",
       "feature003    float64\n",
       "               ...   \n",
       "feature586    float64\n",
       "feature587    float64\n",
       "feature588    float64\n",
       "feature589    float64\n",
       "feature590    float64\n",
       "Length: 592, dtype: object"
      ]
     },
     "metadata": {},
     "execution_count": 16
    }
   ],
   "source": [
    "df.dtypes"
   ]
  },
  {
   "source": [
    "### 2.3.Drop timestamp"
   ],
   "cell_type": "markdown",
   "metadata": {}
  },
  {
   "cell_type": "code",
   "execution_count": 17,
   "metadata": {},
   "outputs": [],
   "source": [
    "df = df.drop(columns='timestamp')"
   ]
  },
  {
   "cell_type": "markdown",
   "id": "44ef32f3",
   "metadata": {},
   "source": [
    "### 2.4.Splitting Traninig and Test Data "
   ]
  },
  {
   "cell_type": "code",
   "execution_count": 18,
   "metadata": {},
   "outputs": [],
   "source": [
    "y = df['class']\n",
    "x = df.drop('class', axis=1)"
   ]
  },
  {
   "cell_type": "code",
   "execution_count": 19,
   "metadata": {},
   "outputs": [],
   "source": [
    "x_train, x_test, y_train, y_test = train_test_split (x,y, test_size=0.2, random_state=40, shuffle=True, stratify=y)"
   ]
  },
  {
   "source": [
    "## 3.Feature Removal"
   ],
   "cell_type": "markdown",
   "metadata": {}
  },
  {
   "source": [
    "### 3.1.Constant"
   ],
   "cell_type": "markdown",
   "metadata": {}
  },
  {
   "cell_type": "code",
   "execution_count": 20,
   "metadata": {},
   "outputs": [
    {
     "output_type": "execute_result",
     "data": {
      "text/plain": [
       "(1253, 590)"
      ]
     },
     "metadata": {},
     "execution_count": 20
    }
   ],
   "source": [
    "x_train.shape"
   ]
  },
  {
   "cell_type": "code",
   "execution_count": 21,
   "metadata": {},
   "outputs": [
    {
     "output_type": "execute_result",
     "data": {
      "text/plain": [
       "116"
      ]
     },
     "metadata": {},
     "execution_count": 21
    }
   ],
   "source": [
    "len(x_train[x_train.columns[x_train.nunique() == 1]].columns)"
   ]
  },
  {
   "cell_type": "code",
   "execution_count": 22,
   "metadata": {},
   "outputs": [
    {
     "output_type": "stream",
     "name": "stderr",
     "text": [
      "C:\\Users\\fjorg\\AppData\\Local\\Programs\\Python\\Python39\\lib\\site-packages\\pandas\\core\\frame.py:4308: SettingWithCopyWarning:\n\n\nA value is trying to be set on a copy of a slice from a DataFrame\n\nSee the caveats in the documentation: https://pandas.pydata.org/pandas-docs/stable/user_guide/indexing.html#returning-a-view-versus-a-copy\n\n"
     ]
    }
   ],
   "source": [
    "x_train.drop(list(x_train[x_train.columns[x_train.nunique() == 1]].columns), axis = 1, inplace = True)"
   ]
  },
  {
   "cell_type": "code",
   "execution_count": 23,
   "metadata": {},
   "outputs": [
    {
     "output_type": "execute_result",
     "data": {
      "text/plain": [
       "(1253, 474)"
      ]
     },
     "metadata": {},
     "execution_count": 23
    }
   ],
   "source": [
    "x_train.shape"
   ]
  },
  {
   "source": [
    "### 3.2.With more than 55% Na"
   ],
   "cell_type": "markdown",
   "metadata": {}
  },
  {
   "cell_type": "code",
   "execution_count": 24,
   "metadata": {},
   "outputs": [
    {
     "output_type": "execute_result",
     "data": {
      "text/plain": [
       "24"
      ]
     },
     "metadata": {},
     "execution_count": 24
    }
   ],
   "source": [
    "feature_na_sum = pd.DataFrame((x_train.isna()).sum())\n",
    "feature_na_55 = feature_na_sum[feature_na_sum[0]>=(len(x_train.loc[:,])*55/100)].index\n",
    "len(feature_na_55)"
   ]
  },
  {
   "cell_type": "code",
   "execution_count": 25,
   "metadata": {},
   "outputs": [
    {
     "output_type": "stream",
     "name": "stderr",
     "text": [
      "C:\\Users\\fjorg\\AppData\\Local\\Programs\\Python\\Python39\\lib\\site-packages\\pandas\\core\\frame.py:4308: SettingWithCopyWarning:\n\n\nA value is trying to be set on a copy of a slice from a DataFrame\n\nSee the caveats in the documentation: https://pandas.pydata.org/pandas-docs/stable/user_guide/indexing.html#returning-a-view-versus-a-copy\n\n"
     ]
    }
   ],
   "source": [
    "x_train.drop(feature_na_55, axis = 1, inplace = True)"
   ]
  },
  {
   "source": [
    "### 3.3.least volatile"
   ],
   "cell_type": "markdown",
   "metadata": {}
  },
  {
   "cell_type": "code",
   "execution_count": 26,
   "metadata": {},
   "outputs": [
    {
     "output_type": "execute_result",
     "data": {
      "text/plain": [
       "        feature001  feature002  feature003  feature004  feature005  \\\n",
       "ID                                                                   \n",
       "567.0      3023.07     2484.55   2242.8555   1430.7270      0.8832   \n",
       "1261.0     2953.63     2384.04   2191.2111   1437.5003      2.2073   \n",
       "1041.0     3021.61     2440.29   2227.2222   2043.5876      1.1892   \n",
       "1181.0     3093.46     2479.17   2221.3667   2490.6947      1.2667   \n",
       "611.0      3010.40         NaN   2172.4000   1148.4101      1.2614   \n",
       "...            ...         ...         ...         ...         ...   \n",
       "806.0      2952.31     2453.53   2188.7222   1325.5230      1.1721   \n",
       "1101.0     2880.58     2489.76   2256.6000   2365.4787      1.1384   \n",
       "1469.0     2968.78     2451.53   2207.1000   1298.4309      1.0251   \n",
       "234.0      2958.39     2478.99   2231.9556   1185.0959      1.0208   \n",
       "645.0      3072.21     2610.62   2214.9333   1663.7024      1.0203   \n",
       "\n",
       "        feature007  feature008  feature009  feature010  feature011  ...  \\\n",
       "ID                                                                  ...   \n",
       "567.0     106.2100      0.1216      1.5613     -0.0028      0.0008  ...   \n",
       "1261.0     97.6444      0.1235      1.3584     -0.0024     -0.0048  ...   \n",
       "1041.0     95.5267      0.1253      1.5335     -0.0083     -0.0095  ...   \n",
       "1181.0     88.6578      0.1220      1.3537      0.0134     -0.0039  ...   \n",
       "611.0     102.4522      0.1227      1.3843     -0.0010     -0.0004  ...   \n",
       "...            ...         ...         ...         ...         ...  ...   \n",
       "806.0     105.1700      0.1250      1.4480     -0.0233      0.0087  ...   \n",
       "1101.0     85.4278      0.1205      1.6114      0.0484      0.0043  ...   \n",
       "1469.0     96.9478      0.1203      1.3985     -0.0105     -0.0140  ...   \n",
       "234.0     102.5344      0.1192      1.4881     -0.0054     -0.0037  ...   \n",
       "645.0     100.4456      0.1247      1.4403     -0.0169      0.0213  ...   \n",
       "\n",
       "        feature577  feature578  feature583  feature584  feature585  \\\n",
       "ID                                                                   \n",
       "567.0       1.1395     17.5289      0.4979      0.0165      0.0041   \n",
       "1261.0     86.7573     91.1106      0.4968      0.0188      0.0041   \n",
       "1041.0      1.5180     16.7005      0.5091      0.0123      0.0031   \n",
       "1181.0      1.4926     14.3055      0.5006      0.0148      0.0036   \n",
       "611.0       1.6264     23.2761      0.5015      0.0137      0.0034   \n",
       "...            ...         ...         ...         ...         ...   \n",
       "806.0       1.7048     16.6976      0.4949      0.0155      0.0034   \n",
       "1101.0      1.6892     14.6674      0.5032      0.0117      0.0029   \n",
       "1469.0      1.3708     18.3819      0.4972      0.0133      0.0036   \n",
       "234.0       1.2492      6.3989      0.5024      0.0151      0.0038   \n",
       "645.0       1.3033     17.0534      0.5044      0.0139      0.0037   \n",
       "\n",
       "        feature586  feature587  feature588  feature589  feature590  \n",
       "ID                                                                  \n",
       "567.0       3.3098      0.0184      0.0127      0.0037     68.7057  \n",
       "1261.0      3.7853      0.0137      0.0326      0.0108    237.4625  \n",
       "1041.0      2.4116      0.0437      0.0200      0.0074     45.7019  \n",
       "1181.0      2.9659      0.0190      0.0150      0.0045     78.6525  \n",
       "611.0       2.7339      0.0252      0.0157      0.0046     62.3881  \n",
       "...            ...         ...         ...         ...         ...  \n",
       "806.0       3.1238      0.0253      0.0058      0.0018     22.7661  \n",
       "1101.0      2.3282      0.0398      0.0202      0.0076     50.7949  \n",
       "1469.0      2.6718      0.0167      0.0310      0.0084    185.3578  \n",
       "234.0       3.0084     -0.0034      0.0093      0.0030    272.3477  \n",
       "645.0       2.7602      0.0211      0.0106      0.0034     50.0650  \n",
       "\n",
       "[1253 rows x 450 columns]"
      ],
      "text/html": "<div>\n<style scoped>\n    .dataframe tbody tr th:only-of-type {\n        vertical-align: middle;\n    }\n\n    .dataframe tbody tr th {\n        vertical-align: top;\n    }\n\n    .dataframe thead th {\n        text-align: right;\n    }\n</style>\n<table border=\"1\" class=\"dataframe\">\n  <thead>\n    <tr style=\"text-align: right;\">\n      <th></th>\n      <th>feature001</th>\n      <th>feature002</th>\n      <th>feature003</th>\n      <th>feature004</th>\n      <th>feature005</th>\n      <th>feature007</th>\n      <th>feature008</th>\n      <th>feature009</th>\n      <th>feature010</th>\n      <th>feature011</th>\n      <th>...</th>\n      <th>feature577</th>\n      <th>feature578</th>\n      <th>feature583</th>\n      <th>feature584</th>\n      <th>feature585</th>\n      <th>feature586</th>\n      <th>feature587</th>\n      <th>feature588</th>\n      <th>feature589</th>\n      <th>feature590</th>\n    </tr>\n    <tr>\n      <th>ID</th>\n      <th></th>\n      <th></th>\n      <th></th>\n      <th></th>\n      <th></th>\n      <th></th>\n      <th></th>\n      <th></th>\n      <th></th>\n      <th></th>\n      <th></th>\n      <th></th>\n      <th></th>\n      <th></th>\n      <th></th>\n      <th></th>\n      <th></th>\n      <th></th>\n      <th></th>\n      <th></th>\n      <th></th>\n    </tr>\n  </thead>\n  <tbody>\n    <tr>\n      <th>567.0</th>\n      <td>3023.07</td>\n      <td>2484.55</td>\n      <td>2242.8555</td>\n      <td>1430.7270</td>\n      <td>0.8832</td>\n      <td>106.2100</td>\n      <td>0.1216</td>\n      <td>1.5613</td>\n      <td>-0.0028</td>\n      <td>0.0008</td>\n      <td>...</td>\n      <td>1.1395</td>\n      <td>17.5289</td>\n      <td>0.4979</td>\n      <td>0.0165</td>\n      <td>0.0041</td>\n      <td>3.3098</td>\n      <td>0.0184</td>\n      <td>0.0127</td>\n      <td>0.0037</td>\n      <td>68.7057</td>\n    </tr>\n    <tr>\n      <th>1261.0</th>\n      <td>2953.63</td>\n      <td>2384.04</td>\n      <td>2191.2111</td>\n      <td>1437.5003</td>\n      <td>2.2073</td>\n      <td>97.6444</td>\n      <td>0.1235</td>\n      <td>1.3584</td>\n      <td>-0.0024</td>\n      <td>-0.0048</td>\n      <td>...</td>\n      <td>86.7573</td>\n      <td>91.1106</td>\n      <td>0.4968</td>\n      <td>0.0188</td>\n      <td>0.0041</td>\n      <td>3.7853</td>\n      <td>0.0137</td>\n      <td>0.0326</td>\n      <td>0.0108</td>\n      <td>237.4625</td>\n    </tr>\n    <tr>\n      <th>1041.0</th>\n      <td>3021.61</td>\n      <td>2440.29</td>\n      <td>2227.2222</td>\n      <td>2043.5876</td>\n      <td>1.1892</td>\n      <td>95.5267</td>\n      <td>0.1253</td>\n      <td>1.5335</td>\n      <td>-0.0083</td>\n      <td>-0.0095</td>\n      <td>...</td>\n      <td>1.5180</td>\n      <td>16.7005</td>\n      <td>0.5091</td>\n      <td>0.0123</td>\n      <td>0.0031</td>\n      <td>2.4116</td>\n      <td>0.0437</td>\n      <td>0.0200</td>\n      <td>0.0074</td>\n      <td>45.7019</td>\n    </tr>\n    <tr>\n      <th>1181.0</th>\n      <td>3093.46</td>\n      <td>2479.17</td>\n      <td>2221.3667</td>\n      <td>2490.6947</td>\n      <td>1.2667</td>\n      <td>88.6578</td>\n      <td>0.1220</td>\n      <td>1.3537</td>\n      <td>0.0134</td>\n      <td>-0.0039</td>\n      <td>...</td>\n      <td>1.4926</td>\n      <td>14.3055</td>\n      <td>0.5006</td>\n      <td>0.0148</td>\n      <td>0.0036</td>\n      <td>2.9659</td>\n      <td>0.0190</td>\n      <td>0.0150</td>\n      <td>0.0045</td>\n      <td>78.6525</td>\n    </tr>\n    <tr>\n      <th>611.0</th>\n      <td>3010.40</td>\n      <td>NaN</td>\n      <td>2172.4000</td>\n      <td>1148.4101</td>\n      <td>1.2614</td>\n      <td>102.4522</td>\n      <td>0.1227</td>\n      <td>1.3843</td>\n      <td>-0.0010</td>\n      <td>-0.0004</td>\n      <td>...</td>\n      <td>1.6264</td>\n      <td>23.2761</td>\n      <td>0.5015</td>\n      <td>0.0137</td>\n      <td>0.0034</td>\n      <td>2.7339</td>\n      <td>0.0252</td>\n      <td>0.0157</td>\n      <td>0.0046</td>\n      <td>62.3881</td>\n    </tr>\n    <tr>\n      <th>...</th>\n      <td>...</td>\n      <td>...</td>\n      <td>...</td>\n      <td>...</td>\n      <td>...</td>\n      <td>...</td>\n      <td>...</td>\n      <td>...</td>\n      <td>...</td>\n      <td>...</td>\n      <td>...</td>\n      <td>...</td>\n      <td>...</td>\n      <td>...</td>\n      <td>...</td>\n      <td>...</td>\n      <td>...</td>\n      <td>...</td>\n      <td>...</td>\n      <td>...</td>\n      <td>...</td>\n    </tr>\n    <tr>\n      <th>806.0</th>\n      <td>2952.31</td>\n      <td>2453.53</td>\n      <td>2188.7222</td>\n      <td>1325.5230</td>\n      <td>1.1721</td>\n      <td>105.1700</td>\n      <td>0.1250</td>\n      <td>1.4480</td>\n      <td>-0.0233</td>\n      <td>0.0087</td>\n      <td>...</td>\n      <td>1.7048</td>\n      <td>16.6976</td>\n      <td>0.4949</td>\n      <td>0.0155</td>\n      <td>0.0034</td>\n      <td>3.1238</td>\n      <td>0.0253</td>\n      <td>0.0058</td>\n      <td>0.0018</td>\n      <td>22.7661</td>\n    </tr>\n    <tr>\n      <th>1101.0</th>\n      <td>2880.58</td>\n      <td>2489.76</td>\n      <td>2256.6000</td>\n      <td>2365.4787</td>\n      <td>1.1384</td>\n      <td>85.4278</td>\n      <td>0.1205</td>\n      <td>1.6114</td>\n      <td>0.0484</td>\n      <td>0.0043</td>\n      <td>...</td>\n      <td>1.6892</td>\n      <td>14.6674</td>\n      <td>0.5032</td>\n      <td>0.0117</td>\n      <td>0.0029</td>\n      <td>2.3282</td>\n      <td>0.0398</td>\n      <td>0.0202</td>\n      <td>0.0076</td>\n      <td>50.7949</td>\n    </tr>\n    <tr>\n      <th>1469.0</th>\n      <td>2968.78</td>\n      <td>2451.53</td>\n      <td>2207.1000</td>\n      <td>1298.4309</td>\n      <td>1.0251</td>\n      <td>96.9478</td>\n      <td>0.1203</td>\n      <td>1.3985</td>\n      <td>-0.0105</td>\n      <td>-0.0140</td>\n      <td>...</td>\n      <td>1.3708</td>\n      <td>18.3819</td>\n      <td>0.4972</td>\n      <td>0.0133</td>\n      <td>0.0036</td>\n      <td>2.6718</td>\n      <td>0.0167</td>\n      <td>0.0310</td>\n      <td>0.0084</td>\n      <td>185.3578</td>\n    </tr>\n    <tr>\n      <th>234.0</th>\n      <td>2958.39</td>\n      <td>2478.99</td>\n      <td>2231.9556</td>\n      <td>1185.0959</td>\n      <td>1.0208</td>\n      <td>102.5344</td>\n      <td>0.1192</td>\n      <td>1.4881</td>\n      <td>-0.0054</td>\n      <td>-0.0037</td>\n      <td>...</td>\n      <td>1.2492</td>\n      <td>6.3989</td>\n      <td>0.5024</td>\n      <td>0.0151</td>\n      <td>0.0038</td>\n      <td>3.0084</td>\n      <td>-0.0034</td>\n      <td>0.0093</td>\n      <td>0.0030</td>\n      <td>272.3477</td>\n    </tr>\n    <tr>\n      <th>645.0</th>\n      <td>3072.21</td>\n      <td>2610.62</td>\n      <td>2214.9333</td>\n      <td>1663.7024</td>\n      <td>1.0203</td>\n      <td>100.4456</td>\n      <td>0.1247</td>\n      <td>1.4403</td>\n      <td>-0.0169</td>\n      <td>0.0213</td>\n      <td>...</td>\n      <td>1.3033</td>\n      <td>17.0534</td>\n      <td>0.5044</td>\n      <td>0.0139</td>\n      <td>0.0037</td>\n      <td>2.7602</td>\n      <td>0.0211</td>\n      <td>0.0106</td>\n      <td>0.0034</td>\n      <td>50.0650</td>\n    </tr>\n  </tbody>\n</table>\n<p>1253 rows × 450 columns</p>\n</div>"
     },
     "metadata": {},
     "execution_count": 26
    }
   ],
   "source": [
    "x_train"
   ]
  },
  {
   "cell_type": "code",
   "execution_count": 27,
   "metadata": {},
   "outputs": [
    {
     "output_type": "execute_result",
     "data": {
      "text/plain": [
       "        feature002   feature003   feature004   feature005   feature007  \\\n",
       "count  1247.000000  1242.000000  1242.000000  1242.000000  1242.000000   \n",
       "mean   2495.654419  2200.025057  1392.454440     4.017364   101.174591   \n",
       "std      80.939817    29.195659   445.082171    54.595810     6.187379   \n",
       "min    2158.750000  2060.660000     0.000000     0.681500    82.131100   \n",
       "25%    2452.000000  2180.986050  1081.822175     1.005075    97.954450   \n",
       "50%    2498.300000  2200.233300  1281.786200     1.317100   101.599450   \n",
       "75%    2538.745000  2217.811100  1588.509000     1.525700   104.623925   \n",
       "max    2846.440000  2315.266700  3715.041700  1114.536600   129.252200   \n",
       "\n",
       "        feature008   feature009   feature010   feature011   feature012  ...  \\\n",
       "count  1248.000000  1252.000000  1252.000000  1252.000000  1252.000000  ...   \n",
       "mean      0.121789     1.462431    -0.000561     0.000013     0.964206  ...   \n",
       "std       0.009346     0.073497     0.015345     0.009408     0.013113  ...   \n",
       "min       0.000000     1.191000    -0.053400    -0.034900     0.655400  ...   \n",
       "25%       0.121100     1.411250    -0.010800    -0.005600     0.958000  ...   \n",
       "50%       0.122400     1.461950    -0.001000     0.000400     0.965800  ...   \n",
       "75%       0.123800     1.516825     0.008650     0.005700     0.971325  ...   \n",
       "max       0.128600     1.653900     0.074900     0.053000     0.984600  ...   \n",
       "\n",
       "        feature577   feature578   feature583   feature584   feature585  \\\n",
       "count  1253.000000  1253.000000  1252.000000  1252.000000  1252.000000   \n",
       "mean      5.681953    16.727285     0.499998     0.015465     0.003880   \n",
       "std      17.185851    12.710672     0.003442     0.019044     0.004134   \n",
       "min       0.663600     5.098600     0.477800     0.006000     0.001700   \n",
       "25%       1.412900    11.551000     0.497800     0.011600     0.003100   \n",
       "50%       1.631200    13.794100     0.500000     0.013800     0.003600   \n",
       "75%       1.904500    17.053400     0.502200     0.016500     0.004100   \n",
       "max      90.423500    96.960100     0.509800     0.476600     0.104500   \n",
       "\n",
       "        feature586   feature587   feature588   feature589   feature590  \n",
       "count  1252.000000  1252.000000  1252.000000  1252.000000  1252.000000  \n",
       "mean      3.099220     0.021644     0.016262     0.005218    98.992713  \n",
       "std       3.969263     0.012636     0.008377     0.002746    94.999511  \n",
       "min       1.197500    -0.006000     0.003200     0.001000     0.000000  \n",
       "25%       2.323775     0.013500     0.010600     0.003300    44.235500  \n",
       "50%       2.761900     0.020700     0.014800     0.004600    71.010800  \n",
       "75%       3.296275     0.027600     0.020300     0.006400   114.287800  \n",
       "max      99.303200     0.102800     0.079900     0.028600   737.304800  \n",
       "\n",
       "[8 rows x 449 columns]"
      ],
      "text/html": "<div>\n<style scoped>\n    .dataframe tbody tr th:only-of-type {\n        vertical-align: middle;\n    }\n\n    .dataframe tbody tr th {\n        vertical-align: top;\n    }\n\n    .dataframe thead th {\n        text-align: right;\n    }\n</style>\n<table border=\"1\" class=\"dataframe\">\n  <thead>\n    <tr style=\"text-align: right;\">\n      <th></th>\n      <th>feature002</th>\n      <th>feature003</th>\n      <th>feature004</th>\n      <th>feature005</th>\n      <th>feature007</th>\n      <th>feature008</th>\n      <th>feature009</th>\n      <th>feature010</th>\n      <th>feature011</th>\n      <th>feature012</th>\n      <th>...</th>\n      <th>feature577</th>\n      <th>feature578</th>\n      <th>feature583</th>\n      <th>feature584</th>\n      <th>feature585</th>\n      <th>feature586</th>\n      <th>feature587</th>\n      <th>feature588</th>\n      <th>feature589</th>\n      <th>feature590</th>\n    </tr>\n  </thead>\n  <tbody>\n    <tr>\n      <th>count</th>\n      <td>1247.000000</td>\n      <td>1242.000000</td>\n      <td>1242.000000</td>\n      <td>1242.000000</td>\n      <td>1242.000000</td>\n      <td>1248.000000</td>\n      <td>1252.000000</td>\n      <td>1252.000000</td>\n      <td>1252.000000</td>\n      <td>1252.000000</td>\n      <td>...</td>\n      <td>1253.000000</td>\n      <td>1253.000000</td>\n      <td>1252.000000</td>\n      <td>1252.000000</td>\n      <td>1252.000000</td>\n      <td>1252.000000</td>\n      <td>1252.000000</td>\n      <td>1252.000000</td>\n      <td>1252.000000</td>\n      <td>1252.000000</td>\n    </tr>\n    <tr>\n      <th>mean</th>\n      <td>2495.654419</td>\n      <td>2200.025057</td>\n      <td>1392.454440</td>\n      <td>4.017364</td>\n      <td>101.174591</td>\n      <td>0.121789</td>\n      <td>1.462431</td>\n      <td>-0.000561</td>\n      <td>0.000013</td>\n      <td>0.964206</td>\n      <td>...</td>\n      <td>5.681953</td>\n      <td>16.727285</td>\n      <td>0.499998</td>\n      <td>0.015465</td>\n      <td>0.003880</td>\n      <td>3.099220</td>\n      <td>0.021644</td>\n      <td>0.016262</td>\n      <td>0.005218</td>\n      <td>98.992713</td>\n    </tr>\n    <tr>\n      <th>std</th>\n      <td>80.939817</td>\n      <td>29.195659</td>\n      <td>445.082171</td>\n      <td>54.595810</td>\n      <td>6.187379</td>\n      <td>0.009346</td>\n      <td>0.073497</td>\n      <td>0.015345</td>\n      <td>0.009408</td>\n      <td>0.013113</td>\n      <td>...</td>\n      <td>17.185851</td>\n      <td>12.710672</td>\n      <td>0.003442</td>\n      <td>0.019044</td>\n      <td>0.004134</td>\n      <td>3.969263</td>\n      <td>0.012636</td>\n      <td>0.008377</td>\n      <td>0.002746</td>\n      <td>94.999511</td>\n    </tr>\n    <tr>\n      <th>min</th>\n      <td>2158.750000</td>\n      <td>2060.660000</td>\n      <td>0.000000</td>\n      <td>0.681500</td>\n      <td>82.131100</td>\n      <td>0.000000</td>\n      <td>1.191000</td>\n      <td>-0.053400</td>\n      <td>-0.034900</td>\n      <td>0.655400</td>\n      <td>...</td>\n      <td>0.663600</td>\n      <td>5.098600</td>\n      <td>0.477800</td>\n      <td>0.006000</td>\n      <td>0.001700</td>\n      <td>1.197500</td>\n      <td>-0.006000</td>\n      <td>0.003200</td>\n      <td>0.001000</td>\n      <td>0.000000</td>\n    </tr>\n    <tr>\n      <th>25%</th>\n      <td>2452.000000</td>\n      <td>2180.986050</td>\n      <td>1081.822175</td>\n      <td>1.005075</td>\n      <td>97.954450</td>\n      <td>0.121100</td>\n      <td>1.411250</td>\n      <td>-0.010800</td>\n      <td>-0.005600</td>\n      <td>0.958000</td>\n      <td>...</td>\n      <td>1.412900</td>\n      <td>11.551000</td>\n      <td>0.497800</td>\n      <td>0.011600</td>\n      <td>0.003100</td>\n      <td>2.323775</td>\n      <td>0.013500</td>\n      <td>0.010600</td>\n      <td>0.003300</td>\n      <td>44.235500</td>\n    </tr>\n    <tr>\n      <th>50%</th>\n      <td>2498.300000</td>\n      <td>2200.233300</td>\n      <td>1281.786200</td>\n      <td>1.317100</td>\n      <td>101.599450</td>\n      <td>0.122400</td>\n      <td>1.461950</td>\n      <td>-0.001000</td>\n      <td>0.000400</td>\n      <td>0.965800</td>\n      <td>...</td>\n      <td>1.631200</td>\n      <td>13.794100</td>\n      <td>0.500000</td>\n      <td>0.013800</td>\n      <td>0.003600</td>\n      <td>2.761900</td>\n      <td>0.020700</td>\n      <td>0.014800</td>\n      <td>0.004600</td>\n      <td>71.010800</td>\n    </tr>\n    <tr>\n      <th>75%</th>\n      <td>2538.745000</td>\n      <td>2217.811100</td>\n      <td>1588.509000</td>\n      <td>1.525700</td>\n      <td>104.623925</td>\n      <td>0.123800</td>\n      <td>1.516825</td>\n      <td>0.008650</td>\n      <td>0.005700</td>\n      <td>0.971325</td>\n      <td>...</td>\n      <td>1.904500</td>\n      <td>17.053400</td>\n      <td>0.502200</td>\n      <td>0.016500</td>\n      <td>0.004100</td>\n      <td>3.296275</td>\n      <td>0.027600</td>\n      <td>0.020300</td>\n      <td>0.006400</td>\n      <td>114.287800</td>\n    </tr>\n    <tr>\n      <th>max</th>\n      <td>2846.440000</td>\n      <td>2315.266700</td>\n      <td>3715.041700</td>\n      <td>1114.536600</td>\n      <td>129.252200</td>\n      <td>0.128600</td>\n      <td>1.653900</td>\n      <td>0.074900</td>\n      <td>0.053000</td>\n      <td>0.984600</td>\n      <td>...</td>\n      <td>90.423500</td>\n      <td>96.960100</td>\n      <td>0.509800</td>\n      <td>0.476600</td>\n      <td>0.104500</td>\n      <td>99.303200</td>\n      <td>0.102800</td>\n      <td>0.079900</td>\n      <td>0.028600</td>\n      <td>737.304800</td>\n    </tr>\n  </tbody>\n</table>\n<p>8 rows × 449 columns</p>\n</div>"
     },
     "metadata": {},
     "execution_count": 27
    }
   ],
   "source": [
    "summary = x_train.iloc[:,1:].describe(include='all')\n",
    "summary"
   ]
  },
  {
   "cell_type": "code",
   "execution_count": 28,
   "metadata": {},
   "outputs": [],
   "source": [
    "feature_std = pd.DataFrame(summary.loc['std',:])\n",
    "feature_coeffstd = pd.DataFrame(abs(summary.loc['mean',:])/summary.loc['std',:])"
   ]
  },
  {
   "cell_type": "code",
   "execution_count": 29,
   "metadata": {},
   "outputs": [
    {
     "output_type": "stream",
     "name": "stdout",
     "text": [
      "0.0001055328779148529\n6438.937158652618\n"
     ]
    }
   ],
   "source": [
    "print(min(feature_std.iloc[:,0]))\n",
    "print(max(feature_std.iloc[:,0]))"
   ]
  },
  {
   "cell_type": "code",
   "execution_count": 30,
   "metadata": {},
   "outputs": [
    {
     "output_type": "stream",
     "name": "stdout",
     "text": [
      "0.001409271870062433\n432.6230095243187\n"
     ]
    }
   ],
   "source": [
    "print(min(feature_coeffstd.iloc[:,0]))\n",
    "print(max(feature_coeffstd.iloc[:,0]))"
   ]
  },
  {
   "cell_type": "code",
   "execution_count": 31,
   "metadata": {},
   "outputs": [],
   "source": [
    "feature_coeffstd_sort = feature_coeffstd.sort_values(by=[0])"
   ]
  },
  {
   "cell_type": "code",
   "execution_count": 32,
   "metadata": {},
   "outputs": [
    {
     "output_type": "execute_result",
     "data": {
      "text/plain": [
       "<AxesSubplot:>"
      ]
     },
     "metadata": {},
     "execution_count": 32
    },
    {
     "output_type": "display_data",
     "data": {
      "text/plain": "<Figure size 432x288 with 1 Axes>",
      "image/svg+xml": "<?xml version=\"1.0\" encoding=\"utf-8\" standalone=\"no\"?>\r\n<!DOCTYPE svg PUBLIC \"-//W3C//DTD SVG 1.1//EN\"\r\n  \"http://www.w3.org/Graphics/SVG/1.1/DTD/svg11.dtd\">\r\n<svg height=\"248.518125pt\" version=\"1.1\" viewBox=\"0 0 375.2875 248.518125\" width=\"375.2875pt\" xmlns=\"http://www.w3.org/2000/svg\" xmlns:xlink=\"http://www.w3.org/1999/xlink\">\r\n <metadata>\r\n  <rdf:RDF xmlns:cc=\"http://creativecommons.org/ns#\" xmlns:dc=\"http://purl.org/dc/elements/1.1/\" xmlns:rdf=\"http://www.w3.org/1999/02/22-rdf-syntax-ns#\">\r\n   <cc:Work>\r\n    <dc:type rdf:resource=\"http://purl.org/dc/dcmitype/StillImage\"/>\r\n    <dc:date>2021-05-07T19:56:04.798095</dc:date>\r\n    <dc:format>image/svg+xml</dc:format>\r\n    <dc:creator>\r\n     <cc:Agent>\r\n      <dc:title>Matplotlib v3.4.1, https://matplotlib.org/</dc:title>\r\n     </cc:Agent>\r\n    </dc:creator>\r\n   </cc:Work>\r\n  </rdf:RDF>\r\n </metadata>\r\n <defs>\r\n  <style type=\"text/css\">*{stroke-linecap:butt;stroke-linejoin:round;}</style>\r\n </defs>\r\n <g id=\"figure_1\">\r\n  <g id=\"patch_1\">\r\n   <path d=\"M 0 248.518125 \r\nL 375.2875 248.518125 \r\nL 375.2875 0 \r\nL 0 0 \r\nz\r\n\" style=\"fill:none;\"/>\r\n  </g>\r\n  <g id=\"axes_1\">\r\n   <g id=\"patch_2\">\r\n    <path d=\"M 33.2875 224.64 \r\nL 368.0875 224.64 \r\nL 368.0875 7.2 \r\nL 33.2875 7.2 \r\nz\r\n\" style=\"fill:#ffffff;\"/>\r\n   </g>\r\n   <g id=\"patch_3\">\r\n    <path clip-path=\"url(#pcd72be4ee4)\" d=\"M 48.505682 224.64 \r\nL 58.651136 224.64 \r\nL 58.651136 17.554286 \r\nL 48.505682 17.554286 \r\nz\r\n\" style=\"fill:#1f77b4;\"/>\r\n   </g>\r\n   <g id=\"patch_4\">\r\n    <path clip-path=\"url(#pcd72be4ee4)\" d=\"M 58.651136 224.64 \r\nL 68.796591 224.64 \r\nL 68.796591 218.235287 \r\nL 58.651136 218.235287 \r\nz\r\n\" style=\"fill:#1f77b4;\"/>\r\n   </g>\r\n   <g id=\"patch_5\">\r\n    <path clip-path=\"url(#pcd72be4ee4)\" d=\"M 68.796591 224.64 \r\nL 78.942045 224.64 \r\nL 78.942045 218.769013 \r\nL 68.796591 218.769013 \r\nz\r\n\" style=\"fill:#1f77b4;\"/>\r\n   </g>\r\n   <g id=\"patch_6\">\r\n    <path clip-path=\"url(#pcd72be4ee4)\" d=\"M 78.942045 224.64 \r\nL 89.0875 224.64 \r\nL 89.0875 221.97137 \r\nL 78.942045 221.97137 \r\nz\r\n\" style=\"fill:#1f77b4;\"/>\r\n   </g>\r\n   <g id=\"patch_7\">\r\n    <path clip-path=\"url(#pcd72be4ee4)\" d=\"M 89.0875 224.64 \r\nL 99.232955 224.64 \r\nL 99.232955 219.836465 \r\nL 89.0875 219.836465 \r\nz\r\n\" style=\"fill:#1f77b4;\"/>\r\n   </g>\r\n   <g id=\"patch_8\">\r\n    <path clip-path=\"url(#pcd72be4ee4)\" d=\"M 99.232955 224.64 \r\nL 109.378409 224.64 \r\nL 109.378409 218.769013 \r\nL 99.232955 218.769013 \r\nz\r\n\" style=\"fill:#1f77b4;\"/>\r\n   </g>\r\n   <g id=\"patch_9\">\r\n    <path clip-path=\"url(#pcd72be4ee4)\" d=\"M 109.378409 224.64 \r\nL 119.523864 224.64 \r\nL 119.523864 224.64 \r\nL 109.378409 224.64 \r\nz\r\n\" style=\"fill:#1f77b4;\"/>\r\n   </g>\r\n   <g id=\"patch_10\">\r\n    <path clip-path=\"url(#pcd72be4ee4)\" d=\"M 119.523864 224.64 \r\nL 129.669318 224.64 \r\nL 129.669318 223.038822 \r\nL 119.523864 223.038822 \r\nz\r\n\" style=\"fill:#1f77b4;\"/>\r\n   </g>\r\n   <g id=\"patch_11\">\r\n    <path clip-path=\"url(#pcd72be4ee4)\" d=\"M 129.669318 224.64 \r\nL 139.814773 224.64 \r\nL 139.814773 224.64 \r\nL 129.669318 224.64 \r\nz\r\n\" style=\"fill:#1f77b4;\"/>\r\n   </g>\r\n   <g id=\"patch_12\">\r\n    <path clip-path=\"url(#pcd72be4ee4)\" d=\"M 139.814773 224.64 \r\nL 149.960227 224.64 \r\nL 149.960227 223.572548 \r\nL 139.814773 223.572548 \r\nz\r\n\" style=\"fill:#1f77b4;\"/>\r\n   </g>\r\n   <g id=\"patch_13\">\r\n    <path clip-path=\"url(#pcd72be4ee4)\" d=\"M 149.960227 224.64 \r\nL 160.105682 224.64 \r\nL 160.105682 222.505096 \r\nL 149.960227 222.505096 \r\nz\r\n\" style=\"fill:#1f77b4;\"/>\r\n   </g>\r\n   <g id=\"patch_14\">\r\n    <path clip-path=\"url(#pcd72be4ee4)\" d=\"M 160.105682 224.64 \r\nL 170.251136 224.64 \r\nL 170.251136 224.64 \r\nL 160.105682 224.64 \r\nz\r\n\" style=\"fill:#1f77b4;\"/>\r\n   </g>\r\n   <g id=\"patch_15\">\r\n    <path clip-path=\"url(#pcd72be4ee4)\" d=\"M 170.251136 224.64 \r\nL 180.396591 224.64 \r\nL 180.396591 224.64 \r\nL 170.251136 224.64 \r\nz\r\n\" style=\"fill:#1f77b4;\"/>\r\n   </g>\r\n   <g id=\"patch_16\">\r\n    <path clip-path=\"url(#pcd72be4ee4)\" d=\"M 180.396591 224.64 \r\nL 190.542045 224.64 \r\nL 190.542045 224.106274 \r\nL 180.396591 224.106274 \r\nz\r\n\" style=\"fill:#1f77b4;\"/>\r\n   </g>\r\n   <g id=\"patch_17\">\r\n    <path clip-path=\"url(#pcd72be4ee4)\" d=\"M 190.542045 224.64 \r\nL 200.6875 224.64 \r\nL 200.6875 224.64 \r\nL 190.542045 224.64 \r\nz\r\n\" style=\"fill:#1f77b4;\"/>\r\n   </g>\r\n   <g id=\"patch_18\">\r\n    <path clip-path=\"url(#pcd72be4ee4)\" d=\"M 200.6875 224.64 \r\nL 210.832955 224.64 \r\nL 210.832955 223.572548 \r\nL 200.6875 223.572548 \r\nz\r\n\" style=\"fill:#1f77b4;\"/>\r\n   </g>\r\n   <g id=\"patch_19\">\r\n    <path clip-path=\"url(#pcd72be4ee4)\" d=\"M 210.832955 224.64 \r\nL 220.978409 224.64 \r\nL 220.978409 224.64 \r\nL 210.832955 224.64 \r\nz\r\n\" style=\"fill:#1f77b4;\"/>\r\n   </g>\r\n   <g id=\"patch_20\">\r\n    <path clip-path=\"url(#pcd72be4ee4)\" d=\"M 220.978409 224.64 \r\nL 231.123864 224.64 \r\nL 231.123864 224.64 \r\nL 220.978409 224.64 \r\nz\r\n\" style=\"fill:#1f77b4;\"/>\r\n   </g>\r\n   <g id=\"patch_21\">\r\n    <path clip-path=\"url(#pcd72be4ee4)\" d=\"M 231.123864 224.64 \r\nL 241.269318 224.64 \r\nL 241.269318 224.64 \r\nL 231.123864 224.64 \r\nz\r\n\" style=\"fill:#1f77b4;\"/>\r\n   </g>\r\n   <g id=\"patch_22\">\r\n    <path clip-path=\"url(#pcd72be4ee4)\" d=\"M 241.269318 224.64 \r\nL 251.414773 224.64 \r\nL 251.414773 224.64 \r\nL 241.269318 224.64 \r\nz\r\n\" style=\"fill:#1f77b4;\"/>\r\n   </g>\r\n   <g id=\"patch_23\">\r\n    <path clip-path=\"url(#pcd72be4ee4)\" d=\"M 251.414773 224.64 \r\nL 261.560227 224.64 \r\nL 261.560227 224.64 \r\nL 251.414773 224.64 \r\nz\r\n\" style=\"fill:#1f77b4;\"/>\r\n   </g>\r\n   <g id=\"patch_24\">\r\n    <path clip-path=\"url(#pcd72be4ee4)\" d=\"M 261.560227 224.64 \r\nL 271.705682 224.64 \r\nL 271.705682 224.64 \r\nL 261.560227 224.64 \r\nz\r\n\" style=\"fill:#1f77b4;\"/>\r\n   </g>\r\n   <g id=\"patch_25\">\r\n    <path clip-path=\"url(#pcd72be4ee4)\" d=\"M 271.705682 224.64 \r\nL 281.851136 224.64 \r\nL 281.851136 224.64 \r\nL 271.705682 224.64 \r\nz\r\n\" style=\"fill:#1f77b4;\"/>\r\n   </g>\r\n   <g id=\"patch_26\">\r\n    <path clip-path=\"url(#pcd72be4ee4)\" d=\"M 281.851136 224.64 \r\nL 291.996591 224.64 \r\nL 291.996591 224.64 \r\nL 281.851136 224.64 \r\nz\r\n\" style=\"fill:#1f77b4;\"/>\r\n   </g>\r\n   <g id=\"patch_27\">\r\n    <path clip-path=\"url(#pcd72be4ee4)\" d=\"M 291.996591 224.64 \r\nL 302.142045 224.64 \r\nL 302.142045 224.64 \r\nL 291.996591 224.64 \r\nz\r\n\" style=\"fill:#1f77b4;\"/>\r\n   </g>\r\n   <g id=\"patch_28\">\r\n    <path clip-path=\"url(#pcd72be4ee4)\" d=\"M 302.142045 224.64 \r\nL 312.2875 224.64 \r\nL 312.2875 224.64 \r\nL 302.142045 224.64 \r\nz\r\n\" style=\"fill:#1f77b4;\"/>\r\n   </g>\r\n   <g id=\"patch_29\">\r\n    <path clip-path=\"url(#pcd72be4ee4)\" d=\"M 312.2875 224.64 \r\nL 322.432955 224.64 \r\nL 322.432955 224.64 \r\nL 312.2875 224.64 \r\nz\r\n\" style=\"fill:#1f77b4;\"/>\r\n   </g>\r\n   <g id=\"patch_30\">\r\n    <path clip-path=\"url(#pcd72be4ee4)\" d=\"M 322.432955 224.64 \r\nL 332.578409 224.64 \r\nL 332.578409 224.64 \r\nL 322.432955 224.64 \r\nz\r\n\" style=\"fill:#1f77b4;\"/>\r\n   </g>\r\n   <g id=\"patch_31\">\r\n    <path clip-path=\"url(#pcd72be4ee4)\" d=\"M 332.578409 224.64 \r\nL 342.723864 224.64 \r\nL 342.723864 224.64 \r\nL 332.578409 224.64 \r\nz\r\n\" style=\"fill:#1f77b4;\"/>\r\n   </g>\r\n   <g id=\"patch_32\">\r\n    <path clip-path=\"url(#pcd72be4ee4)\" d=\"M 342.723864 224.64 \r\nL 352.869318 224.64 \r\nL 352.869318 224.106274 \r\nL 342.723864 224.106274 \r\nz\r\n\" style=\"fill:#1f77b4;\"/>\r\n   </g>\r\n   <g id=\"matplotlib.axis_1\">\r\n    <g id=\"xtick_1\">\r\n     <g id=\"line2d_1\">\r\n      <path clip-path=\"url(#pcd72be4ee4)\" d=\"M 48.50469 224.64 \r\nL 48.50469 7.2 \r\n\" style=\"fill:none;stroke:#b0b0b0;stroke-linecap:square;stroke-width:0.8;\"/>\r\n     </g>\r\n     <g id=\"line2d_2\">\r\n      <defs>\r\n       <path d=\"M 0 0 \r\nL 0 3.5 \r\n\" id=\"mc4db116fde\" style=\"stroke:#000000;stroke-width:0.8;\"/>\r\n      </defs>\r\n      <g>\r\n       <use style=\"stroke:#000000;stroke-width:0.8;\" x=\"48.50469\" xlink:href=\"#mc4db116fde\" y=\"224.64\"/>\r\n      </g>\r\n     </g>\r\n     <g id=\"text_1\">\r\n      <!-- 0 -->\r\n      <g transform=\"translate(45.32344 239.238437)scale(0.1 -0.1)\">\r\n       <defs>\r\n        <path d=\"M 2034 4250 \r\nQ 1547 4250 1301 3770 \r\nQ 1056 3291 1056 2328 \r\nQ 1056 1369 1301 889 \r\nQ 1547 409 2034 409 \r\nQ 2525 409 2770 889 \r\nQ 3016 1369 3016 2328 \r\nQ 3016 3291 2770 3770 \r\nQ 2525 4250 2034 4250 \r\nz\r\nM 2034 4750 \r\nQ 2819 4750 3233 4129 \r\nQ 3647 3509 3647 2328 \r\nQ 3647 1150 3233 529 \r\nQ 2819 -91 2034 -91 \r\nQ 1250 -91 836 529 \r\nQ 422 1150 422 2328 \r\nQ 422 3509 836 4129 \r\nQ 1250 4750 2034 4750 \r\nz\r\n\" id=\"DejaVuSans-30\" transform=\"scale(0.015625)\"/>\r\n       </defs>\r\n       <use xlink:href=\"#DejaVuSans-30\"/>\r\n      </g>\r\n     </g>\r\n    </g>\r\n    <g id=\"xtick_2\">\r\n     <g id=\"line2d_3\">\r\n      <path clip-path=\"url(#pcd72be4ee4)\" d=\"M 118.858005 224.64 \r\nL 118.858005 7.2 \r\n\" style=\"fill:none;stroke:#b0b0b0;stroke-linecap:square;stroke-width:0.8;\"/>\r\n     </g>\r\n     <g id=\"line2d_4\">\r\n      <g>\r\n       <use style=\"stroke:#000000;stroke-width:0.8;\" x=\"118.858005\" xlink:href=\"#mc4db116fde\" y=\"224.64\"/>\r\n      </g>\r\n     </g>\r\n     <g id=\"text_2\">\r\n      <!-- 100 -->\r\n      <g transform=\"translate(109.314255 239.238437)scale(0.1 -0.1)\">\r\n       <defs>\r\n        <path d=\"M 794 531 \r\nL 1825 531 \r\nL 1825 4091 \r\nL 703 3866 \r\nL 703 4441 \r\nL 1819 4666 \r\nL 2450 4666 \r\nL 2450 531 \r\nL 3481 531 \r\nL 3481 0 \r\nL 794 0 \r\nL 794 531 \r\nz\r\n\" id=\"DejaVuSans-31\" transform=\"scale(0.015625)\"/>\r\n       </defs>\r\n       <use xlink:href=\"#DejaVuSans-31\"/>\r\n       <use x=\"63.623047\" xlink:href=\"#DejaVuSans-30\"/>\r\n       <use x=\"127.246094\" xlink:href=\"#DejaVuSans-30\"/>\r\n      </g>\r\n     </g>\r\n    </g>\r\n    <g id=\"xtick_3\">\r\n     <g id=\"line2d_5\">\r\n      <path clip-path=\"url(#pcd72be4ee4)\" d=\"M 189.21132 224.64 \r\nL 189.21132 7.2 \r\n\" style=\"fill:none;stroke:#b0b0b0;stroke-linecap:square;stroke-width:0.8;\"/>\r\n     </g>\r\n     <g id=\"line2d_6\">\r\n      <g>\r\n       <use style=\"stroke:#000000;stroke-width:0.8;\" x=\"189.21132\" xlink:href=\"#mc4db116fde\" y=\"224.64\"/>\r\n      </g>\r\n     </g>\r\n     <g id=\"text_3\">\r\n      <!-- 200 -->\r\n      <g transform=\"translate(179.66757 239.238437)scale(0.1 -0.1)\">\r\n       <defs>\r\n        <path d=\"M 1228 531 \r\nL 3431 531 \r\nL 3431 0 \r\nL 469 0 \r\nL 469 531 \r\nQ 828 903 1448 1529 \r\nQ 2069 2156 2228 2338 \r\nQ 2531 2678 2651 2914 \r\nQ 2772 3150 2772 3378 \r\nQ 2772 3750 2511 3984 \r\nQ 2250 4219 1831 4219 \r\nQ 1534 4219 1204 4116 \r\nQ 875 4013 500 3803 \r\nL 500 4441 \r\nQ 881 4594 1212 4672 \r\nQ 1544 4750 1819 4750 \r\nQ 2544 4750 2975 4387 \r\nQ 3406 4025 3406 3419 \r\nQ 3406 3131 3298 2873 \r\nQ 3191 2616 2906 2266 \r\nQ 2828 2175 2409 1742 \r\nQ 1991 1309 1228 531 \r\nz\r\n\" id=\"DejaVuSans-32\" transform=\"scale(0.015625)\"/>\r\n       </defs>\r\n       <use xlink:href=\"#DejaVuSans-32\"/>\r\n       <use x=\"63.623047\" xlink:href=\"#DejaVuSans-30\"/>\r\n       <use x=\"127.246094\" xlink:href=\"#DejaVuSans-30\"/>\r\n      </g>\r\n     </g>\r\n    </g>\r\n    <g id=\"xtick_4\">\r\n     <g id=\"line2d_7\">\r\n      <path clip-path=\"url(#pcd72be4ee4)\" d=\"M 259.564635 224.64 \r\nL 259.564635 7.2 \r\n\" style=\"fill:none;stroke:#b0b0b0;stroke-linecap:square;stroke-width:0.8;\"/>\r\n     </g>\r\n     <g id=\"line2d_8\">\r\n      <g>\r\n       <use style=\"stroke:#000000;stroke-width:0.8;\" x=\"259.564635\" xlink:href=\"#mc4db116fde\" y=\"224.64\"/>\r\n      </g>\r\n     </g>\r\n     <g id=\"text_4\">\r\n      <!-- 300 -->\r\n      <g transform=\"translate(250.020885 239.238437)scale(0.1 -0.1)\">\r\n       <defs>\r\n        <path d=\"M 2597 2516 \r\nQ 3050 2419 3304 2112 \r\nQ 3559 1806 3559 1356 \r\nQ 3559 666 3084 287 \r\nQ 2609 -91 1734 -91 \r\nQ 1441 -91 1130 -33 \r\nQ 819 25 488 141 \r\nL 488 750 \r\nQ 750 597 1062 519 \r\nQ 1375 441 1716 441 \r\nQ 2309 441 2620 675 \r\nQ 2931 909 2931 1356 \r\nQ 2931 1769 2642 2001 \r\nQ 2353 2234 1838 2234 \r\nL 1294 2234 \r\nL 1294 2753 \r\nL 1863 2753 \r\nQ 2328 2753 2575 2939 \r\nQ 2822 3125 2822 3475 \r\nQ 2822 3834 2567 4026 \r\nQ 2313 4219 1838 4219 \r\nQ 1578 4219 1281 4162 \r\nQ 984 4106 628 3988 \r\nL 628 4550 \r\nQ 988 4650 1302 4700 \r\nQ 1616 4750 1894 4750 \r\nQ 2613 4750 3031 4423 \r\nQ 3450 4097 3450 3541 \r\nQ 3450 3153 3228 2886 \r\nQ 3006 2619 2597 2516 \r\nz\r\n\" id=\"DejaVuSans-33\" transform=\"scale(0.015625)\"/>\r\n       </defs>\r\n       <use xlink:href=\"#DejaVuSans-33\"/>\r\n       <use x=\"63.623047\" xlink:href=\"#DejaVuSans-30\"/>\r\n       <use x=\"127.246094\" xlink:href=\"#DejaVuSans-30\"/>\r\n      </g>\r\n     </g>\r\n    </g>\r\n    <g id=\"xtick_5\">\r\n     <g id=\"line2d_9\">\r\n      <path clip-path=\"url(#pcd72be4ee4)\" d=\"M 329.91795 224.64 \r\nL 329.91795 7.2 \r\n\" style=\"fill:none;stroke:#b0b0b0;stroke-linecap:square;stroke-width:0.8;\"/>\r\n     </g>\r\n     <g id=\"line2d_10\">\r\n      <g>\r\n       <use style=\"stroke:#000000;stroke-width:0.8;\" x=\"329.91795\" xlink:href=\"#mc4db116fde\" y=\"224.64\"/>\r\n      </g>\r\n     </g>\r\n     <g id=\"text_5\">\r\n      <!-- 400 -->\r\n      <g transform=\"translate(320.3742 239.238437)scale(0.1 -0.1)\">\r\n       <defs>\r\n        <path d=\"M 2419 4116 \r\nL 825 1625 \r\nL 2419 1625 \r\nL 2419 4116 \r\nz\r\nM 2253 4666 \r\nL 3047 4666 \r\nL 3047 1625 \r\nL 3713 1625 \r\nL 3713 1100 \r\nL 3047 1100 \r\nL 3047 0 \r\nL 2419 0 \r\nL 2419 1100 \r\nL 313 1100 \r\nL 313 1709 \r\nL 2253 4666 \r\nz\r\n\" id=\"DejaVuSans-34\" transform=\"scale(0.015625)\"/>\r\n       </defs>\r\n       <use xlink:href=\"#DejaVuSans-34\"/>\r\n       <use x=\"63.623047\" xlink:href=\"#DejaVuSans-30\"/>\r\n       <use x=\"127.246094\" xlink:href=\"#DejaVuSans-30\"/>\r\n      </g>\r\n     </g>\r\n    </g>\r\n   </g>\r\n   <g id=\"matplotlib.axis_2\">\r\n    <g id=\"ytick_1\">\r\n     <g id=\"line2d_11\">\r\n      <path clip-path=\"url(#pcd72be4ee4)\" d=\"M 33.2875 224.64 \r\nL 368.0875 224.64 \r\n\" style=\"fill:none;stroke:#b0b0b0;stroke-linecap:square;stroke-width:0.8;\"/>\r\n     </g>\r\n     <g id=\"line2d_12\">\r\n      <defs>\r\n       <path d=\"M 0 0 \r\nL -3.5 0 \r\n\" id=\"m8cebd06518\" style=\"stroke:#000000;stroke-width:0.8;\"/>\r\n      </defs>\r\n      <g>\r\n       <use style=\"stroke:#000000;stroke-width:0.8;\" x=\"33.2875\" xlink:href=\"#m8cebd06518\" y=\"224.64\"/>\r\n      </g>\r\n     </g>\r\n     <g id=\"text_6\">\r\n      <!-- 0 -->\r\n      <g transform=\"translate(19.925 228.439219)scale(0.1 -0.1)\">\r\n       <use xlink:href=\"#DejaVuSans-30\"/>\r\n      </g>\r\n     </g>\r\n    </g>\r\n    <g id=\"ytick_2\">\r\n     <g id=\"line2d_13\">\r\n      <path clip-path=\"url(#pcd72be4ee4)\" d=\"M 33.2875 197.953697 \r\nL 368.0875 197.953697 \r\n\" style=\"fill:none;stroke:#b0b0b0;stroke-linecap:square;stroke-width:0.8;\"/>\r\n     </g>\r\n     <g id=\"line2d_14\">\r\n      <g>\r\n       <use style=\"stroke:#000000;stroke-width:0.8;\" x=\"33.2875\" xlink:href=\"#m8cebd06518\" y=\"197.953697\"/>\r\n      </g>\r\n     </g>\r\n     <g id=\"text_7\">\r\n      <!-- 50 -->\r\n      <g transform=\"translate(13.5625 201.752915)scale(0.1 -0.1)\">\r\n       <defs>\r\n        <path d=\"M 691 4666 \r\nL 3169 4666 \r\nL 3169 4134 \r\nL 1269 4134 \r\nL 1269 2991 \r\nQ 1406 3038 1543 3061 \r\nQ 1681 3084 1819 3084 \r\nQ 2600 3084 3056 2656 \r\nQ 3513 2228 3513 1497 \r\nQ 3513 744 3044 326 \r\nQ 2575 -91 1722 -91 \r\nQ 1428 -91 1123 -41 \r\nQ 819 9 494 109 \r\nL 494 744 \r\nQ 775 591 1075 516 \r\nQ 1375 441 1709 441 \r\nQ 2250 441 2565 725 \r\nQ 2881 1009 2881 1497 \r\nQ 2881 1984 2565 2268 \r\nQ 2250 2553 1709 2553 \r\nQ 1456 2553 1204 2497 \r\nQ 953 2441 691 2322 \r\nL 691 4666 \r\nz\r\n\" id=\"DejaVuSans-35\" transform=\"scale(0.015625)\"/>\r\n       </defs>\r\n       <use xlink:href=\"#DejaVuSans-35\"/>\r\n       <use x=\"63.623047\" xlink:href=\"#DejaVuSans-30\"/>\r\n      </g>\r\n     </g>\r\n    </g>\r\n    <g id=\"ytick_3\">\r\n     <g id=\"line2d_15\">\r\n      <path clip-path=\"url(#pcd72be4ee4)\" d=\"M 33.2875 171.267393 \r\nL 368.0875 171.267393 \r\n\" style=\"fill:none;stroke:#b0b0b0;stroke-linecap:square;stroke-width:0.8;\"/>\r\n     </g>\r\n     <g id=\"line2d_16\">\r\n      <g>\r\n       <use style=\"stroke:#000000;stroke-width:0.8;\" x=\"33.2875\" xlink:href=\"#m8cebd06518\" y=\"171.267393\"/>\r\n      </g>\r\n     </g>\r\n     <g id=\"text_8\">\r\n      <!-- 100 -->\r\n      <g transform=\"translate(7.2 175.066612)scale(0.1 -0.1)\">\r\n       <use xlink:href=\"#DejaVuSans-31\"/>\r\n       <use x=\"63.623047\" xlink:href=\"#DejaVuSans-30\"/>\r\n       <use x=\"127.246094\" xlink:href=\"#DejaVuSans-30\"/>\r\n      </g>\r\n     </g>\r\n    </g>\r\n    <g id=\"ytick_4\">\r\n     <g id=\"line2d_17\">\r\n      <path clip-path=\"url(#pcd72be4ee4)\" d=\"M 33.2875 144.58109 \r\nL 368.0875 144.58109 \r\n\" style=\"fill:none;stroke:#b0b0b0;stroke-linecap:square;stroke-width:0.8;\"/>\r\n     </g>\r\n     <g id=\"line2d_18\">\r\n      <g>\r\n       <use style=\"stroke:#000000;stroke-width:0.8;\" x=\"33.2875\" xlink:href=\"#m8cebd06518\" y=\"144.58109\"/>\r\n      </g>\r\n     </g>\r\n     <g id=\"text_9\">\r\n      <!-- 150 -->\r\n      <g transform=\"translate(7.2 148.380309)scale(0.1 -0.1)\">\r\n       <use xlink:href=\"#DejaVuSans-31\"/>\r\n       <use x=\"63.623047\" xlink:href=\"#DejaVuSans-35\"/>\r\n       <use x=\"127.246094\" xlink:href=\"#DejaVuSans-30\"/>\r\n      </g>\r\n     </g>\r\n    </g>\r\n    <g id=\"ytick_5\">\r\n     <g id=\"line2d_19\">\r\n      <path clip-path=\"url(#pcd72be4ee4)\" d=\"M 33.2875 117.894786 \r\nL 368.0875 117.894786 \r\n\" style=\"fill:none;stroke:#b0b0b0;stroke-linecap:square;stroke-width:0.8;\"/>\r\n     </g>\r\n     <g id=\"line2d_20\">\r\n      <g>\r\n       <use style=\"stroke:#000000;stroke-width:0.8;\" x=\"33.2875\" xlink:href=\"#m8cebd06518\" y=\"117.894786\"/>\r\n      </g>\r\n     </g>\r\n     <g id=\"text_10\">\r\n      <!-- 200 -->\r\n      <g transform=\"translate(7.2 121.694005)scale(0.1 -0.1)\">\r\n       <use xlink:href=\"#DejaVuSans-32\"/>\r\n       <use x=\"63.623047\" xlink:href=\"#DejaVuSans-30\"/>\r\n       <use x=\"127.246094\" xlink:href=\"#DejaVuSans-30\"/>\r\n      </g>\r\n     </g>\r\n    </g>\r\n    <g id=\"ytick_6\">\r\n     <g id=\"line2d_21\">\r\n      <path clip-path=\"url(#pcd72be4ee4)\" d=\"M 33.2875 91.208483 \r\nL 368.0875 91.208483 \r\n\" style=\"fill:none;stroke:#b0b0b0;stroke-linecap:square;stroke-width:0.8;\"/>\r\n     </g>\r\n     <g id=\"line2d_22\">\r\n      <g>\r\n       <use style=\"stroke:#000000;stroke-width:0.8;\" x=\"33.2875\" xlink:href=\"#m8cebd06518\" y=\"91.208483\"/>\r\n      </g>\r\n     </g>\r\n     <g id=\"text_11\">\r\n      <!-- 250 -->\r\n      <g transform=\"translate(7.2 95.007702)scale(0.1 -0.1)\">\r\n       <use xlink:href=\"#DejaVuSans-32\"/>\r\n       <use x=\"63.623047\" xlink:href=\"#DejaVuSans-35\"/>\r\n       <use x=\"127.246094\" xlink:href=\"#DejaVuSans-30\"/>\r\n      </g>\r\n     </g>\r\n    </g>\r\n    <g id=\"ytick_7\">\r\n     <g id=\"line2d_23\">\r\n      <path clip-path=\"url(#pcd72be4ee4)\" d=\"M 33.2875 64.52218 \r\nL 368.0875 64.52218 \r\n\" style=\"fill:none;stroke:#b0b0b0;stroke-linecap:square;stroke-width:0.8;\"/>\r\n     </g>\r\n     <g id=\"line2d_24\">\r\n      <g>\r\n       <use style=\"stroke:#000000;stroke-width:0.8;\" x=\"33.2875\" xlink:href=\"#m8cebd06518\" y=\"64.52218\"/>\r\n      </g>\r\n     </g>\r\n     <g id=\"text_12\">\r\n      <!-- 300 -->\r\n      <g transform=\"translate(7.2 68.321398)scale(0.1 -0.1)\">\r\n       <use xlink:href=\"#DejaVuSans-33\"/>\r\n       <use x=\"63.623047\" xlink:href=\"#DejaVuSans-30\"/>\r\n       <use x=\"127.246094\" xlink:href=\"#DejaVuSans-30\"/>\r\n      </g>\r\n     </g>\r\n    </g>\r\n    <g id=\"ytick_8\">\r\n     <g id=\"line2d_25\">\r\n      <path clip-path=\"url(#pcd72be4ee4)\" d=\"M 33.2875 37.835876 \r\nL 368.0875 37.835876 \r\n\" style=\"fill:none;stroke:#b0b0b0;stroke-linecap:square;stroke-width:0.8;\"/>\r\n     </g>\r\n     <g id=\"line2d_26\">\r\n      <g>\r\n       <use style=\"stroke:#000000;stroke-width:0.8;\" x=\"33.2875\" xlink:href=\"#m8cebd06518\" y=\"37.835876\"/>\r\n      </g>\r\n     </g>\r\n     <g id=\"text_13\">\r\n      <!-- 350 -->\r\n      <g transform=\"translate(7.2 41.635095)scale(0.1 -0.1)\">\r\n       <use xlink:href=\"#DejaVuSans-33\"/>\r\n       <use x=\"63.623047\" xlink:href=\"#DejaVuSans-35\"/>\r\n       <use x=\"127.246094\" xlink:href=\"#DejaVuSans-30\"/>\r\n      </g>\r\n     </g>\r\n    </g>\r\n    <g id=\"ytick_9\">\r\n     <g id=\"line2d_27\">\r\n      <path clip-path=\"url(#pcd72be4ee4)\" d=\"M 33.2875 11.149573 \r\nL 368.0875 11.149573 \r\n\" style=\"fill:none;stroke:#b0b0b0;stroke-linecap:square;stroke-width:0.8;\"/>\r\n     </g>\r\n     <g id=\"line2d_28\">\r\n      <g>\r\n       <use style=\"stroke:#000000;stroke-width:0.8;\" x=\"33.2875\" xlink:href=\"#m8cebd06518\" y=\"11.149573\"/>\r\n      </g>\r\n     </g>\r\n     <g id=\"text_14\">\r\n      <!-- 400 -->\r\n      <g transform=\"translate(7.2 14.948792)scale(0.1 -0.1)\">\r\n       <use xlink:href=\"#DejaVuSans-34\"/>\r\n       <use x=\"63.623047\" xlink:href=\"#DejaVuSans-30\"/>\r\n       <use x=\"127.246094\" xlink:href=\"#DejaVuSans-30\"/>\r\n      </g>\r\n     </g>\r\n    </g>\r\n   </g>\r\n   <g id=\"patch_33\">\r\n    <path d=\"M 33.2875 224.64 \r\nL 33.2875 7.2 \r\n\" style=\"fill:none;stroke:#000000;stroke-linecap:square;stroke-linejoin:miter;stroke-width:0.8;\"/>\r\n   </g>\r\n   <g id=\"patch_34\">\r\n    <path d=\"M 368.0875 224.64 \r\nL 368.0875 7.2 \r\n\" style=\"fill:none;stroke:#000000;stroke-linecap:square;stroke-linejoin:miter;stroke-width:0.8;\"/>\r\n   </g>\r\n   <g id=\"patch_35\">\r\n    <path d=\"M 33.2875 224.64 \r\nL 368.0875 224.64 \r\n\" style=\"fill:none;stroke:#000000;stroke-linecap:square;stroke-linejoin:miter;stroke-width:0.8;\"/>\r\n   </g>\r\n   <g id=\"patch_36\">\r\n    <path d=\"M 33.2875 7.2 \r\nL 368.0875 7.2 \r\n\" style=\"fill:none;stroke:#000000;stroke-linecap:square;stroke-linejoin:miter;stroke-width:0.8;\"/>\r\n   </g>\r\n  </g>\r\n </g>\r\n <defs>\r\n  <clipPath id=\"pcd72be4ee4\">\r\n   <rect height=\"217.44\" width=\"334.8\" x=\"33.2875\" y=\"7.2\"/>\r\n  </clipPath>\r\n </defs>\r\n</svg>\r\n",
      "image/png": "[encoded data removed]"
     },
     "metadata": {
      "needs_background": "light"
     }
    }
   ],
   "source": [
    "feature_coeffstd_sort.iloc[:,0].hist(bins=30)"
   ]
  },
  {
   "cell_type": "code",
   "execution_count": 33,
   "metadata": {},
   "outputs": [
    {
     "output_type": "execute_result",
     "data": {
      "text/plain": [
       "<AxesSubplot:>"
      ]
     },
     "metadata": {},
     "execution_count": 33
    },
    {
     "output_type": "display_data",
     "data": {
      "text/plain": "<Figure size 432x288 with 1 Axes>",
      "image/svg+xml": "<?xml version=\"1.0\" encoding=\"utf-8\" standalone=\"no\"?>\r\n<!DOCTYPE svg PUBLIC \"-//W3C//DTD SVG 1.1//EN\"\r\n  \"http://www.w3.org/Graphics/SVG/1.1/DTD/svg11.dtd\">\r\n<svg height=\"248.518125pt\" version=\"1.1\" viewBox=\"0 0 369.660276 248.518125\" width=\"369.660276pt\" xmlns=\"http://www.w3.org/2000/svg\" xmlns:xlink=\"http://www.w3.org/1999/xlink\">\r\n <metadata>\r\n  <rdf:RDF xmlns:cc=\"http://creativecommons.org/ns#\" xmlns:dc=\"http://purl.org/dc/elements/1.1/\" xmlns:rdf=\"http://www.w3.org/1999/02/22-rdf-syntax-ns#\">\r\n   <cc:Work>\r\n    <dc:type rdf:resource=\"http://purl.org/dc/dcmitype/StillImage\"/>\r\n    <dc:date>2021-05-07T19:56:05.040947</dc:date>\r\n    <dc:format>image/svg+xml</dc:format>\r\n    <dc:creator>\r\n     <cc:Agent>\r\n      <dc:title>Matplotlib v3.4.1, https://matplotlib.org/</dc:title>\r\n     </cc:Agent>\r\n    </dc:creator>\r\n   </cc:Work>\r\n  </rdf:RDF>\r\n </metadata>\r\n <defs>\r\n  <style type=\"text/css\">*{stroke-linecap:butt;stroke-linejoin:round;}</style>\r\n </defs>\r\n <g id=\"figure_1\">\r\n  <g id=\"patch_1\">\r\n   <path d=\"M -0 248.518125 \r\nL 369.660276 248.518125 \r\nL 369.660276 0 \r\nL -0 0 \r\nz\r\n\" style=\"fill:none;\"/>\r\n  </g>\r\n  <g id=\"axes_1\">\r\n   <g id=\"patch_2\">\r\n    <path d=\"M 26.925 224.64 \r\nL 361.725 224.64 \r\nL 361.725 7.2 \r\nL 26.925 7.2 \r\nz\r\n\" style=\"fill:#ffffff;\"/>\r\n   </g>\r\n   <g id=\"patch_3\">\r\n    <path clip-path=\"url(#p72c3fc8591)\" d=\"M 42.143182 224.64 \r\nL 52.288636 224.64 \r\nL 52.288636 34.811429 \r\nL 42.143182 34.811429 \r\nz\r\n\" style=\"fill:#1f77b4;\"/>\r\n   </g>\r\n   <g id=\"patch_4\">\r\n    <path clip-path=\"url(#p72c3fc8591)\" d=\"M 52.288636 224.64 \r\nL 62.434091 224.64 \r\nL 62.434091 17.554286 \r\nL 52.288636 17.554286 \r\nz\r\n\" style=\"fill:#1f77b4;\"/>\r\n   </g>\r\n   <g id=\"patch_5\">\r\n    <path clip-path=\"url(#p72c3fc8591)\" d=\"M 62.434091 224.64 \r\nL 72.579545 224.64 \r\nL 72.579545 103.84 \r\nL 62.434091 103.84 \r\nz\r\n\" style=\"fill:#1f77b4;\"/>\r\n   </g>\r\n   <g id=\"patch_6\">\r\n    <path clip-path=\"url(#p72c3fc8591)\" d=\"M 72.579545 224.64 \r\nL 82.725 224.64 \r\nL 82.725 138.354286 \r\nL 72.579545 138.354286 \r\nz\r\n\" style=\"fill:#1f77b4;\"/>\r\n   </g>\r\n   <g id=\"patch_7\">\r\n    <path clip-path=\"url(#p72c3fc8591)\" d=\"M 82.725 224.64 \r\nL 92.870455 224.64 \r\nL 92.870455 86.582857 \r\nL 82.725 86.582857 \r\nz\r\n\" style=\"fill:#1f77b4;\"/>\r\n   </g>\r\n   <g id=\"patch_8\">\r\n    <path clip-path=\"url(#p72c3fc8591)\" d=\"M 92.870455 224.64 \r\nL 103.015909 224.64 \r\nL 103.015909 172.868571 \r\nL 92.870455 172.868571 \r\nz\r\n\" style=\"fill:#1f77b4;\"/>\r\n   </g>\r\n   <g id=\"patch_9\">\r\n    <path clip-path=\"url(#p72c3fc8591)\" d=\"M 103.015909 224.64 \r\nL 113.161364 224.64 \r\nL 113.161364 207.382857 \r\nL 103.015909 207.382857 \r\nz\r\n\" style=\"fill:#1f77b4;\"/>\r\n   </g>\r\n   <g id=\"patch_10\">\r\n    <path clip-path=\"url(#p72c3fc8591)\" d=\"M 113.161364 224.64 \r\nL 123.306818 224.64 \r\nL 123.306818 190.125714 \r\nL 113.161364 190.125714 \r\nz\r\n\" style=\"fill:#1f77b4;\"/>\r\n   </g>\r\n   <g id=\"patch_11\">\r\n    <path clip-path=\"url(#p72c3fc8591)\" d=\"M 123.306818 224.64 \r\nL 133.452273 224.64 \r\nL 133.452273 172.868571 \r\nL 123.306818 172.868571 \r\nz\r\n\" style=\"fill:#1f77b4;\"/>\r\n   </g>\r\n   <g id=\"patch_12\">\r\n    <path clip-path=\"url(#p72c3fc8591)\" d=\"M 133.452273 224.64 \r\nL 143.597727 224.64 \r\nL 143.597727 190.125714 \r\nL 133.452273 190.125714 \r\nz\r\n\" style=\"fill:#1f77b4;\"/>\r\n   </g>\r\n   <g id=\"patch_13\">\r\n    <path clip-path=\"url(#p72c3fc8591)\" d=\"M 143.597727 224.64 \r\nL 153.743182 224.64 \r\nL 153.743182 155.611429 \r\nL 143.597727 155.611429 \r\nz\r\n\" style=\"fill:#1f77b4;\"/>\r\n   </g>\r\n   <g id=\"patch_14\">\r\n    <path clip-path=\"url(#p72c3fc8591)\" d=\"M 153.743182 224.64 \r\nL 163.888636 224.64 \r\nL 163.888636 207.382857 \r\nL 153.743182 207.382857 \r\nz\r\n\" style=\"fill:#1f77b4;\"/>\r\n   </g>\r\n   <g id=\"patch_15\">\r\n    <path clip-path=\"url(#p72c3fc8591)\" d=\"M 163.888636 224.64 \r\nL 174.034091 224.64 \r\nL 174.034091 190.125714 \r\nL 163.888636 190.125714 \r\nz\r\n\" style=\"fill:#1f77b4;\"/>\r\n   </g>\r\n   <g id=\"patch_16\">\r\n    <path clip-path=\"url(#p72c3fc8591)\" d=\"M 174.034091 224.64 \r\nL 184.179545 224.64 \r\nL 184.179545 121.097143 \r\nL 174.034091 121.097143 \r\nz\r\n\" style=\"fill:#1f77b4;\"/>\r\n   </g>\r\n   <g id=\"patch_17\">\r\n    <path clip-path=\"url(#p72c3fc8591)\" d=\"M 184.179545 224.64 \r\nL 194.325 224.64 \r\nL 194.325 121.097143 \r\nL 184.179545 121.097143 \r\nz\r\n\" style=\"fill:#1f77b4;\"/>\r\n   </g>\r\n   <g id=\"patch_18\">\r\n    <path clip-path=\"url(#p72c3fc8591)\" d=\"M 194.325 224.64 \r\nL 204.470455 224.64 \r\nL 204.470455 138.354286 \r\nL 194.325 138.354286 \r\nz\r\n\" style=\"fill:#1f77b4;\"/>\r\n   </g>\r\n   <g id=\"patch_19\">\r\n    <path clip-path=\"url(#p72c3fc8591)\" d=\"M 204.470455 224.64 \r\nL 214.615909 224.64 \r\nL 214.615909 155.611429 \r\nL 204.470455 155.611429 \r\nz\r\n\" style=\"fill:#1f77b4;\"/>\r\n   </g>\r\n   <g id=\"patch_20\">\r\n    <path clip-path=\"url(#p72c3fc8591)\" d=\"M 214.615909 224.64 \r\nL 224.761364 224.64 \r\nL 224.761364 155.611429 \r\nL 214.615909 155.611429 \r\nz\r\n\" style=\"fill:#1f77b4;\"/>\r\n   </g>\r\n   <g id=\"patch_21\">\r\n    <path clip-path=\"url(#p72c3fc8591)\" d=\"M 224.761364 224.64 \r\nL 234.906818 224.64 \r\nL 234.906818 155.611429 \r\nL 224.761364 155.611429 \r\nz\r\n\" style=\"fill:#1f77b4;\"/>\r\n   </g>\r\n   <g id=\"patch_22\">\r\n    <path clip-path=\"url(#p72c3fc8591)\" d=\"M 234.906818 224.64 \r\nL 245.052273 224.64 \r\nL 245.052273 190.125714 \r\nL 234.906818 190.125714 \r\nz\r\n\" style=\"fill:#1f77b4;\"/>\r\n   </g>\r\n   <g id=\"patch_23\">\r\n    <path clip-path=\"url(#p72c3fc8591)\" d=\"M 245.052273 224.64 \r\nL 255.197727 224.64 \r\nL 255.197727 190.125714 \r\nL 245.052273 190.125714 \r\nz\r\n\" style=\"fill:#1f77b4;\"/>\r\n   </g>\r\n   <g id=\"patch_24\">\r\n    <path clip-path=\"url(#p72c3fc8591)\" d=\"M 255.197727 224.64 \r\nL 265.343182 224.64 \r\nL 265.343182 207.382857 \r\nL 255.197727 207.382857 \r\nz\r\n\" style=\"fill:#1f77b4;\"/>\r\n   </g>\r\n   <g id=\"patch_25\">\r\n    <path clip-path=\"url(#p72c3fc8591)\" d=\"M 265.343182 224.64 \r\nL 275.488636 224.64 \r\nL 275.488636 86.582857 \r\nL 265.343182 86.582857 \r\nz\r\n\" style=\"fill:#1f77b4;\"/>\r\n   </g>\r\n   <g id=\"patch_26\">\r\n    <path clip-path=\"url(#p72c3fc8591)\" d=\"M 275.488636 224.64 \r\nL 285.634091 224.64 \r\nL 285.634091 207.382857 \r\nL 275.488636 207.382857 \r\nz\r\n\" style=\"fill:#1f77b4;\"/>\r\n   </g>\r\n   <g id=\"patch_27\">\r\n    <path clip-path=\"url(#p72c3fc8591)\" d=\"M 285.634091 224.64 \r\nL 295.779545 224.64 \r\nL 295.779545 121.097143 \r\nL 285.634091 121.097143 \r\nz\r\n\" style=\"fill:#1f77b4;\"/>\r\n   </g>\r\n   <g id=\"patch_28\">\r\n    <path clip-path=\"url(#p72c3fc8591)\" d=\"M 295.779545 224.64 \r\nL 305.925 224.64 \r\nL 305.925 172.868571 \r\nL 295.779545 172.868571 \r\nz\r\n\" style=\"fill:#1f77b4;\"/>\r\n   </g>\r\n   <g id=\"patch_29\">\r\n    <path clip-path=\"url(#p72c3fc8591)\" d=\"M 305.925 224.64 \r\nL 316.070455 224.64 \r\nL 316.070455 207.382857 \r\nL 305.925 207.382857 \r\nz\r\n\" style=\"fill:#1f77b4;\"/>\r\n   </g>\r\n   <g id=\"patch_30\">\r\n    <path clip-path=\"url(#p72c3fc8591)\" d=\"M 316.070455 224.64 \r\nL 326.215909 224.64 \r\nL 326.215909 121.097143 \r\nL 316.070455 121.097143 \r\nz\r\n\" style=\"fill:#1f77b4;\"/>\r\n   </g>\r\n   <g id=\"patch_31\">\r\n    <path clip-path=\"url(#p72c3fc8591)\" d=\"M 326.215909 224.64 \r\nL 336.361364 224.64 \r\nL 336.361364 138.354286 \r\nL 326.215909 138.354286 \r\nz\r\n\" style=\"fill:#1f77b4;\"/>\r\n   </g>\r\n   <g id=\"patch_32\">\r\n    <path clip-path=\"url(#p72c3fc8591)\" d=\"M 336.361364 224.64 \r\nL 346.506818 224.64 \r\nL 346.506818 138.354286 \r\nL 336.361364 138.354286 \r\nz\r\n\" style=\"fill:#1f77b4;\"/>\r\n   </g>\r\n   <g id=\"matplotlib.axis_1\">\r\n    <g id=\"xtick_1\">\r\n     <g id=\"line2d_1\">\r\n      <path clip-path=\"url(#p72c3fc8591)\" d=\"M 41.702353 224.64 \r\nL 41.702353 7.2 \r\n\" style=\"fill:none;stroke:#b0b0b0;stroke-linecap:square;stroke-width:0.8;\"/>\r\n     </g>\r\n     <g id=\"line2d_2\">\r\n      <defs>\r\n       <path d=\"M 0 0 \r\nL 0 3.5 \r\n\" id=\"m4cee15123b\" style=\"stroke:#000000;stroke-width:0.8;\"/>\r\n      </defs>\r\n      <g>\r\n       <use style=\"stroke:#000000;stroke-width:0.8;\" x=\"41.702353\" xlink:href=\"#m4cee15123b\" y=\"224.64\"/>\r\n      </g>\r\n     </g>\r\n     <g id=\"text_1\">\r\n      <!-- 0.0 -->\r\n      <g transform=\"translate(33.75079 239.238437)scale(0.1 -0.1)\">\r\n       <defs>\r\n        <path d=\"M 2034 4250 \r\nQ 1547 4250 1301 3770 \r\nQ 1056 3291 1056 2328 \r\nQ 1056 1369 1301 889 \r\nQ 1547 409 2034 409 \r\nQ 2525 409 2770 889 \r\nQ 3016 1369 3016 2328 \r\nQ 3016 3291 2770 3770 \r\nQ 2525 4250 2034 4250 \r\nz\r\nM 2034 4750 \r\nQ 2819 4750 3233 4129 \r\nQ 3647 3509 3647 2328 \r\nQ 3647 1150 3233 529 \r\nQ 2819 -91 2034 -91 \r\nQ 1250 -91 836 529 \r\nQ 422 1150 422 2328 \r\nQ 422 3509 836 4129 \r\nQ 1250 4750 2034 4750 \r\nz\r\n\" id=\"DejaVuSans-30\" transform=\"scale(0.015625)\"/>\r\n        <path d=\"M 684 794 \r\nL 1344 794 \r\nL 1344 0 \r\nL 684 0 \r\nL 684 794 \r\nz\r\n\" id=\"DejaVuSans-2e\" transform=\"scale(0.015625)\"/>\r\n       </defs>\r\n       <use xlink:href=\"#DejaVuSans-30\"/>\r\n       <use x=\"63.623047\" xlink:href=\"#DejaVuSans-2e\"/>\r\n       <use x=\"95.410156\" xlink:href=\"#DejaVuSans-30\"/>\r\n      </g>\r\n     </g>\r\n    </g>\r\n    <g id=\"xtick_2\">\r\n     <g id=\"line2d_3\">\r\n      <path clip-path=\"url(#p72c3fc8591)\" d=\"M 104.263625 224.64 \r\nL 104.263625 7.2 \r\n\" style=\"fill:none;stroke:#b0b0b0;stroke-linecap:square;stroke-width:0.8;\"/>\r\n     </g>\r\n     <g id=\"line2d_4\">\r\n      <g>\r\n       <use style=\"stroke:#000000;stroke-width:0.8;\" x=\"104.263625\" xlink:href=\"#m4cee15123b\" y=\"224.64\"/>\r\n      </g>\r\n     </g>\r\n     <g id=\"text_2\">\r\n      <!-- 0.2 -->\r\n      <g transform=\"translate(96.312062 239.238437)scale(0.1 -0.1)\">\r\n       <defs>\r\n        <path d=\"M 1228 531 \r\nL 3431 531 \r\nL 3431 0 \r\nL 469 0 \r\nL 469 531 \r\nQ 828 903 1448 1529 \r\nQ 2069 2156 2228 2338 \r\nQ 2531 2678 2651 2914 \r\nQ 2772 3150 2772 3378 \r\nQ 2772 3750 2511 3984 \r\nQ 2250 4219 1831 4219 \r\nQ 1534 4219 1204 4116 \r\nQ 875 4013 500 3803 \r\nL 500 4441 \r\nQ 881 4594 1212 4672 \r\nQ 1544 4750 1819 4750 \r\nQ 2544 4750 2975 4387 \r\nQ 3406 4025 3406 3419 \r\nQ 3406 3131 3298 2873 \r\nQ 3191 2616 2906 2266 \r\nQ 2828 2175 2409 1742 \r\nQ 1991 1309 1228 531 \r\nz\r\n\" id=\"DejaVuSans-32\" transform=\"scale(0.015625)\"/>\r\n       </defs>\r\n       <use xlink:href=\"#DejaVuSans-30\"/>\r\n       <use x=\"63.623047\" xlink:href=\"#DejaVuSans-2e\"/>\r\n       <use x=\"95.410156\" xlink:href=\"#DejaVuSans-32\"/>\r\n      </g>\r\n     </g>\r\n    </g>\r\n    <g id=\"xtick_3\">\r\n     <g id=\"line2d_5\">\r\n      <path clip-path=\"url(#p72c3fc8591)\" d=\"M 166.824897 224.64 \r\nL 166.824897 7.2 \r\n\" style=\"fill:none;stroke:#b0b0b0;stroke-linecap:square;stroke-width:0.8;\"/>\r\n     </g>\r\n     <g id=\"line2d_6\">\r\n      <g>\r\n       <use style=\"stroke:#000000;stroke-width:0.8;\" x=\"166.824897\" xlink:href=\"#m4cee15123b\" y=\"224.64\"/>\r\n      </g>\r\n     </g>\r\n     <g id=\"text_3\">\r\n      <!-- 0.4 -->\r\n      <g transform=\"translate(158.873334 239.238437)scale(0.1 -0.1)\">\r\n       <defs>\r\n        <path d=\"M 2419 4116 \r\nL 825 1625 \r\nL 2419 1625 \r\nL 2419 4116 \r\nz\r\nM 2253 4666 \r\nL 3047 4666 \r\nL 3047 1625 \r\nL 3713 1625 \r\nL 3713 1100 \r\nL 3047 1100 \r\nL 3047 0 \r\nL 2419 0 \r\nL 2419 1100 \r\nL 313 1100 \r\nL 313 1709 \r\nL 2253 4666 \r\nz\r\n\" id=\"DejaVuSans-34\" transform=\"scale(0.015625)\"/>\r\n       </defs>\r\n       <use xlink:href=\"#DejaVuSans-30\"/>\r\n       <use x=\"63.623047\" xlink:href=\"#DejaVuSans-2e\"/>\r\n       <use x=\"95.410156\" xlink:href=\"#DejaVuSans-34\"/>\r\n      </g>\r\n     </g>\r\n    </g>\r\n    <g id=\"xtick_4\">\r\n     <g id=\"line2d_7\">\r\n      <path clip-path=\"url(#p72c3fc8591)\" d=\"M 229.386169 224.64 \r\nL 229.386169 7.2 \r\n\" style=\"fill:none;stroke:#b0b0b0;stroke-linecap:square;stroke-width:0.8;\"/>\r\n     </g>\r\n     <g id=\"line2d_8\">\r\n      <g>\r\n       <use style=\"stroke:#000000;stroke-width:0.8;\" x=\"229.386169\" xlink:href=\"#m4cee15123b\" y=\"224.64\"/>\r\n      </g>\r\n     </g>\r\n     <g id=\"text_4\">\r\n      <!-- 0.6 -->\r\n      <g transform=\"translate(221.434607 239.238437)scale(0.1 -0.1)\">\r\n       <defs>\r\n        <path d=\"M 2113 2584 \r\nQ 1688 2584 1439 2293 \r\nQ 1191 2003 1191 1497 \r\nQ 1191 994 1439 701 \r\nQ 1688 409 2113 409 \r\nQ 2538 409 2786 701 \r\nQ 3034 994 3034 1497 \r\nQ 3034 2003 2786 2293 \r\nQ 2538 2584 2113 2584 \r\nz\r\nM 3366 4563 \r\nL 3366 3988 \r\nQ 3128 4100 2886 4159 \r\nQ 2644 4219 2406 4219 \r\nQ 1781 4219 1451 3797 \r\nQ 1122 3375 1075 2522 \r\nQ 1259 2794 1537 2939 \r\nQ 1816 3084 2150 3084 \r\nQ 2853 3084 3261 2657 \r\nQ 3669 2231 3669 1497 \r\nQ 3669 778 3244 343 \r\nQ 2819 -91 2113 -91 \r\nQ 1303 -91 875 529 \r\nQ 447 1150 447 2328 \r\nQ 447 3434 972 4092 \r\nQ 1497 4750 2381 4750 \r\nQ 2619 4750 2861 4703 \r\nQ 3103 4656 3366 4563 \r\nz\r\n\" id=\"DejaVuSans-36\" transform=\"scale(0.015625)\"/>\r\n       </defs>\r\n       <use xlink:href=\"#DejaVuSans-30\"/>\r\n       <use x=\"63.623047\" xlink:href=\"#DejaVuSans-2e\"/>\r\n       <use x=\"95.410156\" xlink:href=\"#DejaVuSans-36\"/>\r\n      </g>\r\n     </g>\r\n    </g>\r\n    <g id=\"xtick_5\">\r\n     <g id=\"line2d_9\">\r\n      <path clip-path=\"url(#p72c3fc8591)\" d=\"M 291.947441 224.64 \r\nL 291.947441 7.2 \r\n\" style=\"fill:none;stroke:#b0b0b0;stroke-linecap:square;stroke-width:0.8;\"/>\r\n     </g>\r\n     <g id=\"line2d_10\">\r\n      <g>\r\n       <use style=\"stroke:#000000;stroke-width:0.8;\" x=\"291.947441\" xlink:href=\"#m4cee15123b\" y=\"224.64\"/>\r\n      </g>\r\n     </g>\r\n     <g id=\"text_5\">\r\n      <!-- 0.8 -->\r\n      <g transform=\"translate(283.995879 239.238437)scale(0.1 -0.1)\">\r\n       <defs>\r\n        <path d=\"M 2034 2216 \r\nQ 1584 2216 1326 1975 \r\nQ 1069 1734 1069 1313 \r\nQ 1069 891 1326 650 \r\nQ 1584 409 2034 409 \r\nQ 2484 409 2743 651 \r\nQ 3003 894 3003 1313 \r\nQ 3003 1734 2745 1975 \r\nQ 2488 2216 2034 2216 \r\nz\r\nM 1403 2484 \r\nQ 997 2584 770 2862 \r\nQ 544 3141 544 3541 \r\nQ 544 4100 942 4425 \r\nQ 1341 4750 2034 4750 \r\nQ 2731 4750 3128 4425 \r\nQ 3525 4100 3525 3541 \r\nQ 3525 3141 3298 2862 \r\nQ 3072 2584 2669 2484 \r\nQ 3125 2378 3379 2068 \r\nQ 3634 1759 3634 1313 \r\nQ 3634 634 3220 271 \r\nQ 2806 -91 2034 -91 \r\nQ 1263 -91 848 271 \r\nQ 434 634 434 1313 \r\nQ 434 1759 690 2068 \r\nQ 947 2378 1403 2484 \r\nz\r\nM 1172 3481 \r\nQ 1172 3119 1398 2916 \r\nQ 1625 2713 2034 2713 \r\nQ 2441 2713 2670 2916 \r\nQ 2900 3119 2900 3481 \r\nQ 2900 3844 2670 4047 \r\nQ 2441 4250 2034 4250 \r\nQ 1625 4250 1398 4047 \r\nQ 1172 3844 1172 3481 \r\nz\r\n\" id=\"DejaVuSans-38\" transform=\"scale(0.015625)\"/>\r\n       </defs>\r\n       <use xlink:href=\"#DejaVuSans-30\"/>\r\n       <use x=\"63.623047\" xlink:href=\"#DejaVuSans-2e\"/>\r\n       <use x=\"95.410156\" xlink:href=\"#DejaVuSans-38\"/>\r\n      </g>\r\n     </g>\r\n    </g>\r\n    <g id=\"xtick_6\">\r\n     <g id=\"line2d_11\">\r\n      <path clip-path=\"url(#p72c3fc8591)\" d=\"M 354.508713 224.64 \r\nL 354.508713 7.2 \r\n\" style=\"fill:none;stroke:#b0b0b0;stroke-linecap:square;stroke-width:0.8;\"/>\r\n     </g>\r\n     <g id=\"line2d_12\">\r\n      <g>\r\n       <use style=\"stroke:#000000;stroke-width:0.8;\" x=\"354.508713\" xlink:href=\"#m4cee15123b\" y=\"224.64\"/>\r\n      </g>\r\n     </g>\r\n     <g id=\"text_6\">\r\n      <!-- 1.0 -->\r\n      <g transform=\"translate(346.557151 239.238437)scale(0.1 -0.1)\">\r\n       <defs>\r\n        <path d=\"M 794 531 \r\nL 1825 531 \r\nL 1825 4091 \r\nL 703 3866 \r\nL 703 4441 \r\nL 1819 4666 \r\nL 2450 4666 \r\nL 2450 531 \r\nL 3481 531 \r\nL 3481 0 \r\nL 794 0 \r\nL 794 531 \r\nz\r\n\" id=\"DejaVuSans-31\" transform=\"scale(0.015625)\"/>\r\n       </defs>\r\n       <use xlink:href=\"#DejaVuSans-31\"/>\r\n       <use x=\"63.623047\" xlink:href=\"#DejaVuSans-2e\"/>\r\n       <use x=\"95.410156\" xlink:href=\"#DejaVuSans-30\"/>\r\n      </g>\r\n     </g>\r\n    </g>\r\n   </g>\r\n   <g id=\"matplotlib.axis_2\">\r\n    <g id=\"ytick_1\">\r\n     <g id=\"line2d_13\">\r\n      <path clip-path=\"url(#p72c3fc8591)\" d=\"M 26.925 224.64 \r\nL 361.725 224.64 \r\n\" style=\"fill:none;stroke:#b0b0b0;stroke-linecap:square;stroke-width:0.8;\"/>\r\n     </g>\r\n     <g id=\"line2d_14\">\r\n      <defs>\r\n       <path d=\"M 0 0 \r\nL -3.5 0 \r\n\" id=\"mc5bd6dfbc2\" style=\"stroke:#000000;stroke-width:0.8;\"/>\r\n      </defs>\r\n      <g>\r\n       <use style=\"stroke:#000000;stroke-width:0.8;\" x=\"26.925\" xlink:href=\"#mc5bd6dfbc2\" y=\"224.64\"/>\r\n      </g>\r\n     </g>\r\n     <g id=\"text_7\">\r\n      <!-- 0 -->\r\n      <g transform=\"translate(13.5625 228.439219)scale(0.1 -0.1)\">\r\n       <use xlink:href=\"#DejaVuSans-30\"/>\r\n      </g>\r\n     </g>\r\n    </g>\r\n    <g id=\"ytick_2\">\r\n     <g id=\"line2d_15\">\r\n      <path clip-path=\"url(#p72c3fc8591)\" d=\"M 26.925 190.125714 \r\nL 361.725 190.125714 \r\n\" style=\"fill:none;stroke:#b0b0b0;stroke-linecap:square;stroke-width:0.8;\"/>\r\n     </g>\r\n     <g id=\"line2d_16\">\r\n      <g>\r\n       <use style=\"stroke:#000000;stroke-width:0.8;\" x=\"26.925\" xlink:href=\"#mc5bd6dfbc2\" y=\"190.125714\"/>\r\n      </g>\r\n     </g>\r\n     <g id=\"text_8\">\r\n      <!-- 2 -->\r\n      <g transform=\"translate(13.5625 193.924933)scale(0.1 -0.1)\">\r\n       <use xlink:href=\"#DejaVuSans-32\"/>\r\n      </g>\r\n     </g>\r\n    </g>\r\n    <g id=\"ytick_3\">\r\n     <g id=\"line2d_17\">\r\n      <path clip-path=\"url(#p72c3fc8591)\" d=\"M 26.925 155.611429 \r\nL 361.725 155.611429 \r\n\" style=\"fill:none;stroke:#b0b0b0;stroke-linecap:square;stroke-width:0.8;\"/>\r\n     </g>\r\n     <g id=\"line2d_18\">\r\n      <g>\r\n       <use style=\"stroke:#000000;stroke-width:0.8;\" x=\"26.925\" xlink:href=\"#mc5bd6dfbc2\" y=\"155.611429\"/>\r\n      </g>\r\n     </g>\r\n     <g id=\"text_9\">\r\n      <!-- 4 -->\r\n      <g transform=\"translate(13.5625 159.410647)scale(0.1 -0.1)\">\r\n       <use xlink:href=\"#DejaVuSans-34\"/>\r\n      </g>\r\n     </g>\r\n    </g>\r\n    <g id=\"ytick_4\">\r\n     <g id=\"line2d_19\">\r\n      <path clip-path=\"url(#p72c3fc8591)\" d=\"M 26.925 121.097143 \r\nL 361.725 121.097143 \r\n\" style=\"fill:none;stroke:#b0b0b0;stroke-linecap:square;stroke-width:0.8;\"/>\r\n     </g>\r\n     <g id=\"line2d_20\">\r\n      <g>\r\n       <use style=\"stroke:#000000;stroke-width:0.8;\" x=\"26.925\" xlink:href=\"#mc5bd6dfbc2\" y=\"121.097143\"/>\r\n      </g>\r\n     </g>\r\n     <g id=\"text_10\">\r\n      <!-- 6 -->\r\n      <g transform=\"translate(13.5625 124.896362)scale(0.1 -0.1)\">\r\n       <use xlink:href=\"#DejaVuSans-36\"/>\r\n      </g>\r\n     </g>\r\n    </g>\r\n    <g id=\"ytick_5\">\r\n     <g id=\"line2d_21\">\r\n      <path clip-path=\"url(#p72c3fc8591)\" d=\"M 26.925 86.582857 \r\nL 361.725 86.582857 \r\n\" style=\"fill:none;stroke:#b0b0b0;stroke-linecap:square;stroke-width:0.8;\"/>\r\n     </g>\r\n     <g id=\"line2d_22\">\r\n      <g>\r\n       <use style=\"stroke:#000000;stroke-width:0.8;\" x=\"26.925\" xlink:href=\"#mc5bd6dfbc2\" y=\"86.582857\"/>\r\n      </g>\r\n     </g>\r\n     <g id=\"text_11\">\r\n      <!-- 8 -->\r\n      <g transform=\"translate(13.5625 90.382076)scale(0.1 -0.1)\">\r\n       <use xlink:href=\"#DejaVuSans-38\"/>\r\n      </g>\r\n     </g>\r\n    </g>\r\n    <g id=\"ytick_6\">\r\n     <g id=\"line2d_23\">\r\n      <path clip-path=\"url(#p72c3fc8591)\" d=\"M 26.925 52.068571 \r\nL 361.725 52.068571 \r\n\" style=\"fill:none;stroke:#b0b0b0;stroke-linecap:square;stroke-width:0.8;\"/>\r\n     </g>\r\n     <g id=\"line2d_24\">\r\n      <g>\r\n       <use style=\"stroke:#000000;stroke-width:0.8;\" x=\"26.925\" xlink:href=\"#mc5bd6dfbc2\" y=\"52.068571\"/>\r\n      </g>\r\n     </g>\r\n     <g id=\"text_12\">\r\n      <!-- 10 -->\r\n      <g transform=\"translate(7.2 55.86779)scale(0.1 -0.1)\">\r\n       <use xlink:href=\"#DejaVuSans-31\"/>\r\n       <use x=\"63.623047\" xlink:href=\"#DejaVuSans-30\"/>\r\n      </g>\r\n     </g>\r\n    </g>\r\n    <g id=\"ytick_7\">\r\n     <g id=\"line2d_25\">\r\n      <path clip-path=\"url(#p72c3fc8591)\" d=\"M 26.925 17.554286 \r\nL 361.725 17.554286 \r\n\" style=\"fill:none;stroke:#b0b0b0;stroke-linecap:square;stroke-width:0.8;\"/>\r\n     </g>\r\n     <g id=\"line2d_26\">\r\n      <g>\r\n       <use style=\"stroke:#000000;stroke-width:0.8;\" x=\"26.925\" xlink:href=\"#mc5bd6dfbc2\" y=\"17.554286\"/>\r\n      </g>\r\n     </g>\r\n     <g id=\"text_13\">\r\n      <!-- 12 -->\r\n      <g transform=\"translate(7.2 21.353504)scale(0.1 -0.1)\">\r\n       <use xlink:href=\"#DejaVuSans-31\"/>\r\n       <use x=\"63.623047\" xlink:href=\"#DejaVuSans-32\"/>\r\n      </g>\r\n     </g>\r\n    </g>\r\n   </g>\r\n   <g id=\"patch_33\">\r\n    <path d=\"M 26.925 224.64 \r\nL 26.925 7.2 \r\n\" style=\"fill:none;stroke:#000000;stroke-linecap:square;stroke-linejoin:miter;stroke-width:0.8;\"/>\r\n   </g>\r\n   <g id=\"patch_34\">\r\n    <path d=\"M 361.725 224.64 \r\nL 361.725 7.2 \r\n\" style=\"fill:none;stroke:#000000;stroke-linecap:square;stroke-linejoin:miter;stroke-width:0.8;\"/>\r\n   </g>\r\n   <g id=\"patch_35\">\r\n    <path d=\"M 26.925 224.64 \r\nL 361.725 224.64 \r\n\" style=\"fill:none;stroke:#000000;stroke-linecap:square;stroke-linejoin:miter;stroke-width:0.8;\"/>\r\n   </g>\r\n   <g id=\"patch_36\">\r\n    <path d=\"M 26.925 7.2 \r\nL 361.725 7.2 \r\n\" style=\"fill:none;stroke:#000000;stroke-linecap:square;stroke-linejoin:miter;stroke-width:0.8;\"/>\r\n   </g>\r\n  </g>\r\n </g>\r\n <defs>\r\n  <clipPath id=\"p72c3fc8591\">\r\n   <rect height=\"217.44\" width=\"334.8\" x=\"26.925\" y=\"7.2\"/>\r\n  </clipPath>\r\n </defs>\r\n</svg>\r\n",
      "image/png": "[encoded data removed]"
     },
     "metadata": {
      "needs_background": "light"
     }
    }
   ],
   "source": [
    "feature_coeffstd_sort.iloc[0:130,0].hist(bins=30)"
   ]
  },
  {
   "cell_type": "code",
   "execution_count": 34,
   "metadata": {},
   "outputs": [],
   "source": [
    "feature_index = feature_coeffstd_sort.index"
   ]
  },
  {
   "cell_type": "code",
   "execution_count": 35,
   "metadata": {},
   "outputs": [],
   "source": [
    "feature_least_volatiles = []\n",
    "for i in range(0,len(feature_index)) :\n",
    "    if i <= round(len(feature_coeffstd_sort)*0.05,0): \n",
    "        feature_least_volatiles.append(feature_index[i])"
   ]
  },
  {
   "cell_type": "code",
   "execution_count": 36,
   "metadata": {},
   "outputs": [
    {
     "output_type": "execute_result",
     "data": {
      "text/plain": [
       "23"
      ]
     },
     "metadata": {},
     "execution_count": 36
    }
   ],
   "source": [
    "len(feature_least_volatiles)"
   ]
  },
  {
   "cell_type": "code",
   "execution_count": 37,
   "metadata": {},
   "outputs": [],
   "source": [
    "feature_least_var = []\n",
    "for i in range(0,len(feature_index)) :\n",
    "    if feature_coeffstd_sort.iloc[i,0] <= 1 : \n",
    "        feature_least_var.append(feature_index[i])"
   ]
  },
  {
   "cell_type": "code",
   "execution_count": 38,
   "metadata": {},
   "outputs": [
    {
     "output_type": "execute_result",
     "data": {
      "text/plain": [
       "135"
      ]
     },
     "metadata": {},
     "execution_count": 38
    }
   ],
   "source": [
    "len(feature_least_var)"
   ]
  },
  {
   "cell_type": "code",
   "execution_count": 39,
   "metadata": {},
   "outputs": [
    {
     "output_type": "stream",
     "name": "stderr",
     "text": [
      "C:\\Users\\fjorg\\AppData\\Local\\Programs\\Python\\Python39\\lib\\site-packages\\pandas\\core\\frame.py:4308: SettingWithCopyWarning:\n\n\nA value is trying to be set on a copy of a slice from a DataFrame\n\nSee the caveats in the documentation: https://pandas.pydata.org/pandas-docs/stable/user_guide/indexing.html#returning-a-view-versus-a-copy\n\n"
     ]
    }
   ],
   "source": [
    "#we can decide to use \"feature_least_volatiles\" or \"feature_least_var\" to drop features\n",
    "x_train.drop(feature_least_volatiles, axis = 1, inplace = True)"
   ]
  },
  {
   "cell_type": "code",
   "execution_count": 40,
   "metadata": {},
   "outputs": [
    {
     "output_type": "execute_result",
     "data": {
      "text/plain": [
       "(1253, 427)"
      ]
     },
     "metadata": {},
     "execution_count": 40
    }
   ],
   "source": [
    "x_train.shape"
   ]
  },
  {
   "source": [
    "## 4.Outlier Identification"
   ],
   "cell_type": "markdown",
   "metadata": {}
  },
  {
   "cell_type": "code",
   "execution_count": 41,
   "metadata": {},
   "outputs": [],
   "source": [
    "z_x_train= pd.DataFrame(stats.zscore(x_train,nan_policy='omit'))"
   ]
  },
  {
   "cell_type": "code",
   "execution_count": 42,
   "metadata": {},
   "outputs": [
    {
     "output_type": "execute_result",
     "data": {
      "text/plain": [
       "           0         1         2         3         4         5         6    \\\n",
       "0     0.122233 -0.137249  1.467605  0.086025 -0.057430  0.814147 -0.020251   \n",
       "1    -0.820960 -1.379534 -0.302014  0.101249 -0.033167 -0.570777  0.183135   \n",
       "2     0.102402 -0.684294  0.931923  1.463540 -0.051823 -0.913176  0.375816   \n",
       "3     1.078329 -0.203744  0.731281  2.468494 -0.050403 -2.023770  0.022567   \n",
       "4    -0.049862       NaN -0.946585 -0.548534 -0.050500  0.206569  0.097498   \n",
       "...        ...       ...       ...       ...       ...       ...       ...   \n",
       "1248 -0.838890 -0.520650 -0.387298 -0.150441 -0.052136  0.645995  0.343702   \n",
       "1249 -1.813187 -0.072854  1.938567  2.187048 -0.052754 -2.546011 -0.138001   \n",
       "1250 -0.615180 -0.545370  0.242426 -0.211335 -0.054830 -0.683406 -0.159410   \n",
       "1251 -0.756306 -0.205969  1.094115 -0.466076 -0.054908  0.219860 -0.277159   \n",
       "1252  0.789694  1.420953  0.510838  0.609679 -0.054918 -0.117867  0.311589   \n",
       "\n",
       "           7         8         9    ...       417       418       419  \\\n",
       "0     1.345737  0.174988 -0.747087  ... -0.264419  0.063091 -0.609761   \n",
       "1    -1.416011  0.838722 -0.137567  ...  4.719447  5.854373 -0.929500   \n",
       "2     0.967340  0.304684 -0.478078  ... -0.242386 -0.002108  2.645764   \n",
       "3    -1.479985  0.579332 -0.209511  ... -0.243865 -0.190608  0.175053   \n",
       "4    -1.063477  0.380975 -0.518565  ... -0.236076  0.515428  0.436658   \n",
       "...        ...       ...       ...  ...       ...       ...       ...   \n",
       "1248 -0.196432  0.922643  1.106055  ... -0.231513 -0.002336 -1.481777   \n",
       "1249  2.027666  1.113371 -0.541730  ... -0.232421 -0.162124  0.930800   \n",
       "1250 -0.870195 -0.069144 -0.913816  ... -0.250955  0.130227 -0.813231   \n",
       "1251  0.349384 -1.167737 -0.270124  ... -0.258033 -0.812900  0.698263   \n",
       "1252 -0.301240 -0.534520 -0.546924  ... -0.254884  0.025667  1.279606   \n",
       "\n",
       "           420       421       422       423       424       425       426  \n",
       "0     0.054366  0.053153  0.053074 -0.256815 -0.425326 -0.553038 -0.318940  \n",
       "1     0.175189  0.053153  0.172917 -0.628903  1.951141  2.033549  1.458167  \n",
       "2    -0.166269 -0.188836 -0.173306  1.746129  0.446444  0.794901 -0.561183  \n",
       "3    -0.034939 -0.067842 -0.033602 -0.209314 -0.150659 -0.261592 -0.214194  \n",
       "4    -0.092724 -0.116240 -0.092074  0.281526 -0.067064 -0.225161 -0.385468  \n",
       "...        ...       ...       ...       ...       ...       ...       ...  \n",
       "1248  0.001834 -0.116240  0.006195  0.289443 -1.249326 -1.245223 -0.802710  \n",
       "1249 -0.197788 -0.237234 -0.194325  1.437375  0.470328  0.867763 -0.507551  \n",
       "1250 -0.113737 -0.067842 -0.107726 -0.391400  1.760068  1.159209  0.909474  \n",
       "1251 -0.019179 -0.019444 -0.022890 -1.982671 -0.831355 -0.808054  1.825528  \n",
       "1252 -0.082218 -0.043643 -0.085446 -0.043062 -0.676108 -0.662331 -0.515237  \n",
       "\n",
       "[1253 rows x 427 columns]"
      ],
      "text/html": "<div>\n<style scoped>\n    .dataframe tbody tr th:only-of-type {\n        vertical-align: middle;\n    }\n\n    .dataframe tbody tr th {\n        vertical-align: top;\n    }\n\n    .dataframe thead th {\n        text-align: right;\n    }\n</style>\n<table border=\"1\" class=\"dataframe\">\n  <thead>\n    <tr style=\"text-align: right;\">\n      <th></th>\n      <th>0</th>\n      <th>1</th>\n      <th>2</th>\n      <th>3</th>\n      <th>4</th>\n      <th>5</th>\n      <th>6</th>\n      <th>7</th>\n      <th>8</th>\n      <th>9</th>\n      <th>...</th>\n      <th>417</th>\n      <th>418</th>\n      <th>419</th>\n      <th>420</th>\n      <th>421</th>\n      <th>422</th>\n      <th>423</th>\n      <th>424</th>\n      <th>425</th>\n      <th>426</th>\n    </tr>\n  </thead>\n  <tbody>\n    <tr>\n      <th>0</th>\n      <td>0.122233</td>\n      <td>-0.137249</td>\n      <td>1.467605</td>\n      <td>0.086025</td>\n      <td>-0.057430</td>\n      <td>0.814147</td>\n      <td>-0.020251</td>\n      <td>1.345737</td>\n      <td>0.174988</td>\n      <td>-0.747087</td>\n      <td>...</td>\n      <td>-0.264419</td>\n      <td>0.063091</td>\n      <td>-0.609761</td>\n      <td>0.054366</td>\n      <td>0.053153</td>\n      <td>0.053074</td>\n      <td>-0.256815</td>\n      <td>-0.425326</td>\n      <td>-0.553038</td>\n      <td>-0.318940</td>\n    </tr>\n    <tr>\n      <th>1</th>\n      <td>-0.820960</td>\n      <td>-1.379534</td>\n      <td>-0.302014</td>\n      <td>0.101249</td>\n      <td>-0.033167</td>\n      <td>-0.570777</td>\n      <td>0.183135</td>\n      <td>-1.416011</td>\n      <td>0.838722</td>\n      <td>-0.137567</td>\n      <td>...</td>\n      <td>4.719447</td>\n      <td>5.854373</td>\n      <td>-0.929500</td>\n      <td>0.175189</td>\n      <td>0.053153</td>\n      <td>0.172917</td>\n      <td>-0.628903</td>\n      <td>1.951141</td>\n      <td>2.033549</td>\n      <td>1.458167</td>\n    </tr>\n    <tr>\n      <th>2</th>\n      <td>0.102402</td>\n      <td>-0.684294</td>\n      <td>0.931923</td>\n      <td>1.463540</td>\n      <td>-0.051823</td>\n      <td>-0.913176</td>\n      <td>0.375816</td>\n      <td>0.967340</td>\n      <td>0.304684</td>\n      <td>-0.478078</td>\n      <td>...</td>\n      <td>-0.242386</td>\n      <td>-0.002108</td>\n      <td>2.645764</td>\n      <td>-0.166269</td>\n      <td>-0.188836</td>\n      <td>-0.173306</td>\n      <td>1.746129</td>\n      <td>0.446444</td>\n      <td>0.794901</td>\n      <td>-0.561183</td>\n    </tr>\n    <tr>\n      <th>3</th>\n      <td>1.078329</td>\n      <td>-0.203744</td>\n      <td>0.731281</td>\n      <td>2.468494</td>\n      <td>-0.050403</td>\n      <td>-2.023770</td>\n      <td>0.022567</td>\n      <td>-1.479985</td>\n      <td>0.579332</td>\n      <td>-0.209511</td>\n      <td>...</td>\n      <td>-0.243865</td>\n      <td>-0.190608</td>\n      <td>0.175053</td>\n      <td>-0.034939</td>\n      <td>-0.067842</td>\n      <td>-0.033602</td>\n      <td>-0.209314</td>\n      <td>-0.150659</td>\n      <td>-0.261592</td>\n      <td>-0.214194</td>\n    </tr>\n    <tr>\n      <th>4</th>\n      <td>-0.049862</td>\n      <td>NaN</td>\n      <td>-0.946585</td>\n      <td>-0.548534</td>\n      <td>-0.050500</td>\n      <td>0.206569</td>\n      <td>0.097498</td>\n      <td>-1.063477</td>\n      <td>0.380975</td>\n      <td>-0.518565</td>\n      <td>...</td>\n      <td>-0.236076</td>\n      <td>0.515428</td>\n      <td>0.436658</td>\n      <td>-0.092724</td>\n      <td>-0.116240</td>\n      <td>-0.092074</td>\n      <td>0.281526</td>\n      <td>-0.067064</td>\n      <td>-0.225161</td>\n      <td>-0.385468</td>\n    </tr>\n    <tr>\n      <th>...</th>\n      <td>...</td>\n      <td>...</td>\n      <td>...</td>\n      <td>...</td>\n      <td>...</td>\n      <td>...</td>\n      <td>...</td>\n      <td>...</td>\n      <td>...</td>\n      <td>...</td>\n      <td>...</td>\n      <td>...</td>\n      <td>...</td>\n      <td>...</td>\n      <td>...</td>\n      <td>...</td>\n      <td>...</td>\n      <td>...</td>\n      <td>...</td>\n      <td>...</td>\n      <td>...</td>\n    </tr>\n    <tr>\n      <th>1248</th>\n      <td>-0.838890</td>\n      <td>-0.520650</td>\n      <td>-0.387298</td>\n      <td>-0.150441</td>\n      <td>-0.052136</td>\n      <td>0.645995</td>\n      <td>0.343702</td>\n      <td>-0.196432</td>\n      <td>0.922643</td>\n      <td>1.106055</td>\n      <td>...</td>\n      <td>-0.231513</td>\n      <td>-0.002336</td>\n      <td>-1.481777</td>\n      <td>0.001834</td>\n      <td>-0.116240</td>\n      <td>0.006195</td>\n      <td>0.289443</td>\n      <td>-1.249326</td>\n      <td>-1.245223</td>\n      <td>-0.802710</td>\n    </tr>\n    <tr>\n      <th>1249</th>\n      <td>-1.813187</td>\n      <td>-0.072854</td>\n      <td>1.938567</td>\n      <td>2.187048</td>\n      <td>-0.052754</td>\n      <td>-2.546011</td>\n      <td>-0.138001</td>\n      <td>2.027666</td>\n      <td>1.113371</td>\n      <td>-0.541730</td>\n      <td>...</td>\n      <td>-0.232421</td>\n      <td>-0.162124</td>\n      <td>0.930800</td>\n      <td>-0.197788</td>\n      <td>-0.237234</td>\n      <td>-0.194325</td>\n      <td>1.437375</td>\n      <td>0.470328</td>\n      <td>0.867763</td>\n      <td>-0.507551</td>\n    </tr>\n    <tr>\n      <th>1250</th>\n      <td>-0.615180</td>\n      <td>-0.545370</td>\n      <td>0.242426</td>\n      <td>-0.211335</td>\n      <td>-0.054830</td>\n      <td>-0.683406</td>\n      <td>-0.159410</td>\n      <td>-0.870195</td>\n      <td>-0.069144</td>\n      <td>-0.913816</td>\n      <td>...</td>\n      <td>-0.250955</td>\n      <td>0.130227</td>\n      <td>-0.813231</td>\n      <td>-0.113737</td>\n      <td>-0.067842</td>\n      <td>-0.107726</td>\n      <td>-0.391400</td>\n      <td>1.760068</td>\n      <td>1.159209</td>\n      <td>0.909474</td>\n    </tr>\n    <tr>\n      <th>1251</th>\n      <td>-0.756306</td>\n      <td>-0.205969</td>\n      <td>1.094115</td>\n      <td>-0.466076</td>\n      <td>-0.054908</td>\n      <td>0.219860</td>\n      <td>-0.277159</td>\n      <td>0.349384</td>\n      <td>-1.167737</td>\n      <td>-0.270124</td>\n      <td>...</td>\n      <td>-0.258033</td>\n      <td>-0.812900</td>\n      <td>0.698263</td>\n      <td>-0.019179</td>\n      <td>-0.019444</td>\n      <td>-0.022890</td>\n      <td>-1.982671</td>\n      <td>-0.831355</td>\n      <td>-0.808054</td>\n      <td>1.825528</td>\n    </tr>\n    <tr>\n      <th>1252</th>\n      <td>0.789694</td>\n      <td>1.420953</td>\n      <td>0.510838</td>\n      <td>0.609679</td>\n      <td>-0.054918</td>\n      <td>-0.117867</td>\n      <td>0.311589</td>\n      <td>-0.301240</td>\n      <td>-0.534520</td>\n      <td>-0.546924</td>\n      <td>...</td>\n      <td>-0.254884</td>\n      <td>0.025667</td>\n      <td>1.279606</td>\n      <td>-0.082218</td>\n      <td>-0.043643</td>\n      <td>-0.085446</td>\n      <td>-0.043062</td>\n      <td>-0.676108</td>\n      <td>-0.662331</td>\n      <td>-0.515237</td>\n    </tr>\n  </tbody>\n</table>\n<p>1253 rows × 427 columns</p>\n</div>"
     },
     "metadata": {},
     "execution_count": 42
    }
   ],
   "source": [
    "z_x_train"
   ]
  },
  {
   "cell_type": "code",
   "execution_count": 43,
   "metadata": {
    "tags": []
   },
   "outputs": [],
   "source": [
    "i = 0\n",
    "for a in range(0,len(z_x_train.iloc[:,0])) :\n",
    "    for b in range(0,len(z_x_train.iloc[0,:])) :\n",
    "        if np.abs(z_x_train.iloc[a,b])>3 :\n",
    "            i = i+1"
   ]
  },
  {
   "cell_type": "code",
   "execution_count": 44,
   "metadata": {},
   "outputs": [
    {
     "output_type": "stream",
     "name": "stdout",
     "text": [
      "4786\n"
     ]
    }
   ],
   "source": [
    "print(i)"
   ]
  },
  {
   "cell_type": "code",
   "execution_count": 45,
   "metadata": {},
   "outputs": [
    {
     "output_type": "stream",
     "name": "stderr",
     "text": [
      "C:\\Users\\fjorg\\AppData\\Local\\Programs\\Python\\Python39\\lib\\site-packages\\pandas\\core\\indexing.py:1637: SettingWithCopyWarning:\n\n\nA value is trying to be set on a copy of a slice from a DataFrame\n\nSee the caveats in the documentation: https://pandas.pydata.org/pandas-docs/stable/user_guide/indexing.html#returning-a-view-versus-a-copy\n\nC:\\Users\\fjorg\\AppData\\Local\\Programs\\Python\\Python39\\lib\\site-packages\\pandas\\core\\indexing.py:692: SettingWithCopyWarning:\n\n\nA value is trying to be set on a copy of a slice from a DataFrame\n\nSee the caveats in the documentation: https://pandas.pydata.org/pandas-docs/stable/user_guide/indexing.html#returning-a-view-versus-a-copy\n\n"
     ]
    }
   ],
   "source": [
    "for a in range(0,len(z_x_train.iloc[:,0])) :\n",
    "    for b in range(0,len(z_x_train.iloc[0,:])) :\n",
    "        if np.abs(z_x_train.iloc[a,b])>3 :\n",
    "            s=np.std(x_train.iloc[:,b])\n",
    "            m=np.mean(x_train.iloc[:,b])\n",
    "            if z_x_train.iloc[a,b] > 0 :\n",
    "                x_train.iloc[a,b]=3*s + m\n",
    "            else:\n",
    "                x_train.iloc[a,b]=3*s - m"
   ]
  },
  {
   "cell_type": "code",
   "execution_count": null,
   "metadata": {},
   "outputs": [],
   "source": []
  }
 ],
 "metadata": {
  "kernelspec": {
   "name": "python390jvsc74a57bd0fe1a3cca23331e52749a774d91968eaaad2efe497e0e96a28018253b9a20794c",
   "display_name": "Python 3.9.0 64-bit"
  },
  "language_info": {
   "codemirror_mode": {
    "name": "ipython",
    "version": 3
   },
   "file_extension": ".py",
   "mimetype": "text/x-python",
   "name": "python",
   "nbconvert_exporter": "python",
   "pygments_lexer": "ipython3",
   "version": "3.9.0"
  },
  "metadata": {
   "interpreter": {
    "hash": "fe1a3cca23331e52749a774d91968eaaad2efe497e0e96a28018253b9a20794c"
   }
  }
 },
 "nbformat": 4,
 "nbformat_minor": 5
}
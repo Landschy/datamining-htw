{
 "cells": [
  {
   "source": [
    "## 1.Packages"
   ],
   "cell_type": "markdown",
   "metadata": {}
  },
  {
   "source": [
    "### 1.1.Install"
   ],
   "cell_type": "code",
   "metadata": {},
   "execution_count": null,
   "outputs": []
  },
  {
   "cell_type": "code",
   "execution_count": 1,
   "metadata": {},
   "outputs": [
    {
     "output_type": "stream",
     "name": "stdout",
     "text": [
      "Requirement already satisfied: numpy in c:\\users\\behzad\\anaconda3\\lib\\site-packages (1.18.5)\nNote: you may need to restart the kernel to use updated packages.\n"
     ]
    }
   ],
   "source": [
    "pip install numpy"
   ]
  },
  {
   "cell_type": "code",
   "execution_count": 2,
   "metadata": {},
   "outputs": [
    {
     "output_type": "stream",
     "name": "stdout",
     "text": [
      "Requirement already satisfied: pandas in c:\\users\\behzad\\anaconda3\\lib\\site-packages (1.0.5)\nRequirement already satisfied: python-dateutil>=2.6.1 in c:\\users\\behzad\\anaconda3\\lib\\site-packages (from pandas) (2.8.1)\nRequirement already satisfied: numpy>=1.13.3 in c:\\users\\behzad\\anaconda3\\lib\\site-packages (from pandas) (1.18.5)\nRequirement already satisfied: pytz>=2017.2 in c:\\users\\behzad\\anaconda3\\lib\\site-packages (from pandas) (2020.1)\nRequirement already satisfied: six>=1.5 in c:\\users\\behzad\\anaconda3\\lib\\site-packages (from python-dateutil>=2.6.1->pandas) (1.15.0)\nNote: you may need to restart the kernel to use updated packages.\n"
     ]
    }
   ],
   "source": [
    "pip install pandas"
   ]
  },
  {
   "cell_type": "code",
   "execution_count": 3,
   "metadata": {},
   "outputs": [
    {
     "output_type": "stream",
     "name": "stdout",
     "text": [
      "Requirement already satisfied: pyreadstat in c:\\users\\behzad\\anaconda3\\lib\\site-packages (1.1.0)\nRequirement already satisfied: pandas>0.24.0 in c:\\users\\behzad\\anaconda3\\lib\\site-packages (from pyreadstat) (1.0.5)\nRequirement already satisfied: pytz>=2017.2 in c:\\users\\behzad\\anaconda3\\lib\\site-packages (from pandas>0.24.0->pyreadstat) (2020.1)\nRequirement already satisfied: numpy>=1.13.3 in c:\\users\\behzad\\anaconda3\\lib\\site-packages (from pandas>0.24.0->pyreadstat) (1.18.5)\nRequirement already satisfied: python-dateutil>=2.6.1 in c:\\users\\behzad\\anaconda3\\lib\\site-packages (from pandas>0.24.0->pyreadstat) (2.8.1)\nRequirement already satisfied: six>=1.5 in c:\\users\\behzad\\anaconda3\\lib\\site-packages (from python-dateutil>=2.6.1->pandas>0.24.0->pyreadstat) (1.15.0)\nNote: you may need to restart the kernel to use updated packages.\n"
     ]
    }
   ],
   "source": [
    "pip install pyreadstat"
   ]
  },
  {
   "cell_type": "code",
   "execution_count": 4,
   "metadata": {},
   "outputs": [
    {
     "output_type": "stream",
     "name": "stdout",
     "text": [
      "Requirement already satisfied: scipy in c:\\users\\behzad\\anaconda3\\lib\\site-packages (1.5.0)\nRequirement already satisfied: numpy>=1.14.5 in c:\\users\\behzad\\anaconda3\\lib\\site-packages (from scipy) (1.18.5)\nNote: you may need to restart the kernel to use updated packages.\n"
     ]
    }
   ],
   "source": [
    "pip install scipy"
   ]
  },
  {
   "source": [
    "### 1.2.Import"
   ],
   "cell_type": "markdown",
   "metadata": {}
  },
  {
   "cell_type": "code",
   "execution_count": 1,
   "id": "b0c91ca5",
   "metadata": {},
   "outputs": [],
   "source": [
    "import numpy as np\n",
    "import pandas as pd\n",
    "import seaborn as sns\n",
    "import pyreadstat\n",
    "from sklearn.model_selection import KFold, ShuffleSplit, StratifiedKFold, StratifiedShuffleSplit, LeaveOneOut, train_test_split \n",
    "from scipy import stats"
   ]
  },
  {
   "source": [
    "## 2.Data"
   ],
   "cell_type": "markdown",
   "metadata": {}
  },
  {
   "cell_type": "markdown",
   "id": "b3d5aabc",
   "metadata": {},
   "source": [
    "### 2.1.Load Data"
   ]
  },
  {
   "cell_type": "code",
   "execution_count": 132,
   "id": "d6a3c9e3",
   "metadata": {
    "scrolled": true
   },
   "outputs": [
    {
     "output_type": "execute_result",
     "data": {
      "text/plain": [
       "(1567, 592)"
      ]
     },
     "metadata": {},
     "execution_count": 132
    }
   ],
   "source": [
    "# read data\n",
    "df = pd.DataFrame(pd.read_spss(\"../data/secom_mod.sav\"))\n",
    "df = df.set_index('ID')\n",
    "df.shape"
   ]
  },
  {
   "cell_type": "markdown",
   "id": "2f1c8861",
   "metadata": {},
   "source": [
    "### 2.2.Change \"class\" feature Type and Values"
   ]
  },
  {
   "cell_type": "code",
   "execution_count": 133,
   "id": "87802d43",
   "metadata": {},
   "outputs": [
    {
     "output_type": "execute_result",
     "data": {
      "text/plain": [
       "class         float64\n",
       "timestamp      object\n",
       "feature001    float64\n",
       "feature002    float64\n",
       "feature003    float64\n",
       "               ...   \n",
       "feature586    float64\n",
       "feature587    float64\n",
       "feature588    float64\n",
       "feature589    float64\n",
       "feature590    float64\n",
       "Length: 592, dtype: object"
      ]
     },
     "metadata": {},
     "execution_count": 133
    }
   ],
   "source": [
    "df.dtypes"
   ]
  },
  {
   "cell_type": "code",
   "execution_count": 134,
   "id": "c4a6e73a",
   "metadata": {},
   "outputs": [],
   "source": [
    "dict_temp = {0:'pass' ,1:'fail'}\n",
    "df['class'] = df['class'].map(dict_temp)"
   ]
  },
  {
   "cell_type": "code",
   "execution_count": 135,
   "id": "091d0917",
   "metadata": {},
   "outputs": [
    {
     "output_type": "execute_result",
     "data": {
      "text/plain": [
       "class          object\n",
       "timestamp      object\n",
       "feature001    float64\n",
       "feature002    float64\n",
       "feature003    float64\n",
       "               ...   \n",
       "feature586    float64\n",
       "feature587    float64\n",
       "feature588    float64\n",
       "feature589    float64\n",
       "feature590    float64\n",
       "Length: 592, dtype: object"
      ]
     },
     "metadata": {},
     "execution_count": 135
    }
   ],
   "source": [
    "df.dtypes"
   ]
  },
  {
   "source": [
    "### 2.3.Drop timestamp"
   ],
   "cell_type": "markdown",
   "metadata": {}
  },
  {
   "cell_type": "code",
   "execution_count": 136,
   "metadata": {},
   "outputs": [],
   "source": [
    "df = df.drop(columns='timestamp')"
   ]
  },
  {
   "cell_type": "markdown",
   "id": "44ef32f3",
   "metadata": {},
   "source": [
    "### 2.4.Splitting Traninig and Test Data "
   ]
  },
  {
   "cell_type": "code",
   "execution_count": 137,
   "metadata": {},
   "outputs": [],
   "source": [
    "y = df['class']\n",
    "x = df.drop('class', axis=1)"
   ]
  },
  {
   "cell_type": "code",
   "execution_count": 138,
   "metadata": {},
   "outputs": [],
   "source": [
    "x_train, x_test, y_train, y_test = train_test_split (x,y, test_size=0.2, random_state=40, shuffle=True, stratify=y)"
   ]
  },
  {
   "source": [
    "## 3.Feature Removal"
   ],
   "cell_type": "markdown",
   "metadata": {}
  },
  {
   "source": [
    "### 3.1.Constant"
   ],
   "cell_type": "markdown",
   "metadata": {}
  },
  {
   "cell_type": "code",
   "execution_count": 139,
   "metadata": {},
   "outputs": [
    {
     "output_type": "execute_result",
     "data": {
      "text/plain": [
       "(1253, 590)"
      ]
     },
     "metadata": {},
     "execution_count": 139
    }
   ],
   "source": [
    "x_train.shape"
   ]
  },
  {
   "cell_type": "code",
   "execution_count": 140,
   "metadata": {},
   "outputs": [
    {
     "output_type": "execute_result",
     "data": {
      "text/plain": [
       "116"
      ]
     },
     "metadata": {},
     "execution_count": 140
    }
   ],
   "source": [
    "len(x_train[x_train.columns[x_train.nunique() == 1]].columns)"
   ]
  },
  {
   "cell_type": "code",
   "execution_count": 141,
   "metadata": {},
   "outputs": [
    {
     "output_type": "stream",
     "name": "stderr",
     "text": [
      "C:\\Users\\Behzad\\anaconda3\\lib\\site-packages\\pandas\\core\\frame.py:3990: SettingWithCopyWarning: \nA value is trying to be set on a copy of a slice from a DataFrame\n\nSee the caveats in the documentation: https://pandas.pydata.org/pandas-docs/stable/user_guide/indexing.html#returning-a-view-versus-a-copy\n  return super().drop(\n"
     ]
    }
   ],
   "source": [
    "x_train.drop(list(x_train[x_train.columns[x_train.nunique() == 1]].columns), axis = 1, inplace = True)"
   ]
  },
  {
   "cell_type": "code",
   "execution_count": 142,
   "metadata": {},
   "outputs": [
    {
     "output_type": "execute_result",
     "data": {
      "text/plain": [
       "(1253, 474)"
      ]
     },
     "metadata": {},
     "execution_count": 142
    }
   ],
   "source": [
    "x_train.shape"
   ]
  },
  {
   "source": [
    "### 3.2.With more than 55% Na"
   ],
   "cell_type": "markdown",
   "metadata": {}
  },
  {
   "cell_type": "code",
   "execution_count": 143,
   "metadata": {},
   "outputs": [
    {
     "output_type": "execute_result",
     "data": {
      "text/plain": [
       "24"
      ]
     },
     "metadata": {},
     "execution_count": 143
    }
   ],
   "source": [
    "feature_na_sum = pd.DataFrame((x_train.isna()).sum())\n",
    "feature_na_55 = feature_na_sum[feature_na_sum[0]>=(len(x_train.loc[:,])*55/100)].index\n",
    "len(feature_na_55)"
   ]
  },
  {
   "cell_type": "code",
   "execution_count": 144,
   "metadata": {},
   "outputs": [],
   "source": [
    "x_train.drop(feature_na_55, axis = 1, inplace = True)"
   ]
  },
  {
   "source": [
    "### 3.3.least volatile"
   ],
   "cell_type": "markdown",
   "metadata": {}
  },
  {
   "cell_type": "code",
   "execution_count": 145,
   "metadata": {},
   "outputs": [
    {
     "output_type": "execute_result",
     "data": {
      "text/plain": [
       "        feature001  feature002  feature003  feature004  feature005  \\\n",
       "ID                                                                   \n",
       "567.0      3023.07     2484.55   2242.8555   1430.7270      0.8832   \n",
       "1261.0     2953.63     2384.04   2191.2111   1437.5003      2.2073   \n",
       "1041.0     3021.61     2440.29   2227.2222   2043.5876      1.1892   \n",
       "1181.0     3093.46     2479.17   2221.3667   2490.6947      1.2667   \n",
       "611.0      3010.40         NaN   2172.4000   1148.4101      1.2614   \n",
       "...            ...         ...         ...         ...         ...   \n",
       "806.0      2952.31     2453.53   2188.7222   1325.5230      1.1721   \n",
       "1101.0     2880.58     2489.76   2256.6000   2365.4787      1.1384   \n",
       "1469.0     2968.78     2451.53   2207.1000   1298.4309      1.0251   \n",
       "234.0      2958.39     2478.99   2231.9556   1185.0959      1.0208   \n",
       "645.0      3072.21     2610.62   2214.9333   1663.7024      1.0203   \n",
       "\n",
       "        feature007  feature008  feature009  feature010  feature011  ...  \\\n",
       "ID                                                                  ...   \n",
       "567.0     106.2100      0.1216      1.5613     -0.0028      0.0008  ...   \n",
       "1261.0     97.6444      0.1235      1.3584     -0.0024     -0.0048  ...   \n",
       "1041.0     95.5267      0.1253      1.5335     -0.0083     -0.0095  ...   \n",
       "1181.0     88.6578      0.1220      1.3537      0.0134     -0.0039  ...   \n",
       "611.0     102.4522      0.1227      1.3843     -0.0010     -0.0004  ...   \n",
       "...            ...         ...         ...         ...         ...  ...   \n",
       "806.0     105.1700      0.1250      1.4480     -0.0233      0.0087  ...   \n",
       "1101.0     85.4278      0.1205      1.6114      0.0484      0.0043  ...   \n",
       "1469.0     96.9478      0.1203      1.3985     -0.0105     -0.0140  ...   \n",
       "234.0     102.5344      0.1192      1.4881     -0.0054     -0.0037  ...   \n",
       "645.0     100.4456      0.1247      1.4403     -0.0169      0.0213  ...   \n",
       "\n",
       "        feature577  feature578  feature583  feature584  feature585  \\\n",
       "ID                                                                   \n",
       "567.0       1.1395     17.5289      0.4979      0.0165      0.0041   \n",
       "1261.0     86.7573     91.1106      0.4968      0.0188      0.0041   \n",
       "1041.0      1.5180     16.7005      0.5091      0.0123      0.0031   \n",
       "1181.0      1.4926     14.3055      0.5006      0.0148      0.0036   \n",
       "611.0       1.6264     23.2761      0.5015      0.0137      0.0034   \n",
       "...            ...         ...         ...         ...         ...   \n",
       "806.0       1.7048     16.6976      0.4949      0.0155      0.0034   \n",
       "1101.0      1.6892     14.6674      0.5032      0.0117      0.0029   \n",
       "1469.0      1.3708     18.3819      0.4972      0.0133      0.0036   \n",
       "234.0       1.2492      6.3989      0.5024      0.0151      0.0038   \n",
       "645.0       1.3033     17.0534      0.5044      0.0139      0.0037   \n",
       "\n",
       "        feature586  feature587  feature588  feature589  feature590  \n",
       "ID                                                                  \n",
       "567.0       3.3098      0.0184      0.0127      0.0037     68.7057  \n",
       "1261.0      3.7853      0.0137      0.0326      0.0108    237.4625  \n",
       "1041.0      2.4116      0.0437      0.0200      0.0074     45.7019  \n",
       "1181.0      2.9659      0.0190      0.0150      0.0045     78.6525  \n",
       "611.0       2.7339      0.0252      0.0157      0.0046     62.3881  \n",
       "...            ...         ...         ...         ...         ...  \n",
       "806.0       3.1238      0.0253      0.0058      0.0018     22.7661  \n",
       "1101.0      2.3282      0.0398      0.0202      0.0076     50.7949  \n",
       "1469.0      2.6718      0.0167      0.0310      0.0084    185.3578  \n",
       "234.0       3.0084     -0.0034      0.0093      0.0030    272.3477  \n",
       "645.0       2.7602      0.0211      0.0106      0.0034     50.0650  \n",
       "\n",
       "[1253 rows x 450 columns]"
      ],
      "text/html": "<div>\n<style scoped>\n    .dataframe tbody tr th:only-of-type {\n        vertical-align: middle;\n    }\n\n    .dataframe tbody tr th {\n        vertical-align: top;\n    }\n\n    .dataframe thead th {\n        text-align: right;\n    }\n</style>\n<table border=\"1\" class=\"dataframe\">\n  <thead>\n    <tr style=\"text-align: right;\">\n      <th></th>\n      <th>feature001</th>\n      <th>feature002</th>\n      <th>feature003</th>\n      <th>feature004</th>\n      <th>feature005</th>\n      <th>feature007</th>\n      <th>feature008</th>\n      <th>feature009</th>\n      <th>feature010</th>\n      <th>feature011</th>\n      <th>...</th>\n      <th>feature577</th>\n      <th>feature578</th>\n      <th>feature583</th>\n      <th>feature584</th>\n      <th>feature585</th>\n      <th>feature586</th>\n      <th>feature587</th>\n      <th>feature588</th>\n      <th>feature589</th>\n      <th>feature590</th>\n    </tr>\n    <tr>\n      <th>ID</th>\n      <th></th>\n      <th></th>\n      <th></th>\n      <th></th>\n      <th></th>\n      <th></th>\n      <th></th>\n      <th></th>\n      <th></th>\n      <th></th>\n      <th></th>\n      <th></th>\n      <th></th>\n      <th></th>\n      <th></th>\n      <th></th>\n      <th></th>\n      <th></th>\n      <th></th>\n      <th></th>\n      <th></th>\n    </tr>\n  </thead>\n  <tbody>\n    <tr>\n      <th>567.0</th>\n      <td>3023.07</td>\n      <td>2484.55</td>\n      <td>2242.8555</td>\n      <td>1430.7270</td>\n      <td>0.8832</td>\n      <td>106.2100</td>\n      <td>0.1216</td>\n      <td>1.5613</td>\n      <td>-0.0028</td>\n      <td>0.0008</td>\n      <td>...</td>\n      <td>1.1395</td>\n      <td>17.5289</td>\n      <td>0.4979</td>\n      <td>0.0165</td>\n      <td>0.0041</td>\n      <td>3.3098</td>\n      <td>0.0184</td>\n      <td>0.0127</td>\n      <td>0.0037</td>\n      <td>68.7057</td>\n    </tr>\n    <tr>\n      <th>1261.0</th>\n      <td>2953.63</td>\n      <td>2384.04</td>\n      <td>2191.2111</td>\n      <td>1437.5003</td>\n      <td>2.2073</td>\n      <td>97.6444</td>\n      <td>0.1235</td>\n      <td>1.3584</td>\n      <td>-0.0024</td>\n      <td>-0.0048</td>\n      <td>...</td>\n      <td>86.7573</td>\n      <td>91.1106</td>\n      <td>0.4968</td>\n      <td>0.0188</td>\n      <td>0.0041</td>\n      <td>3.7853</td>\n      <td>0.0137</td>\n      <td>0.0326</td>\n      <td>0.0108</td>\n      <td>237.4625</td>\n    </tr>\n    <tr>\n      <th>1041.0</th>\n      <td>3021.61</td>\n      <td>2440.29</td>\n      <td>2227.2222</td>\n      <td>2043.5876</td>\n      <td>1.1892</td>\n      <td>95.5267</td>\n      <td>0.1253</td>\n      <td>1.5335</td>\n      <td>-0.0083</td>\n      <td>-0.0095</td>\n      <td>...</td>\n      <td>1.5180</td>\n      <td>16.7005</td>\n      <td>0.5091</td>\n      <td>0.0123</td>\n      <td>0.0031</td>\n      <td>2.4116</td>\n      <td>0.0437</td>\n      <td>0.0200</td>\n      <td>0.0074</td>\n      <td>45.7019</td>\n    </tr>\n    <tr>\n      <th>1181.0</th>\n      <td>3093.46</td>\n      <td>2479.17</td>\n      <td>2221.3667</td>\n      <td>2490.6947</td>\n      <td>1.2667</td>\n      <td>88.6578</td>\n      <td>0.1220</td>\n      <td>1.3537</td>\n      <td>0.0134</td>\n      <td>-0.0039</td>\n      <td>...</td>\n      <td>1.4926</td>\n      <td>14.3055</td>\n      <td>0.5006</td>\n      <td>0.0148</td>\n      <td>0.0036</td>\n      <td>2.9659</td>\n      <td>0.0190</td>\n      <td>0.0150</td>\n      <td>0.0045</td>\n      <td>78.6525</td>\n    </tr>\n    <tr>\n      <th>611.0</th>\n      <td>3010.40</td>\n      <td>NaN</td>\n      <td>2172.4000</td>\n      <td>1148.4101</td>\n      <td>1.2614</td>\n      <td>102.4522</td>\n      <td>0.1227</td>\n      <td>1.3843</td>\n      <td>-0.0010</td>\n      <td>-0.0004</td>\n      <td>...</td>\n      <td>1.6264</td>\n      <td>23.2761</td>\n      <td>0.5015</td>\n      <td>0.0137</td>\n      <td>0.0034</td>\n      <td>2.7339</td>\n      <td>0.0252</td>\n      <td>0.0157</td>\n      <td>0.0046</td>\n      <td>62.3881</td>\n    </tr>\n    <tr>\n      <th>...</th>\n      <td>...</td>\n      <td>...</td>\n      <td>...</td>\n      <td>...</td>\n      <td>...</td>\n      <td>...</td>\n      <td>...</td>\n      <td>...</td>\n      <td>...</td>\n      <td>...</td>\n      <td>...</td>\n      <td>...</td>\n      <td>...</td>\n      <td>...</td>\n      <td>...</td>\n      <td>...</td>\n      <td>...</td>\n      <td>...</td>\n      <td>...</td>\n      <td>...</td>\n      <td>...</td>\n    </tr>\n    <tr>\n      <th>806.0</th>\n      <td>2952.31</td>\n      <td>2453.53</td>\n      <td>2188.7222</td>\n      <td>1325.5230</td>\n      <td>1.1721</td>\n      <td>105.1700</td>\n      <td>0.1250</td>\n      <td>1.4480</td>\n      <td>-0.0233</td>\n      <td>0.0087</td>\n      <td>...</td>\n      <td>1.7048</td>\n      <td>16.6976</td>\n      <td>0.4949</td>\n      <td>0.0155</td>\n      <td>0.0034</td>\n      <td>3.1238</td>\n      <td>0.0253</td>\n      <td>0.0058</td>\n      <td>0.0018</td>\n      <td>22.7661</td>\n    </tr>\n    <tr>\n      <th>1101.0</th>\n      <td>2880.58</td>\n      <td>2489.76</td>\n      <td>2256.6000</td>\n      <td>2365.4787</td>\n      <td>1.1384</td>\n      <td>85.4278</td>\n      <td>0.1205</td>\n      <td>1.6114</td>\n      <td>0.0484</td>\n      <td>0.0043</td>\n      <td>...</td>\n      <td>1.6892</td>\n      <td>14.6674</td>\n      <td>0.5032</td>\n      <td>0.0117</td>\n      <td>0.0029</td>\n      <td>2.3282</td>\n      <td>0.0398</td>\n      <td>0.0202</td>\n      <td>0.0076</td>\n      <td>50.7949</td>\n    </tr>\n    <tr>\n      <th>1469.0</th>\n      <td>2968.78</td>\n      <td>2451.53</td>\n      <td>2207.1000</td>\n      <td>1298.4309</td>\n      <td>1.0251</td>\n      <td>96.9478</td>\n      <td>0.1203</td>\n      <td>1.3985</td>\n      <td>-0.0105</td>\n      <td>-0.0140</td>\n      <td>...</td>\n      <td>1.3708</td>\n      <td>18.3819</td>\n      <td>0.4972</td>\n      <td>0.0133</td>\n      <td>0.0036</td>\n      <td>2.6718</td>\n      <td>0.0167</td>\n      <td>0.0310</td>\n      <td>0.0084</td>\n      <td>185.3578</td>\n    </tr>\n    <tr>\n      <th>234.0</th>\n      <td>2958.39</td>\n      <td>2478.99</td>\n      <td>2231.9556</td>\n      <td>1185.0959</td>\n      <td>1.0208</td>\n      <td>102.5344</td>\n      <td>0.1192</td>\n      <td>1.4881</td>\n      <td>-0.0054</td>\n      <td>-0.0037</td>\n      <td>...</td>\n      <td>1.2492</td>\n      <td>6.3989</td>\n      <td>0.5024</td>\n      <td>0.0151</td>\n      <td>0.0038</td>\n      <td>3.0084</td>\n      <td>-0.0034</td>\n      <td>0.0093</td>\n      <td>0.0030</td>\n      <td>272.3477</td>\n    </tr>\n    <tr>\n      <th>645.0</th>\n      <td>3072.21</td>\n      <td>2610.62</td>\n      <td>2214.9333</td>\n      <td>1663.7024</td>\n      <td>1.0203</td>\n      <td>100.4456</td>\n      <td>0.1247</td>\n      <td>1.4403</td>\n      <td>-0.0169</td>\n      <td>0.0213</td>\n      <td>...</td>\n      <td>1.3033</td>\n      <td>17.0534</td>\n      <td>0.5044</td>\n      <td>0.0139</td>\n      <td>0.0037</td>\n      <td>2.7602</td>\n      <td>0.0211</td>\n      <td>0.0106</td>\n      <td>0.0034</td>\n      <td>50.0650</td>\n    </tr>\n  </tbody>\n</table>\n<p>1253 rows × 450 columns</p>\n</div>"
     },
     "metadata": {},
     "execution_count": 145
    }
   ],
   "source": [
    "x_train"
   ]
  },
  {
   "cell_type": "code",
   "execution_count": 146,
   "metadata": {},
   "outputs": [
    {
     "output_type": "execute_result",
     "data": {
      "text/plain": [
       "        feature002   feature003   feature004   feature005   feature007  \\\n",
       "count  1247.000000  1242.000000  1242.000000  1242.000000  1242.000000   \n",
       "mean   2495.654419  2200.025057  1392.454440     4.017364   101.174591   \n",
       "std      80.939817    29.195659   445.082171    54.595810     6.187379   \n",
       "min    2158.750000  2060.660000     0.000000     0.681500    82.131100   \n",
       "25%    2452.000000  2180.986050  1081.822175     1.005075    97.954450   \n",
       "50%    2498.300000  2200.233300  1281.786200     1.317100   101.599450   \n",
       "75%    2538.745000  2217.811100  1588.509000     1.525700   104.623925   \n",
       "max    2846.440000  2315.266700  3715.041700  1114.536600   129.252200   \n",
       "\n",
       "        feature008   feature009   feature010   feature011   feature012  ...  \\\n",
       "count  1248.000000  1252.000000  1252.000000  1252.000000  1252.000000  ...   \n",
       "mean      0.121789     1.462431    -0.000561     0.000013     0.964206  ...   \n",
       "std       0.009346     0.073497     0.015345     0.009408     0.013113  ...   \n",
       "min       0.000000     1.191000    -0.053400    -0.034900     0.655400  ...   \n",
       "25%       0.121100     1.411250    -0.010800    -0.005600     0.958000  ...   \n",
       "50%       0.122400     1.461950    -0.001000     0.000400     0.965800  ...   \n",
       "75%       0.123800     1.516825     0.008650     0.005700     0.971325  ...   \n",
       "max       0.128600     1.653900     0.074900     0.053000     0.984600  ...   \n",
       "\n",
       "        feature577   feature578   feature583   feature584   feature585  \\\n",
       "count  1253.000000  1253.000000  1252.000000  1252.000000  1252.000000   \n",
       "mean      5.681953    16.727285     0.499998     0.015465     0.003880   \n",
       "std      17.185851    12.710672     0.003442     0.019044     0.004134   \n",
       "min       0.663600     5.098600     0.477800     0.006000     0.001700   \n",
       "25%       1.412900    11.551000     0.497800     0.011600     0.003100   \n",
       "50%       1.631200    13.794100     0.500000     0.013800     0.003600   \n",
       "75%       1.904500    17.053400     0.502200     0.016500     0.004100   \n",
       "max      90.423500    96.960100     0.509800     0.476600     0.104500   \n",
       "\n",
       "        feature586   feature587   feature588   feature589   feature590  \n",
       "count  1252.000000  1252.000000  1252.000000  1252.000000  1252.000000  \n",
       "mean      3.099220     0.021644     0.016262     0.005218    98.992713  \n",
       "std       3.969263     0.012636     0.008377     0.002746    94.999511  \n",
       "min       1.197500    -0.006000     0.003200     0.001000     0.000000  \n",
       "25%       2.323775     0.013500     0.010600     0.003300    44.235500  \n",
       "50%       2.761900     0.020700     0.014800     0.004600    71.010800  \n",
       "75%       3.296275     0.027600     0.020300     0.006400   114.287800  \n",
       "max      99.303200     0.102800     0.079900     0.028600   737.304800  \n",
       "\n",
       "[8 rows x 449 columns]"
      ],
      "text/html": "<div>\n<style scoped>\n    .dataframe tbody tr th:only-of-type {\n        vertical-align: middle;\n    }\n\n    .dataframe tbody tr th {\n        vertical-align: top;\n    }\n\n    .dataframe thead th {\n        text-align: right;\n    }\n</style>\n<table border=\"1\" class=\"dataframe\">\n  <thead>\n    <tr style=\"text-align: right;\">\n      <th></th>\n      <th>feature002</th>\n      <th>feature003</th>\n      <th>feature004</th>\n      <th>feature005</th>\n      <th>feature007</th>\n      <th>feature008</th>\n      <th>feature009</th>\n      <th>feature010</th>\n      <th>feature011</th>\n      <th>feature012</th>\n      <th>...</th>\n      <th>feature577</th>\n      <th>feature578</th>\n      <th>feature583</th>\n      <th>feature584</th>\n      <th>feature585</th>\n      <th>feature586</th>\n      <th>feature587</th>\n      <th>feature588</th>\n      <th>feature589</th>\n      <th>feature590</th>\n    </tr>\n  </thead>\n  <tbody>\n    <tr>\n      <th>count</th>\n      <td>1247.000000</td>\n      <td>1242.000000</td>\n      <td>1242.000000</td>\n      <td>1242.000000</td>\n      <td>1242.000000</td>\n      <td>1248.000000</td>\n      <td>1252.000000</td>\n      <td>1252.000000</td>\n      <td>1252.000000</td>\n      <td>1252.000000</td>\n      <td>...</td>\n      <td>1253.000000</td>\n      <td>1253.000000</td>\n      <td>1252.000000</td>\n      <td>1252.000000</td>\n      <td>1252.000000</td>\n      <td>1252.000000</td>\n      <td>1252.000000</td>\n      <td>1252.000000</td>\n      <td>1252.000000</td>\n      <td>1252.000000</td>\n    </tr>\n    <tr>\n      <th>mean</th>\n      <td>2495.654419</td>\n      <td>2200.025057</td>\n      <td>1392.454440</td>\n      <td>4.017364</td>\n      <td>101.174591</td>\n      <td>0.121789</td>\n      <td>1.462431</td>\n      <td>-0.000561</td>\n      <td>0.000013</td>\n      <td>0.964206</td>\n      <td>...</td>\n      <td>5.681953</td>\n      <td>16.727285</td>\n      <td>0.499998</td>\n      <td>0.015465</td>\n      <td>0.003880</td>\n      <td>3.099220</td>\n      <td>0.021644</td>\n      <td>0.016262</td>\n      <td>0.005218</td>\n      <td>98.992713</td>\n    </tr>\n    <tr>\n      <th>std</th>\n      <td>80.939817</td>\n      <td>29.195659</td>\n      <td>445.082171</td>\n      <td>54.595810</td>\n      <td>6.187379</td>\n      <td>0.009346</td>\n      <td>0.073497</td>\n      <td>0.015345</td>\n      <td>0.009408</td>\n      <td>0.013113</td>\n      <td>...</td>\n      <td>17.185851</td>\n      <td>12.710672</td>\n      <td>0.003442</td>\n      <td>0.019044</td>\n      <td>0.004134</td>\n      <td>3.969263</td>\n      <td>0.012636</td>\n      <td>0.008377</td>\n      <td>0.002746</td>\n      <td>94.999511</td>\n    </tr>\n    <tr>\n      <th>min</th>\n      <td>2158.750000</td>\n      <td>2060.660000</td>\n      <td>0.000000</td>\n      <td>0.681500</td>\n      <td>82.131100</td>\n      <td>0.000000</td>\n      <td>1.191000</td>\n      <td>-0.053400</td>\n      <td>-0.034900</td>\n      <td>0.655400</td>\n      <td>...</td>\n      <td>0.663600</td>\n      <td>5.098600</td>\n      <td>0.477800</td>\n      <td>0.006000</td>\n      <td>0.001700</td>\n      <td>1.197500</td>\n      <td>-0.006000</td>\n      <td>0.003200</td>\n      <td>0.001000</td>\n      <td>0.000000</td>\n    </tr>\n    <tr>\n      <th>25%</th>\n      <td>2452.000000</td>\n      <td>2180.986050</td>\n      <td>1081.822175</td>\n      <td>1.005075</td>\n      <td>97.954450</td>\n      <td>0.121100</td>\n      <td>1.411250</td>\n      <td>-0.010800</td>\n      <td>-0.005600</td>\n      <td>0.958000</td>\n      <td>...</td>\n      <td>1.412900</td>\n      <td>11.551000</td>\n      <td>0.497800</td>\n      <td>0.011600</td>\n      <td>0.003100</td>\n      <td>2.323775</td>\n      <td>0.013500</td>\n      <td>0.010600</td>\n      <td>0.003300</td>\n      <td>44.235500</td>\n    </tr>\n    <tr>\n      <th>50%</th>\n      <td>2498.300000</td>\n      <td>2200.233300</td>\n      <td>1281.786200</td>\n      <td>1.317100</td>\n      <td>101.599450</td>\n      <td>0.122400</td>\n      <td>1.461950</td>\n      <td>-0.001000</td>\n      <td>0.000400</td>\n      <td>0.965800</td>\n      <td>...</td>\n      <td>1.631200</td>\n      <td>13.794100</td>\n      <td>0.500000</td>\n      <td>0.013800</td>\n      <td>0.003600</td>\n      <td>2.761900</td>\n      <td>0.020700</td>\n      <td>0.014800</td>\n      <td>0.004600</td>\n      <td>71.010800</td>\n    </tr>\n    <tr>\n      <th>75%</th>\n      <td>2538.745000</td>\n      <td>2217.811100</td>\n      <td>1588.509000</td>\n      <td>1.525700</td>\n      <td>104.623925</td>\n      <td>0.123800</td>\n      <td>1.516825</td>\n      <td>0.008650</td>\n      <td>0.005700</td>\n      <td>0.971325</td>\n      <td>...</td>\n      <td>1.904500</td>\n      <td>17.053400</td>\n      <td>0.502200</td>\n      <td>0.016500</td>\n      <td>0.004100</td>\n      <td>3.296275</td>\n      <td>0.027600</td>\n      <td>0.020300</td>\n      <td>0.006400</td>\n      <td>114.287800</td>\n    </tr>\n    <tr>\n      <th>max</th>\n      <td>2846.440000</td>\n      <td>2315.266700</td>\n      <td>3715.041700</td>\n      <td>1114.536600</td>\n      <td>129.252200</td>\n      <td>0.128600</td>\n      <td>1.653900</td>\n      <td>0.074900</td>\n      <td>0.053000</td>\n      <td>0.984600</td>\n      <td>...</td>\n      <td>90.423500</td>\n      <td>96.960100</td>\n      <td>0.509800</td>\n      <td>0.476600</td>\n      <td>0.104500</td>\n      <td>99.303200</td>\n      <td>0.102800</td>\n      <td>0.079900</td>\n      <td>0.028600</td>\n      <td>737.304800</td>\n    </tr>\n  </tbody>\n</table>\n<p>8 rows × 449 columns</p>\n</div>"
     },
     "metadata": {},
     "execution_count": 146
    }
   ],
   "source": [
    "summary = x_train.iloc[:,1:].describe(include='all')\n",
    "summary"
   ]
  },
  {
   "cell_type": "code",
   "execution_count": 147,
   "metadata": {},
   "outputs": [],
   "source": [
    "feature_std = pd.DataFrame(summary.loc['std',:])\n",
    "feature_coeffstd = pd.DataFrame(abs(summary.loc['mean',:])/summary.loc['std',:])"
   ]
  },
  {
   "cell_type": "code",
   "execution_count": 148,
   "metadata": {},
   "outputs": [
    {
     "output_type": "stream",
     "name": "stdout",
     "text": [
      "0.00010553287791485405\n6438.937158652615\n"
     ]
    }
   ],
   "source": [
    "print(min(feature_std.iloc[:,0]))\n",
    "print(max(feature_std.iloc[:,0]))"
   ]
  },
  {
   "cell_type": "code",
   "execution_count": 149,
   "metadata": {},
   "outputs": [
    {
     "output_type": "stream",
     "name": "stdout",
     "text": [
      "0.0014092718700624617\n432.62300952431787\n"
     ]
    }
   ],
   "source": [
    "print(min(feature_coeffstd.iloc[:,0]))\n",
    "print(max(feature_coeffstd.iloc[:,0]))"
   ]
  },
  {
   "cell_type": "code",
   "execution_count": 150,
   "metadata": {},
   "outputs": [],
   "source": [
    "feature_coeffstd_sort = feature_coeffstd.sort_values(by=[0])"
   ]
  },
  {
   "cell_type": "code",
   "execution_count": 153,
   "metadata": {},
   "outputs": [
    {
     "output_type": "execute_result",
     "data": {
      "text/plain": [
       "<matplotlib.axes._subplots.AxesSubplot at 0x1f97b12b730>"
      ]
     },
     "metadata": {},
     "execution_count": 153
    },
    {
     "output_type": "display_data",
     "data": {
      "text/plain": "<Figure size 432x288 with 1 Axes>",
      "image/svg+xml": "<?xml version=\"1.0\" encoding=\"utf-8\" standalone=\"no\"?>\r\n<!DOCTYPE svg PUBLIC \"-//W3C//DTD SVG 1.1//EN\"\r\n  \"http://www.w3.org/Graphics/SVG/1.1/DTD/svg11.dtd\">\r\n<!-- Created with matplotlib (https://matplotlib.org/) -->\r\n<svg height=\"248.518125pt\" version=\"1.1\" viewBox=\"0 0 375.2875 248.518125\" width=\"375.2875pt\" xmlns=\"http://www.w3.org/2000/svg\" xmlns:xlink=\"http://www.w3.org/1999/xlink\">\r\n <defs>\r\n  <style type=\"text/css\">\r\n*{stroke-linecap:butt;stroke-linejoin:round;}\r\n  </style>\r\n </defs>\r\n <g id=\"figure_1\">\r\n  <g id=\"patch_1\">\r\n   <path d=\"M 0 248.518125 \r\nL 375.2875 248.518125 \r\nL 375.2875 0 \r\nL 0 0 \r\nz\r\n\" style=\"fill:none;\"/>\r\n  </g>\r\n  <g id=\"axes_1\">\r\n   <g id=\"patch_2\">\r\n    <path d=\"M 33.2875 224.64 \r\nL 368.0875 224.64 \r\nL 368.0875 7.2 \r\nL 33.2875 7.2 \r\nz\r\n\" style=\"fill:#ffffff;\"/>\r\n   </g>\r\n   <g id=\"patch_3\">\r\n    <path clip-path=\"url(#p6a46c4413c)\" d=\"M 48.505682 224.64 \r\nL 58.651136 224.64 \r\nL 58.651136 17.554286 \r\nL 48.505682 17.554286 \r\nz\r\n\" style=\"fill:#1f77b4;\"/>\r\n   </g>\r\n   <g id=\"patch_4\">\r\n    <path clip-path=\"url(#p6a46c4413c)\" d=\"M 58.651136 224.64 \r\nL 68.796591 224.64 \r\nL 68.796591 218.235287 \r\nL 58.651136 218.235287 \r\nz\r\n\" style=\"fill:#1f77b4;\"/>\r\n   </g>\r\n   <g id=\"patch_5\">\r\n    <path clip-path=\"url(#p6a46c4413c)\" d=\"M 68.796591 224.64 \r\nL 78.942045 224.64 \r\nL 78.942045 218.769013 \r\nL 68.796591 218.769013 \r\nz\r\n\" style=\"fill:#1f77b4;\"/>\r\n   </g>\r\n   <g id=\"patch_6\">\r\n    <path clip-path=\"url(#p6a46c4413c)\" d=\"M 78.942045 224.64 \r\nL 89.0875 224.64 \r\nL 89.0875 221.97137 \r\nL 78.942045 221.97137 \r\nz\r\n\" style=\"fill:#1f77b4;\"/>\r\n   </g>\r\n   <g id=\"patch_7\">\r\n    <path clip-path=\"url(#p6a46c4413c)\" d=\"M 89.0875 224.64 \r\nL 99.232955 224.64 \r\nL 99.232955 219.836465 \r\nL 89.0875 219.836465 \r\nz\r\n\" style=\"fill:#1f77b4;\"/>\r\n   </g>\r\n   <g id=\"patch_8\">\r\n    <path clip-path=\"url(#p6a46c4413c)\" d=\"M 99.232955 224.64 \r\nL 109.378409 224.64 \r\nL 109.378409 218.769013 \r\nL 99.232955 218.769013 \r\nz\r\n\" style=\"fill:#1f77b4;\"/>\r\n   </g>\r\n   <g id=\"patch_9\">\r\n    <path clip-path=\"url(#p6a46c4413c)\" d=\"M 109.378409 224.64 \r\nL 119.523864 224.64 \r\nL 119.523864 224.64 \r\nL 109.378409 224.64 \r\nz\r\n\" style=\"fill:#1f77b4;\"/>\r\n   </g>\r\n   <g id=\"patch_10\">\r\n    <path clip-path=\"url(#p6a46c4413c)\" d=\"M 119.523864 224.64 \r\nL 129.669318 224.64 \r\nL 129.669318 223.038822 \r\nL 119.523864 223.038822 \r\nz\r\n\" style=\"fill:#1f77b4;\"/>\r\n   </g>\r\n   <g id=\"patch_11\">\r\n    <path clip-path=\"url(#p6a46c4413c)\" d=\"M 129.669318 224.64 \r\nL 139.814773 224.64 \r\nL 139.814773 224.64 \r\nL 129.669318 224.64 \r\nz\r\n\" style=\"fill:#1f77b4;\"/>\r\n   </g>\r\n   <g id=\"patch_12\">\r\n    <path clip-path=\"url(#p6a46c4413c)\" d=\"M 139.814773 224.64 \r\nL 149.960227 224.64 \r\nL 149.960227 223.572548 \r\nL 139.814773 223.572548 \r\nz\r\n\" style=\"fill:#1f77b4;\"/>\r\n   </g>\r\n   <g id=\"patch_13\">\r\n    <path clip-path=\"url(#p6a46c4413c)\" d=\"M 149.960227 224.64 \r\nL 160.105682 224.64 \r\nL 160.105682 222.505096 \r\nL 149.960227 222.505096 \r\nz\r\n\" style=\"fill:#1f77b4;\"/>\r\n   </g>\r\n   <g id=\"patch_14\">\r\n    <path clip-path=\"url(#p6a46c4413c)\" d=\"M 160.105682 224.64 \r\nL 170.251136 224.64 \r\nL 170.251136 224.64 \r\nL 160.105682 224.64 \r\nz\r\n\" style=\"fill:#1f77b4;\"/>\r\n   </g>\r\n   <g id=\"patch_15\">\r\n    <path clip-path=\"url(#p6a46c4413c)\" d=\"M 170.251136 224.64 \r\nL 180.396591 224.64 \r\nL 180.396591 224.64 \r\nL 170.251136 224.64 \r\nz\r\n\" style=\"fill:#1f77b4;\"/>\r\n   </g>\r\n   <g id=\"patch_16\">\r\n    <path clip-path=\"url(#p6a46c4413c)\" d=\"M 180.396591 224.64 \r\nL 190.542045 224.64 \r\nL 190.542045 224.106274 \r\nL 180.396591 224.106274 \r\nz\r\n\" style=\"fill:#1f77b4;\"/>\r\n   </g>\r\n   <g id=\"patch_17\">\r\n    <path clip-path=\"url(#p6a46c4413c)\" d=\"M 190.542045 224.64 \r\nL 200.6875 224.64 \r\nL 200.6875 224.64 \r\nL 190.542045 224.64 \r\nz\r\n\" style=\"fill:#1f77b4;\"/>\r\n   </g>\r\n   <g id=\"patch_18\">\r\n    <path clip-path=\"url(#p6a46c4413c)\" d=\"M 200.6875 224.64 \r\nL 210.832955 224.64 \r\nL 210.832955 223.572548 \r\nL 200.6875 223.572548 \r\nz\r\n\" style=\"fill:#1f77b4;\"/>\r\n   </g>\r\n   <g id=\"patch_19\">\r\n    <path clip-path=\"url(#p6a46c4413c)\" d=\"M 210.832955 224.64 \r\nL 220.978409 224.64 \r\nL 220.978409 224.64 \r\nL 210.832955 224.64 \r\nz\r\n\" style=\"fill:#1f77b4;\"/>\r\n   </g>\r\n   <g id=\"patch_20\">\r\n    <path clip-path=\"url(#p6a46c4413c)\" d=\"M 220.978409 224.64 \r\nL 231.123864 224.64 \r\nL 231.123864 224.64 \r\nL 220.978409 224.64 \r\nz\r\n\" style=\"fill:#1f77b4;\"/>\r\n   </g>\r\n   <g id=\"patch_21\">\r\n    <path clip-path=\"url(#p6a46c4413c)\" d=\"M 231.123864 224.64 \r\nL 241.269318 224.64 \r\nL 241.269318 224.64 \r\nL 231.123864 224.64 \r\nz\r\n\" style=\"fill:#1f77b4;\"/>\r\n   </g>\r\n   <g id=\"patch_22\">\r\n    <path clip-path=\"url(#p6a46c4413c)\" d=\"M 241.269318 224.64 \r\nL 251.414773 224.64 \r\nL 251.414773 224.64 \r\nL 241.269318 224.64 \r\nz\r\n\" style=\"fill:#1f77b4;\"/>\r\n   </g>\r\n   <g id=\"patch_23\">\r\n    <path clip-path=\"url(#p6a46c4413c)\" d=\"M 251.414773 224.64 \r\nL 261.560227 224.64 \r\nL 261.560227 224.64 \r\nL 251.414773 224.64 \r\nz\r\n\" style=\"fill:#1f77b4;\"/>\r\n   </g>\r\n   <g id=\"patch_24\">\r\n    <path clip-path=\"url(#p6a46c4413c)\" d=\"M 261.560227 224.64 \r\nL 271.705682 224.64 \r\nL 271.705682 224.64 \r\nL 261.560227 224.64 \r\nz\r\n\" style=\"fill:#1f77b4;\"/>\r\n   </g>\r\n   <g id=\"patch_25\">\r\n    <path clip-path=\"url(#p6a46c4413c)\" d=\"M 271.705682 224.64 \r\nL 281.851136 224.64 \r\nL 281.851136 224.64 \r\nL 271.705682 224.64 \r\nz\r\n\" style=\"fill:#1f77b4;\"/>\r\n   </g>\r\n   <g id=\"patch_26\">\r\n    <path clip-path=\"url(#p6a46c4413c)\" d=\"M 281.851136 224.64 \r\nL 291.996591 224.64 \r\nL 291.996591 224.64 \r\nL 281.851136 224.64 \r\nz\r\n\" style=\"fill:#1f77b4;\"/>\r\n   </g>\r\n   <g id=\"patch_27\">\r\n    <path clip-path=\"url(#p6a46c4413c)\" d=\"M 291.996591 224.64 \r\nL 302.142045 224.64 \r\nL 302.142045 224.64 \r\nL 291.996591 224.64 \r\nz\r\n\" style=\"fill:#1f77b4;\"/>\r\n   </g>\r\n   <g id=\"patch_28\">\r\n    <path clip-path=\"url(#p6a46c4413c)\" d=\"M 302.142045 224.64 \r\nL 312.2875 224.64 \r\nL 312.2875 224.64 \r\nL 302.142045 224.64 \r\nz\r\n\" style=\"fill:#1f77b4;\"/>\r\n   </g>\r\n   <g id=\"patch_29\">\r\n    <path clip-path=\"url(#p6a46c4413c)\" d=\"M 312.2875 224.64 \r\nL 322.432955 224.64 \r\nL 322.432955 224.64 \r\nL 312.2875 224.64 \r\nz\r\n\" style=\"fill:#1f77b4;\"/>\r\n   </g>\r\n   <g id=\"patch_30\">\r\n    <path clip-path=\"url(#p6a46c4413c)\" d=\"M 322.432955 224.64 \r\nL 332.578409 224.64 \r\nL 332.578409 224.64 \r\nL 322.432955 224.64 \r\nz\r\n\" style=\"fill:#1f77b4;\"/>\r\n   </g>\r\n   <g id=\"patch_31\">\r\n    <path clip-path=\"url(#p6a46c4413c)\" d=\"M 332.578409 224.64 \r\nL 342.723864 224.64 \r\nL 342.723864 224.64 \r\nL 332.578409 224.64 \r\nz\r\n\" style=\"fill:#1f77b4;\"/>\r\n   </g>\r\n   <g id=\"patch_32\">\r\n    <path clip-path=\"url(#p6a46c4413c)\" d=\"M 342.723864 224.64 \r\nL 352.869318 224.64 \r\nL 352.869318 224.106274 \r\nL 342.723864 224.106274 \r\nz\r\n\" style=\"fill:#1f77b4;\"/>\r\n   </g>\r\n   <g id=\"matplotlib.axis_1\">\r\n    <g id=\"xtick_1\">\r\n     <g id=\"line2d_1\">\r\n      <path clip-path=\"url(#p6a46c4413c)\" d=\"M 48.50469 224.64 \r\nL 48.50469 7.2 \r\n\" style=\"fill:none;stroke:#b0b0b0;stroke-linecap:square;stroke-width:0.8;\"/>\r\n     </g>\r\n     <g id=\"line2d_2\">\r\n      <defs>\r\n       <path d=\"M 0 0 \r\nL 0 3.5 \r\n\" id=\"m961222af74\" style=\"stroke:#000000;stroke-width:0.8;\"/>\r\n      </defs>\r\n      <g>\r\n       <use style=\"stroke:#000000;stroke-width:0.8;\" x=\"48.50469\" xlink:href=\"#m961222af74\" y=\"224.64\"/>\r\n      </g>\r\n     </g>\r\n     <g id=\"text_1\">\r\n      <!-- 0 -->\r\n      <defs>\r\n       <path d=\"M 31.78125 66.40625 \r\nQ 24.171875 66.40625 20.328125 58.90625 \r\nQ 16.5 51.421875 16.5 36.375 \r\nQ 16.5 21.390625 20.328125 13.890625 \r\nQ 24.171875 6.390625 31.78125 6.390625 \r\nQ 39.453125 6.390625 43.28125 13.890625 \r\nQ 47.125 21.390625 47.125 36.375 \r\nQ 47.125 51.421875 43.28125 58.90625 \r\nQ 39.453125 66.40625 31.78125 66.40625 \r\nz\r\nM 31.78125 74.21875 \r\nQ 44.046875 74.21875 50.515625 64.515625 \r\nQ 56.984375 54.828125 56.984375 36.375 \r\nQ 56.984375 17.96875 50.515625 8.265625 \r\nQ 44.046875 -1.421875 31.78125 -1.421875 \r\nQ 19.53125 -1.421875 13.0625 8.265625 \r\nQ 6.59375 17.96875 6.59375 36.375 \r\nQ 6.59375 54.828125 13.0625 64.515625 \r\nQ 19.53125 74.21875 31.78125 74.21875 \r\nz\r\n\" id=\"DejaVuSans-48\"/>\r\n      </defs>\r\n      <g transform=\"translate(45.32344 239.238437)scale(0.1 -0.1)\">\r\n       <use xlink:href=\"#DejaVuSans-48\"/>\r\n      </g>\r\n     </g>\r\n    </g>\r\n    <g id=\"xtick_2\">\r\n     <g id=\"line2d_3\">\r\n      <path clip-path=\"url(#p6a46c4413c)\" d=\"M 118.858005 224.64 \r\nL 118.858005 7.2 \r\n\" style=\"fill:none;stroke:#b0b0b0;stroke-linecap:square;stroke-width:0.8;\"/>\r\n     </g>\r\n     <g id=\"line2d_4\">\r\n      <g>\r\n       <use style=\"stroke:#000000;stroke-width:0.8;\" x=\"118.858005\" xlink:href=\"#m961222af74\" y=\"224.64\"/>\r\n      </g>\r\n     </g>\r\n     <g id=\"text_2\">\r\n      <!-- 100 -->\r\n      <defs>\r\n       <path d=\"M 12.40625 8.296875 \r\nL 28.515625 8.296875 \r\nL 28.515625 63.921875 \r\nL 10.984375 60.40625 \r\nL 10.984375 69.390625 \r\nL 28.421875 72.90625 \r\nL 38.28125 72.90625 \r\nL 38.28125 8.296875 \r\nL 54.390625 8.296875 \r\nL 54.390625 0 \r\nL 12.40625 0 \r\nz\r\n\" id=\"DejaVuSans-49\"/>\r\n      </defs>\r\n      <g transform=\"translate(109.314255 239.238437)scale(0.1 -0.1)\">\r\n       <use xlink:href=\"#DejaVuSans-49\"/>\r\n       <use x=\"63.623047\" xlink:href=\"#DejaVuSans-48\"/>\r\n       <use x=\"127.246094\" xlink:href=\"#DejaVuSans-48\"/>\r\n      </g>\r\n     </g>\r\n    </g>\r\n    <g id=\"xtick_3\">\r\n     <g id=\"line2d_5\">\r\n      <path clip-path=\"url(#p6a46c4413c)\" d=\"M 189.21132 224.64 \r\nL 189.21132 7.2 \r\n\" style=\"fill:none;stroke:#b0b0b0;stroke-linecap:square;stroke-width:0.8;\"/>\r\n     </g>\r\n     <g id=\"line2d_6\">\r\n      <g>\r\n       <use style=\"stroke:#000000;stroke-width:0.8;\" x=\"189.21132\" xlink:href=\"#m961222af74\" y=\"224.64\"/>\r\n      </g>\r\n     </g>\r\n     <g id=\"text_3\">\r\n      <!-- 200 -->\r\n      <defs>\r\n       <path d=\"M 19.1875 8.296875 \r\nL 53.609375 8.296875 \r\nL 53.609375 0 \r\nL 7.328125 0 \r\nL 7.328125 8.296875 \r\nQ 12.9375 14.109375 22.625 23.890625 \r\nQ 32.328125 33.6875 34.8125 36.53125 \r\nQ 39.546875 41.84375 41.421875 45.53125 \r\nQ 43.3125 49.21875 43.3125 52.78125 \r\nQ 43.3125 58.59375 39.234375 62.25 \r\nQ 35.15625 65.921875 28.609375 65.921875 \r\nQ 23.96875 65.921875 18.8125 64.3125 \r\nQ 13.671875 62.703125 7.8125 59.421875 \r\nL 7.8125 69.390625 \r\nQ 13.765625 71.78125 18.9375 73 \r\nQ 24.125 74.21875 28.421875 74.21875 \r\nQ 39.75 74.21875 46.484375 68.546875 \r\nQ 53.21875 62.890625 53.21875 53.421875 \r\nQ 53.21875 48.921875 51.53125 44.890625 \r\nQ 49.859375 40.875 45.40625 35.40625 \r\nQ 44.1875 33.984375 37.640625 27.21875 \r\nQ 31.109375 20.453125 19.1875 8.296875 \r\nz\r\n\" id=\"DejaVuSans-50\"/>\r\n      </defs>\r\n      <g transform=\"translate(179.66757 239.238437)scale(0.1 -0.1)\">\r\n       <use xlink:href=\"#DejaVuSans-50\"/>\r\n       <use x=\"63.623047\" xlink:href=\"#DejaVuSans-48\"/>\r\n       <use x=\"127.246094\" xlink:href=\"#DejaVuSans-48\"/>\r\n      </g>\r\n     </g>\r\n    </g>\r\n    <g id=\"xtick_4\">\r\n     <g id=\"line2d_7\">\r\n      <path clip-path=\"url(#p6a46c4413c)\" d=\"M 259.564635 224.64 \r\nL 259.564635 7.2 \r\n\" style=\"fill:none;stroke:#b0b0b0;stroke-linecap:square;stroke-width:0.8;\"/>\r\n     </g>\r\n     <g id=\"line2d_8\">\r\n      <g>\r\n       <use style=\"stroke:#000000;stroke-width:0.8;\" x=\"259.564635\" xlink:href=\"#m961222af74\" y=\"224.64\"/>\r\n      </g>\r\n     </g>\r\n     <g id=\"text_4\">\r\n      <!-- 300 -->\r\n      <defs>\r\n       <path d=\"M 40.578125 39.3125 \r\nQ 47.65625 37.796875 51.625 33 \r\nQ 55.609375 28.21875 55.609375 21.1875 \r\nQ 55.609375 10.40625 48.1875 4.484375 \r\nQ 40.765625 -1.421875 27.09375 -1.421875 \r\nQ 22.515625 -1.421875 17.65625 -0.515625 \r\nQ 12.796875 0.390625 7.625 2.203125 \r\nL 7.625 11.71875 \r\nQ 11.71875 9.328125 16.59375 8.109375 \r\nQ 21.484375 6.890625 26.8125 6.890625 \r\nQ 36.078125 6.890625 40.9375 10.546875 \r\nQ 45.796875 14.203125 45.796875 21.1875 \r\nQ 45.796875 27.640625 41.28125 31.265625 \r\nQ 36.765625 34.90625 28.71875 34.90625 \r\nL 20.21875 34.90625 \r\nL 20.21875 43.015625 \r\nL 29.109375 43.015625 \r\nQ 36.375 43.015625 40.234375 45.921875 \r\nQ 44.09375 48.828125 44.09375 54.296875 \r\nQ 44.09375 59.90625 40.109375 62.90625 \r\nQ 36.140625 65.921875 28.71875 65.921875 \r\nQ 24.65625 65.921875 20.015625 65.03125 \r\nQ 15.375 64.15625 9.8125 62.3125 \r\nL 9.8125 71.09375 \r\nQ 15.4375 72.65625 20.34375 73.4375 \r\nQ 25.25 74.21875 29.59375 74.21875 \r\nQ 40.828125 74.21875 47.359375 69.109375 \r\nQ 53.90625 64.015625 53.90625 55.328125 \r\nQ 53.90625 49.265625 50.4375 45.09375 \r\nQ 46.96875 40.921875 40.578125 39.3125 \r\nz\r\n\" id=\"DejaVuSans-51\"/>\r\n      </defs>\r\n      <g transform=\"translate(250.020885 239.238437)scale(0.1 -0.1)\">\r\n       <use xlink:href=\"#DejaVuSans-51\"/>\r\n       <use x=\"63.623047\" xlink:href=\"#DejaVuSans-48\"/>\r\n       <use x=\"127.246094\" xlink:href=\"#DejaVuSans-48\"/>\r\n      </g>\r\n     </g>\r\n    </g>\r\n    <g id=\"xtick_5\">\r\n     <g id=\"line2d_9\">\r\n      <path clip-path=\"url(#p6a46c4413c)\" d=\"M 329.91795 224.64 \r\nL 329.91795 7.2 \r\n\" style=\"fill:none;stroke:#b0b0b0;stroke-linecap:square;stroke-width:0.8;\"/>\r\n     </g>\r\n     <g id=\"line2d_10\">\r\n      <g>\r\n       <use style=\"stroke:#000000;stroke-width:0.8;\" x=\"329.91795\" xlink:href=\"#m961222af74\" y=\"224.64\"/>\r\n      </g>\r\n     </g>\r\n     <g id=\"text_5\">\r\n      <!-- 400 -->\r\n      <defs>\r\n       <path d=\"M 37.796875 64.3125 \r\nL 12.890625 25.390625 \r\nL 37.796875 25.390625 \r\nz\r\nM 35.203125 72.90625 \r\nL 47.609375 72.90625 \r\nL 47.609375 25.390625 \r\nL 58.015625 25.390625 \r\nL 58.015625 17.1875 \r\nL 47.609375 17.1875 \r\nL 47.609375 0 \r\nL 37.796875 0 \r\nL 37.796875 17.1875 \r\nL 4.890625 17.1875 \r\nL 4.890625 26.703125 \r\nz\r\n\" id=\"DejaVuSans-52\"/>\r\n      </defs>\r\n      <g transform=\"translate(320.3742 239.238437)scale(0.1 -0.1)\">\r\n       <use xlink:href=\"#DejaVuSans-52\"/>\r\n       <use x=\"63.623047\" xlink:href=\"#DejaVuSans-48\"/>\r\n       <use x=\"127.246094\" xlink:href=\"#DejaVuSans-48\"/>\r\n      </g>\r\n     </g>\r\n    </g>\r\n   </g>\r\n   <g id=\"matplotlib.axis_2\">\r\n    <g id=\"ytick_1\">\r\n     <g id=\"line2d_11\">\r\n      <path clip-path=\"url(#p6a46c4413c)\" d=\"M 33.2875 224.64 \r\nL 368.0875 224.64 \r\n\" style=\"fill:none;stroke:#b0b0b0;stroke-linecap:square;stroke-width:0.8;\"/>\r\n     </g>\r\n     <g id=\"line2d_12\">\r\n      <defs>\r\n       <path d=\"M 0 0 \r\nL -3.5 0 \r\n\" id=\"m20d528f38f\" style=\"stroke:#000000;stroke-width:0.8;\"/>\r\n      </defs>\r\n      <g>\r\n       <use style=\"stroke:#000000;stroke-width:0.8;\" x=\"33.2875\" xlink:href=\"#m20d528f38f\" y=\"224.64\"/>\r\n      </g>\r\n     </g>\r\n     <g id=\"text_6\">\r\n      <!-- 0 -->\r\n      <g transform=\"translate(19.925 228.439219)scale(0.1 -0.1)\">\r\n       <use xlink:href=\"#DejaVuSans-48\"/>\r\n      </g>\r\n     </g>\r\n    </g>\r\n    <g id=\"ytick_2\">\r\n     <g id=\"line2d_13\">\r\n      <path clip-path=\"url(#p6a46c4413c)\" d=\"M 33.2875 197.953697 \r\nL 368.0875 197.953697 \r\n\" style=\"fill:none;stroke:#b0b0b0;stroke-linecap:square;stroke-width:0.8;\"/>\r\n     </g>\r\n     <g id=\"line2d_14\">\r\n      <g>\r\n       <use style=\"stroke:#000000;stroke-width:0.8;\" x=\"33.2875\" xlink:href=\"#m20d528f38f\" y=\"197.953697\"/>\r\n      </g>\r\n     </g>\r\n     <g id=\"text_7\">\r\n      <!-- 50 -->\r\n      <defs>\r\n       <path d=\"M 10.796875 72.90625 \r\nL 49.515625 72.90625 \r\nL 49.515625 64.59375 \r\nL 19.828125 64.59375 \r\nL 19.828125 46.734375 \r\nQ 21.96875 47.46875 24.109375 47.828125 \r\nQ 26.265625 48.1875 28.421875 48.1875 \r\nQ 40.625 48.1875 47.75 41.5 \r\nQ 54.890625 34.8125 54.890625 23.390625 \r\nQ 54.890625 11.625 47.5625 5.09375 \r\nQ 40.234375 -1.421875 26.90625 -1.421875 \r\nQ 22.3125 -1.421875 17.546875 -0.640625 \r\nQ 12.796875 0.140625 7.71875 1.703125 \r\nL 7.71875 11.625 \r\nQ 12.109375 9.234375 16.796875 8.0625 \r\nQ 21.484375 6.890625 26.703125 6.890625 \r\nQ 35.15625 6.890625 40.078125 11.328125 \r\nQ 45.015625 15.765625 45.015625 23.390625 \r\nQ 45.015625 31 40.078125 35.4375 \r\nQ 35.15625 39.890625 26.703125 39.890625 \r\nQ 22.75 39.890625 18.8125 39.015625 \r\nQ 14.890625 38.140625 10.796875 36.28125 \r\nz\r\n\" id=\"DejaVuSans-53\"/>\r\n      </defs>\r\n      <g transform=\"translate(13.5625 201.752915)scale(0.1 -0.1)\">\r\n       <use xlink:href=\"#DejaVuSans-53\"/>\r\n       <use x=\"63.623047\" xlink:href=\"#DejaVuSans-48\"/>\r\n      </g>\r\n     </g>\r\n    </g>\r\n    <g id=\"ytick_3\">\r\n     <g id=\"line2d_15\">\r\n      <path clip-path=\"url(#p6a46c4413c)\" d=\"M 33.2875 171.267393 \r\nL 368.0875 171.267393 \r\n\" style=\"fill:none;stroke:#b0b0b0;stroke-linecap:square;stroke-width:0.8;\"/>\r\n     </g>\r\n     <g id=\"line2d_16\">\r\n      <g>\r\n       <use style=\"stroke:#000000;stroke-width:0.8;\" x=\"33.2875\" xlink:href=\"#m20d528f38f\" y=\"171.267393\"/>\r\n      </g>\r\n     </g>\r\n     <g id=\"text_8\">\r\n      <!-- 100 -->\r\n      <g transform=\"translate(7.2 175.066612)scale(0.1 -0.1)\">\r\n       <use xlink:href=\"#DejaVuSans-49\"/>\r\n       <use x=\"63.623047\" xlink:href=\"#DejaVuSans-48\"/>\r\n       <use x=\"127.246094\" xlink:href=\"#DejaVuSans-48\"/>\r\n      </g>\r\n     </g>\r\n    </g>\r\n    <g id=\"ytick_4\">\r\n     <g id=\"line2d_17\">\r\n      <path clip-path=\"url(#p6a46c4413c)\" d=\"M 33.2875 144.58109 \r\nL 368.0875 144.58109 \r\n\" style=\"fill:none;stroke:#b0b0b0;stroke-linecap:square;stroke-width:0.8;\"/>\r\n     </g>\r\n     <g id=\"line2d_18\">\r\n      <g>\r\n       <use style=\"stroke:#000000;stroke-width:0.8;\" x=\"33.2875\" xlink:href=\"#m20d528f38f\" y=\"144.58109\"/>\r\n      </g>\r\n     </g>\r\n     <g id=\"text_9\">\r\n      <!-- 150 -->\r\n      <g transform=\"translate(7.2 148.380309)scale(0.1 -0.1)\">\r\n       <use xlink:href=\"#DejaVuSans-49\"/>\r\n       <use x=\"63.623047\" xlink:href=\"#DejaVuSans-53\"/>\r\n       <use x=\"127.246094\" xlink:href=\"#DejaVuSans-48\"/>\r\n      </g>\r\n     </g>\r\n    </g>\r\n    <g id=\"ytick_5\">\r\n     <g id=\"line2d_19\">\r\n      <path clip-path=\"url(#p6a46c4413c)\" d=\"M 33.2875 117.894786 \r\nL 368.0875 117.894786 \r\n\" style=\"fill:none;stroke:#b0b0b0;stroke-linecap:square;stroke-width:0.8;\"/>\r\n     </g>\r\n     <g id=\"line2d_20\">\r\n      <g>\r\n       <use style=\"stroke:#000000;stroke-width:0.8;\" x=\"33.2875\" xlink:href=\"#m20d528f38f\" y=\"117.894786\"/>\r\n      </g>\r\n     </g>\r\n     <g id=\"text_10\">\r\n      <!-- 200 -->\r\n      <g transform=\"translate(7.2 121.694005)scale(0.1 -0.1)\">\r\n       <use xlink:href=\"#DejaVuSans-50\"/>\r\n       <use x=\"63.623047\" xlink:href=\"#DejaVuSans-48\"/>\r\n       <use x=\"127.246094\" xlink:href=\"#DejaVuSans-48\"/>\r\n      </g>\r\n     </g>\r\n    </g>\r\n    <g id=\"ytick_6\">\r\n     <g id=\"line2d_21\">\r\n      <path clip-path=\"url(#p6a46c4413c)\" d=\"M 33.2875 91.208483 \r\nL 368.0875 91.208483 \r\n\" style=\"fill:none;stroke:#b0b0b0;stroke-linecap:square;stroke-width:0.8;\"/>\r\n     </g>\r\n     <g id=\"line2d_22\">\r\n      <g>\r\n       <use style=\"stroke:#000000;stroke-width:0.8;\" x=\"33.2875\" xlink:href=\"#m20d528f38f\" y=\"91.208483\"/>\r\n      </g>\r\n     </g>\r\n     <g id=\"text_11\">\r\n      <!-- 250 -->\r\n      <g transform=\"translate(7.2 95.007702)scale(0.1 -0.1)\">\r\n       <use xlink:href=\"#DejaVuSans-50\"/>\r\n       <use x=\"63.623047\" xlink:href=\"#DejaVuSans-53\"/>\r\n       <use x=\"127.246094\" xlink:href=\"#DejaVuSans-48\"/>\r\n      </g>\r\n     </g>\r\n    </g>\r\n    <g id=\"ytick_7\">\r\n     <g id=\"line2d_23\">\r\n      <path clip-path=\"url(#p6a46c4413c)\" d=\"M 33.2875 64.52218 \r\nL 368.0875 64.52218 \r\n\" style=\"fill:none;stroke:#b0b0b0;stroke-linecap:square;stroke-width:0.8;\"/>\r\n     </g>\r\n     <g id=\"line2d_24\">\r\n      <g>\r\n       <use style=\"stroke:#000000;stroke-width:0.8;\" x=\"33.2875\" xlink:href=\"#m20d528f38f\" y=\"64.52218\"/>\r\n      </g>\r\n     </g>\r\n     <g id=\"text_12\">\r\n      <!-- 300 -->\r\n      <g transform=\"translate(7.2 68.321398)scale(0.1 -0.1)\">\r\n       <use xlink:href=\"#DejaVuSans-51\"/>\r\n       <use x=\"63.623047\" xlink:href=\"#DejaVuSans-48\"/>\r\n       <use x=\"127.246094\" xlink:href=\"#DejaVuSans-48\"/>\r\n      </g>\r\n     </g>\r\n    </g>\r\n    <g id=\"ytick_8\">\r\n     <g id=\"line2d_25\">\r\n      <path clip-path=\"url(#p6a46c4413c)\" d=\"M 33.2875 37.835876 \r\nL 368.0875 37.835876 \r\n\" style=\"fill:none;stroke:#b0b0b0;stroke-linecap:square;stroke-width:0.8;\"/>\r\n     </g>\r\n     <g id=\"line2d_26\">\r\n      <g>\r\n       <use style=\"stroke:#000000;stroke-width:0.8;\" x=\"33.2875\" xlink:href=\"#m20d528f38f\" y=\"37.835876\"/>\r\n      </g>\r\n     </g>\r\n     <g id=\"text_13\">\r\n      <!-- 350 -->\r\n      <g transform=\"translate(7.2 41.635095)scale(0.1 -0.1)\">\r\n       <use xlink:href=\"#DejaVuSans-51\"/>\r\n       <use x=\"63.623047\" xlink:href=\"#DejaVuSans-53\"/>\r\n       <use x=\"127.246094\" xlink:href=\"#DejaVuSans-48\"/>\r\n      </g>\r\n     </g>\r\n    </g>\r\n    <g id=\"ytick_9\">\r\n     <g id=\"line2d_27\">\r\n      <path clip-path=\"url(#p6a46c4413c)\" d=\"M 33.2875 11.149573 \r\nL 368.0875 11.149573 \r\n\" style=\"fill:none;stroke:#b0b0b0;stroke-linecap:square;stroke-width:0.8;\"/>\r\n     </g>\r\n     <g id=\"line2d_28\">\r\n      <g>\r\n       <use style=\"stroke:#000000;stroke-width:0.8;\" x=\"33.2875\" xlink:href=\"#m20d528f38f\" y=\"11.149573\"/>\r\n      </g>\r\n     </g>\r\n     <g id=\"text_14\">\r\n      <!-- 400 -->\r\n      <g transform=\"translate(7.2 14.948792)scale(0.1 -0.1)\">\r\n       <use xlink:href=\"#DejaVuSans-52\"/>\r\n       <use x=\"63.623047\" xlink:href=\"#DejaVuSans-48\"/>\r\n       <use x=\"127.246094\" xlink:href=\"#DejaVuSans-48\"/>\r\n      </g>\r\n     </g>\r\n    </g>\r\n   </g>\r\n   <g id=\"patch_33\">\r\n    <path d=\"M 33.2875 224.64 \r\nL 33.2875 7.2 \r\n\" style=\"fill:none;stroke:#000000;stroke-linecap:square;stroke-linejoin:miter;stroke-width:0.8;\"/>\r\n   </g>\r\n   <g id=\"patch_34\">\r\n    <path d=\"M 368.0875 224.64 \r\nL 368.0875 7.2 \r\n\" style=\"fill:none;stroke:#000000;stroke-linecap:square;stroke-linejoin:miter;stroke-width:0.8;\"/>\r\n   </g>\r\n   <g id=\"patch_35\">\r\n    <path d=\"M 33.2875 224.64 \r\nL 368.0875 224.64 \r\n\" style=\"fill:none;stroke:#000000;stroke-linecap:square;stroke-linejoin:miter;stroke-width:0.8;\"/>\r\n   </g>\r\n   <g id=\"patch_36\">\r\n    <path d=\"M 33.2875 7.2 \r\nL 368.0875 7.2 \r\n\" style=\"fill:none;stroke:#000000;stroke-linecap:square;stroke-linejoin:miter;stroke-width:0.8;\"/>\r\n   </g>\r\n  </g>\r\n </g>\r\n <defs>\r\n  <clipPath id=\"p6a46c4413c\">\r\n   <rect height=\"217.44\" width=\"334.8\" x=\"33.2875\" y=\"7.2\"/>\r\n  </clipPath>\r\n </defs>\r\n</svg>\r\n",
      "image/png": "[encoded data removed]"
     },
     "metadata": {
      "needs_background": "light"
     }
    }
   ],
   "source": [
    "feature_coeffstd_sort.iloc[:,0].hist(bins=30)"
   ]
  },
  {
   "cell_type": "code",
   "execution_count": 154,
   "metadata": {},
   "outputs": [
    {
     "output_type": "execute_result",
     "data": {
      "text/plain": [
       "<matplotlib.axes._subplots.AxesSubplot at 0x1f97b3733a0>"
      ]
     },
     "metadata": {},
     "execution_count": 154
    },
    {
     "output_type": "display_data",
     "data": {
      "text/plain": "<Figure size 432x288 with 1 Axes>",
      "image/svg+xml": "<?xml version=\"1.0\" encoding=\"utf-8\" standalone=\"no\"?>\r\n<!DOCTYPE svg PUBLIC \"-//W3C//DTD SVG 1.1//EN\"\r\n  \"http://www.w3.org/Graphics/SVG/1.1/DTD/svg11.dtd\">\r\n<!-- Created with matplotlib (https://matplotlib.org/) -->\r\n<svg height=\"248.518125pt\" version=\"1.1\" viewBox=\"0 0 369.660276 248.518125\" width=\"369.660276pt\" xmlns=\"http://www.w3.org/2000/svg\" xmlns:xlink=\"http://www.w3.org/1999/xlink\">\r\n <defs>\r\n  <style type=\"text/css\">\r\n*{stroke-linecap:butt;stroke-linejoin:round;}\r\n  </style>\r\n </defs>\r\n <g id=\"figure_1\">\r\n  <g id=\"patch_1\">\r\n   <path d=\"M -0 248.518125 \r\nL 369.660276 248.518125 \r\nL 369.660276 0 \r\nL -0 0 \r\nz\r\n\" style=\"fill:none;\"/>\r\n  </g>\r\n  <g id=\"axes_1\">\r\n   <g id=\"patch_2\">\r\n    <path d=\"M 26.925 224.64 \r\nL 361.725 224.64 \r\nL 361.725 7.2 \r\nL 26.925 7.2 \r\nz\r\n\" style=\"fill:#ffffff;\"/>\r\n   </g>\r\n   <g id=\"patch_3\">\r\n    <path clip-path=\"url(#p2191102b53)\" d=\"M 42.143182 224.64 \r\nL 52.288636 224.64 \r\nL 52.288636 34.811429 \r\nL 42.143182 34.811429 \r\nz\r\n\" style=\"fill:#1f77b4;\"/>\r\n   </g>\r\n   <g id=\"patch_4\">\r\n    <path clip-path=\"url(#p2191102b53)\" d=\"M 52.288636 224.64 \r\nL 62.434091 224.64 \r\nL 62.434091 17.554286 \r\nL 52.288636 17.554286 \r\nz\r\n\" style=\"fill:#1f77b4;\"/>\r\n   </g>\r\n   <g id=\"patch_5\">\r\n    <path clip-path=\"url(#p2191102b53)\" d=\"M 62.434091 224.64 \r\nL 72.579545 224.64 \r\nL 72.579545 103.84 \r\nL 62.434091 103.84 \r\nz\r\n\" style=\"fill:#1f77b4;\"/>\r\n   </g>\r\n   <g id=\"patch_6\">\r\n    <path clip-path=\"url(#p2191102b53)\" d=\"M 72.579545 224.64 \r\nL 82.725 224.64 \r\nL 82.725 138.354286 \r\nL 72.579545 138.354286 \r\nz\r\n\" style=\"fill:#1f77b4;\"/>\r\n   </g>\r\n   <g id=\"patch_7\">\r\n    <path clip-path=\"url(#p2191102b53)\" d=\"M 82.725 224.64 \r\nL 92.870455 224.64 \r\nL 92.870455 86.582857 \r\nL 82.725 86.582857 \r\nz\r\n\" style=\"fill:#1f77b4;\"/>\r\n   </g>\r\n   <g id=\"patch_8\">\r\n    <path clip-path=\"url(#p2191102b53)\" d=\"M 92.870455 224.64 \r\nL 103.015909 224.64 \r\nL 103.015909 172.868571 \r\nL 92.870455 172.868571 \r\nz\r\n\" style=\"fill:#1f77b4;\"/>\r\n   </g>\r\n   <g id=\"patch_9\">\r\n    <path clip-path=\"url(#p2191102b53)\" d=\"M 103.015909 224.64 \r\nL 113.161364 224.64 \r\nL 113.161364 207.382857 \r\nL 103.015909 207.382857 \r\nz\r\n\" style=\"fill:#1f77b4;\"/>\r\n   </g>\r\n   <g id=\"patch_10\">\r\n    <path clip-path=\"url(#p2191102b53)\" d=\"M 113.161364 224.64 \r\nL 123.306818 224.64 \r\nL 123.306818 190.125714 \r\nL 113.161364 190.125714 \r\nz\r\n\" style=\"fill:#1f77b4;\"/>\r\n   </g>\r\n   <g id=\"patch_11\">\r\n    <path clip-path=\"url(#p2191102b53)\" d=\"M 123.306818 224.64 \r\nL 133.452273 224.64 \r\nL 133.452273 172.868571 \r\nL 123.306818 172.868571 \r\nz\r\n\" style=\"fill:#1f77b4;\"/>\r\n   </g>\r\n   <g id=\"patch_12\">\r\n    <path clip-path=\"url(#p2191102b53)\" d=\"M 133.452273 224.64 \r\nL 143.597727 224.64 \r\nL 143.597727 190.125714 \r\nL 133.452273 190.125714 \r\nz\r\n\" style=\"fill:#1f77b4;\"/>\r\n   </g>\r\n   <g id=\"patch_13\">\r\n    <path clip-path=\"url(#p2191102b53)\" d=\"M 143.597727 224.64 \r\nL 153.743182 224.64 \r\nL 153.743182 155.611429 \r\nL 143.597727 155.611429 \r\nz\r\n\" style=\"fill:#1f77b4;\"/>\r\n   </g>\r\n   <g id=\"patch_14\">\r\n    <path clip-path=\"url(#p2191102b53)\" d=\"M 153.743182 224.64 \r\nL 163.888636 224.64 \r\nL 163.888636 207.382857 \r\nL 153.743182 207.382857 \r\nz\r\n\" style=\"fill:#1f77b4;\"/>\r\n   </g>\r\n   <g id=\"patch_15\">\r\n    <path clip-path=\"url(#p2191102b53)\" d=\"M 163.888636 224.64 \r\nL 174.034091 224.64 \r\nL 174.034091 190.125714 \r\nL 163.888636 190.125714 \r\nz\r\n\" style=\"fill:#1f77b4;\"/>\r\n   </g>\r\n   <g id=\"patch_16\">\r\n    <path clip-path=\"url(#p2191102b53)\" d=\"M 174.034091 224.64 \r\nL 184.179545 224.64 \r\nL 184.179545 121.097143 \r\nL 174.034091 121.097143 \r\nz\r\n\" style=\"fill:#1f77b4;\"/>\r\n   </g>\r\n   <g id=\"patch_17\">\r\n    <path clip-path=\"url(#p2191102b53)\" d=\"M 184.179545 224.64 \r\nL 194.325 224.64 \r\nL 194.325 121.097143 \r\nL 184.179545 121.097143 \r\nz\r\n\" style=\"fill:#1f77b4;\"/>\r\n   </g>\r\n   <g id=\"patch_18\">\r\n    <path clip-path=\"url(#p2191102b53)\" d=\"M 194.325 224.64 \r\nL 204.470455 224.64 \r\nL 204.470455 138.354286 \r\nL 194.325 138.354286 \r\nz\r\n\" style=\"fill:#1f77b4;\"/>\r\n   </g>\r\n   <g id=\"patch_19\">\r\n    <path clip-path=\"url(#p2191102b53)\" d=\"M 204.470455 224.64 \r\nL 214.615909 224.64 \r\nL 214.615909 155.611429 \r\nL 204.470455 155.611429 \r\nz\r\n\" style=\"fill:#1f77b4;\"/>\r\n   </g>\r\n   <g id=\"patch_20\">\r\n    <path clip-path=\"url(#p2191102b53)\" d=\"M 214.615909 224.64 \r\nL 224.761364 224.64 \r\nL 224.761364 155.611429 \r\nL 214.615909 155.611429 \r\nz\r\n\" style=\"fill:#1f77b4;\"/>\r\n   </g>\r\n   <g id=\"patch_21\">\r\n    <path clip-path=\"url(#p2191102b53)\" d=\"M 224.761364 224.64 \r\nL 234.906818 224.64 \r\nL 234.906818 155.611429 \r\nL 224.761364 155.611429 \r\nz\r\n\" style=\"fill:#1f77b4;\"/>\r\n   </g>\r\n   <g id=\"patch_22\">\r\n    <path clip-path=\"url(#p2191102b53)\" d=\"M 234.906818 224.64 \r\nL 245.052273 224.64 \r\nL 245.052273 190.125714 \r\nL 234.906818 190.125714 \r\nz\r\n\" style=\"fill:#1f77b4;\"/>\r\n   </g>\r\n   <g id=\"patch_23\">\r\n    <path clip-path=\"url(#p2191102b53)\" d=\"M 245.052273 224.64 \r\nL 255.197727 224.64 \r\nL 255.197727 190.125714 \r\nL 245.052273 190.125714 \r\nz\r\n\" style=\"fill:#1f77b4;\"/>\r\n   </g>\r\n   <g id=\"patch_24\">\r\n    <path clip-path=\"url(#p2191102b53)\" d=\"M 255.197727 224.64 \r\nL 265.343182 224.64 \r\nL 265.343182 207.382857 \r\nL 255.197727 207.382857 \r\nz\r\n\" style=\"fill:#1f77b4;\"/>\r\n   </g>\r\n   <g id=\"patch_25\">\r\n    <path clip-path=\"url(#p2191102b53)\" d=\"M 265.343182 224.64 \r\nL 275.488636 224.64 \r\nL 275.488636 86.582857 \r\nL 265.343182 86.582857 \r\nz\r\n\" style=\"fill:#1f77b4;\"/>\r\n   </g>\r\n   <g id=\"patch_26\">\r\n    <path clip-path=\"url(#p2191102b53)\" d=\"M 275.488636 224.64 \r\nL 285.634091 224.64 \r\nL 285.634091 207.382857 \r\nL 275.488636 207.382857 \r\nz\r\n\" style=\"fill:#1f77b4;\"/>\r\n   </g>\r\n   <g id=\"patch_27\">\r\n    <path clip-path=\"url(#p2191102b53)\" d=\"M 285.634091 224.64 \r\nL 295.779545 224.64 \r\nL 295.779545 121.097143 \r\nL 285.634091 121.097143 \r\nz\r\n\" style=\"fill:#1f77b4;\"/>\r\n   </g>\r\n   <g id=\"patch_28\">\r\n    <path clip-path=\"url(#p2191102b53)\" d=\"M 295.779545 224.64 \r\nL 305.925 224.64 \r\nL 305.925 172.868571 \r\nL 295.779545 172.868571 \r\nz\r\n\" style=\"fill:#1f77b4;\"/>\r\n   </g>\r\n   <g id=\"patch_29\">\r\n    <path clip-path=\"url(#p2191102b53)\" d=\"M 305.925 224.64 \r\nL 316.070455 224.64 \r\nL 316.070455 207.382857 \r\nL 305.925 207.382857 \r\nz\r\n\" style=\"fill:#1f77b4;\"/>\r\n   </g>\r\n   <g id=\"patch_30\">\r\n    <path clip-path=\"url(#p2191102b53)\" d=\"M 316.070455 224.64 \r\nL 326.215909 224.64 \r\nL 326.215909 121.097143 \r\nL 316.070455 121.097143 \r\nz\r\n\" style=\"fill:#1f77b4;\"/>\r\n   </g>\r\n   <g id=\"patch_31\">\r\n    <path clip-path=\"url(#p2191102b53)\" d=\"M 326.215909 224.64 \r\nL 336.361364 224.64 \r\nL 336.361364 138.354286 \r\nL 326.215909 138.354286 \r\nz\r\n\" style=\"fill:#1f77b4;\"/>\r\n   </g>\r\n   <g id=\"patch_32\">\r\n    <path clip-path=\"url(#p2191102b53)\" d=\"M 336.361364 224.64 \r\nL 346.506818 224.64 \r\nL 346.506818 138.354286 \r\nL 336.361364 138.354286 \r\nz\r\n\" style=\"fill:#1f77b4;\"/>\r\n   </g>\r\n   <g id=\"matplotlib.axis_1\">\r\n    <g id=\"xtick_1\">\r\n     <g id=\"line2d_1\">\r\n      <path clip-path=\"url(#p2191102b53)\" d=\"M 41.702353 224.64 \r\nL 41.702353 7.2 \r\n\" style=\"fill:none;stroke:#b0b0b0;stroke-linecap:square;stroke-width:0.8;\"/>\r\n     </g>\r\n     <g id=\"line2d_2\">\r\n      <defs>\r\n       <path d=\"M 0 0 \r\nL 0 3.5 \r\n\" id=\"mc0fc8fe2fe\" style=\"stroke:#000000;stroke-width:0.8;\"/>\r\n      </defs>\r\n      <g>\r\n       <use style=\"stroke:#000000;stroke-width:0.8;\" x=\"41.702353\" xlink:href=\"#mc0fc8fe2fe\" y=\"224.64\"/>\r\n      </g>\r\n     </g>\r\n     <g id=\"text_1\">\r\n      <!-- 0.0 -->\r\n      <defs>\r\n       <path d=\"M 31.78125 66.40625 \r\nQ 24.171875 66.40625 20.328125 58.90625 \r\nQ 16.5 51.421875 16.5 36.375 \r\nQ 16.5 21.390625 20.328125 13.890625 \r\nQ 24.171875 6.390625 31.78125 6.390625 \r\nQ 39.453125 6.390625 43.28125 13.890625 \r\nQ 47.125 21.390625 47.125 36.375 \r\nQ 47.125 51.421875 43.28125 58.90625 \r\nQ 39.453125 66.40625 31.78125 66.40625 \r\nz\r\nM 31.78125 74.21875 \r\nQ 44.046875 74.21875 50.515625 64.515625 \r\nQ 56.984375 54.828125 56.984375 36.375 \r\nQ 56.984375 17.96875 50.515625 8.265625 \r\nQ 44.046875 -1.421875 31.78125 -1.421875 \r\nQ 19.53125 -1.421875 13.0625 8.265625 \r\nQ 6.59375 17.96875 6.59375 36.375 \r\nQ 6.59375 54.828125 13.0625 64.515625 \r\nQ 19.53125 74.21875 31.78125 74.21875 \r\nz\r\n\" id=\"DejaVuSans-48\"/>\r\n       <path d=\"M 10.6875 12.40625 \r\nL 21 12.40625 \r\nL 21 0 \r\nL 10.6875 0 \r\nz\r\n\" id=\"DejaVuSans-46\"/>\r\n      </defs>\r\n      <g transform=\"translate(33.75079 239.238437)scale(0.1 -0.1)\">\r\n       <use xlink:href=\"#DejaVuSans-48\"/>\r\n       <use x=\"63.623047\" xlink:href=\"#DejaVuSans-46\"/>\r\n       <use x=\"95.410156\" xlink:href=\"#DejaVuSans-48\"/>\r\n      </g>\r\n     </g>\r\n    </g>\r\n    <g id=\"xtick_2\">\r\n     <g id=\"line2d_3\">\r\n      <path clip-path=\"url(#p2191102b53)\" d=\"M 104.263625 224.64 \r\nL 104.263625 7.2 \r\n\" style=\"fill:none;stroke:#b0b0b0;stroke-linecap:square;stroke-width:0.8;\"/>\r\n     </g>\r\n     <g id=\"line2d_4\">\r\n      <g>\r\n       <use style=\"stroke:#000000;stroke-width:0.8;\" x=\"104.263625\" xlink:href=\"#mc0fc8fe2fe\" y=\"224.64\"/>\r\n      </g>\r\n     </g>\r\n     <g id=\"text_2\">\r\n      <!-- 0.2 -->\r\n      <defs>\r\n       <path d=\"M 19.1875 8.296875 \r\nL 53.609375 8.296875 \r\nL 53.609375 0 \r\nL 7.328125 0 \r\nL 7.328125 8.296875 \r\nQ 12.9375 14.109375 22.625 23.890625 \r\nQ 32.328125 33.6875 34.8125 36.53125 \r\nQ 39.546875 41.84375 41.421875 45.53125 \r\nQ 43.3125 49.21875 43.3125 52.78125 \r\nQ 43.3125 58.59375 39.234375 62.25 \r\nQ 35.15625 65.921875 28.609375 65.921875 \r\nQ 23.96875 65.921875 18.8125 64.3125 \r\nQ 13.671875 62.703125 7.8125 59.421875 \r\nL 7.8125 69.390625 \r\nQ 13.765625 71.78125 18.9375 73 \r\nQ 24.125 74.21875 28.421875 74.21875 \r\nQ 39.75 74.21875 46.484375 68.546875 \r\nQ 53.21875 62.890625 53.21875 53.421875 \r\nQ 53.21875 48.921875 51.53125 44.890625 \r\nQ 49.859375 40.875 45.40625 35.40625 \r\nQ 44.1875 33.984375 37.640625 27.21875 \r\nQ 31.109375 20.453125 19.1875 8.296875 \r\nz\r\n\" id=\"DejaVuSans-50\"/>\r\n      </defs>\r\n      <g transform=\"translate(96.312062 239.238437)scale(0.1 -0.1)\">\r\n       <use xlink:href=\"#DejaVuSans-48\"/>\r\n       <use x=\"63.623047\" xlink:href=\"#DejaVuSans-46\"/>\r\n       <use x=\"95.410156\" xlink:href=\"#DejaVuSans-50\"/>\r\n      </g>\r\n     </g>\r\n    </g>\r\n    <g id=\"xtick_3\">\r\n     <g id=\"line2d_5\">\r\n      <path clip-path=\"url(#p2191102b53)\" d=\"M 166.824897 224.64 \r\nL 166.824897 7.2 \r\n\" style=\"fill:none;stroke:#b0b0b0;stroke-linecap:square;stroke-width:0.8;\"/>\r\n     </g>\r\n     <g id=\"line2d_6\">\r\n      <g>\r\n       <use style=\"stroke:#000000;stroke-width:0.8;\" x=\"166.824897\" xlink:href=\"#mc0fc8fe2fe\" y=\"224.64\"/>\r\n      </g>\r\n     </g>\r\n     <g id=\"text_3\">\r\n      <!-- 0.4 -->\r\n      <defs>\r\n       <path d=\"M 37.796875 64.3125 \r\nL 12.890625 25.390625 \r\nL 37.796875 25.390625 \r\nz\r\nM 35.203125 72.90625 \r\nL 47.609375 72.90625 \r\nL 47.609375 25.390625 \r\nL 58.015625 25.390625 \r\nL 58.015625 17.1875 \r\nL 47.609375 17.1875 \r\nL 47.609375 0 \r\nL 37.796875 0 \r\nL 37.796875 17.1875 \r\nL 4.890625 17.1875 \r\nL 4.890625 26.703125 \r\nz\r\n\" id=\"DejaVuSans-52\"/>\r\n      </defs>\r\n      <g transform=\"translate(158.873334 239.238437)scale(0.1 -0.1)\">\r\n       <use xlink:href=\"#DejaVuSans-48\"/>\r\n       <use x=\"63.623047\" xlink:href=\"#DejaVuSans-46\"/>\r\n       <use x=\"95.410156\" xlink:href=\"#DejaVuSans-52\"/>\r\n      </g>\r\n     </g>\r\n    </g>\r\n    <g id=\"xtick_4\">\r\n     <g id=\"line2d_7\">\r\n      <path clip-path=\"url(#p2191102b53)\" d=\"M 229.386169 224.64 \r\nL 229.386169 7.2 \r\n\" style=\"fill:none;stroke:#b0b0b0;stroke-linecap:square;stroke-width:0.8;\"/>\r\n     </g>\r\n     <g id=\"line2d_8\">\r\n      <g>\r\n       <use style=\"stroke:#000000;stroke-width:0.8;\" x=\"229.386169\" xlink:href=\"#mc0fc8fe2fe\" y=\"224.64\"/>\r\n      </g>\r\n     </g>\r\n     <g id=\"text_4\">\r\n      <!-- 0.6 -->\r\n      <defs>\r\n       <path d=\"M 33.015625 40.375 \r\nQ 26.375 40.375 22.484375 35.828125 \r\nQ 18.609375 31.296875 18.609375 23.390625 \r\nQ 18.609375 15.53125 22.484375 10.953125 \r\nQ 26.375 6.390625 33.015625 6.390625 \r\nQ 39.65625 6.390625 43.53125 10.953125 \r\nQ 47.40625 15.53125 47.40625 23.390625 \r\nQ 47.40625 31.296875 43.53125 35.828125 \r\nQ 39.65625 40.375 33.015625 40.375 \r\nz\r\nM 52.59375 71.296875 \r\nL 52.59375 62.3125 \r\nQ 48.875 64.0625 45.09375 64.984375 \r\nQ 41.3125 65.921875 37.59375 65.921875 \r\nQ 27.828125 65.921875 22.671875 59.328125 \r\nQ 17.53125 52.734375 16.796875 39.40625 \r\nQ 19.671875 43.65625 24.015625 45.921875 \r\nQ 28.375 48.1875 33.59375 48.1875 \r\nQ 44.578125 48.1875 50.953125 41.515625 \r\nQ 57.328125 34.859375 57.328125 23.390625 \r\nQ 57.328125 12.15625 50.6875 5.359375 \r\nQ 44.046875 -1.421875 33.015625 -1.421875 \r\nQ 20.359375 -1.421875 13.671875 8.265625 \r\nQ 6.984375 17.96875 6.984375 36.375 \r\nQ 6.984375 53.65625 15.1875 63.9375 \r\nQ 23.390625 74.21875 37.203125 74.21875 \r\nQ 40.921875 74.21875 44.703125 73.484375 \r\nQ 48.484375 72.75 52.59375 71.296875 \r\nz\r\n\" id=\"DejaVuSans-54\"/>\r\n      </defs>\r\n      <g transform=\"translate(221.434607 239.238437)scale(0.1 -0.1)\">\r\n       <use xlink:href=\"#DejaVuSans-48\"/>\r\n       <use x=\"63.623047\" xlink:href=\"#DejaVuSans-46\"/>\r\n       <use x=\"95.410156\" xlink:href=\"#DejaVuSans-54\"/>\r\n      </g>\r\n     </g>\r\n    </g>\r\n    <g id=\"xtick_5\">\r\n     <g id=\"line2d_9\">\r\n      <path clip-path=\"url(#p2191102b53)\" d=\"M 291.947441 224.64 \r\nL 291.947441 7.2 \r\n\" style=\"fill:none;stroke:#b0b0b0;stroke-linecap:square;stroke-width:0.8;\"/>\r\n     </g>\r\n     <g id=\"line2d_10\">\r\n      <g>\r\n       <use style=\"stroke:#000000;stroke-width:0.8;\" x=\"291.947441\" xlink:href=\"#mc0fc8fe2fe\" y=\"224.64\"/>\r\n      </g>\r\n     </g>\r\n     <g id=\"text_5\">\r\n      <!-- 0.8 -->\r\n      <defs>\r\n       <path d=\"M 31.78125 34.625 \r\nQ 24.75 34.625 20.71875 30.859375 \r\nQ 16.703125 27.09375 16.703125 20.515625 \r\nQ 16.703125 13.921875 20.71875 10.15625 \r\nQ 24.75 6.390625 31.78125 6.390625 \r\nQ 38.8125 6.390625 42.859375 10.171875 \r\nQ 46.921875 13.96875 46.921875 20.515625 \r\nQ 46.921875 27.09375 42.890625 30.859375 \r\nQ 38.875 34.625 31.78125 34.625 \r\nz\r\nM 21.921875 38.8125 \r\nQ 15.578125 40.375 12.03125 44.71875 \r\nQ 8.5 49.078125 8.5 55.328125 \r\nQ 8.5 64.0625 14.71875 69.140625 \r\nQ 20.953125 74.21875 31.78125 74.21875 \r\nQ 42.671875 74.21875 48.875 69.140625 \r\nQ 55.078125 64.0625 55.078125 55.328125 \r\nQ 55.078125 49.078125 51.53125 44.71875 \r\nQ 48 40.375 41.703125 38.8125 \r\nQ 48.828125 37.15625 52.796875 32.3125 \r\nQ 56.78125 27.484375 56.78125 20.515625 \r\nQ 56.78125 9.90625 50.3125 4.234375 \r\nQ 43.84375 -1.421875 31.78125 -1.421875 \r\nQ 19.734375 -1.421875 13.25 4.234375 \r\nQ 6.78125 9.90625 6.78125 20.515625 \r\nQ 6.78125 27.484375 10.78125 32.3125 \r\nQ 14.796875 37.15625 21.921875 38.8125 \r\nz\r\nM 18.3125 54.390625 \r\nQ 18.3125 48.734375 21.84375 45.5625 \r\nQ 25.390625 42.390625 31.78125 42.390625 \r\nQ 38.140625 42.390625 41.71875 45.5625 \r\nQ 45.3125 48.734375 45.3125 54.390625 \r\nQ 45.3125 60.0625 41.71875 63.234375 \r\nQ 38.140625 66.40625 31.78125 66.40625 \r\nQ 25.390625 66.40625 21.84375 63.234375 \r\nQ 18.3125 60.0625 18.3125 54.390625 \r\nz\r\n\" id=\"DejaVuSans-56\"/>\r\n      </defs>\r\n      <g transform=\"translate(283.995879 239.238437)scale(0.1 -0.1)\">\r\n       <use xlink:href=\"#DejaVuSans-48\"/>\r\n       <use x=\"63.623047\" xlink:href=\"#DejaVuSans-46\"/>\r\n       <use x=\"95.410156\" xlink:href=\"#DejaVuSans-56\"/>\r\n      </g>\r\n     </g>\r\n    </g>\r\n    <g id=\"xtick_6\">\r\n     <g id=\"line2d_11\">\r\n      <path clip-path=\"url(#p2191102b53)\" d=\"M 354.508713 224.64 \r\nL 354.508713 7.2 \r\n\" style=\"fill:none;stroke:#b0b0b0;stroke-linecap:square;stroke-width:0.8;\"/>\r\n     </g>\r\n     <g id=\"line2d_12\">\r\n      <g>\r\n       <use style=\"stroke:#000000;stroke-width:0.8;\" x=\"354.508713\" xlink:href=\"#mc0fc8fe2fe\" y=\"224.64\"/>\r\n      </g>\r\n     </g>\r\n     <g id=\"text_6\">\r\n      <!-- 1.0 -->\r\n      <defs>\r\n       <path d=\"M 12.40625 8.296875 \r\nL 28.515625 8.296875 \r\nL 28.515625 63.921875 \r\nL 10.984375 60.40625 \r\nL 10.984375 69.390625 \r\nL 28.421875 72.90625 \r\nL 38.28125 72.90625 \r\nL 38.28125 8.296875 \r\nL 54.390625 8.296875 \r\nL 54.390625 0 \r\nL 12.40625 0 \r\nz\r\n\" id=\"DejaVuSans-49\"/>\r\n      </defs>\r\n      <g transform=\"translate(346.557151 239.238437)scale(0.1 -0.1)\">\r\n       <use xlink:href=\"#DejaVuSans-49\"/>\r\n       <use x=\"63.623047\" xlink:href=\"#DejaVuSans-46\"/>\r\n       <use x=\"95.410156\" xlink:href=\"#DejaVuSans-48\"/>\r\n      </g>\r\n     </g>\r\n    </g>\r\n   </g>\r\n   <g id=\"matplotlib.axis_2\">\r\n    <g id=\"ytick_1\">\r\n     <g id=\"line2d_13\">\r\n      <path clip-path=\"url(#p2191102b53)\" d=\"M 26.925 224.64 \r\nL 361.725 224.64 \r\n\" style=\"fill:none;stroke:#b0b0b0;stroke-linecap:square;stroke-width:0.8;\"/>\r\n     </g>\r\n     <g id=\"line2d_14\">\r\n      <defs>\r\n       <path d=\"M 0 0 \r\nL -3.5 0 \r\n\" id=\"m1a81bd2099\" style=\"stroke:#000000;stroke-width:0.8;\"/>\r\n      </defs>\r\n      <g>\r\n       <use style=\"stroke:#000000;stroke-width:0.8;\" x=\"26.925\" xlink:href=\"#m1a81bd2099\" y=\"224.64\"/>\r\n      </g>\r\n     </g>\r\n     <g id=\"text_7\">\r\n      <!-- 0 -->\r\n      <g transform=\"translate(13.5625 228.439219)scale(0.1 -0.1)\">\r\n       <use xlink:href=\"#DejaVuSans-48\"/>\r\n      </g>\r\n     </g>\r\n    </g>\r\n    <g id=\"ytick_2\">\r\n     <g id=\"line2d_15\">\r\n      <path clip-path=\"url(#p2191102b53)\" d=\"M 26.925 190.125714 \r\nL 361.725 190.125714 \r\n\" style=\"fill:none;stroke:#b0b0b0;stroke-linecap:square;stroke-width:0.8;\"/>\r\n     </g>\r\n     <g id=\"line2d_16\">\r\n      <g>\r\n       <use style=\"stroke:#000000;stroke-width:0.8;\" x=\"26.925\" xlink:href=\"#m1a81bd2099\" y=\"190.125714\"/>\r\n      </g>\r\n     </g>\r\n     <g id=\"text_8\">\r\n      <!-- 2 -->\r\n      <g transform=\"translate(13.5625 193.924933)scale(0.1 -0.1)\">\r\n       <use xlink:href=\"#DejaVuSans-50\"/>\r\n      </g>\r\n     </g>\r\n    </g>\r\n    <g id=\"ytick_3\">\r\n     <g id=\"line2d_17\">\r\n      <path clip-path=\"url(#p2191102b53)\" d=\"M 26.925 155.611429 \r\nL 361.725 155.611429 \r\n\" style=\"fill:none;stroke:#b0b0b0;stroke-linecap:square;stroke-width:0.8;\"/>\r\n     </g>\r\n     <g id=\"line2d_18\">\r\n      <g>\r\n       <use style=\"stroke:#000000;stroke-width:0.8;\" x=\"26.925\" xlink:href=\"#m1a81bd2099\" y=\"155.611429\"/>\r\n      </g>\r\n     </g>\r\n     <g id=\"text_9\">\r\n      <!-- 4 -->\r\n      <g transform=\"translate(13.5625 159.410647)scale(0.1 -0.1)\">\r\n       <use xlink:href=\"#DejaVuSans-52\"/>\r\n      </g>\r\n     </g>\r\n    </g>\r\n    <g id=\"ytick_4\">\r\n     <g id=\"line2d_19\">\r\n      <path clip-path=\"url(#p2191102b53)\" d=\"M 26.925 121.097143 \r\nL 361.725 121.097143 \r\n\" style=\"fill:none;stroke:#b0b0b0;stroke-linecap:square;stroke-width:0.8;\"/>\r\n     </g>\r\n     <g id=\"line2d_20\">\r\n      <g>\r\n       <use style=\"stroke:#000000;stroke-width:0.8;\" x=\"26.925\" xlink:href=\"#m1a81bd2099\" y=\"121.097143\"/>\r\n      </g>\r\n     </g>\r\n     <g id=\"text_10\">\r\n      <!-- 6 -->\r\n      <g transform=\"translate(13.5625 124.896362)scale(0.1 -0.1)\">\r\n       <use xlink:href=\"#DejaVuSans-54\"/>\r\n      </g>\r\n     </g>\r\n    </g>\r\n    <g id=\"ytick_5\">\r\n     <g id=\"line2d_21\">\r\n      <path clip-path=\"url(#p2191102b53)\" d=\"M 26.925 86.582857 \r\nL 361.725 86.582857 \r\n\" style=\"fill:none;stroke:#b0b0b0;stroke-linecap:square;stroke-width:0.8;\"/>\r\n     </g>\r\n     <g id=\"line2d_22\">\r\n      <g>\r\n       <use style=\"stroke:#000000;stroke-width:0.8;\" x=\"26.925\" xlink:href=\"#m1a81bd2099\" y=\"86.582857\"/>\r\n      </g>\r\n     </g>\r\n     <g id=\"text_11\">\r\n      <!-- 8 -->\r\n      <g transform=\"translate(13.5625 90.382076)scale(0.1 -0.1)\">\r\n       <use xlink:href=\"#DejaVuSans-56\"/>\r\n      </g>\r\n     </g>\r\n    </g>\r\n    <g id=\"ytick_6\">\r\n     <g id=\"line2d_23\">\r\n      <path clip-path=\"url(#p2191102b53)\" d=\"M 26.925 52.068571 \r\nL 361.725 52.068571 \r\n\" style=\"fill:none;stroke:#b0b0b0;stroke-linecap:square;stroke-width:0.8;\"/>\r\n     </g>\r\n     <g id=\"line2d_24\">\r\n      <g>\r\n       <use style=\"stroke:#000000;stroke-width:0.8;\" x=\"26.925\" xlink:href=\"#m1a81bd2099\" y=\"52.068571\"/>\r\n      </g>\r\n     </g>\r\n     <g id=\"text_12\">\r\n      <!-- 10 -->\r\n      <g transform=\"translate(7.2 55.86779)scale(0.1 -0.1)\">\r\n       <use xlink:href=\"#DejaVuSans-49\"/>\r\n       <use x=\"63.623047\" xlink:href=\"#DejaVuSans-48\"/>\r\n      </g>\r\n     </g>\r\n    </g>\r\n    <g id=\"ytick_7\">\r\n     <g id=\"line2d_25\">\r\n      <path clip-path=\"url(#p2191102b53)\" d=\"M 26.925 17.554286 \r\nL 361.725 17.554286 \r\n\" style=\"fill:none;stroke:#b0b0b0;stroke-linecap:square;stroke-width:0.8;\"/>\r\n     </g>\r\n     <g id=\"line2d_26\">\r\n      <g>\r\n       <use style=\"stroke:#000000;stroke-width:0.8;\" x=\"26.925\" xlink:href=\"#m1a81bd2099\" y=\"17.554286\"/>\r\n      </g>\r\n     </g>\r\n     <g id=\"text_13\">\r\n      <!-- 12 -->\r\n      <g transform=\"translate(7.2 21.353504)scale(0.1 -0.1)\">\r\n       <use xlink:href=\"#DejaVuSans-49\"/>\r\n       <use x=\"63.623047\" xlink:href=\"#DejaVuSans-50\"/>\r\n      </g>\r\n     </g>\r\n    </g>\r\n   </g>\r\n   <g id=\"patch_33\">\r\n    <path d=\"M 26.925 224.64 \r\nL 26.925 7.2 \r\n\" style=\"fill:none;stroke:#000000;stroke-linecap:square;stroke-linejoin:miter;stroke-width:0.8;\"/>\r\n   </g>\r\n   <g id=\"patch_34\">\r\n    <path d=\"M 361.725 224.64 \r\nL 361.725 7.2 \r\n\" style=\"fill:none;stroke:#000000;stroke-linecap:square;stroke-linejoin:miter;stroke-width:0.8;\"/>\r\n   </g>\r\n   <g id=\"patch_35\">\r\n    <path d=\"M 26.925 224.64 \r\nL 361.725 224.64 \r\n\" style=\"fill:none;stroke:#000000;stroke-linecap:square;stroke-linejoin:miter;stroke-width:0.8;\"/>\r\n   </g>\r\n   <g id=\"patch_36\">\r\n    <path d=\"M 26.925 7.2 \r\nL 361.725 7.2 \r\n\" style=\"fill:none;stroke:#000000;stroke-linecap:square;stroke-linejoin:miter;stroke-width:0.8;\"/>\r\n   </g>\r\n  </g>\r\n </g>\r\n <defs>\r\n  <clipPath id=\"p2191102b53\">\r\n   <rect height=\"217.44\" width=\"334.8\" x=\"26.925\" y=\"7.2\"/>\r\n  </clipPath>\r\n </defs>\r\n</svg>\r\n",
      "image/png": "[encoded data removed]"
     },
     "metadata": {
      "needs_background": "light"
     }
    }
   ],
   "source": [
    "feature_coeffstd_sort.iloc[0:130,0].hist(bins=30)"
   ]
  },
  {
   "cell_type": "code",
   "execution_count": 155,
   "metadata": {},
   "outputs": [],
   "source": [
    "feature_index = feature_coeffstd_sort.index"
   ]
  },
  {
   "cell_type": "code",
   "execution_count": 156,
   "metadata": {},
   "outputs": [],
   "source": [
    "feature_least_volatiles = []\n",
    "for i in range(0,len(feature_index)) :\n",
    "    if i <= round(len(feature_coeffstd_sort)*0.05,0): \n",
    "        feature_least_volatiles.append(feature_index[i])"
   ]
  },
  {
   "cell_type": "code",
   "execution_count": 157,
   "metadata": {},
   "outputs": [
    {
     "output_type": "execute_result",
     "data": {
      "text/plain": [
       "23"
      ]
     },
     "metadata": {},
     "execution_count": 157
    }
   ],
   "source": [
    "len(feature_least_volatiles)"
   ]
  },
  {
   "cell_type": "code",
   "execution_count": 158,
   "metadata": {},
   "outputs": [],
   "source": [
    "feature_least_var = []\n",
    "for i in range(0,len(feature_index)) :\n",
    "    if feature_coeffstd_sort.iloc[i,0] <= 1 : \n",
    "        feature_least_var.append(feature_index[i])"
   ]
  },
  {
   "cell_type": "code",
   "execution_count": 159,
   "metadata": {},
   "outputs": [
    {
     "output_type": "execute_result",
     "data": {
      "text/plain": [
       "135"
      ]
     },
     "metadata": {},
     "execution_count": 159
    }
   ],
   "source": [
    "len(feature_least_var)"
   ]
  },
  {
   "cell_type": "code",
   "execution_count": 160,
   "metadata": {},
   "outputs": [
    {
     "output_type": "stream",
     "name": "stderr",
     "text": [
      "C:\\Users\\Behzad\\anaconda3\\lib\\site-packages\\pandas\\core\\frame.py:3990: SettingWithCopyWarning: \nA value is trying to be set on a copy of a slice from a DataFrame\n\nSee the caveats in the documentation: https://pandas.pydata.org/pandas-docs/stable/user_guide/indexing.html#returning-a-view-versus-a-copy\n  return super().drop(\n"
     ]
    }
   ],
   "source": [
    "#we can decide to use \"feature_least_volatiles\" or \"feature_least_var\" to drop features\n",
    "x_train.drop(feature_least_volatiles, axis = 1, inplace = True)"
   ]
  },
  {
   "cell_type": "code",
   "execution_count": 161,
   "metadata": {},
   "outputs": [
    {
     "output_type": "execute_result",
     "data": {
      "text/plain": [
       "(1253, 427)"
      ]
     },
     "metadata": {},
     "execution_count": 161
    }
   ],
   "source": [
    "x_train.shape"
   ]
  },
  {
   "source": [
    "## 4.Outlier Identification"
   ],
   "cell_type": "markdown",
   "metadata": {}
  },
  {
   "cell_type": "code",
   "execution_count": 162,
   "metadata": {},
   "outputs": [],
   "source": [
    "z_x_train= pd.DataFrame(stats.zscore(x_train,nan_policy='omit'))"
   ]
  },
  {
   "cell_type": "code",
   "execution_count": 163,
   "metadata": {},
   "outputs": [
    {
     "output_type": "execute_result",
     "data": {
      "text/plain": [
       "           0         1         2         3         4         5         6    \\\n",
       "0     0.122233 -0.137249  1.467605  0.086025 -0.057430  0.814147 -0.020251   \n",
       "1    -0.820960 -1.379534 -0.302014  0.101249 -0.033167 -0.570777  0.183135   \n",
       "2     0.102402 -0.684294  0.931923  1.463540 -0.051823 -0.913176  0.375816   \n",
       "3     1.078329 -0.203744  0.731281  2.468494 -0.050403 -2.023770  0.022567   \n",
       "4    -0.049862       NaN -0.946585 -0.548534 -0.050500  0.206569  0.097498   \n",
       "...        ...       ...       ...       ...       ...       ...       ...   \n",
       "1248 -0.838890 -0.520650 -0.387298 -0.150441 -0.052136  0.645995  0.343702   \n",
       "1249 -1.813187 -0.072854  1.938567  2.187048 -0.052754 -2.546011 -0.138001   \n",
       "1250 -0.615180 -0.545370  0.242426 -0.211335 -0.054830 -0.683406 -0.159410   \n",
       "1251 -0.756306 -0.205969  1.094115 -0.466076 -0.054908  0.219860 -0.277159   \n",
       "1252  0.789694  1.420953  0.510838  0.609679 -0.054918 -0.117867  0.311589   \n",
       "\n",
       "           7         8         9    ...       417       418       419  \\\n",
       "0     1.345737  0.174988 -0.747087  ... -0.264419  0.063091 -0.609761   \n",
       "1    -1.416011  0.838722 -0.137567  ...  4.719447  5.854373 -0.929500   \n",
       "2     0.967340  0.304684 -0.478078  ... -0.242386 -0.002108  2.645764   \n",
       "3    -1.479985  0.579332 -0.209511  ... -0.243865 -0.190608  0.175053   \n",
       "4    -1.063477  0.380975 -0.518565  ... -0.236076  0.515428  0.436658   \n",
       "...        ...       ...       ...  ...       ...       ...       ...   \n",
       "1248 -0.196432  0.922643  1.106055  ... -0.231513 -0.002336 -1.481777   \n",
       "1249  2.027666  1.113371 -0.541730  ... -0.232421 -0.162124  0.930800   \n",
       "1250 -0.870195 -0.069144 -0.913816  ... -0.250955  0.130227 -0.813231   \n",
       "1251  0.349384 -1.167737 -0.270124  ... -0.258033 -0.812900  0.698263   \n",
       "1252 -0.301240 -0.534520 -0.546924  ... -0.254884  0.025667  1.279606   \n",
       "\n",
       "           420       421       422       423       424       425       426  \n",
       "0     0.054366  0.053153  0.053074 -0.256815 -0.425326 -0.553038 -0.318940  \n",
       "1     0.175189  0.053153  0.172917 -0.628903  1.951141  2.033549  1.458167  \n",
       "2    -0.166269 -0.188836 -0.173306  1.746129  0.446444  0.794901 -0.561183  \n",
       "3    -0.034939 -0.067842 -0.033602 -0.209314 -0.150659 -0.261592 -0.214194  \n",
       "4    -0.092724 -0.116240 -0.092074  0.281526 -0.067064 -0.225161 -0.385468  \n",
       "...        ...       ...       ...       ...       ...       ...       ...  \n",
       "1248  0.001834 -0.116240  0.006195  0.289443 -1.249326 -1.245223 -0.802710  \n",
       "1249 -0.197788 -0.237234 -0.194325  1.437375  0.470328  0.867763 -0.507551  \n",
       "1250 -0.113737 -0.067842 -0.107726 -0.391400  1.760068  1.159209  0.909474  \n",
       "1251 -0.019179 -0.019444 -0.022890 -1.982671 -0.831355 -0.808054  1.825528  \n",
       "1252 -0.082218 -0.043643 -0.085446 -0.043062 -0.676108 -0.662331 -0.515237  \n",
       "\n",
       "[1253 rows x 427 columns]"
      ],
      "text/html": "<div>\n<style scoped>\n    .dataframe tbody tr th:only-of-type {\n        vertical-align: middle;\n    }\n\n    .dataframe tbody tr th {\n        vertical-align: top;\n    }\n\n    .dataframe thead th {\n        text-align: right;\n    }\n</style>\n<table border=\"1\" class=\"dataframe\">\n  <thead>\n    <tr style=\"text-align: right;\">\n      <th></th>\n      <th>0</th>\n      <th>1</th>\n      <th>2</th>\n      <th>3</th>\n      <th>4</th>\n      <th>5</th>\n      <th>6</th>\n      <th>7</th>\n      <th>8</th>\n      <th>9</th>\n      <th>...</th>\n      <th>417</th>\n      <th>418</th>\n      <th>419</th>\n      <th>420</th>\n      <th>421</th>\n      <th>422</th>\n      <th>423</th>\n      <th>424</th>\n      <th>425</th>\n      <th>426</th>\n    </tr>\n  </thead>\n  <tbody>\n    <tr>\n      <th>0</th>\n      <td>0.122233</td>\n      <td>-0.137249</td>\n      <td>1.467605</td>\n      <td>0.086025</td>\n      <td>-0.057430</td>\n      <td>0.814147</td>\n      <td>-0.020251</td>\n      <td>1.345737</td>\n      <td>0.174988</td>\n      <td>-0.747087</td>\n      <td>...</td>\n      <td>-0.264419</td>\n      <td>0.063091</td>\n      <td>-0.609761</td>\n      <td>0.054366</td>\n      <td>0.053153</td>\n      <td>0.053074</td>\n      <td>-0.256815</td>\n      <td>-0.425326</td>\n      <td>-0.553038</td>\n      <td>-0.318940</td>\n    </tr>\n    <tr>\n      <th>1</th>\n      <td>-0.820960</td>\n      <td>-1.379534</td>\n      <td>-0.302014</td>\n      <td>0.101249</td>\n      <td>-0.033167</td>\n      <td>-0.570777</td>\n      <td>0.183135</td>\n      <td>-1.416011</td>\n      <td>0.838722</td>\n      <td>-0.137567</td>\n      <td>...</td>\n      <td>4.719447</td>\n      <td>5.854373</td>\n      <td>-0.929500</td>\n      <td>0.175189</td>\n      <td>0.053153</td>\n      <td>0.172917</td>\n      <td>-0.628903</td>\n      <td>1.951141</td>\n      <td>2.033549</td>\n      <td>1.458167</td>\n    </tr>\n    <tr>\n      <th>2</th>\n      <td>0.102402</td>\n      <td>-0.684294</td>\n      <td>0.931923</td>\n      <td>1.463540</td>\n      <td>-0.051823</td>\n      <td>-0.913176</td>\n      <td>0.375816</td>\n      <td>0.967340</td>\n      <td>0.304684</td>\n      <td>-0.478078</td>\n      <td>...</td>\n      <td>-0.242386</td>\n      <td>-0.002108</td>\n      <td>2.645764</td>\n      <td>-0.166269</td>\n      <td>-0.188836</td>\n      <td>-0.173306</td>\n      <td>1.746129</td>\n      <td>0.446444</td>\n      <td>0.794901</td>\n      <td>-0.561183</td>\n    </tr>\n    <tr>\n      <th>3</th>\n      <td>1.078329</td>\n      <td>-0.203744</td>\n      <td>0.731281</td>\n      <td>2.468494</td>\n      <td>-0.050403</td>\n      <td>-2.023770</td>\n      <td>0.022567</td>\n      <td>-1.479985</td>\n      <td>0.579332</td>\n      <td>-0.209511</td>\n      <td>...</td>\n      <td>-0.243865</td>\n      <td>-0.190608</td>\n      <td>0.175053</td>\n      <td>-0.034939</td>\n      <td>-0.067842</td>\n      <td>-0.033602</td>\n      <td>-0.209314</td>\n      <td>-0.150659</td>\n      <td>-0.261592</td>\n      <td>-0.214194</td>\n    </tr>\n    <tr>\n      <th>4</th>\n      <td>-0.049862</td>\n      <td>NaN</td>\n      <td>-0.946585</td>\n      <td>-0.548534</td>\n      <td>-0.050500</td>\n      <td>0.206569</td>\n      <td>0.097498</td>\n      <td>-1.063477</td>\n      <td>0.380975</td>\n      <td>-0.518565</td>\n      <td>...</td>\n      <td>-0.236076</td>\n      <td>0.515428</td>\n      <td>0.436658</td>\n      <td>-0.092724</td>\n      <td>-0.116240</td>\n      <td>-0.092074</td>\n      <td>0.281526</td>\n      <td>-0.067064</td>\n      <td>-0.225161</td>\n      <td>-0.385468</td>\n    </tr>\n    <tr>\n      <th>...</th>\n      <td>...</td>\n      <td>...</td>\n      <td>...</td>\n      <td>...</td>\n      <td>...</td>\n      <td>...</td>\n      <td>...</td>\n      <td>...</td>\n      <td>...</td>\n      <td>...</td>\n      <td>...</td>\n      <td>...</td>\n      <td>...</td>\n      <td>...</td>\n      <td>...</td>\n      <td>...</td>\n      <td>...</td>\n      <td>...</td>\n      <td>...</td>\n      <td>...</td>\n      <td>...</td>\n    </tr>\n    <tr>\n      <th>1248</th>\n      <td>-0.838890</td>\n      <td>-0.520650</td>\n      <td>-0.387298</td>\n      <td>-0.150441</td>\n      <td>-0.052136</td>\n      <td>0.645995</td>\n      <td>0.343702</td>\n      <td>-0.196432</td>\n      <td>0.922643</td>\n      <td>1.106055</td>\n      <td>...</td>\n      <td>-0.231513</td>\n      <td>-0.002336</td>\n      <td>-1.481777</td>\n      <td>0.001834</td>\n      <td>-0.116240</td>\n      <td>0.006195</td>\n      <td>0.289443</td>\n      <td>-1.249326</td>\n      <td>-1.245223</td>\n      <td>-0.802710</td>\n    </tr>\n    <tr>\n      <th>1249</th>\n      <td>-1.813187</td>\n      <td>-0.072854</td>\n      <td>1.938567</td>\n      <td>2.187048</td>\n      <td>-0.052754</td>\n      <td>-2.546011</td>\n      <td>-0.138001</td>\n      <td>2.027666</td>\n      <td>1.113371</td>\n      <td>-0.541730</td>\n      <td>...</td>\n      <td>-0.232421</td>\n      <td>-0.162124</td>\n      <td>0.930800</td>\n      <td>-0.197788</td>\n      <td>-0.237234</td>\n      <td>-0.194325</td>\n      <td>1.437375</td>\n      <td>0.470328</td>\n      <td>0.867763</td>\n      <td>-0.507551</td>\n    </tr>\n    <tr>\n      <th>1250</th>\n      <td>-0.615180</td>\n      <td>-0.545370</td>\n      <td>0.242426</td>\n      <td>-0.211335</td>\n      <td>-0.054830</td>\n      <td>-0.683406</td>\n      <td>-0.159410</td>\n      <td>-0.870195</td>\n      <td>-0.069144</td>\n      <td>-0.913816</td>\n      <td>...</td>\n      <td>-0.250955</td>\n      <td>0.130227</td>\n      <td>-0.813231</td>\n      <td>-0.113737</td>\n      <td>-0.067842</td>\n      <td>-0.107726</td>\n      <td>-0.391400</td>\n      <td>1.760068</td>\n      <td>1.159209</td>\n      <td>0.909474</td>\n    </tr>\n    <tr>\n      <th>1251</th>\n      <td>-0.756306</td>\n      <td>-0.205969</td>\n      <td>1.094115</td>\n      <td>-0.466076</td>\n      <td>-0.054908</td>\n      <td>0.219860</td>\n      <td>-0.277159</td>\n      <td>0.349384</td>\n      <td>-1.167737</td>\n      <td>-0.270124</td>\n      <td>...</td>\n      <td>-0.258033</td>\n      <td>-0.812900</td>\n      <td>0.698263</td>\n      <td>-0.019179</td>\n      <td>-0.019444</td>\n      <td>-0.022890</td>\n      <td>-1.982671</td>\n      <td>-0.831355</td>\n      <td>-0.808054</td>\n      <td>1.825528</td>\n    </tr>\n    <tr>\n      <th>1252</th>\n      <td>0.789694</td>\n      <td>1.420953</td>\n      <td>0.510838</td>\n      <td>0.609679</td>\n      <td>-0.054918</td>\n      <td>-0.117867</td>\n      <td>0.311589</td>\n      <td>-0.301240</td>\n      <td>-0.534520</td>\n      <td>-0.546924</td>\n      <td>...</td>\n      <td>-0.254884</td>\n      <td>0.025667</td>\n      <td>1.279606</td>\n      <td>-0.082218</td>\n      <td>-0.043643</td>\n      <td>-0.085446</td>\n      <td>-0.043062</td>\n      <td>-0.676108</td>\n      <td>-0.662331</td>\n      <td>-0.515237</td>\n    </tr>\n  </tbody>\n</table>\n<p>1253 rows × 427 columns</p>\n</div>"
     },
     "metadata": {},
     "execution_count": 163
    }
   ],
   "source": [
    "z_x_train"
   ]
  },
  {
   "cell_type": "code",
   "execution_count": 164,
   "metadata": {
    "tags": []
   },
   "outputs": [],
   "source": [
    "i = 0\n",
    "for a in range(0,len(z_x_train.iloc[:,0])) :\n",
    "    for b in range(0,len(z_x_train.iloc[0,:])) :\n",
    "        if np.abs(z_x_train.iloc[a,b])>3 :\n",
    "            i = i+1"
   ]
  },
  {
   "cell_type": "code",
   "execution_count": 165,
   "metadata": {},
   "outputs": [
    {
     "output_type": "stream",
     "name": "stdout",
     "text": [
      "4786\n"
     ]
    }
   ],
   "source": [
    "print(i)"
   ]
  },
  {
   "cell_type": "code",
   "execution_count": 166,
   "metadata": {},
   "outputs": [
    {
     "output_type": "stream",
     "name": "stderr",
     "text": [
      "C:\\Users\\Behzad\\anaconda3\\lib\\site-packages\\pandas\\core\\indexing.py:671: SettingWithCopyWarning: \nA value is trying to be set on a copy of a slice from a DataFrame\n\nSee the caveats in the documentation: https://pandas.pydata.org/pandas-docs/stable/user_guide/indexing.html#returning-a-view-versus-a-copy\n  self._setitem_with_indexer(indexer, value)\n<ipython-input-166-d3e520254ecb>:7: SettingWithCopyWarning: \nA value is trying to be set on a copy of a slice from a DataFrame\n\nSee the caveats in the documentation: https://pandas.pydata.org/pandas-docs/stable/user_guide/indexing.html#returning-a-view-versus-a-copy\n  x_train.iloc[a,b]=3*s + m\n<ipython-input-166-d3e520254ecb>:9: SettingWithCopyWarning: \nA value is trying to be set on a copy of a slice from a DataFrame\n\nSee the caveats in the documentation: https://pandas.pydata.org/pandas-docs/stable/user_guide/indexing.html#returning-a-view-versus-a-copy\n  x_train.iloc[a,b]=3*s - m\n"
     ]
    }
   ],
   "source": [
    "for a in range(0,len(z_x_train.iloc[:,0])) :\n",
    "    for b in range(0,len(z_x_train.iloc[0,:])) :\n",
    "        if np.abs(z_x_train.iloc[a,b])>3 :\n",
    "            s=np.std(x_train.iloc[:,b])\n",
    "            m=np.mean(x_train.iloc[:,b])\n",
    "            if z_x_train.iloc[a,b] > 0 :\n",
    "                x_train.iloc[a,b]=3*s + m\n",
    "            else:\n",
    "                x_train.iloc[a,b]=3*s - m"
   ]
  },
  {
   "cell_type": "code",
   "execution_count": null,
   "metadata": {},
   "outputs": [],
   "source": []
  }
 ],
 "metadata": {
  "kernelspec": {
   "name": "python390jvsc74a57bd0fe1a3cca23331e52749a774d91968eaaad2efe497e0e96a28018253b9a20794c",
   "display_name": "Python 3.9.0 64-bit"
  },
  "language_info": {
   "codemirror_mode": {
    "name": "ipython",
    "version": 3
   },
   "file_extension": ".py",
   "mimetype": "text/x-python",
   "name": "python",
   "nbconvert_exporter": "python",
   "pygments_lexer": "ipython3",
   "version": "3.9.0"
  },
  "metadata": {
   "interpreter": {
    "hash": "fe1a3cca23331e52749a774d91968eaaad2efe497e0e96a28018253b9a20794c"
   }
  }
 },
 "nbformat": 4,
 "nbformat_minor": 5
}